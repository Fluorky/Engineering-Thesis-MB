{
 "cells": [
  {
   "cell_type": "code",
   "execution_count": 2,
   "id": "fabb73e7",
   "metadata": {},
   "outputs": [],
   "source": [
    "import time\n",
    "start = time.time()"
   ]
  },
  {
   "cell_type": "code",
   "execution_count": 4,
   "id": "7245e2a1",
   "metadata": {},
   "outputs": [
    {
     "data": {
      "text/plain": [
       "142.58572506904602"
      ]
     },
     "execution_count": 4,
     "metadata": {},
     "output_type": "execute_result"
    }
   ],
   "source": [
    "test=time.time()-start\n",
    "test"
   ]
  },
  {
   "cell_type": "code",
   "execution_count": 5,
   "id": "a8a143a4",
   "metadata": {},
   "outputs": [
    {
     "data": {
      "text/plain": [
       "1670359627.65254"
      ]
     },
     "execution_count": 5,
     "metadata": {},
     "output_type": "execute_result"
    }
   ],
   "source": [
    "time.time()"
   ]
  },
  {
   "cell_type": "code",
   "execution_count": 7,
   "id": "9afda423",
   "metadata": {},
   "outputs": [
    {
     "name": "stdout",
     "output_type": "stream",
     "text": [
      "4 9.5367431640625e-07\n",
      "6 1.1920928955078125e-06\n",
      "8 0.0\n",
      "10 0.0\n",
      "12 0.0\n",
      "14 0.0\n",
      "16 0.0\n",
      "18 0.0\n",
      "20 0.0\n",
      "22 0.0\n",
      "24 0.0\n",
      "26 0.0\n",
      "28 0.0\n",
      "30 0.0\n"
     ]
    }
   ],
   "source": [
    "for w in range(4,32,2):\n",
    "    start = time.time()\n",
    "    stop=time.time()-start\n",
    "    print(w,stop)"
   ]
  },
  {
   "cell_type": "code",
   "execution_count": 8,
   "id": "6178e14f",
   "metadata": {},
   "outputs": [
    {
     "name": "stdout",
     "output_type": "stream",
     "text": [
      "32\n"
     ]
    }
   ],
   "source": [
    "for w in range(32,33):\n",
    "    print(w)"
   ]
  },
  {
   "cell_type": "code",
   "execution_count": null,
   "id": "ac3b00d3",
   "metadata": {},
   "outputs": [],
   "source": []
  }
 ],
 "metadata": {
  "kernelspec": {
   "display_name": "Python 3 (ipykernel)",
   "language": "python",
   "name": "python3"
  },
  "language_info": {
   "codemirror_mode": {
    "name": "ipython",
    "version": 3
   },
   "file_extension": ".py",
   "mimetype": "text/x-python",
   "name": "python",
   "nbconvert_exporter": "python",
   "pygments_lexer": "ipython3",
   "version": "3.9.6"
  }
 },
 "nbformat": 4,
 "nbformat_minor": 5
}
