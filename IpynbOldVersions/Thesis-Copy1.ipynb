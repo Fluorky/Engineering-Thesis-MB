{
 "cells": [
  {
   "cell_type": "code",
   "execution_count": 1,
   "metadata": {},
   "outputs": [
    {
     "name": "stderr",
     "output_type": "stream",
     "text": [
      "2022-11-26 18:59:04.417069: I tensorflow/core/platform/cpu_feature_guard.cc:193] This TensorFlow binary is optimized with oneAPI Deep Neural Network Library (oneDNN) to use the following CPU instructions in performance-critical operations:  AVX2 FMA\n",
      "To enable them in other operations, rebuild TensorFlow with the appropriate compiler flags.\n"
     ]
    }
   ],
   "source": [
    "import pandas as pd\n",
    "import numpy as np\n",
    "import matplotlib.pyplot as plt\n",
    "from math import sqrt\n",
    "from numpy import concatenate\n",
    "from pandas import *\n",
    "from sklearn.preprocessing import *\n",
    "from sklearn.metrics import *\n",
    "from tensorflow import keras\n",
    "import tensorflow as tf"
   ]
  },
  {
   "cell_type": "code",
   "execution_count": 2,
   "metadata": {},
   "outputs": [],
   "source": [
    "#dataset = read_csv(\"folder/subfolder/dataToModel.csv\",index_col= 0,sep=\";\")\n",
    "dataset = read_csv(\"folder/subfolder/dataToModel_5min.csv\",index_col= 0,sep=\";\")\n"
   ]
  },
  {
   "cell_type": "code",
   "execution_count": 3,
   "metadata": {},
   "outputs": [
    {
     "data": {
      "text/html": [
       "<div>\n",
       "<style scoped>\n",
       "    .dataframe tbody tr th:only-of-type {\n",
       "        vertical-align: middle;\n",
       "    }\n",
       "\n",
       "    .dataframe tbody tr th {\n",
       "        vertical-align: top;\n",
       "    }\n",
       "\n",
       "    .dataframe thead th {\n",
       "        text-align: right;\n",
       "    }\n",
       "</style>\n",
       "<table border=\"1\" class=\"dataframe\">\n",
       "  <thead>\n",
       "    <tr style=\"text-align: right;\">\n",
       "      <th></th>\n",
       "      <th>rok</th>\n",
       "      <th>ms</th>\n",
       "      <th>dz</th>\n",
       "      <th>go</th>\n",
       "      <th>fco2_MQ</th>\n",
       "      <th>fco2_HQ</th>\n",
       "      <th>fco2_raw</th>\n",
       "      <th>glwody</th>\n",
       "      <th>T50cm</th>\n",
       "      <th>T2m</th>\n",
       "      <th>...</th>\n",
       "      <th>Ku</th>\n",
       "      <th>Ld</th>\n",
       "      <th>Lu</th>\n",
       "      <th>ppp</th>\n",
       "      <th>v</th>\n",
       "      <th>vdir</th>\n",
       "      <th>Tgrunt</th>\n",
       "      <th>vwc</th>\n",
       "      <th>PARd</th>\n",
       "      <th>PARu</th>\n",
       "    </tr>\n",
       "  </thead>\n",
       "  <tbody>\n",
       "    <tr>\n",
       "      <th>1308</th>\n",
       "      <td>2013</td>\n",
       "      <td>1</td>\n",
       "      <td>5</td>\n",
       "      <td>13</td>\n",
       "      <td>-0.41</td>\n",
       "      <td>0.0</td>\n",
       "      <td>-0.41</td>\n",
       "      <td>4.7</td>\n",
       "      <td>0.6</td>\n",
       "      <td>0.3</td>\n",
       "      <td>...</td>\n",
       "      <td>1.8</td>\n",
       "      <td>309.6</td>\n",
       "      <td>316.7</td>\n",
       "      <td>1002.9</td>\n",
       "      <td>4.2</td>\n",
       "      <td>337.3</td>\n",
       "      <td>0.6</td>\n",
       "      <td>0.788</td>\n",
       "      <td>54.1</td>\n",
       "      <td>2.6</td>\n",
       "    </tr>\n",
       "    <tr>\n",
       "      <th>1309</th>\n",
       "      <td>2013</td>\n",
       "      <td>1</td>\n",
       "      <td>5</td>\n",
       "      <td>13</td>\n",
       "      <td>0.69</td>\n",
       "      <td>0.0</td>\n",
       "      <td>0.69</td>\n",
       "      <td>4.7</td>\n",
       "      <td>0.6</td>\n",
       "      <td>0.3</td>\n",
       "      <td>...</td>\n",
       "      <td>2.2</td>\n",
       "      <td>309.3</td>\n",
       "      <td>316.8</td>\n",
       "      <td>1002.9</td>\n",
       "      <td>4.8</td>\n",
       "      <td>337.8</td>\n",
       "      <td>0.6</td>\n",
       "      <td>0.788</td>\n",
       "      <td>65.9</td>\n",
       "      <td>3.1</td>\n",
       "    </tr>\n",
       "    <tr>\n",
       "      <th>1310</th>\n",
       "      <td>2013</td>\n",
       "      <td>1</td>\n",
       "      <td>5</td>\n",
       "      <td>13</td>\n",
       "      <td>0.51</td>\n",
       "      <td>0.0</td>\n",
       "      <td>0.51</td>\n",
       "      <td>4.7</td>\n",
       "      <td>0.6</td>\n",
       "      <td>0.3</td>\n",
       "      <td>...</td>\n",
       "      <td>1.6</td>\n",
       "      <td>310.0</td>\n",
       "      <td>316.7</td>\n",
       "      <td>1002.8</td>\n",
       "      <td>5.4</td>\n",
       "      <td>337.8</td>\n",
       "      <td>0.6</td>\n",
       "      <td>0.788</td>\n",
       "      <td>49.7</td>\n",
       "      <td>2.4</td>\n",
       "    </tr>\n",
       "    <tr>\n",
       "      <th>1311</th>\n",
       "      <td>2013</td>\n",
       "      <td>1</td>\n",
       "      <td>5</td>\n",
       "      <td>13</td>\n",
       "      <td>NaN</td>\n",
       "      <td>0.0</td>\n",
       "      <td>0.17</td>\n",
       "      <td>4.7</td>\n",
       "      <td>0.6</td>\n",
       "      <td>0.4</td>\n",
       "      <td>...</td>\n",
       "      <td>2.3</td>\n",
       "      <td>309.4</td>\n",
       "      <td>316.8</td>\n",
       "      <td>1002.7</td>\n",
       "      <td>5.1</td>\n",
       "      <td>333.1</td>\n",
       "      <td>0.7</td>\n",
       "      <td>0.788</td>\n",
       "      <td>67.2</td>\n",
       "      <td>3.3</td>\n",
       "    </tr>\n",
       "    <tr>\n",
       "      <th>1312</th>\n",
       "      <td>2013</td>\n",
       "      <td>1</td>\n",
       "      <td>5</td>\n",
       "      <td>13</td>\n",
       "      <td>1.23</td>\n",
       "      <td>0.0</td>\n",
       "      <td>1.23</td>\n",
       "      <td>4.7</td>\n",
       "      <td>0.6</td>\n",
       "      <td>0.3</td>\n",
       "      <td>...</td>\n",
       "      <td>2.0</td>\n",
       "      <td>309.1</td>\n",
       "      <td>316.7</td>\n",
       "      <td>1002.5</td>\n",
       "      <td>4.9</td>\n",
       "      <td>334.9</td>\n",
       "      <td>0.7</td>\n",
       "      <td>0.788</td>\n",
       "      <td>59.4</td>\n",
       "      <td>2.9</td>\n",
       "    </tr>\n",
       "  </tbody>\n",
       "</table>\n",
       "<p>5 rows × 21 columns</p>\n",
       "</div>"
      ],
      "text/plain": [
       "       rok  ms  dz  go  fco2_MQ  fco2_HQ  fco2_raw  glwody  T50cm  T2m  ...  \\\n",
       "1308  2013   1   5  13    -0.41      0.0     -0.41     4.7    0.6  0.3  ...   \n",
       "1309  2013   1   5  13     0.69      0.0      0.69     4.7    0.6  0.3  ...   \n",
       "1310  2013   1   5  13     0.51      0.0      0.51     4.7    0.6  0.3  ...   \n",
       "1311  2013   1   5  13      NaN      0.0      0.17     4.7    0.6  0.4  ...   \n",
       "1312  2013   1   5  13     1.23      0.0      1.23     4.7    0.6  0.3  ...   \n",
       "\n",
       "       Ku     Ld     Lu     ppp    v   vdir  Tgrunt    vwc  PARd  PARu  \n",
       "1308  1.8  309.6  316.7  1002.9  4.2  337.3     0.6  0.788  54.1   2.6  \n",
       "1309  2.2  309.3  316.8  1002.9  4.8  337.8     0.6  0.788  65.9   3.1  \n",
       "1310  1.6  310.0  316.7  1002.8  5.4  337.8     0.6  0.788  49.7   2.4  \n",
       "1311  2.3  309.4  316.8  1002.7  5.1  333.1     0.7  0.788  67.2   3.3  \n",
       "1312  2.0  309.1  316.7  1002.5  4.9  334.9     0.7  0.788  59.4   2.9  \n",
       "\n",
       "[5 rows x 21 columns]"
      ]
     },
     "execution_count": 3,
     "metadata": {},
     "output_type": "execute_result"
    }
   ],
   "source": [
    "dataset.head()"
   ]
  },
  {
   "cell_type": "code",
   "execution_count": 4,
   "metadata": {},
   "outputs": [
    {
     "name": "stdout",
     "output_type": "stream",
     "text": [
      "<class 'pandas.core.frame.DataFrame'>\n",
      "Int64Index: 475336 entries, 1308 to 105407\n",
      "Data columns (total 21 columns):\n",
      " #   Column    Non-Null Count   Dtype  \n",
      "---  ------    --------------   -----  \n",
      " 0   rok       475336 non-null  int64  \n",
      " 1   ms        475336 non-null  int64  \n",
      " 2   dz        475336 non-null  int64  \n",
      " 3   go        475336 non-null  int64  \n",
      " 4   fco2_MQ   298211 non-null  float64\n",
      " 5   fco2_HQ   475336 non-null  float64\n",
      " 6   fco2_raw  475336 non-null  float64\n",
      " 7   glwody    475336 non-null  float64\n",
      " 8   T50cm     475336 non-null  float64\n",
      " 9   T2m       475336 non-null  float64\n",
      " 10  Kd        475336 non-null  float64\n",
      " 11  Ku        475336 non-null  float64\n",
      " 12  Ld        475336 non-null  float64\n",
      " 13  Lu        475336 non-null  float64\n",
      " 14  ppp       475336 non-null  float64\n",
      " 15  v         475336 non-null  float64\n",
      " 16  vdir      475336 non-null  float64\n",
      " 17  Tgrunt    475336 non-null  float64\n",
      " 18  vwc       475336 non-null  float64\n",
      " 19  PARd      475336 non-null  float64\n",
      " 20  PARu      475336 non-null  float64\n",
      "dtypes: float64(17), int64(4)\n",
      "memory usage: 79.8 MB\n"
     ]
    }
   ],
   "source": [
    "dataset.info()"
   ]
  },
  {
   "cell_type": "code",
   "execution_count": 5,
   "metadata": {},
   "outputs": [],
   "source": [
    "#dataset.drop(columns  = ['dz','godz','ms','fco2_MQ','rok'], inplace = True)\n",
    "dataset.drop(columns  = ['dz','go','ms','dz','fco2_MQ','rok'], inplace = True)"
   ]
  },
  {
   "cell_type": "code",
   "execution_count": 6,
   "metadata": {},
   "outputs": [
    {
     "data": {
      "text/html": [
       "<div>\n",
       "<style scoped>\n",
       "    .dataframe tbody tr th:only-of-type {\n",
       "        vertical-align: middle;\n",
       "    }\n",
       "\n",
       "    .dataframe tbody tr th {\n",
       "        vertical-align: top;\n",
       "    }\n",
       "\n",
       "    .dataframe thead th {\n",
       "        text-align: right;\n",
       "    }\n",
       "</style>\n",
       "<table border=\"1\" class=\"dataframe\">\n",
       "  <thead>\n",
       "    <tr style=\"text-align: right;\">\n",
       "      <th></th>\n",
       "      <th>fco2_HQ</th>\n",
       "      <th>fco2_raw</th>\n",
       "      <th>glwody</th>\n",
       "      <th>T50cm</th>\n",
       "      <th>T2m</th>\n",
       "      <th>Kd</th>\n",
       "      <th>Ku</th>\n",
       "      <th>Ld</th>\n",
       "      <th>Lu</th>\n",
       "      <th>ppp</th>\n",
       "      <th>v</th>\n",
       "      <th>vdir</th>\n",
       "      <th>Tgrunt</th>\n",
       "      <th>vwc</th>\n",
       "      <th>PARd</th>\n",
       "      <th>PARu</th>\n",
       "    </tr>\n",
       "  </thead>\n",
       "  <tbody>\n",
       "    <tr>\n",
       "      <th>1308</th>\n",
       "      <td>0.0</td>\n",
       "      <td>-0.41</td>\n",
       "      <td>4.7</td>\n",
       "      <td>0.6</td>\n",
       "      <td>0.3</td>\n",
       "      <td>25.6</td>\n",
       "      <td>1.8</td>\n",
       "      <td>309.6</td>\n",
       "      <td>316.7</td>\n",
       "      <td>1002.9</td>\n",
       "      <td>4.2</td>\n",
       "      <td>337.3</td>\n",
       "      <td>0.6</td>\n",
       "      <td>0.788</td>\n",
       "      <td>54.1</td>\n",
       "      <td>2.6</td>\n",
       "    </tr>\n",
       "    <tr>\n",
       "      <th>1309</th>\n",
       "      <td>0.0</td>\n",
       "      <td>0.69</td>\n",
       "      <td>4.7</td>\n",
       "      <td>0.6</td>\n",
       "      <td>0.3</td>\n",
       "      <td>31.7</td>\n",
       "      <td>2.2</td>\n",
       "      <td>309.3</td>\n",
       "      <td>316.8</td>\n",
       "      <td>1002.9</td>\n",
       "      <td>4.8</td>\n",
       "      <td>337.8</td>\n",
       "      <td>0.6</td>\n",
       "      <td>0.788</td>\n",
       "      <td>65.9</td>\n",
       "      <td>3.1</td>\n",
       "    </tr>\n",
       "    <tr>\n",
       "      <th>1310</th>\n",
       "      <td>0.0</td>\n",
       "      <td>0.51</td>\n",
       "      <td>4.7</td>\n",
       "      <td>0.6</td>\n",
       "      <td>0.3</td>\n",
       "      <td>23.5</td>\n",
       "      <td>1.6</td>\n",
       "      <td>310.0</td>\n",
       "      <td>316.7</td>\n",
       "      <td>1002.8</td>\n",
       "      <td>5.4</td>\n",
       "      <td>337.8</td>\n",
       "      <td>0.6</td>\n",
       "      <td>0.788</td>\n",
       "      <td>49.7</td>\n",
       "      <td>2.4</td>\n",
       "    </tr>\n",
       "    <tr>\n",
       "      <th>1311</th>\n",
       "      <td>0.0</td>\n",
       "      <td>0.17</td>\n",
       "      <td>4.7</td>\n",
       "      <td>0.6</td>\n",
       "      <td>0.4</td>\n",
       "      <td>32.6</td>\n",
       "      <td>2.3</td>\n",
       "      <td>309.4</td>\n",
       "      <td>316.8</td>\n",
       "      <td>1002.7</td>\n",
       "      <td>5.1</td>\n",
       "      <td>333.1</td>\n",
       "      <td>0.7</td>\n",
       "      <td>0.788</td>\n",
       "      <td>67.2</td>\n",
       "      <td>3.3</td>\n",
       "    </tr>\n",
       "    <tr>\n",
       "      <th>1312</th>\n",
       "      <td>0.0</td>\n",
       "      <td>1.23</td>\n",
       "      <td>4.7</td>\n",
       "      <td>0.6</td>\n",
       "      <td>0.3</td>\n",
       "      <td>28.5</td>\n",
       "      <td>2.0</td>\n",
       "      <td>309.1</td>\n",
       "      <td>316.7</td>\n",
       "      <td>1002.5</td>\n",
       "      <td>4.9</td>\n",
       "      <td>334.9</td>\n",
       "      <td>0.7</td>\n",
       "      <td>0.788</td>\n",
       "      <td>59.4</td>\n",
       "      <td>2.9</td>\n",
       "    </tr>\n",
       "    <tr>\n",
       "      <th>...</th>\n",
       "      <td>...</td>\n",
       "      <td>...</td>\n",
       "      <td>...</td>\n",
       "      <td>...</td>\n",
       "      <td>...</td>\n",
       "      <td>...</td>\n",
       "      <td>...</td>\n",
       "      <td>...</td>\n",
       "      <td>...</td>\n",
       "      <td>...</td>\n",
       "      <td>...</td>\n",
       "      <td>...</td>\n",
       "      <td>...</td>\n",
       "      <td>...</td>\n",
       "      <td>...</td>\n",
       "      <td>...</td>\n",
       "    </tr>\n",
       "    <tr>\n",
       "      <th>22231</th>\n",
       "      <td>1.0</td>\n",
       "      <td>0.41</td>\n",
       "      <td>4.4</td>\n",
       "      <td>-6.3</td>\n",
       "      <td>-6.3</td>\n",
       "      <td>0.0</td>\n",
       "      <td>0.4</td>\n",
       "      <td>258.5</td>\n",
       "      <td>286.3</td>\n",
       "      <td>989.8</td>\n",
       "      <td>5.3</td>\n",
       "      <td>77.7</td>\n",
       "      <td>0.6</td>\n",
       "      <td>0.675</td>\n",
       "      <td>0.5</td>\n",
       "      <td>0.2</td>\n",
       "    </tr>\n",
       "    <tr>\n",
       "      <th>22232</th>\n",
       "      <td>1.0</td>\n",
       "      <td>0.39</td>\n",
       "      <td>4.4</td>\n",
       "      <td>-6.3</td>\n",
       "      <td>-6.3</td>\n",
       "      <td>0.0</td>\n",
       "      <td>0.4</td>\n",
       "      <td>259.3</td>\n",
       "      <td>286.4</td>\n",
       "      <td>990.0</td>\n",
       "      <td>5.8</td>\n",
       "      <td>80.4</td>\n",
       "      <td>0.6</td>\n",
       "      <td>0.675</td>\n",
       "      <td>0.8</td>\n",
       "      <td>0.3</td>\n",
       "    </tr>\n",
       "    <tr>\n",
       "      <th>22233</th>\n",
       "      <td>1.0</td>\n",
       "      <td>0.45</td>\n",
       "      <td>4.4</td>\n",
       "      <td>-6.3</td>\n",
       "      <td>-6.2</td>\n",
       "      <td>0.0</td>\n",
       "      <td>0.4</td>\n",
       "      <td>259.7</td>\n",
       "      <td>286.4</td>\n",
       "      <td>990.2</td>\n",
       "      <td>5.8</td>\n",
       "      <td>80.8</td>\n",
       "      <td>0.6</td>\n",
       "      <td>0.675</td>\n",
       "      <td>1.3</td>\n",
       "      <td>0.5</td>\n",
       "    </tr>\n",
       "    <tr>\n",
       "      <th>22234</th>\n",
       "      <td>1.0</td>\n",
       "      <td>0.58</td>\n",
       "      <td>4.4</td>\n",
       "      <td>-6.2</td>\n",
       "      <td>-6.2</td>\n",
       "      <td>0.0</td>\n",
       "      <td>0.4</td>\n",
       "      <td>260.2</td>\n",
       "      <td>286.5</td>\n",
       "      <td>990.4</td>\n",
       "      <td>5.9</td>\n",
       "      <td>80.3</td>\n",
       "      <td>0.6</td>\n",
       "      <td>0.675</td>\n",
       "      <td>1.6</td>\n",
       "      <td>0.6</td>\n",
       "    </tr>\n",
       "    <tr>\n",
       "      <th>22235</th>\n",
       "      <td>0.0</td>\n",
       "      <td>0.32</td>\n",
       "      <td>4.4</td>\n",
       "      <td>-6.2</td>\n",
       "      <td>-6.1</td>\n",
       "      <td>0.0</td>\n",
       "      <td>0.4</td>\n",
       "      <td>260.9</td>\n",
       "      <td>286.5</td>\n",
       "      <td>990.5</td>\n",
       "      <td>5.9</td>\n",
       "      <td>79.0</td>\n",
       "      <td>0.6</td>\n",
       "      <td>0.675</td>\n",
       "      <td>1.8</td>\n",
       "      <td>0.7</td>\n",
       "    </tr>\n",
       "  </tbody>\n",
       "</table>\n",
       "<p>2220 rows × 16 columns</p>\n",
       "</div>"
      ],
      "text/plain": [
       "       fco2_HQ  fco2_raw  glwody  T50cm  T2m    Kd   Ku     Ld     Lu     ppp  \\\n",
       "1308       0.0     -0.41     4.7    0.6  0.3  25.6  1.8  309.6  316.7  1002.9   \n",
       "1309       0.0      0.69     4.7    0.6  0.3  31.7  2.2  309.3  316.8  1002.9   \n",
       "1310       0.0      0.51     4.7    0.6  0.3  23.5  1.6  310.0  316.7  1002.8   \n",
       "1311       0.0      0.17     4.7    0.6  0.4  32.6  2.3  309.4  316.8  1002.7   \n",
       "1312       0.0      1.23     4.7    0.6  0.3  28.5  2.0  309.1  316.7  1002.5   \n",
       "...        ...       ...     ...    ...  ...   ...  ...    ...    ...     ...   \n",
       "22231      1.0      0.41     4.4   -6.3 -6.3   0.0  0.4  258.5  286.3   989.8   \n",
       "22232      1.0      0.39     4.4   -6.3 -6.3   0.0  0.4  259.3  286.4   990.0   \n",
       "22233      1.0      0.45     4.4   -6.3 -6.2   0.0  0.4  259.7  286.4   990.2   \n",
       "22234      1.0      0.58     4.4   -6.2 -6.2   0.0  0.4  260.2  286.5   990.4   \n",
       "22235      0.0      0.32     4.4   -6.2 -6.1   0.0  0.4  260.9  286.5   990.5   \n",
       "\n",
       "         v   vdir  Tgrunt    vwc  PARd  PARu  \n",
       "1308   4.2  337.3     0.6  0.788  54.1   2.6  \n",
       "1309   4.8  337.8     0.6  0.788  65.9   3.1  \n",
       "1310   5.4  337.8     0.6  0.788  49.7   2.4  \n",
       "1311   5.1  333.1     0.7  0.788  67.2   3.3  \n",
       "1312   4.9  334.9     0.7  0.788  59.4   2.9  \n",
       "...    ...    ...     ...    ...   ...   ...  \n",
       "22231  5.3   77.7     0.6  0.675   0.5   0.2  \n",
       "22232  5.8   80.4     0.6  0.675   0.8   0.3  \n",
       "22233  5.8   80.8     0.6  0.675   1.3   0.5  \n",
       "22234  5.9   80.3     0.6  0.675   1.6   0.6  \n",
       "22235  5.9   79.0     0.6  0.675   1.8   0.7  \n",
       "\n",
       "[2220 rows x 16 columns]"
      ]
     },
     "execution_count": 6,
     "metadata": {},
     "output_type": "execute_result"
    }
   ],
   "source": [
    "dataset.head(2220)"
   ]
  },
  {
   "cell_type": "code",
   "execution_count": 7,
   "metadata": {},
   "outputs": [],
   "source": [
    "values = dataset.values\n",
    "values = values.astype('float64')"
   ]
  },
  {
   "cell_type": "code",
   "execution_count": 8,
   "metadata": {},
   "outputs": [],
   "source": [
    "scaler = MinMaxScaler(feature_range=(0, 1))\n",
    "scaled = scaler.fit_transform(values)\n",
    "scaled = pd.DataFrame(scaled)"
   ]
  },
  {
   "cell_type": "code",
   "execution_count": 9,
   "metadata": {},
   "outputs": [
    {
     "data": {
      "text/html": [
       "<div>\n",
       "<style scoped>\n",
       "    .dataframe tbody tr th:only-of-type {\n",
       "        vertical-align: middle;\n",
       "    }\n",
       "\n",
       "    .dataframe tbody tr th {\n",
       "        vertical-align: top;\n",
       "    }\n",
       "\n",
       "    .dataframe thead th {\n",
       "        text-align: right;\n",
       "    }\n",
       "</style>\n",
       "<table border=\"1\" class=\"dataframe\">\n",
       "  <thead>\n",
       "    <tr style=\"text-align: right;\">\n",
       "      <th></th>\n",
       "      <th>0</th>\n",
       "      <th>1</th>\n",
       "      <th>2</th>\n",
       "      <th>3</th>\n",
       "      <th>4</th>\n",
       "      <th>5</th>\n",
       "      <th>6</th>\n",
       "      <th>7</th>\n",
       "      <th>8</th>\n",
       "      <th>9</th>\n",
       "      <th>10</th>\n",
       "      <th>11</th>\n",
       "      <th>12</th>\n",
       "      <th>13</th>\n",
       "      <th>14</th>\n",
       "      <th>15</th>\n",
       "    </tr>\n",
       "  </thead>\n",
       "  <tbody>\n",
       "    <tr>\n",
       "      <th>0</th>\n",
       "      <td>0.0</td>\n",
       "      <td>0.491578</td>\n",
       "      <td>0.864865</td>\n",
       "      <td>0.400347</td>\n",
       "      <td>0.402135</td>\n",
       "      <td>0.021455</td>\n",
       "      <td>0.003073</td>\n",
       "      <td>0.508166</td>\n",
       "      <td>0.326026</td>\n",
       "      <td>0.542022</td>\n",
       "      <td>0.344262</td>\n",
       "      <td>0.936944</td>\n",
       "      <td>0.045045</td>\n",
       "      <td>0.800357</td>\n",
       "      <td>0.024668</td>\n",
       "      <td>0.001744</td>\n",
       "    </tr>\n",
       "    <tr>\n",
       "      <th>1</th>\n",
       "      <td>0.0</td>\n",
       "      <td>0.492158</td>\n",
       "      <td>0.864865</td>\n",
       "      <td>0.400347</td>\n",
       "      <td>0.402135</td>\n",
       "      <td>0.026567</td>\n",
       "      <td>0.003756</td>\n",
       "      <td>0.507224</td>\n",
       "      <td>0.326339</td>\n",
       "      <td>0.542022</td>\n",
       "      <td>0.393443</td>\n",
       "      <td>0.938333</td>\n",
       "      <td>0.045045</td>\n",
       "      <td>0.800357</td>\n",
       "      <td>0.030049</td>\n",
       "      <td>0.002080</td>\n",
       "    </tr>\n",
       "    <tr>\n",
       "      <th>2</th>\n",
       "      <td>0.0</td>\n",
       "      <td>0.492063</td>\n",
       "      <td>0.864865</td>\n",
       "      <td>0.400347</td>\n",
       "      <td>0.402135</td>\n",
       "      <td>0.019695</td>\n",
       "      <td>0.002732</td>\n",
       "      <td>0.509422</td>\n",
       "      <td>0.326026</td>\n",
       "      <td>0.540804</td>\n",
       "      <td>0.442623</td>\n",
       "      <td>0.938333</td>\n",
       "      <td>0.045045</td>\n",
       "      <td>0.800357</td>\n",
       "      <td>0.022662</td>\n",
       "      <td>0.001610</td>\n",
       "    </tr>\n",
       "    <tr>\n",
       "      <th>3</th>\n",
       "      <td>0.0</td>\n",
       "      <td>0.491884</td>\n",
       "      <td>0.864865</td>\n",
       "      <td>0.400347</td>\n",
       "      <td>0.403915</td>\n",
       "      <td>0.027321</td>\n",
       "      <td>0.003927</td>\n",
       "      <td>0.507538</td>\n",
       "      <td>0.326339</td>\n",
       "      <td>0.539586</td>\n",
       "      <td>0.418033</td>\n",
       "      <td>0.925278</td>\n",
       "      <td>0.049550</td>\n",
       "      <td>0.800357</td>\n",
       "      <td>0.030642</td>\n",
       "      <td>0.002214</td>\n",
       "    </tr>\n",
       "    <tr>\n",
       "      <th>4</th>\n",
       "      <td>0.0</td>\n",
       "      <td>0.492442</td>\n",
       "      <td>0.864865</td>\n",
       "      <td>0.400347</td>\n",
       "      <td>0.402135</td>\n",
       "      <td>0.023885</td>\n",
       "      <td>0.003415</td>\n",
       "      <td>0.506595</td>\n",
       "      <td>0.326026</td>\n",
       "      <td>0.537150</td>\n",
       "      <td>0.401639</td>\n",
       "      <td>0.930278</td>\n",
       "      <td>0.049550</td>\n",
       "      <td>0.800357</td>\n",
       "      <td>0.027085</td>\n",
       "      <td>0.001945</td>\n",
       "    </tr>\n",
       "    <tr>\n",
       "      <th>...</th>\n",
       "      <td>...</td>\n",
       "      <td>...</td>\n",
       "      <td>...</td>\n",
       "      <td>...</td>\n",
       "      <td>...</td>\n",
       "      <td>...</td>\n",
       "      <td>...</td>\n",
       "      <td>...</td>\n",
       "      <td>...</td>\n",
       "      <td>...</td>\n",
       "      <td>...</td>\n",
       "      <td>...</td>\n",
       "      <td>...</td>\n",
       "      <td>...</td>\n",
       "      <td>...</td>\n",
       "      <td>...</td>\n",
       "    </tr>\n",
       "    <tr>\n",
       "      <th>2215</th>\n",
       "      <td>1.0</td>\n",
       "      <td>0.492010</td>\n",
       "      <td>0.862069</td>\n",
       "      <td>0.280763</td>\n",
       "      <td>0.284698</td>\n",
       "      <td>0.000000</td>\n",
       "      <td>0.000683</td>\n",
       "      <td>0.347676</td>\n",
       "      <td>0.230817</td>\n",
       "      <td>0.382460</td>\n",
       "      <td>0.434426</td>\n",
       "      <td>0.215833</td>\n",
       "      <td>0.045045</td>\n",
       "      <td>0.598930</td>\n",
       "      <td>0.000228</td>\n",
       "      <td>0.000134</td>\n",
       "    </tr>\n",
       "    <tr>\n",
       "      <th>2216</th>\n",
       "      <td>1.0</td>\n",
       "      <td>0.492000</td>\n",
       "      <td>0.862069</td>\n",
       "      <td>0.280763</td>\n",
       "      <td>0.284698</td>\n",
       "      <td>0.000000</td>\n",
       "      <td>0.000683</td>\n",
       "      <td>0.350188</td>\n",
       "      <td>0.231131</td>\n",
       "      <td>0.384896</td>\n",
       "      <td>0.475410</td>\n",
       "      <td>0.223333</td>\n",
       "      <td>0.045045</td>\n",
       "      <td>0.598930</td>\n",
       "      <td>0.000365</td>\n",
       "      <td>0.000201</td>\n",
       "    </tr>\n",
       "    <tr>\n",
       "      <th>2217</th>\n",
       "      <td>1.0</td>\n",
       "      <td>0.492031</td>\n",
       "      <td>0.862069</td>\n",
       "      <td>0.280763</td>\n",
       "      <td>0.286477</td>\n",
       "      <td>0.000000</td>\n",
       "      <td>0.000683</td>\n",
       "      <td>0.351445</td>\n",
       "      <td>0.231131</td>\n",
       "      <td>0.387333</td>\n",
       "      <td>0.475410</td>\n",
       "      <td>0.224444</td>\n",
       "      <td>0.045045</td>\n",
       "      <td>0.598930</td>\n",
       "      <td>0.000593</td>\n",
       "      <td>0.000335</td>\n",
       "    </tr>\n",
       "    <tr>\n",
       "      <th>2218</th>\n",
       "      <td>1.0</td>\n",
       "      <td>0.492100</td>\n",
       "      <td>0.862069</td>\n",
       "      <td>0.282496</td>\n",
       "      <td>0.286477</td>\n",
       "      <td>0.000000</td>\n",
       "      <td>0.000683</td>\n",
       "      <td>0.353015</td>\n",
       "      <td>0.231444</td>\n",
       "      <td>0.389769</td>\n",
       "      <td>0.483607</td>\n",
       "      <td>0.223056</td>\n",
       "      <td>0.045045</td>\n",
       "      <td>0.598930</td>\n",
       "      <td>0.000730</td>\n",
       "      <td>0.000402</td>\n",
       "    </tr>\n",
       "    <tr>\n",
       "      <th>2219</th>\n",
       "      <td>0.0</td>\n",
       "      <td>0.491963</td>\n",
       "      <td>0.862069</td>\n",
       "      <td>0.282496</td>\n",
       "      <td>0.288256</td>\n",
       "      <td>0.000000</td>\n",
       "      <td>0.000683</td>\n",
       "      <td>0.355214</td>\n",
       "      <td>0.231444</td>\n",
       "      <td>0.390987</td>\n",
       "      <td>0.483607</td>\n",
       "      <td>0.219444</td>\n",
       "      <td>0.045045</td>\n",
       "      <td>0.598930</td>\n",
       "      <td>0.000821</td>\n",
       "      <td>0.000470</td>\n",
       "    </tr>\n",
       "  </tbody>\n",
       "</table>\n",
       "<p>2220 rows × 16 columns</p>\n",
       "</div>"
      ],
      "text/plain": [
       "       0         1         2         3         4         5         6   \\\n",
       "0     0.0  0.491578  0.864865  0.400347  0.402135  0.021455  0.003073   \n",
       "1     0.0  0.492158  0.864865  0.400347  0.402135  0.026567  0.003756   \n",
       "2     0.0  0.492063  0.864865  0.400347  0.402135  0.019695  0.002732   \n",
       "3     0.0  0.491884  0.864865  0.400347  0.403915  0.027321  0.003927   \n",
       "4     0.0  0.492442  0.864865  0.400347  0.402135  0.023885  0.003415   \n",
       "...   ...       ...       ...       ...       ...       ...       ...   \n",
       "2215  1.0  0.492010  0.862069  0.280763  0.284698  0.000000  0.000683   \n",
       "2216  1.0  0.492000  0.862069  0.280763  0.284698  0.000000  0.000683   \n",
       "2217  1.0  0.492031  0.862069  0.280763  0.286477  0.000000  0.000683   \n",
       "2218  1.0  0.492100  0.862069  0.282496  0.286477  0.000000  0.000683   \n",
       "2219  0.0  0.491963  0.862069  0.282496  0.288256  0.000000  0.000683   \n",
       "\n",
       "            7         8         9         10        11        12        13  \\\n",
       "0     0.508166  0.326026  0.542022  0.344262  0.936944  0.045045  0.800357   \n",
       "1     0.507224  0.326339  0.542022  0.393443  0.938333  0.045045  0.800357   \n",
       "2     0.509422  0.326026  0.540804  0.442623  0.938333  0.045045  0.800357   \n",
       "3     0.507538  0.326339  0.539586  0.418033  0.925278  0.049550  0.800357   \n",
       "4     0.506595  0.326026  0.537150  0.401639  0.930278  0.049550  0.800357   \n",
       "...        ...       ...       ...       ...       ...       ...       ...   \n",
       "2215  0.347676  0.230817  0.382460  0.434426  0.215833  0.045045  0.598930   \n",
       "2216  0.350188  0.231131  0.384896  0.475410  0.223333  0.045045  0.598930   \n",
       "2217  0.351445  0.231131  0.387333  0.475410  0.224444  0.045045  0.598930   \n",
       "2218  0.353015  0.231444  0.389769  0.483607  0.223056  0.045045  0.598930   \n",
       "2219  0.355214  0.231444  0.390987  0.483607  0.219444  0.045045  0.598930   \n",
       "\n",
       "            14        15  \n",
       "0     0.024668  0.001744  \n",
       "1     0.030049  0.002080  \n",
       "2     0.022662  0.001610  \n",
       "3     0.030642  0.002214  \n",
       "4     0.027085  0.001945  \n",
       "...        ...       ...  \n",
       "2215  0.000228  0.000134  \n",
       "2216  0.000365  0.000201  \n",
       "2217  0.000593  0.000335  \n",
       "2218  0.000730  0.000402  \n",
       "2219  0.000821  0.000470  \n",
       "\n",
       "[2220 rows x 16 columns]"
      ]
     },
     "execution_count": 9,
     "metadata": {},
     "output_type": "execute_result"
    }
   ],
   "source": [
    "scaled.head(2220)"
   ]
  },
  {
   "cell_type": "code",
   "execution_count": 10,
   "metadata": {},
   "outputs": [
    {
     "name": "stdout",
     "output_type": "stream",
     "text": [
      "<class 'pandas.core.frame.DataFrame'>\n",
      "Int64Index: 475336 entries, 1308 to 105407\n",
      "Data columns (total 16 columns):\n",
      " #   Column    Non-Null Count   Dtype  \n",
      "---  ------    --------------   -----  \n",
      " 0   fco2_HQ   475336 non-null  float64\n",
      " 1   fco2_raw  475336 non-null  float64\n",
      " 2   glwody    475336 non-null  float64\n",
      " 3   T50cm     475336 non-null  float64\n",
      " 4   T2m       475336 non-null  float64\n",
      " 5   Kd        475336 non-null  float64\n",
      " 6   Ku        475336 non-null  float64\n",
      " 7   Ld        475336 non-null  float64\n",
      " 8   Lu        475336 non-null  float64\n",
      " 9   ppp       475336 non-null  float64\n",
      " 10  v         475336 non-null  float64\n",
      " 11  vdir      475336 non-null  float64\n",
      " 12  Tgrunt    475336 non-null  float64\n",
      " 13  vwc       475336 non-null  float64\n",
      " 14  PARd      475336 non-null  float64\n",
      " 15  PARu      475336 non-null  float64\n",
      "dtypes: float64(16)\n",
      "memory usage: 61.7 MB\n"
     ]
    }
   ],
   "source": [
    "dataset.info()"
   ]
  },
  {
   "cell_type": "code",
   "execution_count": 11,
   "metadata": {},
   "outputs": [
    {
     "data": {
      "text/plain": [
       "(475336, 16)"
      ]
     },
     "execution_count": 11,
     "metadata": {},
     "output_type": "execute_result"
    }
   ],
   "source": [
    "dataset.shape"
   ]
  },
  {
   "cell_type": "code",
   "execution_count": 87,
   "metadata": {},
   "outputs": [],
   "source": [
    "list0 = []\n",
    "list1 = []\n",
    "i=0\n",
    "w=32\n",
    "for window in scaled.rolling(window=w):\n",
    "   # print(window.shape)\n",
    "    if(window.shape==(w,window.shape[1])):\n",
    "        i+=1\n",
    "       # print(\"Number of window \"+ str(i))\n",
    "        list0.append(np.asarray(window.copy()))\n",
    "        y=0\n",
    "        shape = window.shape\n",
    "        for index, test in window.iterrows() :\n",
    "           # print(y)\n",
    "            if (y==w-1) :\n",
    "               # print(test[0])\n",
    "                list1.append(test[0])\n",
    "                agroup=test[0]\n",
    "            y+=1"
   ]
  },
  {
   "cell_type": "code",
   "execution_count": 88,
   "metadata": {},
   "outputs": [],
   "source": [
    "#print(list0)"
   ]
  },
  {
   "cell_type": "code",
   "execution_count": 89,
   "metadata": {},
   "outputs": [],
   "source": [
    "dataFromSensors=np.array(list0)"
   ]
  },
  {
   "cell_type": "code",
   "execution_count": 90,
   "metadata": {},
   "outputs": [],
   "source": [
    "#print(dataFromSensors)"
   ]
  },
  {
   "cell_type": "code",
   "execution_count": 91,
   "metadata": {},
   "outputs": [
    {
     "name": "stdout",
     "output_type": "stream",
     "text": [
      "class:  ndarray\n",
      "shape:  (475305, 32, 16)\n",
      "strides:  (4096, 128, 8)\n",
      "itemsize:  8\n",
      "aligned:  True\n",
      "contiguous:  True\n",
      "fortran:  False\n",
      "data pointer: 0x7fe020f00000\n",
      "byteorder:  little\n",
      "byteswap:  False\n",
      "type: float64\n"
     ]
    }
   ],
   "source": [
    "np.info(dataFromSensors)"
   ]
  },
  {
   "cell_type": "code",
   "execution_count": 92,
   "metadata": {},
   "outputs": [],
   "source": [
    "#print(list1)"
   ]
  },
  {
   "cell_type": "code",
   "execution_count": 93,
   "metadata": {},
   "outputs": [],
   "source": [
    "labels=np.array(list1)"
   ]
  },
  {
   "cell_type": "code",
   "execution_count": 94,
   "metadata": {},
   "outputs": [],
   "source": [
    "#print(labels)"
   ]
  },
  {
   "cell_type": "code",
   "execution_count": 95,
   "metadata": {},
   "outputs": [
    {
     "name": "stdout",
     "output_type": "stream",
     "text": [
      "class:  ndarray\n",
      "shape:  (475305,)\n",
      "strides:  (8,)\n",
      "itemsize:  8\n",
      "aligned:  True\n",
      "contiguous:  True\n",
      "fortran:  True\n",
      "data pointer: 0x7fe12d604000\n",
      "byteorder:  little\n",
      "byteswap:  False\n",
      "type: float64\n"
     ]
    }
   ],
   "source": [
    "np.info(labels)"
   ]
  },
  {
   "cell_type": "code",
   "execution_count": 96,
   "metadata": {},
   "outputs": [],
   "source": [
    "#values = reframed_df.values\n",
    "#training_sample =int( len(dataset) *0.8)\n",
    "training_sample_labels =int( len(labels) *0.8)\n",
    "training_sample =int( len(dataFromSensors) *0.8)\n",
    "#testDataset=DataFrame.to_numpy(dataset)\n",
    "#testDataset=DataFrame.to_numpy(reframed_df)"
   ]
  },
  {
   "cell_type": "code",
   "execution_count": 97,
   "metadata": {},
   "outputs": [
    {
     "data": {
      "text/plain": [
       "380244"
      ]
     },
     "execution_count": 97,
     "metadata": {},
     "output_type": "execute_result"
    }
   ],
   "source": [
    "training_sample_labels"
   ]
  },
  {
   "cell_type": "code",
   "execution_count": 98,
   "metadata": {},
   "outputs": [
    {
     "data": {
      "text/plain": [
       "380244"
      ]
     },
     "execution_count": 98,
     "metadata": {},
     "output_type": "execute_result"
    }
   ],
   "source": [
    "training_sample"
   ]
  },
  {
   "cell_type": "code",
   "execution_count": 99,
   "metadata": {},
   "outputs": [],
   "source": [
    "train_labels = labels[:training_sample]\n",
    "train = dataFromSensors[:training_sample, : ,:]\n",
    "test_labels = labels[training_sample:]\n",
    "test = dataFromSensors[training_sample:, : , :]\n",
    "# split into input and outputs\n",
    "#train_X, train_y = train[:,:, 1:], train[:,:,0]\n",
    "#test_X, test_y = test[:,:, 1:], test[:,:,0]\n",
    "train_X, train_y = train[:,:, 1:], train_labels[:]\n",
    "test_X, test_y = test[:,:, 1:], test_labels[:]"
   ]
  },
  {
   "cell_type": "code",
   "execution_count": 100,
   "metadata": {},
   "outputs": [
    {
     "data": {
      "text/plain": [
       "(380244, 32, 15)"
      ]
     },
     "execution_count": 100,
     "metadata": {},
     "output_type": "execute_result"
    }
   ],
   "source": [
    "train_X.shape"
   ]
  },
  {
   "cell_type": "code",
   "execution_count": 101,
   "metadata": {},
   "outputs": [
    {
     "data": {
      "text/plain": [
       "array([0., 0., 0., ..., 0., 0., 0.])"
      ]
     },
     "execution_count": 101,
     "metadata": {},
     "output_type": "execute_result"
    }
   ],
   "source": [
    "train_y"
   ]
  },
  {
   "cell_type": "code",
   "execution_count": 102,
   "metadata": {},
   "outputs": [],
   "source": [
    "#print(train_X)"
   ]
  },
  {
   "cell_type": "code",
   "execution_count": 103,
   "metadata": {},
   "outputs": [
    {
     "data": {
      "text/plain": [
       "(380244,)"
      ]
     },
     "execution_count": 103,
     "metadata": {},
     "output_type": "execute_result"
    }
   ],
   "source": [
    "train_y.shape"
   ]
  },
  {
   "cell_type": "code",
   "execution_count": 104,
   "metadata": {},
   "outputs": [],
   "source": [
    "#print(test_y)"
   ]
  },
  {
   "cell_type": "code",
   "execution_count": 105,
   "metadata": {},
   "outputs": [],
   "source": [
    "train_y=train_y.reshape(train_y.shape[0],1)"
   ]
  },
  {
   "cell_type": "code",
   "execution_count": 106,
   "metadata": {},
   "outputs": [],
   "source": [
    "test_y=test_y.reshape(test_y.shape[0],1)"
   ]
  },
  {
   "cell_type": "code",
   "execution_count": 107,
   "metadata": {},
   "outputs": [],
   "source": [
    "#print(train_X)"
   ]
  },
  {
   "cell_type": "code",
   "execution_count": 108,
   "metadata": {},
   "outputs": [
    {
     "name": "stdout",
     "output_type": "stream",
     "text": [
      "(380244, 32, 15) (380244, 1) (95061, 32, 15) (95061, 1)\n"
     ]
    }
   ],
   "source": [
    "# reshape input to be 3D [samples, time steps, features]\n",
    "#train_X = train_X.reshape((train_X.shape[0], 1, train_X.shape[1], train_X.shape[2]))\n",
    "#test_X = test_X.reshape((test_X.shape[0], 1, test_X.shape[1], test_X.shape[2]))\n",
    "\n",
    "\n",
    "\n",
    "print(train_X.shape, train_y.shape, test_X.shape, test_y.shape)"
   ]
  },
  {
   "cell_type": "code",
   "execution_count": 130,
   "metadata": {},
   "outputs": [],
   "source": [
    "model_gru =  keras.models.Sequential([\n",
    "   # keras.layers.Conv1D(filters=64, kernel_size=3, strides=1, input_shape=(train_X.shape[1], train_X.shape[2])),\n",
    "    keras.layers.GRU(168,return_sequences=True,input_shape=(train_X.shape[1],train_X.shape[2]),activation='relu'),\n",
    "    #keras.layers.Flatten(),\n",
    "   # keras.layers.GRU(units=128,return_sequences=True),\n",
    "    #keras.layers.GRU(units=64,return_sequences=True,activation='relu'),\n",
    "    #keras.layers.GRU(units=1,return_sequences=True),\n",
    "    #keras.layers.Flatten(),\n",
    "    \n",
    "    keras.layers.GRU(units=84,return_sequences=True,activation='relu'),\n",
    "    keras.layers.GRU(units=42,activation='relu'),\n",
    "    #keras.layers.Flatten(),\n",
    "    #keras.layers.BatchNormalization(),\n",
    "   #\n",
    "  #  keras.layers.GRU(units=3),\n",
    " \n",
    "    #keras.layers.TimeDistributed(keras.layers.Dense(units=36))\n",
    "    #keras.layers.TimeDistributed(keras.layers.Dense(1))\n",
    "    keras.layers.Dense(units=21,activation='sigmoid'),\n",
    "    keras.layers.Dense(units=1,activation='sigmoid')\n",
    "                        ])\n",
    "model_gru.compile(loss='binary_crossentropy', optimizer='adam',metrics=['accuracy'])"
   ]
  },
  {
   "cell_type": "code",
   "execution_count": 131,
   "metadata": {},
   "outputs": [
    {
     "name": "stdout",
     "output_type": "stream",
     "text": [
      "Model: \"sequential_4\"\n",
      "_________________________________________________________________\n",
      " Layer (type)                Output Shape              Param #   \n",
      "=================================================================\n",
      " gru_12 (GRU)                (None, 32, 168)           93240     \n",
      "                                                                 \n",
      " gru_13 (GRU)                (None, 32, 84)            64008     \n",
      "                                                                 \n",
      " gru_14 (GRU)                (None, 42)                16128     \n",
      "                                                                 \n",
      " dense_8 (Dense)             (None, 21)                903       \n",
      "                                                                 \n",
      " dense_9 (Dense)             (None, 1)                 22        \n",
      "                                                                 \n",
      "=================================================================\n",
      "Total params: 174,301\n",
      "Trainable params: 174,301\n",
      "Non-trainable params: 0\n",
      "_________________________________________________________________\n"
     ]
    }
   ],
   "source": [
    "model_gru.summary()"
   ]
  },
  {
   "cell_type": "code",
   "execution_count": 132,
   "metadata": {},
   "outputs": [
    {
     "name": "stdout",
     "output_type": "stream",
     "text": [
      "Epoch 1/15\n",
      "186/186 [==============================] - 709s 4s/step - loss: 0.5086 - accuracy: 0.7423 - val_loss: 0.4692 - val_accuracy: 0.7591\n",
      "Epoch 2/15\n",
      "186/186 [==============================] - 591s 3s/step - loss: 0.4667 - accuracy: 0.7588 - val_loss: 0.4564 - val_accuracy: 0.7685\n",
      "Epoch 3/15\n",
      "186/186 [==============================] - 465s 3s/step - loss: 0.4550 - accuracy: 0.7662 - val_loss: 0.4503 - val_accuracy: 0.7713\n",
      "Epoch 4/15\n",
      "186/186 [==============================] - 418s 2s/step - loss: 0.4468 - accuracy: 0.7709 - val_loss: 0.4383 - val_accuracy: 0.7766\n",
      "Epoch 5/15\n",
      "186/186 [==============================] - 371s 2s/step - loss: 0.4419 - accuracy: 0.7740 - val_loss: 0.4347 - val_accuracy: 0.7780\n",
      "Epoch 6/15\n",
      "186/186 [==============================] - 371s 2s/step - loss: 0.4383 - accuracy: 0.7755 - val_loss: 0.4338 - val_accuracy: 0.7777\n",
      "Epoch 7/15\n",
      "186/186 [==============================] - 370s 2s/step - loss: 0.4375 - accuracy: 0.7765 - val_loss: 0.4527 - val_accuracy: 0.7764\n",
      "Epoch 8/15\n",
      "186/186 [==============================] - 370s 2s/step - loss: 0.4347 - accuracy: 0.7777 - val_loss: 0.4350 - val_accuracy: 0.7774\n",
      "Epoch 9/15\n",
      "186/186 [==============================] - 338s 2s/step - loss: 0.4320 - accuracy: 0.7789 - val_loss: 0.4422 - val_accuracy: 0.7745\n",
      "Epoch 10/15\n",
      "186/186 [==============================] - 330s 2s/step - loss: 0.4321 - accuracy: 0.7786 - val_loss: 0.4358 - val_accuracy: 0.7783\n",
      "Epoch 11/15\n",
      "186/186 [==============================] - 320s 2s/step - loss: 0.4304 - accuracy: 0.7800 - val_loss: 0.4348 - val_accuracy: 0.7803\n",
      "Epoch 12/15\n",
      "186/186 [==============================] - 322s 2s/step - loss: 0.4286 - accuracy: 0.7803 - val_loss: 0.4313 - val_accuracy: 0.7807\n",
      "Epoch 13/15\n",
      "186/186 [==============================] - 323s 2s/step - loss: 0.4269 - accuracy: 0.7813 - val_loss: 0.4288 - val_accuracy: 0.7801\n",
      "Epoch 14/15\n",
      "186/186 [==============================] - 325s 2s/step - loss: 0.4253 - accuracy: 0.7822 - val_loss: 0.4269 - val_accuracy: 0.7824\n",
      "Epoch 15/15\n",
      "186/186 [==============================] - 7230s 39s/step - loss: 0.4248 - accuracy: 0.7829 - val_loss: 0.4324 - val_accuracy: 0.7811\n"
     ]
    }
   ],
   "source": [
    "# fit network\n",
    "gru_history = model_gru.fit(train_X, train_y, epochs=20,validation_data=(test_X, test_y), batch_size=2048)#, shuffle=False)"
   ]
  },
  {
   "cell_type": "code",
   "execution_count": 133,
   "metadata": {},
   "outputs": [
    {
     "name": "stdout",
     "output_type": "stream",
     "text": [
      "2971/2971 [==============================] - 65s 22ms/step\n"
     ]
    }
   ],
   "source": [
    "pred_y =  model_gru.predict(test_X)"
   ]
  },
  {
   "cell_type": "code",
   "execution_count": 134,
   "metadata": {},
   "outputs": [
    {
     "data": {
      "image/png": "[encoded data removed]",
      "text/plain": [
       "<Figure size 1500x500 with 1 Axes>"
      ]
     },
     "metadata": {},
     "output_type": "display_data"
    }
   ],
   "source": [
    "#dont run this cell if you are running this cell than add \"validation_data=(test_X, test_y)\" in model_gru.fit()\n",
    "plt.plot(gru_history.history['loss'], label='GRU train', color='brown')\n",
    "plt.plot(gru_history.history['val_loss'], label='GRU test', color='blue')\n",
    "plt.legend()\n",
    "plt.show()"
   ]
  },
  {
   "cell_type": "code",
   "execution_count": 135,
   "metadata": {},
   "outputs": [
    {
     "name": "stdout",
     "output_type": "stream",
     "text": [
      "[[0.]\n",
      " [0.]\n",
      " [0.]\n",
      " ...\n",
      " [0.]\n",
      " [0.]\n",
      " [0.]]\n"
     ]
    }
   ],
   "source": [
    "#test_y.reshape(8086,1)\n",
    "#test_y.reshape(2627,1)\n",
    "#test_y=test_y[:, :1]\n",
    "\n",
    "#train_y=test_y[:, :1]\n",
    "print(test_y)"
   ]
  },
  {
   "cell_type": "code",
   "execution_count": 136,
   "metadata": {},
   "outputs": [
    {
     "data": {
      "text/plain": [
       "(95061, 1)"
      ]
     },
     "execution_count": 136,
     "metadata": {},
     "output_type": "execute_result"
    }
   ],
   "source": [
    "np.shape(pred_y)"
   ]
  },
  {
   "cell_type": "code",
   "execution_count": 137,
   "metadata": {},
   "outputs": [
    {
     "data": {
      "text/plain": [
       "array([[0.00308738],\n",
       "       [0.00624699],\n",
       "       [0.00294852],\n",
       "       ...,\n",
       "       [0.05953646],\n",
       "       [0.06116803],\n",
       "       [0.06217876]], dtype=float32)"
      ]
     },
     "execution_count": 137,
     "metadata": {},
     "output_type": "execute_result"
    }
   ],
   "source": [
    "pred_y"
   ]
  },
  {
   "cell_type": "code",
   "execution_count": 138,
   "metadata": {},
   "outputs": [],
   "source": [
    "#pred_y=np.reshape(pred_y,8068)\n",
    "pred_y=np.reshape(pred_y,95061 )"
   ]
  },
  {
   "cell_type": "code",
   "execution_count": 139,
   "metadata": {},
   "outputs": [
    {
     "name": "stdout",
     "output_type": "stream",
     "text": [
      "0.14431837316001353\n",
      "0.22396688914771368\n",
      "0.3798925810805122\n",
      "0.28746815190516944\n"
     ]
    },
    {
     "data": {
      "image/png": "[encoded data removed]",
      "text/plain": [
       "<Figure size 1500x500 with 1 Axes>"
      ]
     },
     "metadata": {},
     "output_type": "display_data"
    }
   ],
   "source": [
    "\n",
    "plt.rcParams['figure.figsize'] = (15,5)\n",
    "\n",
    "MSE = mean_squared_error(test_y, pred_y)\n",
    "R2 = r2_score(test_y, pred_y)\n",
    "RMSE = sqrt(mean_squared_error(test_y, pred_y))\n",
    "MAE = mean_absolute_error(test_y, pred_y)\n",
    "\n",
    "\n",
    "print(MSE)\n",
    "print(R2)\n",
    "print(RMSE)\n",
    "print(MAE)\n",
    "\n",
    "#plotting predicted test value vs actual test value\n",
    "plt.plot(test_y, label = 'Actual')\n",
    "plt.plot(pred_y, label = 'Predicted')\n",
    "plt.legend()\n",
    "plt.show()"
   ]
  },
  {
   "cell_type": "code",
   "execution_count": 140,
   "metadata": {},
   "outputs": [
    {
     "data": {
      "text/plain": [
       "(380244, 32, 15)"
      ]
     },
     "execution_count": 140,
     "metadata": {},
     "output_type": "execute_result"
    }
   ],
   "source": [
    "np.shape(train_X)"
   ]
  },
  {
   "cell_type": "code",
   "execution_count": 141,
   "metadata": {},
   "outputs": [
    {
     "data": {
      "text/plain": [
       "(380244, 1)"
      ]
     },
     "execution_count": 141,
     "metadata": {},
     "output_type": "execute_result"
    }
   ],
   "source": [
    "np.shape(train_y)"
   ]
  },
  {
   "cell_type": "code",
   "execution_count": 142,
   "metadata": {},
   "outputs": [
    {
     "data": {
      "text/plain": [
       "(95061, 32, 15)"
      ]
     },
     "execution_count": 142,
     "metadata": {},
     "output_type": "execute_result"
    }
   ],
   "source": [
    "np.shape(test_X)"
   ]
  },
  {
   "cell_type": "code",
   "execution_count": 143,
   "metadata": {},
   "outputs": [
    {
     "data": {
      "text/plain": [
       "(95061, 1)"
      ]
     },
     "execution_count": 143,
     "metadata": {},
     "output_type": "execute_result"
    }
   ],
   "source": [
    "np.shape(test_y)"
   ]
  },
  {
   "cell_type": "code",
   "execution_count": 144,
   "metadata": {},
   "outputs": [
    {
     "name": "stdout",
     "output_type": "stream",
     "text": [
      "14854/14854 [==============================] - 347s 23ms/step\n"
     ]
    },
    {
     "name": "stderr",
     "output_type": "stream",
     "text": [
      "/Users/maciej/my_env/lib/python3.9/site-packages/IPython/core/pylabtools.py:151: UserWarning: Creating legend with loc=\"best\" can be slow with large amounts of data.\n",
      "  fig.canvas.print_figure(bytes_io, **kw)\n"
     ]
    },
    {
     "data": {
      "image/png": "[encoded data removed]",
      "text/plain": [
       "<Figure size 1500x500 with 1 Axes>"
      ]
     },
     "metadata": {},
     "output_type": "display_data"
    }
   ],
   "source": [
    "#visualization over full data\n",
    "tra = np.concatenate([train_X,test_X])\n",
    "tes = np.concatenate([train_y,test_y])\n",
    "fp = model_gru.predict(tra)\n",
    "plt.plot(tes, label = 'Actual')\n",
    "plt.plot(fp, label = 'Predicted')\n",
    "plt.legend()\n",
    "plt.show()"
   ]
  },
  {
   "cell_type": "code",
   "execution_count": 145,
   "metadata": {},
   "outputs": [
    {
     "data": {
      "image/png": "[encoded data removed]",
      "text/plain": [
       "<Figure size 1500x500 with 1 Axes>"
      ]
     },
     "metadata": {},
     "output_type": "display_data"
    }
   ],
   "source": [
    "#over small part of data\n",
    "plt.plot(tes, label = 'Actual')\n",
    "#plt.plot(fp[:2000], label = 'Predicted')\n",
    "plt.legend()\n",
    "plt.show()"
   ]
  },
  {
   "cell_type": "code",
   "execution_count": 146,
   "metadata": {},
   "outputs": [
    {
     "name": "stdout",
     "output_type": "stream",
     "text": [
      "[0.25795437]\n"
     ]
    }
   ],
   "source": [
    "print(sum(tes)/len(tes))"
   ]
  },
  {
   "cell_type": "code",
   "execution_count": 147,
   "metadata": {},
   "outputs": [
    {
     "name": "stdout",
     "output_type": "stream",
     "text": [
      "[0.60929198]\n",
      "[0.82050074]\n",
      "total acc [0.78194633]\n"
     ]
    }
   ],
   "source": [
    "#print(fp[1000:1010])\n",
    "_fp = np.where(fp>0.5,1,0)\n",
    "_all = sum(_fp)\n",
    "_w = (_fp*tes)\n",
    "print(sum(_w)/_all)\n",
    "      \n",
    "_all_z = sum(1-_fp)      \n",
    "_w_z = (1-_fp)*(1-tes)\n",
    "print(sum(_w_z)/_all_z)\n",
    "print('total acc', (sum(_w)+sum(_w_z))/len(_w))"
   ]
  },
  {
   "cell_type": "code",
   "execution_count": null,
   "metadata": {},
   "outputs": [],
   "source": [
    "plt.plot(tes[:8000], label = 'Actual')\n",
    "plt.plot(fp[:8000], label = 'Predicted')\n",
    "plt.legend()\n",
    "plt.show()"
   ]
  },
  {
   "cell_type": "code",
   "execution_count": null,
   "metadata": {},
   "outputs": [],
   "source": [
    "#over very small part of data\n",
    "plt.plot(tes[2000:2020], label = 'Actual')\n",
    "plt.plot(fp[2000:2020], label = 'Predicted')\n",
    "plt.legend()\n",
    "plt.show()"
   ]
  },
  {
   "cell_type": "code",
   "execution_count": null,
   "metadata": {},
   "outputs": [],
   "source": [
    "plt.plot(tes[:50], label = 'Actual')\n",
    "plt.plot(fp[:50], label = 'Predicted')\n",
    "plt.legend()\n",
    "plt.show()"
   ]
  },
  {
   "cell_type": "code",
   "execution_count": null,
   "metadata": {},
   "outputs": [],
   "source": [
    "plt.plot(tes[:5], label = 'Actual')\n",
    "plt.plot(fp[:5], label = 'Predicted')\n",
    "plt.legend()\n",
    "plt.show()"
   ]
  },
  {
   "cell_type": "code",
   "execution_count": null,
   "metadata": {},
   "outputs": [],
   "source": [
    "plt.plot(scaled[3], label = 'Actual')"
   ]
  },
  {
   "cell_type": "code",
   "execution_count": null,
   "metadata": {},
   "outputs": [],
   "source": [
    "plt.plot(scaled[2], label = 'Actual')"
   ]
  },
  {
   "cell_type": "code",
   "execution_count": null,
   "metadata": {},
   "outputs": [],
   "source": [
    "plt.plot(scaled[1], label = 'Actual')"
   ]
  },
  {
   "cell_type": "code",
   "execution_count": null,
   "metadata": {},
   "outputs": [],
   "source": [
    "plt.plot(scaled[0], label = 'Actual')"
   ]
  },
  {
   "cell_type": "code",
   "execution_count": null,
   "metadata": {},
   "outputs": [],
   "source": [
    "dataToValidateWithModel = read_csv(\"folder/subfolder/dataToModel_5min.csv\",index_col= 0,sep=\";\")"
   ]
  },
  {
   "cell_type": "code",
   "execution_count": null,
   "metadata": {},
   "outputs": [],
   "source": [
    "dataToValidateWithModel.info()"
   ]
  },
  {
   "cell_type": "code",
   "execution_count": null,
   "metadata": {},
   "outputs": [],
   "source": [
    "dataToValidateWithModel.drop(columns  = ['dz','go','ms','dz','fco2_MQ','rok'], inplace = True)"
   ]
  },
  {
   "cell_type": "code",
   "execution_count": null,
   "metadata": {},
   "outputs": [],
   "source": [
    "dataToValidateWithModel.head()"
   ]
  },
  {
   "cell_type": "code",
   "execution_count": null,
   "metadata": {},
   "outputs": [],
   "source": [
    "dataToValidateWithModel.info()"
   ]
  },
  {
   "cell_type": "code",
   "execution_count": null,
   "metadata": {},
   "outputs": [],
   "source": [
    "values = dataToValidateWithModel.values\n",
    "values = values.astype('float64')"
   ]
  },
  {
   "cell_type": "code",
   "execution_count": null,
   "metadata": {},
   "outputs": [],
   "source": [
    "scaler = MinMaxScaler(feature_range=(0, 1))\n",
    "scaled = scaler.fit_transform(values)\n",
    "scaled = pd.DataFrame(scaled)"
   ]
  },
  {
   "cell_type": "code",
   "execution_count": null,
   "metadata": {},
   "outputs": [],
   "source": [
    "list0 = []\n",
    "list1 = []\n",
    "i=0\n",
    "w=4\n",
    "for window in scaled.rolling(window=w):\n",
    "    #print(window.shape)\n",
    "    if(window.shape==(w,window.shape[1])):\n",
    "        i+=1\n",
    "        #print(\"Number of window \"+ str(i))\n",
    "        list0.append(np.asarray(window.copy()))\n",
    "        y=0\n",
    "        shape = window.shape\n",
    "        for index, test in window.iterrows() :\n",
    "           # print(y)\n",
    "            if (y==w-1) :\n",
    "               # print(test[0])\n",
    "                list1.append(test[0])\n",
    "                agroup=test[0]\n",
    "            y+=1"
   ]
  },
  {
   "cell_type": "code",
   "execution_count": null,
   "metadata": {},
   "outputs": [],
   "source": [
    "dataFromSensors=np.array(list0)"
   ]
  },
  {
   "cell_type": "code",
   "execution_count": null,
   "metadata": {},
   "outputs": [],
   "source": [
    "labels=np.array(list1)"
   ]
  },
  {
   "cell_type": "code",
   "execution_count": null,
   "metadata": {},
   "outputs": [],
   "source": [
    "test_labels = labels[:]\n",
    "test = dataFromSensors[:, :, :]\n",
    "# split into input and outputs\n",
    "#train_X, train_y = train[:,:, 1:], train[:,:,0]\n",
    "#test_X, test_y = test[:,:, 1:], test[:,:,0]\n",
    "\n",
    "test_X, test_y = test[:,:, 1:], test_labels[:]"
   ]
  },
  {
   "cell_type": "code",
   "execution_count": null,
   "metadata": {},
   "outputs": [],
   "source": [
    "test_y=test_y.reshape(test_y.shape[0],1)"
   ]
  },
  {
   "cell_type": "code",
   "execution_count": null,
   "metadata": {},
   "outputs": [],
   "source": [
    "print(train_X.shape, train_y.shape, test_X.shape, test_y.shape)"
   ]
  },
  {
   "cell_type": "code",
   "execution_count": null,
   "metadata": {},
   "outputs": [],
   "source": [
    "valideteDatapred_y =  model_gru.predict(test_X)"
   ]
  },
  {
   "cell_type": "code",
   "execution_count": null,
   "metadata": {},
   "outputs": [],
   "source": [
    "valideteDatapred_y=np.reshape(valideteDatapred_y, 475333)"
   ]
  },
  {
   "cell_type": "code",
   "execution_count": null,
   "metadata": {},
   "outputs": [],
   "source": [
    "tra = np.concatenate([test_X])\n",
    "tes = np.concatenate([test_y])\n",
    "fp = model_gru.predict(tra)\n",
    "plt.plot(tes, label = 'Actual')\n",
    "plt.plot(fp, label = 'Predicted')\n",
    "plt.legend()\n",
    "plt.show()"
   ]
  },
  {
   "cell_type": "code",
   "execution_count": null,
   "metadata": {},
   "outputs": [],
   "source": [
    "_fp = np.where(fp>0.5,1,0)\n",
    "_all = sum(_fp)\n",
    "_w = (_fp*tes)\n",
    "print(sum(_w)/_all)\n",
    "      \n",
    "_all_z = sum(1-_fp)      \n",
    "_w_z = (1-_fp)*(1-tes)\n",
    "print(sum(_w_z)/_all_z)\n",
    "print('total acc', (sum(_w)+sum(_w_z))/len(_w))"
   ]
  },
  {
   "cell_type": "code",
   "execution_count": null,
   "metadata": {},
   "outputs": [],
   "source": []
  },
  {
   "cell_type": "code",
   "execution_count": null,
   "metadata": {},
   "outputs": [],
   "source": []
  }
 ],
 "metadata": {
  "kernelspec": {
   "display_name": "Python 3 (ipykernel)",
   "language": "python",
   "name": "python3"
  },
  "language_info": {
   "codemirror_mode": {
    "name": "ipython",
    "version": 3
   },
   "file_extension": ".py",
   "mimetype": "text/x-python",
   "name": "python",
   "nbconvert_exporter": "python",
   "pygments_lexer": "ipython3",
   "version": "3.9.6"
  }
 },
 "nbformat": 4,
 "nbformat_minor": 2
}
