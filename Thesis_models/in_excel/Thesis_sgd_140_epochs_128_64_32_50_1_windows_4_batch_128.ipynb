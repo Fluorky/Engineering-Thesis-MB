{
 "cells": [
  {
   "cell_type": "code",
   "execution_count": 1,
   "metadata": {},
   "outputs": [],
   "source": [
    "import pandas as pd\n",
    "import numpy as np\n",
    "import matplotlib.pyplot as plt\n",
    "from math import sqrt\n",
    "from numpy import concatenate\n",
    "from pandas import *\n",
    "from sklearn.preprocessing import *\n",
    "from sklearn.metrics import *\n",
    "from tensorflow import keras\n",
    "import tensorflow as tf\n",
    "import time as t"
   ]
  },
  {
   "cell_type": "code",
   "execution_count": 2,
   "metadata": {},
   "outputs": [],
   "source": [
    "w=4"
   ]
  },
  {
   "cell_type": "code",
   "execution_count": 3,
   "metadata": {},
   "outputs": [],
   "source": [
    "dataFromSensors=np.load(\"DataWithLabels/dataFromSensors_\"+str(w)+\".npy\")"
   ]
  },
  {
   "cell_type": "code",
   "execution_count": 4,
   "metadata": {},
   "outputs": [
    {
     "name": "stdout",
     "output_type": "stream",
     "text": [
      "class:  ndarray\n",
      "shape:  (475333, 4, 16)\n",
      "strides:  (512, 128, 8)\n",
      "itemsize:  8\n",
      "aligned:  True\n",
      "contiguous:  True\n",
      "fortran:  False\n",
      "data pointer: 0x18eb69e5040\n",
      "byteorder:  little\n",
      "byteswap:  False\n",
      "type: float64\n"
     ]
    }
   ],
   "source": [
    "np.info(dataFromSensors)"
   ]
  },
  {
   "cell_type": "code",
   "execution_count": 5,
   "metadata": {},
   "outputs": [],
   "source": [
    "labels=np.load(\"DataWithLabels/labels_\"+str(w)+\".npy\")"
   ]
  },
  {
   "cell_type": "code",
   "execution_count": 6,
   "metadata": {},
   "outputs": [
    {
     "name": "stdout",
     "output_type": "stream",
     "text": [
      "class:  ndarray\n",
      "shape:  (475333,)\n",
      "strides:  (8,)\n",
      "itemsize:  8\n",
      "aligned:  True\n",
      "contiguous:  True\n",
      "fortran:  True\n",
      "data pointer: 0x18ec5204040\n",
      "byteorder:  little\n",
      "byteswap:  False\n",
      "type: float64\n"
     ]
    }
   ],
   "source": [
    "np.info(labels)"
   ]
  },
  {
   "cell_type": "code",
   "execution_count": 7,
   "metadata": {},
   "outputs": [],
   "source": [
    "#values = reframed_df.values\n",
    "#training_sample =int( len(dataset) *0.8)\n",
    "training_sample_labels =int( len(labels) *0.8)\n",
    "training_sample =int( len(dataFromSensors) *0.8)\n",
    "#testDataset=DataFrame.to_numpy(dataset)\n",
    "#testDataset=DataFrame.to_numpy(reframed_df)"
   ]
  },
  {
   "cell_type": "code",
   "execution_count": 8,
   "metadata": {},
   "outputs": [
    {
     "data": {
      "text/plain": [
       "380266"
      ]
     },
     "execution_count": 8,
     "metadata": {},
     "output_type": "execute_result"
    }
   ],
   "source": [
    "training_sample_labels"
   ]
  },
  {
   "cell_type": "code",
   "execution_count": 9,
   "metadata": {},
   "outputs": [
    {
     "data": {
      "text/plain": [
       "380266"
      ]
     },
     "execution_count": 9,
     "metadata": {},
     "output_type": "execute_result"
    }
   ],
   "source": [
    "training_sample"
   ]
  },
  {
   "cell_type": "code",
   "execution_count": 10,
   "metadata": {},
   "outputs": [],
   "source": [
    "train_labels = labels[:training_sample]\n",
    "train = dataFromSensors[:training_sample, : ,:]\n",
    "test_labels = labels[training_sample:]\n",
    "test = dataFromSensors[training_sample:, : , :]\n",
    "# split into input and outputs\n",
    "#train_X, train_y = train[:,:, 1:], train[:,:,0]\n",
    "#test_X, test_y = test[:,:, 1:], test[:,:,0]\n",
    "train_X, train_y = train[:,:, 1:], train_labels[:]\n",
    "test_X, test_y = test[:,:, 1:], test_labels[:]"
   ]
  },
  {
   "cell_type": "code",
   "execution_count": 11,
   "metadata": {},
   "outputs": [
    {
     "data": {
      "text/plain": [
       "(380266, 4, 15)"
      ]
     },
     "execution_count": 11,
     "metadata": {},
     "output_type": "execute_result"
    }
   ],
   "source": [
    "train_X.shape"
   ]
  },
  {
   "cell_type": "code",
   "execution_count": 12,
   "metadata": {},
   "outputs": [
    {
     "data": {
      "text/plain": [
       "array([0., 0., 0., ..., 0., 0., 0.])"
      ]
     },
     "execution_count": 12,
     "metadata": {},
     "output_type": "execute_result"
    }
   ],
   "source": [
    "train_y"
   ]
  },
  {
   "cell_type": "code",
   "execution_count": 13,
   "metadata": {},
   "outputs": [],
   "source": [
    "#print(train_X)"
   ]
  },
  {
   "cell_type": "code",
   "execution_count": 14,
   "metadata": {},
   "outputs": [
    {
     "data": {
      "text/plain": [
       "(380266,)"
      ]
     },
     "execution_count": 14,
     "metadata": {},
     "output_type": "execute_result"
    }
   ],
   "source": [
    "train_y.shape"
   ]
  },
  {
   "cell_type": "code",
   "execution_count": 15,
   "metadata": {},
   "outputs": [],
   "source": [
    "#print(test_y)"
   ]
  },
  {
   "cell_type": "code",
   "execution_count": 16,
   "metadata": {},
   "outputs": [],
   "source": [
    "train_y=train_y.reshape(train_y.shape[0],1)"
   ]
  },
  {
   "cell_type": "code",
   "execution_count": 17,
   "metadata": {},
   "outputs": [],
   "source": [
    "test_y=test_y.reshape(test_y.shape[0],1)"
   ]
  },
  {
   "cell_type": "code",
   "execution_count": 18,
   "metadata": {},
   "outputs": [],
   "source": [
    "#print(train_X)"
   ]
  },
  {
   "cell_type": "code",
   "execution_count": 19,
   "metadata": {},
   "outputs": [
    {
     "name": "stdout",
     "output_type": "stream",
     "text": [
      "(380266, 4, 15) (380266, 1) (95067, 4, 15) (95067, 1)\n"
     ]
    }
   ],
   "source": [
    "print(train_X.shape, train_y.shape, test_X.shape, test_y.shape)"
   ]
  },
  {
   "cell_type": "code",
   "execution_count": 20,
   "metadata": {},
   "outputs": [],
   "source": [
    "model_gru =  keras.models.Sequential([\n",
    "    keras.layers.GRU(128,return_sequences=True,input_shape=(train_X.shape[1],train_X.shape[2])),#,activation='relu'),\n",
    "    keras.layers.GRU(units=64,return_sequences=True),#,activation='relu'),\n",
    "    keras.layers.GRU(units=32),#,activation='relu'),\n",
    "    keras.layers.Dense(units=50,activation='sigmoid'),\n",
    "    keras.layers.Dense(units=1,activation='sigmoid')\n",
    "                        ])\n",
    "model_gru.compile(loss='binary_crossentropy', optimizer='sgd',metrics=['accuracy'])"
   ]
  },
  {
   "cell_type": "code",
   "execution_count": 21,
   "metadata": {
    "scrolled": true
   },
   "outputs": [
    {
     "name": "stdout",
     "output_type": "stream",
     "text": [
      "Model: \"sequential\"\n",
      "_________________________________________________________________\n",
      " Layer (type)                Output Shape              Param #   \n",
      "=================================================================\n",
      " gru (GRU)                   (None, 4, 128)            55680     \n",
      "                                                                 \n",
      " gru_1 (GRU)                 (None, 4, 64)             37248     \n",
      "                                                                 \n",
      " gru_2 (GRU)                 (None, 32)                9408      \n",
      "                                                                 \n",
      " dense (Dense)               (None, 50)                1650      \n",
      "                                                                 \n",
      " dense_1 (Dense)             (None, 1)                 51        \n",
      "                                                                 \n",
      "=================================================================\n",
      "Total params: 104,037\n",
      "Trainable params: 104,037\n",
      "Non-trainable params: 0\n",
      "_________________________________________________________________\n"
     ]
    }
   ],
   "source": [
    "model_gru.summary()"
   ]
  },
  {
   "cell_type": "code",
   "execution_count": 22,
   "metadata": {},
   "outputs": [],
   "source": [
    " start = t.time()"
   ]
  },
  {
   "cell_type": "code",
   "execution_count": 23,
   "metadata": {},
   "outputs": [
    {
     "name": "stdout",
     "output_type": "stream",
     "text": [
      "Epoch 1/140\n",
      "2971/2971 [==============================] - 52s 15ms/step - loss: 0.5733 - accuracy: 0.7389 - val_loss: 0.5567 - val_accuracy: 0.7531\n",
      "Epoch 2/140\n",
      "2971/2971 [==============================] - 42s 14ms/step - loss: 0.5685 - accuracy: 0.7393 - val_loss: 0.5507 - val_accuracy: 0.7531\n",
      "Epoch 3/140\n",
      "2971/2971 [==============================] - 42s 14ms/step - loss: 0.5546 - accuracy: 0.7393 - val_loss: 0.5308 - val_accuracy: 0.7533\n",
      "Epoch 4/140\n",
      "2971/2971 [==============================] - 43s 14ms/step - loss: 0.5303 - accuracy: 0.7416 - val_loss: 0.5052 - val_accuracy: 0.7540\n",
      "Epoch 5/140\n",
      "2971/2971 [==============================] - 43s 14ms/step - loss: 0.5112 - accuracy: 0.7400 - val_loss: 0.4914 - val_accuracy: 0.7497\n",
      "Epoch 6/140\n",
      "2971/2971 [==============================] - 42s 14ms/step - loss: 0.5026 - accuracy: 0.7371 - val_loss: 0.4852 - val_accuracy: 0.7500\n",
      "Epoch 7/140\n",
      "2971/2971 [==============================] - 42s 14ms/step - loss: 0.4989 - accuracy: 0.7363 - val_loss: 0.4834 - val_accuracy: 0.7473\n",
      "Epoch 8/140\n",
      "2971/2971 [==============================] - 41s 14ms/step - loss: 0.4965 - accuracy: 0.7360 - val_loss: 0.4807 - val_accuracy: 0.7495\n",
      "Epoch 9/140\n",
      "2971/2971 [==============================] - 42s 14ms/step - loss: 0.4948 - accuracy: 0.7367 - val_loss: 0.4798 - val_accuracy: 0.7522\n",
      "Epoch 10/140\n",
      "2971/2971 [==============================] - 42s 14ms/step - loss: 0.4935 - accuracy: 0.7379 - val_loss: 0.4803 - val_accuracy: 0.7532\n",
      "Epoch 11/140\n",
      "2971/2971 [==============================] - 45s 15ms/step - loss: 0.4924 - accuracy: 0.7391 - val_loss: 0.4782 - val_accuracy: 0.7531\n",
      "Epoch 12/140\n",
      "2971/2971 [==============================] - 44s 15ms/step - loss: 0.4915 - accuracy: 0.7393 - val_loss: 0.4782 - val_accuracy: 0.7531\n",
      "Epoch 13/140\n",
      "2971/2971 [==============================] - 42s 14ms/step - loss: 0.4907 - accuracy: 0.7393 - val_loss: 0.4762 - val_accuracy: 0.7531\n",
      "Epoch 14/140\n",
      "2971/2971 [==============================] - 41s 14ms/step - loss: 0.4899 - accuracy: 0.7393 - val_loss: 0.4749 - val_accuracy: 0.7531\n",
      "Epoch 15/140\n",
      "2971/2971 [==============================] - 41s 14ms/step - loss: 0.4889 - accuracy: 0.7393 - val_loss: 0.4765 - val_accuracy: 0.7533\n",
      "Epoch 16/140\n",
      "2971/2971 [==============================] - 42s 14ms/step - loss: 0.4878 - accuracy: 0.7398 - val_loss: 0.4737 - val_accuracy: 0.7533\n",
      "Epoch 17/140\n",
      "2971/2971 [==============================] - 42s 14ms/step - loss: 0.4863 - accuracy: 0.7421 - val_loss: 0.4732 - val_accuracy: 0.7547\n",
      "Epoch 18/140\n",
      "2971/2971 [==============================] - 42s 14ms/step - loss: 0.4846 - accuracy: 0.7450 - val_loss: 0.4736 - val_accuracy: 0.7546\n",
      "Epoch 19/140\n",
      "2971/2971 [==============================] - 42s 14ms/step - loss: 0.4828 - accuracy: 0.7466 - val_loss: 0.4723 - val_accuracy: 0.7525\n",
      "Epoch 20/140\n",
      "2971/2971 [==============================] - 42s 14ms/step - loss: 0.4809 - accuracy: 0.7474 - val_loss: 0.4717 - val_accuracy: 0.7512\n",
      "Epoch 21/140\n",
      "2971/2971 [==============================] - 42s 14ms/step - loss: 0.4789 - accuracy: 0.7478 - val_loss: 0.4705 - val_accuracy: 0.7522\n",
      "Epoch 22/140\n",
      "2971/2971 [==============================] - 42s 14ms/step - loss: 0.4768 - accuracy: 0.7476 - val_loss: 0.4686 - val_accuracy: 0.7530\n",
      "Epoch 23/140\n",
      "2971/2971 [==============================] - 42s 14ms/step - loss: 0.4746 - accuracy: 0.7482 - val_loss: 0.4665 - val_accuracy: 0.7541\n",
      "Epoch 24/140\n",
      "2971/2971 [==============================] - 42s 14ms/step - loss: 0.4725 - accuracy: 0.7494 - val_loss: 0.4661 - val_accuracy: 0.7526\n",
      "Epoch 25/140\n",
      "2971/2971 [==============================] - 42s 14ms/step - loss: 0.4706 - accuracy: 0.7511 - val_loss: 0.4623 - val_accuracy: 0.7567\n",
      "Epoch 26/140\n",
      "2971/2971 [==============================] - 41s 14ms/step - loss: 0.4689 - accuracy: 0.7518 - val_loss: 0.4686 - val_accuracy: 0.7539\n",
      "Epoch 27/140\n",
      "2971/2971 [==============================] - 42s 14ms/step - loss: 0.4674 - accuracy: 0.7531 - val_loss: 0.4591 - val_accuracy: 0.7568\n",
      "Epoch 28/140\n",
      "2971/2971 [==============================] - 41s 14ms/step - loss: 0.4660 - accuracy: 0.7537 - val_loss: 0.4588 - val_accuracy: 0.7567\n",
      "Epoch 29/140\n",
      "2971/2971 [==============================] - 42s 14ms/step - loss: 0.4648 - accuracy: 0.7539 - val_loss: 0.4570 - val_accuracy: 0.7577\n",
      "Epoch 30/140\n",
      "2971/2971 [==============================] - 42s 14ms/step - loss: 0.4637 - accuracy: 0.7541 - val_loss: 0.4549 - val_accuracy: 0.7577\n",
      "Epoch 31/140\n",
      "2971/2971 [==============================] - 42s 14ms/step - loss: 0.4627 - accuracy: 0.7548 - val_loss: 0.4563 - val_accuracy: 0.7573\n",
      "Epoch 32/140\n",
      "2971/2971 [==============================] - 41s 14ms/step - loss: 0.4617 - accuracy: 0.7548 - val_loss: 0.4533 - val_accuracy: 0.7582\n",
      "Epoch 33/140\n",
      "2971/2971 [==============================] - 42s 14ms/step - loss: 0.4608 - accuracy: 0.7554 - val_loss: 0.4524 - val_accuracy: 0.7577\n",
      "Epoch 34/140\n",
      "2971/2971 [==============================] - 41s 14ms/step - loss: 0.4597 - accuracy: 0.7553 - val_loss: 0.4546 - val_accuracy: 0.7571\n",
      "Epoch 35/140\n",
      "2971/2971 [==============================] - 42s 14ms/step - loss: 0.4590 - accuracy: 0.7552 - val_loss: 0.4520 - val_accuracy: 0.7589\n",
      "Epoch 36/140\n",
      "2971/2971 [==============================] - 42s 14ms/step - loss: 0.4584 - accuracy: 0.7557 - val_loss: 0.4515 - val_accuracy: 0.7602\n",
      "Epoch 37/140\n",
      "2971/2971 [==============================] - 42s 14ms/step - loss: 0.4578 - accuracy: 0.7561 - val_loss: 0.4502 - val_accuracy: 0.7591\n",
      "Epoch 38/140\n",
      "2971/2971 [==============================] - 42s 14ms/step - loss: 0.4574 - accuracy: 0.7563 - val_loss: 0.4503 - val_accuracy: 0.7584\n",
      "Epoch 39/140\n",
      "2971/2971 [==============================] - 42s 14ms/step - loss: 0.4570 - accuracy: 0.7563 - val_loss: 0.4524 - val_accuracy: 0.7614\n",
      "Epoch 40/140\n",
      "2971/2971 [==============================] - 42s 14ms/step - loss: 0.4565 - accuracy: 0.7561 - val_loss: 0.4465 - val_accuracy: 0.7616\n",
      "Epoch 41/140\n",
      "2971/2971 [==============================] - 42s 14ms/step - loss: 0.4562 - accuracy: 0.7565 - val_loss: 0.4544 - val_accuracy: 0.7610\n",
      "Epoch 42/140\n",
      "2971/2971 [==============================] - 42s 14ms/step - loss: 0.4557 - accuracy: 0.7567 - val_loss: 0.4480 - val_accuracy: 0.7608\n",
      "Epoch 43/140\n",
      "2971/2971 [==============================] - 42s 14ms/step - loss: 0.4552 - accuracy: 0.7568 - val_loss: 0.4516 - val_accuracy: 0.7608\n",
      "Epoch 44/140\n",
      "2971/2971 [==============================] - 42s 14ms/step - loss: 0.4551 - accuracy: 0.7569 - val_loss: 0.4450 - val_accuracy: 0.7611\n",
      "Epoch 45/140\n",
      "2971/2971 [==============================] - 42s 14ms/step - loss: 0.4547 - accuracy: 0.7571 - val_loss: 0.4460 - val_accuracy: 0.7606\n",
      "Epoch 46/140\n",
      "2971/2971 [==============================] - 42s 14ms/step - loss: 0.4543 - accuracy: 0.7573 - val_loss: 0.4549 - val_accuracy: 0.7628\n",
      "Epoch 47/140\n",
      "2971/2971 [==============================] - 42s 14ms/step - loss: 0.4540 - accuracy: 0.7575 - val_loss: 0.4459 - val_accuracy: 0.7612\n",
      "Epoch 48/140\n",
      "2971/2971 [==============================] - 42s 14ms/step - loss: 0.4537 - accuracy: 0.7576 - val_loss: 0.4521 - val_accuracy: 0.7588\n",
      "Epoch 49/140\n",
      "2971/2971 [==============================] - 42s 14ms/step - loss: 0.4534 - accuracy: 0.7581 - val_loss: 0.4471 - val_accuracy: 0.7619\n",
      "Epoch 50/140\n",
      "2971/2971 [==============================] - 42s 14ms/step - loss: 0.4531 - accuracy: 0.7585 - val_loss: 0.4482 - val_accuracy: 0.7618\n",
      "Epoch 51/140\n",
      "2971/2971 [==============================] - 42s 14ms/step - loss: 0.4529 - accuracy: 0.7586 - val_loss: 0.4468 - val_accuracy: 0.7617\n",
      "Epoch 52/140\n",
      "2971/2971 [==============================] - 42s 14ms/step - loss: 0.4525 - accuracy: 0.7587 - val_loss: 0.4446 - val_accuracy: 0.7632\n",
      "Epoch 53/140\n",
      "2971/2971 [==============================] - 42s 14ms/step - loss: 0.4523 - accuracy: 0.7589 - val_loss: 0.4440 - val_accuracy: 0.7637\n",
      "Epoch 54/140\n",
      "2971/2971 [==============================] - 42s 14ms/step - loss: 0.4521 - accuracy: 0.7595 - val_loss: 0.4425 - val_accuracy: 0.7638\n",
      "Epoch 55/140\n",
      "2971/2971 [==============================] - 42s 14ms/step - loss: 0.4518 - accuracy: 0.7597 - val_loss: 0.4423 - val_accuracy: 0.7641\n",
      "Epoch 56/140\n"
     ]
    },
    {
     "name": "stdout",
     "output_type": "stream",
     "text": [
      "2971/2971 [==============================] - 42s 14ms/step - loss: 0.4516 - accuracy: 0.7598 - val_loss: 0.4424 - val_accuracy: 0.7645\n",
      "Epoch 57/140\n",
      "2971/2971 [==============================] - 42s 14ms/step - loss: 0.4513 - accuracy: 0.7601 - val_loss: 0.4462 - val_accuracy: 0.7622\n",
      "Epoch 58/140\n",
      "2971/2971 [==============================] - 42s 14ms/step - loss: 0.4510 - accuracy: 0.7603 - val_loss: 0.4430 - val_accuracy: 0.7652\n",
      "Epoch 59/140\n",
      "2971/2971 [==============================] - 41s 14ms/step - loss: 0.4508 - accuracy: 0.7606 - val_loss: 0.4414 - val_accuracy: 0.7664\n",
      "Epoch 60/140\n",
      "2971/2971 [==============================] - 41s 14ms/step - loss: 0.4504 - accuracy: 0.7613 - val_loss: 0.4484 - val_accuracy: 0.7666\n",
      "Epoch 61/140\n",
      "2971/2971 [==============================] - 42s 14ms/step - loss: 0.4501 - accuracy: 0.7617 - val_loss: 0.4452 - val_accuracy: 0.7659\n",
      "Epoch 62/140\n",
      "2971/2971 [==============================] - 42s 14ms/step - loss: 0.4498 - accuracy: 0.7616 - val_loss: 0.4484 - val_accuracy: 0.7636\n",
      "Epoch 63/140\n",
      "2971/2971 [==============================] - 42s 14ms/step - loss: 0.4493 - accuracy: 0.7624 - val_loss: 0.4399 - val_accuracy: 0.7671\n",
      "Epoch 64/140\n",
      "2971/2971 [==============================] - 42s 14ms/step - loss: 0.4490 - accuracy: 0.7627 - val_loss: 0.4390 - val_accuracy: 0.7689\n",
      "Epoch 65/140\n",
      "2971/2971 [==============================] - 42s 14ms/step - loss: 0.4487 - accuracy: 0.7632 - val_loss: 0.4394 - val_accuracy: 0.7697\n",
      "Epoch 66/140\n",
      "2971/2971 [==============================] - 41s 14ms/step - loss: 0.4483 - accuracy: 0.7635 - val_loss: 0.4387 - val_accuracy: 0.7696\n",
      "Epoch 67/140\n",
      "2971/2971 [==============================] - 41s 14ms/step - loss: 0.4478 - accuracy: 0.7638 - val_loss: 0.4386 - val_accuracy: 0.7704\n",
      "Epoch 68/140\n",
      "2971/2971 [==============================] - 42s 14ms/step - loss: 0.4474 - accuracy: 0.7648 - val_loss: 0.4390 - val_accuracy: 0.7702\n",
      "Epoch 69/140\n",
      "2971/2971 [==============================] - 42s 14ms/step - loss: 0.4470 - accuracy: 0.7656 - val_loss: 0.4372 - val_accuracy: 0.7718\n",
      "Epoch 70/140\n",
      "2971/2971 [==============================] - 42s 14ms/step - loss: 0.4466 - accuracy: 0.7660 - val_loss: 0.4368 - val_accuracy: 0.7724\n",
      "Epoch 71/140\n",
      "2971/2971 [==============================] - 42s 14ms/step - loss: 0.4463 - accuracy: 0.7665 - val_loss: 0.4360 - val_accuracy: 0.7731\n",
      "Epoch 72/140\n",
      "2971/2971 [==============================] - 42s 14ms/step - loss: 0.4456 - accuracy: 0.7669 - val_loss: 0.4409 - val_accuracy: 0.7720\n",
      "Epoch 73/140\n",
      "2971/2971 [==============================] - 42s 14ms/step - loss: 0.4453 - accuracy: 0.7677 - val_loss: 0.4352 - val_accuracy: 0.7744\n",
      "Epoch 74/140\n",
      "2971/2971 [==============================] - 42s 14ms/step - loss: 0.4448 - accuracy: 0.7682 - val_loss: 0.4353 - val_accuracy: 0.7747\n",
      "Epoch 75/140\n",
      "2971/2971 [==============================] - 41s 14ms/step - loss: 0.4445 - accuracy: 0.7686 - val_loss: 0.4366 - val_accuracy: 0.7746\n",
      "Epoch 76/140\n",
      "2971/2971 [==============================] - 42s 14ms/step - loss: 0.4440 - accuracy: 0.7694 - val_loss: 0.4366 - val_accuracy: 0.7754\n",
      "Epoch 77/140\n",
      "2971/2971 [==============================] - 42s 14ms/step - loss: 0.4435 - accuracy: 0.7700 - val_loss: 0.4379 - val_accuracy: 0.7739\n",
      "Epoch 78/140\n",
      "2971/2971 [==============================] - 42s 14ms/step - loss: 0.4431 - accuracy: 0.7704 - val_loss: 0.4446 - val_accuracy: 0.7695\n",
      "Epoch 79/140\n",
      "2971/2971 [==============================] - 42s 14ms/step - loss: 0.4425 - accuracy: 0.7708 - val_loss: 0.4331 - val_accuracy: 0.7771\n",
      "Epoch 80/140\n",
      "2971/2971 [==============================] - 42s 14ms/step - loss: 0.4422 - accuracy: 0.7715 - val_loss: 0.4376 - val_accuracy: 0.7753\n",
      "Epoch 81/140\n",
      "2971/2971 [==============================] - 42s 14ms/step - loss: 0.4418 - accuracy: 0.7716 - val_loss: 0.4361 - val_accuracy: 0.7759\n",
      "Epoch 82/140\n",
      "2971/2971 [==============================] - 41s 14ms/step - loss: 0.4416 - accuracy: 0.7723 - val_loss: 0.4331 - val_accuracy: 0.7764\n",
      "Epoch 83/140\n",
      "2971/2971 [==============================] - 41s 14ms/step - loss: 0.4413 - accuracy: 0.7723 - val_loss: 0.4329 - val_accuracy: 0.7769\n",
      "Epoch 84/140\n",
      "2971/2971 [==============================] - 42s 14ms/step - loss: 0.4409 - accuracy: 0.7726 - val_loss: 0.4347 - val_accuracy: 0.7764\n",
      "Epoch 85/140\n",
      "2971/2971 [==============================] - 42s 14ms/step - loss: 0.4406 - accuracy: 0.7727 - val_loss: 0.4365 - val_accuracy: 0.7755\n",
      "Epoch 86/140\n",
      "2971/2971 [==============================] - 42s 14ms/step - loss: 0.4404 - accuracy: 0.7728 - val_loss: 0.4398 - val_accuracy: 0.7752\n",
      "Epoch 87/140\n",
      "2971/2971 [==============================] - 46s 15ms/step - loss: 0.4401 - accuracy: 0.7735 - val_loss: 0.4349 - val_accuracy: 0.7764\n",
      "Epoch 88/140\n",
      "2971/2971 [==============================] - 46s 16ms/step - loss: 0.4400 - accuracy: 0.7733 - val_loss: 0.4345 - val_accuracy: 0.7757\n",
      "Epoch 89/140\n",
      "2971/2971 [==============================] - 45s 15ms/step - loss: 0.4398 - accuracy: 0.7736 - val_loss: 0.4330 - val_accuracy: 0.7772\n",
      "Epoch 90/140\n",
      "2971/2971 [==============================] - 45s 15ms/step - loss: 0.4396 - accuracy: 0.7742 - val_loss: 0.4358 - val_accuracy: 0.7761\n",
      "Epoch 91/140\n",
      "2971/2971 [==============================] - 44s 15ms/step - loss: 0.4394 - accuracy: 0.7738 - val_loss: 0.4389 - val_accuracy: 0.7756\n",
      "Epoch 92/140\n",
      "2971/2971 [==============================] - 44s 15ms/step - loss: 0.4392 - accuracy: 0.7744 - val_loss: 0.4400 - val_accuracy: 0.7745\n",
      "Epoch 93/140\n",
      "2971/2971 [==============================] - 45s 15ms/step - loss: 0.4390 - accuracy: 0.7743 - val_loss: 0.4331 - val_accuracy: 0.7767\n",
      "Epoch 94/140\n",
      "2971/2971 [==============================] - 45s 15ms/step - loss: 0.4388 - accuracy: 0.7744 - val_loss: 0.4319 - val_accuracy: 0.7773\n",
      "Epoch 95/140\n",
      "2971/2971 [==============================] - 44s 15ms/step - loss: 0.4386 - accuracy: 0.7743 - val_loss: 0.4338 - val_accuracy: 0.7776\n",
      "Epoch 96/140\n",
      "2971/2971 [==============================] - 45s 15ms/step - loss: 0.4386 - accuracy: 0.7742 - val_loss: 0.4331 - val_accuracy: 0.7769\n",
      "Epoch 97/140\n",
      "2971/2971 [==============================] - 46s 15ms/step - loss: 0.4385 - accuracy: 0.7748 - val_loss: 0.4359 - val_accuracy: 0.7761\n",
      "Epoch 98/140\n",
      "2971/2971 [==============================] - 46s 15ms/step - loss: 0.4383 - accuracy: 0.7746 - val_loss: 0.4308 - val_accuracy: 0.7786\n",
      "Epoch 99/140\n",
      "2971/2971 [==============================] - 46s 15ms/step - loss: 0.4381 - accuracy: 0.7747 - val_loss: 0.4331 - val_accuracy: 0.7770\n",
      "Epoch 100/140\n",
      "2971/2971 [==============================] - 46s 15ms/step - loss: 0.4380 - accuracy: 0.7750 - val_loss: 0.4333 - val_accuracy: 0.7768\n",
      "Epoch 101/140\n",
      "2971/2971 [==============================] - 46s 15ms/step - loss: 0.4378 - accuracy: 0.7749 - val_loss: 0.4313 - val_accuracy: 0.7776\n",
      "Epoch 102/140\n",
      "2971/2971 [==============================] - 46s 15ms/step - loss: 0.4377 - accuracy: 0.7750 - val_loss: 0.4339 - val_accuracy: 0.7765\n",
      "Epoch 103/140\n",
      "2971/2971 [==============================] - 46s 15ms/step - loss: 0.4374 - accuracy: 0.7750 - val_loss: 0.4374 - val_accuracy: 0.7759\n",
      "Epoch 104/140\n",
      "2971/2971 [==============================] - 46s 15ms/step - loss: 0.4373 - accuracy: 0.7748 - val_loss: 0.4308 - val_accuracy: 0.7781\n",
      "Epoch 105/140\n",
      "2971/2971 [==============================] - 46s 15ms/step - loss: 0.4371 - accuracy: 0.7754 - val_loss: 0.4391 - val_accuracy: 0.7727\n",
      "Epoch 106/140\n",
      "2971/2971 [==============================] - 46s 15ms/step - loss: 0.4369 - accuracy: 0.7754 - val_loss: 0.4321 - val_accuracy: 0.7778\n",
      "Epoch 107/140\n",
      "2971/2971 [==============================] - 46s 15ms/step - loss: 0.4367 - accuracy: 0.7756 - val_loss: 0.4294 - val_accuracy: 0.7795\n",
      "Epoch 108/140\n",
      "2971/2971 [==============================] - 46s 15ms/step - loss: 0.4366 - accuracy: 0.7757 - val_loss: 0.4301 - val_accuracy: 0.7789\n",
      "Epoch 109/140\n",
      "2971/2971 [==============================] - 46s 15ms/step - loss: 0.4363 - accuracy: 0.7757 - val_loss: 0.4295 - val_accuracy: 0.7794\n",
      "Epoch 110/140\n",
      "2971/2971 [==============================] - 45s 15ms/step - loss: 0.4361 - accuracy: 0.7762 - val_loss: 0.4317 - val_accuracy: 0.7772\n",
      "Epoch 111/140\n"
     ]
    },
    {
     "name": "stdout",
     "output_type": "stream",
     "text": [
      "2971/2971 [==============================] - 45s 15ms/step - loss: 0.4357 - accuracy: 0.7759 - val_loss: 0.4302 - val_accuracy: 0.7781\n",
      "Epoch 112/140\n",
      "2971/2971 [==============================] - 45s 15ms/step - loss: 0.4356 - accuracy: 0.7763 - val_loss: 0.4297 - val_accuracy: 0.7795\n",
      "Epoch 113/140\n",
      "2971/2971 [==============================] - 45s 15ms/step - loss: 0.4352 - accuracy: 0.7767 - val_loss: 0.4281 - val_accuracy: 0.7799\n",
      "Epoch 114/140\n",
      "2971/2971 [==============================] - 45s 15ms/step - loss: 0.4349 - accuracy: 0.7770 - val_loss: 0.4285 - val_accuracy: 0.7799\n",
      "Epoch 115/140\n",
      "2971/2971 [==============================] - 46s 15ms/step - loss: 0.4346 - accuracy: 0.7776 - val_loss: 0.4295 - val_accuracy: 0.7799\n",
      "Epoch 116/140\n",
      "2971/2971 [==============================] - 46s 15ms/step - loss: 0.4342 - accuracy: 0.7773 - val_loss: 0.4326 - val_accuracy: 0.7774\n",
      "Epoch 117/140\n",
      "2971/2971 [==============================] - 46s 15ms/step - loss: 0.4338 - accuracy: 0.7778 - val_loss: 0.4288 - val_accuracy: 0.7804\n",
      "Epoch 118/140\n",
      "2971/2971 [==============================] - 45s 15ms/step - loss: 0.4336 - accuracy: 0.7777 - val_loss: 0.4273 - val_accuracy: 0.7812\n",
      "Epoch 119/140\n",
      "2971/2971 [==============================] - 46s 15ms/step - loss: 0.4331 - accuracy: 0.7780 - val_loss: 0.4266 - val_accuracy: 0.7814\n",
      "Epoch 120/140\n",
      "2971/2971 [==============================] - 46s 15ms/step - loss: 0.4331 - accuracy: 0.7778 - val_loss: 0.4266 - val_accuracy: 0.7804\n",
      "Epoch 121/140\n",
      "2971/2971 [==============================] - 46s 15ms/step - loss: 0.4327 - accuracy: 0.7784 - val_loss: 0.4425 - val_accuracy: 0.7793\n",
      "Epoch 122/140\n",
      "2971/2971 [==============================] - 45s 15ms/step - loss: 0.4324 - accuracy: 0.7785 - val_loss: 0.4361 - val_accuracy: 0.7783\n",
      "Epoch 123/140\n",
      "2971/2971 [==============================] - 46s 15ms/step - loss: 0.4324 - accuracy: 0.7782 - val_loss: 0.4295 - val_accuracy: 0.7805\n",
      "Epoch 124/140\n",
      "2971/2971 [==============================] - 45s 15ms/step - loss: 0.4322 - accuracy: 0.7788 - val_loss: 0.4284 - val_accuracy: 0.7808\n",
      "Epoch 125/140\n",
      "2971/2971 [==============================] - 46s 15ms/step - loss: 0.4319 - accuracy: 0.7785 - val_loss: 0.4265 - val_accuracy: 0.7821\n",
      "Epoch 126/140\n",
      "2971/2971 [==============================] - 46s 15ms/step - loss: 0.4318 - accuracy: 0.7787 - val_loss: 0.4260 - val_accuracy: 0.7814\n",
      "Epoch 127/140\n",
      "2971/2971 [==============================] - 46s 15ms/step - loss: 0.4316 - accuracy: 0.7786 - val_loss: 0.4276 - val_accuracy: 0.7817\n",
      "Epoch 128/140\n",
      "2971/2971 [==============================] - 44s 15ms/step - loss: 0.4316 - accuracy: 0.7790 - val_loss: 0.4305 - val_accuracy: 0.7814\n",
      "Epoch 129/140\n",
      "2971/2971 [==============================] - 41s 14ms/step - loss: 0.4313 - accuracy: 0.7789 - val_loss: 0.4278 - val_accuracy: 0.7817\n",
      "Epoch 130/140\n",
      "2971/2971 [==============================] - 41s 14ms/step - loss: 0.4311 - accuracy: 0.7788 - val_loss: 0.4296 - val_accuracy: 0.7810\n",
      "Epoch 131/140\n",
      "2971/2971 [==============================] - 41s 14ms/step - loss: 0.4310 - accuracy: 0.7790 - val_loss: 0.4245 - val_accuracy: 0.7825\n",
      "Epoch 132/140\n",
      "2971/2971 [==============================] - 42s 14ms/step - loss: 0.4309 - accuracy: 0.7789 - val_loss: 0.4267 - val_accuracy: 0.7811\n",
      "Epoch 133/140\n",
      "2971/2971 [==============================] - 42s 14ms/step - loss: 0.4309 - accuracy: 0.7792 - val_loss: 0.4285 - val_accuracy: 0.7819\n",
      "Epoch 134/140\n",
      "2971/2971 [==============================] - 42s 14ms/step - loss: 0.4306 - accuracy: 0.7791 - val_loss: 0.4257 - val_accuracy: 0.7821\n",
      "Epoch 135/140\n",
      "2971/2971 [==============================] - 42s 14ms/step - loss: 0.4306 - accuracy: 0.7792 - val_loss: 0.4280 - val_accuracy: 0.7825\n",
      "Epoch 136/140\n",
      "2971/2971 [==============================] - 42s 14ms/step - loss: 0.4305 - accuracy: 0.7795 - val_loss: 0.4273 - val_accuracy: 0.7807\n",
      "Epoch 137/140\n",
      "2971/2971 [==============================] - 42s 14ms/step - loss: 0.4303 - accuracy: 0.7792 - val_loss: 0.4242 - val_accuracy: 0.7825\n",
      "Epoch 138/140\n",
      "2971/2971 [==============================] - 41s 14ms/step - loss: 0.4301 - accuracy: 0.7791 - val_loss: 0.4246 - val_accuracy: 0.7824\n",
      "Epoch 139/140\n",
      "2971/2971 [==============================] - 42s 14ms/step - loss: 0.4299 - accuracy: 0.7795 - val_loss: 0.4290 - val_accuracy: 0.7818\n",
      "Epoch 140/140\n",
      "2971/2971 [==============================] - 41s 14ms/step - loss: 0.4301 - accuracy: 0.7792 - val_loss: 0.4293 - val_accuracy: 0.7821\n"
     ]
    }
   ],
   "source": [
    "# fit network\n",
    "gru_history = model_gru.fit(train_X, train_y, epochs=140,validation_data=(test_X, test_y), batch_size=128)#, shuffle=False)"
   ]
  },
  {
   "cell_type": "code",
   "execution_count": 24,
   "metadata": {},
   "outputs": [
    {
     "name": "stdout",
     "output_type": "stream",
     "text": [
      "2971/2971 [==============================] - 15s 5ms/step\n"
     ]
    }
   ],
   "source": [
    "pred_y =  model_gru.predict(test_X)"
   ]
  },
  {
   "cell_type": "code",
   "execution_count": 25,
   "metadata": {},
   "outputs": [
    {
     "name": "stdout",
     "output_type": "stream",
     "text": [
      "6033.730400323868\n"
     ]
    }
   ],
   "source": [
    "stop=t.time()-start\n",
    "print(stop)"
   ]
  },
  {
   "cell_type": "code",
   "execution_count": 26,
   "metadata": {},
   "outputs": [
    {
     "data": {
      "image/png": "[encoded data removed]",
      "text/plain": [
       "<Figure size 640x480 with 1 Axes>"
      ]
     },
     "metadata": {},
     "output_type": "display_data"
    }
   ],
   "source": [
    "plt.plot(gru_history.history['loss'], label='GRU train', color='brown')\n",
    "plt.plot(gru_history.history['val_loss'], label='GRU test', color='blue')\n",
    "plt.legend()\n",
    "plt.show()"
   ]
  },
  {
   "cell_type": "code",
   "execution_count": 27,
   "metadata": {},
   "outputs": [
    {
     "name": "stdout",
     "output_type": "stream",
     "text": [
      "[[0.]\n",
      " [0.]\n",
      " [0.]\n",
      " ...\n",
      " [0.]\n",
      " [0.]\n",
      " [0.]]\n"
     ]
    }
   ],
   "source": [
    "print(test_y)"
   ]
  },
  {
   "cell_type": "code",
   "execution_count": 28,
   "metadata": {},
   "outputs": [
    {
     "data": {
      "text/plain": [
       "(95067, 1)"
      ]
     },
     "execution_count": 28,
     "metadata": {},
     "output_type": "execute_result"
    }
   ],
   "source": [
    "np.shape(pred_y)"
   ]
  },
  {
   "cell_type": "code",
   "execution_count": 29,
   "metadata": {},
   "outputs": [
    {
     "data": {
      "text/plain": [
       "array([[0.0006809 ],\n",
       "       [0.00072745],\n",
       "       [0.00495993],\n",
       "       ...,\n",
       "       [0.04581675],\n",
       "       [0.04655174],\n",
       "       [0.04706467]], dtype=float32)"
      ]
     },
     "execution_count": 29,
     "metadata": {},
     "output_type": "execute_result"
    }
   ],
   "source": [
    "pred_y"
   ]
  },
  {
   "cell_type": "code",
   "execution_count": 30,
   "metadata": {},
   "outputs": [
    {
     "ename": "ValueError",
     "evalue": "cannot reshape array of size 95067 into shape (95065,)",
     "output_type": "error",
     "traceback": [
      "\u001b[1;31m---------------------------------------------------------------------------\u001b[0m",
      "\u001b[1;31mValueError\u001b[0m                                Traceback (most recent call last)",
      "\u001b[1;32m~\\AppData\\Local\\Temp\\ipykernel_15980\\1654465998.py\u001b[0m in \u001b[0;36m<module>\u001b[1;34m\u001b[0m\n\u001b[1;32m----> 1\u001b[1;33m \u001b[0mpred_y\u001b[0m\u001b[1;33m=\u001b[0m\u001b[0mnp\u001b[0m\u001b[1;33m.\u001b[0m\u001b[0mreshape\u001b[0m\u001b[1;33m(\u001b[0m\u001b[0mpred_y\u001b[0m\u001b[1;33m,\u001b[0m\u001b[1;36m95065\u001b[0m\u001b[1;33m)\u001b[0m\u001b[1;33m\u001b[0m\u001b[1;33m\u001b[0m\u001b[0m\n\u001b[0m",
      "\u001b[1;32m<__array_function__ internals>\u001b[0m in \u001b[0;36mreshape\u001b[1;34m(*args, **kwargs)\u001b[0m\n",
      "\u001b[1;32m~\\anaconda3\\lib\\site-packages\\numpy\\core\\fromnumeric.py\u001b[0m in \u001b[0;36mreshape\u001b[1;34m(a, newshape, order)\u001b[0m\n\u001b[0;32m    296\u001b[0m            [5, 6]])\n\u001b[0;32m    297\u001b[0m     \"\"\"\n\u001b[1;32m--> 298\u001b[1;33m     \u001b[1;32mreturn\u001b[0m \u001b[0m_wrapfunc\u001b[0m\u001b[1;33m(\u001b[0m\u001b[0ma\u001b[0m\u001b[1;33m,\u001b[0m \u001b[1;34m'reshape'\u001b[0m\u001b[1;33m,\u001b[0m \u001b[0mnewshape\u001b[0m\u001b[1;33m,\u001b[0m \u001b[0morder\u001b[0m\u001b[1;33m=\u001b[0m\u001b[0morder\u001b[0m\u001b[1;33m)\u001b[0m\u001b[1;33m\u001b[0m\u001b[1;33m\u001b[0m\u001b[0m\n\u001b[0m\u001b[0;32m    299\u001b[0m \u001b[1;33m\u001b[0m\u001b[0m\n\u001b[0;32m    300\u001b[0m \u001b[1;33m\u001b[0m\u001b[0m\n",
      "\u001b[1;32m~\\anaconda3\\lib\\site-packages\\numpy\\core\\fromnumeric.py\u001b[0m in \u001b[0;36m_wrapfunc\u001b[1;34m(obj, method, *args, **kwds)\u001b[0m\n\u001b[0;32m     55\u001b[0m \u001b[1;33m\u001b[0m\u001b[0m\n\u001b[0;32m     56\u001b[0m     \u001b[1;32mtry\u001b[0m\u001b[1;33m:\u001b[0m\u001b[1;33m\u001b[0m\u001b[1;33m\u001b[0m\u001b[0m\n\u001b[1;32m---> 57\u001b[1;33m         \u001b[1;32mreturn\u001b[0m \u001b[0mbound\u001b[0m\u001b[1;33m(\u001b[0m\u001b[1;33m*\u001b[0m\u001b[0margs\u001b[0m\u001b[1;33m,\u001b[0m \u001b[1;33m**\u001b[0m\u001b[0mkwds\u001b[0m\u001b[1;33m)\u001b[0m\u001b[1;33m\u001b[0m\u001b[1;33m\u001b[0m\u001b[0m\n\u001b[0m\u001b[0;32m     58\u001b[0m     \u001b[1;32mexcept\u001b[0m \u001b[0mTypeError\u001b[0m\u001b[1;33m:\u001b[0m\u001b[1;33m\u001b[0m\u001b[1;33m\u001b[0m\u001b[0m\n\u001b[0;32m     59\u001b[0m         \u001b[1;31m# A TypeError occurs if the object does have such a method in its\u001b[0m\u001b[1;33m\u001b[0m\u001b[1;33m\u001b[0m\u001b[0m\n",
      "\u001b[1;31mValueError\u001b[0m: cannot reshape array of size 95067 into shape (95065,)"
     ]
    }
   ],
   "source": [
    "pred_y=np.reshape(pred_y,95065)"
   ]
  },
  {
   "cell_type": "code",
   "execution_count": null,
   "metadata": {},
   "outputs": [],
   "source": [
    "\n",
    "plt.rcParams['figure.figsize'] = (15,5)\n",
    "\n",
    "MSE = mean_squared_error(test_y, pred_y)\n",
    "R2 = r2_score(test_y, pred_y)\n",
    "RMSE = sqrt(mean_squared_error(test_y, pred_y))\n",
    "MAE = mean_absolute_error(test_y, pred_y)\n",
    "\n",
    "\n",
    "print(MSE)\n",
    "print(R2)\n",
    "print(RMSE)\n",
    "print(MAE)\n",
    "\n",
    "\n",
    "plt.plot(test_y, label = 'Actual')\n",
    "plt.plot(pred_y, label = 'Predicted')\n",
    "plt.legend()\n",
    "plt.show()"
   ]
  },
  {
   "cell_type": "code",
   "execution_count": null,
   "metadata": {},
   "outputs": [],
   "source": [
    "np.shape(train_X)"
   ]
  },
  {
   "cell_type": "code",
   "execution_count": null,
   "metadata": {},
   "outputs": [],
   "source": [
    "np.shape(train_y)"
   ]
  },
  {
   "cell_type": "code",
   "execution_count": null,
   "metadata": {},
   "outputs": [],
   "source": [
    "np.shape(test_X)"
   ]
  },
  {
   "cell_type": "code",
   "execution_count": null,
   "metadata": {},
   "outputs": [],
   "source": [
    "np.shape(test_y)"
   ]
  },
  {
   "cell_type": "code",
   "execution_count": null,
   "metadata": {},
   "outputs": [],
   "source": [
    "tra = np.concatenate([train_X,test_X])\n",
    "tes = np.concatenate([train_y,test_y])\n",
    "fp = model_gru.predict(tra)\n",
    "plt.plot(tes, label = 'Actual')\n",
    "plt.plot(fp, label = 'Predicted')\n",
    "plt.legend()\n",
    "plt.show()"
   ]
  },
  {
   "cell_type": "code",
   "execution_count": null,
   "metadata": {},
   "outputs": [],
   "source": [
    "plt.plot(tes[:2000], label = 'Actual')\n",
    "plt.plot(fp[:2000], label = 'Predicted')\n",
    "plt.legend()\n",
    "plt.show()"
   ]
  },
  {
   "cell_type": "code",
   "execution_count": null,
   "metadata": {},
   "outputs": [],
   "source": [
    "print(sum(tes)/len(tes))"
   ]
  },
  {
   "cell_type": "code",
   "execution_count": null,
   "metadata": {},
   "outputs": [],
   "source": [
    "#print(fp[1000:1010])\n",
    "_fp = np.where(fp>0.5,1,0)\n",
    "_all = sum(_fp)\n",
    "_w = (_fp*tes)\n",
    "print(sum(_w)/_all)\n",
    "      \n",
    "_all_z = sum(1-_fp)      \n",
    "_w_z = (1-_fp)*(1-tes)\n",
    "print(sum(_w_z)/_all_z)\n",
    "print('total acc', (sum(_w)+sum(_w_z))/len(_w))"
   ]
  },
  {
   "cell_type": "code",
   "execution_count": null,
   "metadata": {},
   "outputs": [],
   "source": [
    "plt.plot(tes[:8000], label = 'Actual')\n",
    "plt.plot(fp[:8000], label = 'Predicted')\n",
    "plt.legend()\n",
    "plt.show()"
   ]
  },
  {
   "cell_type": "code",
   "execution_count": null,
   "metadata": {},
   "outputs": [],
   "source": [
    "#over very small part of data\n",
    "plt.plot(tes[2000:2020], label = 'Actual')\n",
    "plt.plot(fp[2000:2020], label = 'Predicted')\n",
    "plt.legend()\n",
    "plt.show()"
   ]
  },
  {
   "cell_type": "code",
   "execution_count": null,
   "metadata": {},
   "outputs": [],
   "source": [
    "plt.plot(tes[:50], label = 'Actual')\n",
    "plt.plot(fp[:50], label = 'Predicted')\n",
    "plt.legend()\n",
    "plt.show()"
   ]
  },
  {
   "cell_type": "code",
   "execution_count": null,
   "metadata": {},
   "outputs": [],
   "source": [
    "plt.plot(tes[:5], label = 'Actual')\n",
    "plt.plot(fp[:5], label = 'Predicted')\n",
    "plt.legend()\n",
    "plt.show()"
   ]
  },
  {
   "cell_type": "code",
   "execution_count": null,
   "metadata": {},
   "outputs": [],
   "source": []
  },
  {
   "cell_type": "code",
   "execution_count": null,
   "metadata": {},
   "outputs": [],
   "source": []
  },
  {
   "cell_type": "code",
   "execution_count": null,
   "metadata": {},
   "outputs": [],
   "source": []
  },
  {
   "cell_type": "code",
   "execution_count": null,
   "metadata": {},
   "outputs": [],
   "source": []
  },
  {
   "cell_type": "code",
   "execution_count": null,
   "metadata": {},
   "outputs": [],
   "source": []
  }
 ],
 "metadata": {
  "kernelspec": {
   "display_name": "Python 3 (ipykernel)",
   "language": "python",
   "name": "python3"
  },
  "language_info": {
   "codemirror_mode": {
    "name": "ipython",
    "version": 3
   },
   "file_extension": ".py",
   "mimetype": "text/x-python",
   "name": "python",
   "nbconvert_exporter": "python",
   "pygments_lexer": "ipython3",
   "version": "3.9.13"
  }
 },
 "nbformat": 4,
 "nbformat_minor": 2
}
