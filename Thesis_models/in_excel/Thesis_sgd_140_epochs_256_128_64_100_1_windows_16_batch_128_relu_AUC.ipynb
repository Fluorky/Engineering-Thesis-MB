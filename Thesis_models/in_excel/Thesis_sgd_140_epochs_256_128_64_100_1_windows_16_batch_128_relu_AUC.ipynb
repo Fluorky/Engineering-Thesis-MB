{
 "cells": [
  {
   "cell_type": "code",
   "execution_count": 1,
   "metadata": {},
   "outputs": [
    {
     "name": "stderr",
     "output_type": "stream",
     "text": [
      "2023-01-09 22:34:19.301157: W tensorflow/compiler/xla/stream_executor/platform/default/dso_loader.cc:64] Could not load dynamic library 'libcudart.so.11.0'; dlerror: libcudart.so.11.0: cannot open shared object file: No such file or directory\n",
      "2023-01-09 22:34:19.301265: I tensorflow/compiler/xla/stream_executor/cuda/cudart_stub.cc:29] Ignore above cudart dlerror if you do not have a GPU set up on your machine.\n",
      "2023-01-09 22:34:21.113952: W tensorflow/compiler/xla/stream_executor/platform/default/dso_loader.cc:64] Could not load dynamic library 'libnvinfer.so.7'; dlerror: libnvinfer.so.7: cannot open shared object file: No such file or directory\n",
      "2023-01-09 22:34:21.114051: W tensorflow/compiler/xla/stream_executor/platform/default/dso_loader.cc:64] Could not load dynamic library 'libnvinfer_plugin.so.7'; dlerror: libnvinfer_plugin.so.7: cannot open shared object file: No such file or directory\n",
      "2023-01-09 22:34:21.114061: W tensorflow/compiler/tf2tensorrt/utils/py_utils.cc:38] TF-TRT Warning: Cannot dlopen some TensorRT libraries. If you would like to use Nvidia GPU with TensorRT, please make sure the missing libraries mentioned above are installed properly.\n"
     ]
    }
   ],
   "source": [
    "import pandas as pd\n",
    "import numpy as np\n",
    "import matplotlib.pyplot as plt\n",
    "from math import sqrt\n",
    "from numpy import concatenate\n",
    "from pandas import *\n",
    "from sklearn.preprocessing import *\n",
    "from sklearn.metrics import *\n",
    "from tensorflow import keras\n",
    "import tensorflow as tf\n",
    "import time as t"
   ]
  },
  {
   "cell_type": "code",
   "execution_count": 2,
   "metadata": {},
   "outputs": [],
   "source": [
    "w=16"
   ]
  },
  {
   "cell_type": "code",
   "execution_count": 3,
   "metadata": {},
   "outputs": [],
   "source": [
    "#print(dataFromSensors)\n",
    "dataFromSensors=np.load(\"DataWithLabels/dataFromSensors_\"+str(w)+\".npy\")"
   ]
  },
  {
   "cell_type": "code",
   "execution_count": 4,
   "metadata": {},
   "outputs": [
    {
     "name": "stdout",
     "output_type": "stream",
     "text": [
      "class:  ndarray\n",
      "shape:  (475321, 16, 16)\n",
      "strides:  (2048, 128, 8)\n",
      "itemsize:  8\n",
      "aligned:  True\n",
      "contiguous:  True\n",
      "fortran:  False\n",
      "data pointer: 0x7f5897bd7010\n",
      "byteorder:  little\n",
      "byteswap:  False\n",
      "type: float64\n"
     ]
    }
   ],
   "source": [
    "np.info(dataFromSensors)"
   ]
  },
  {
   "cell_type": "code",
   "execution_count": 5,
   "metadata": {},
   "outputs": [],
   "source": [
    "labels=np.load(\"DataWithLabels/labels_\"+str(w)+\".npy\")"
   ]
  },
  {
   "cell_type": "code",
   "execution_count": 6,
   "metadata": {},
   "outputs": [
    {
     "name": "stdout",
     "output_type": "stream",
     "text": [
      "class:  ndarray\n",
      "shape:  (475321,)\n",
      "strides:  (8,)\n",
      "itemsize:  8\n",
      "aligned:  True\n",
      "contiguous:  True\n",
      "fortran:  True\n",
      "data pointer: 0x7f5897836010\n",
      "byteorder:  little\n",
      "byteswap:  False\n",
      "type: float64\n"
     ]
    }
   ],
   "source": [
    "np.info(labels)"
   ]
  },
  {
   "cell_type": "code",
   "execution_count": 7,
   "metadata": {},
   "outputs": [],
   "source": [
    "#values = reframed_df.values\n",
    "#training_sample =int( len(dataset) *0.8)\n",
    "training_sample_labels =int( len(labels) *0.8)\n",
    "training_sample =int( len(dataFromSensors) *0.8)\n",
    "#testDataset=DataFrame.to_numpy(dataset)\n",
    "#testDataset=DataFrame.to_numpy(reframed_df)"
   ]
  },
  {
   "cell_type": "code",
   "execution_count": 8,
   "metadata": {},
   "outputs": [
    {
     "data": {
      "text/plain": [
       "380256"
      ]
     },
     "execution_count": 8,
     "metadata": {},
     "output_type": "execute_result"
    }
   ],
   "source": [
    "training_sample_labels"
   ]
  },
  {
   "cell_type": "code",
   "execution_count": 9,
   "metadata": {},
   "outputs": [
    {
     "data": {
      "text/plain": [
       "380256"
      ]
     },
     "execution_count": 9,
     "metadata": {},
     "output_type": "execute_result"
    }
   ],
   "source": [
    "training_sample"
   ]
  },
  {
   "cell_type": "code",
   "execution_count": 10,
   "metadata": {},
   "outputs": [],
   "source": [
    "train_labels = labels[:training_sample]\n",
    "train = dataFromSensors[:training_sample, : ,:]\n",
    "test_labels = labels[training_sample:]\n",
    "test = dataFromSensors[training_sample:, : , :]\n",
    "# split into input and outputs\n",
    "#train_X, train_y = train[:,:, 1:], train[:,:,0]\n",
    "#test_X, test_y = test[:,:, 1:], test[:,:,0]\n",
    "train_X, train_y = train[:,:, 1:], train_labels[:]\n",
    "test_X, test_y = test[:,:, 1:], test_labels[:]"
   ]
  },
  {
   "cell_type": "code",
   "execution_count": 11,
   "metadata": {},
   "outputs": [
    {
     "data": {
      "text/plain": [
       "(380256, 16, 15)"
      ]
     },
     "execution_count": 11,
     "metadata": {},
     "output_type": "execute_result"
    }
   ],
   "source": [
    "train_X.shape"
   ]
  },
  {
   "cell_type": "code",
   "execution_count": 12,
   "metadata": {},
   "outputs": [
    {
     "data": {
      "text/plain": [
       "array([0., 0., 0., ..., 0., 0., 0.])"
      ]
     },
     "execution_count": 12,
     "metadata": {},
     "output_type": "execute_result"
    }
   ],
   "source": [
    "train_y"
   ]
  },
  {
   "cell_type": "code",
   "execution_count": 13,
   "metadata": {},
   "outputs": [
    {
     "data": {
      "text/plain": [
       "(380256,)"
      ]
     },
     "execution_count": 13,
     "metadata": {},
     "output_type": "execute_result"
    }
   ],
   "source": [
    "train_y.shape"
   ]
  },
  {
   "cell_type": "code",
   "execution_count": 14,
   "metadata": {},
   "outputs": [],
   "source": [
    "train_y=train_y.reshape(train_y.shape[0],1)"
   ]
  },
  {
   "cell_type": "code",
   "execution_count": 15,
   "metadata": {},
   "outputs": [],
   "source": [
    "test_y=test_y.reshape(test_y.shape[0],1)"
   ]
  },
  {
   "cell_type": "code",
   "execution_count": 16,
   "metadata": {},
   "outputs": [],
   "source": [
    "#print(train_X)"
   ]
  },
  {
   "cell_type": "code",
   "execution_count": 17,
   "metadata": {},
   "outputs": [
    {
     "name": "stdout",
     "output_type": "stream",
     "text": [
      "(380256, 16, 15) (380256, 1) (95065, 16, 15) (95065, 1)\n"
     ]
    }
   ],
   "source": [
    "print(train_X.shape, train_y.shape, test_X.shape, test_y.shape)"
   ]
  },
  {
   "cell_type": "code",
   "execution_count": 18,
   "metadata": {},
   "outputs": [
    {
     "name": "stderr",
     "output_type": "stream",
     "text": [
      "2023-01-09 22:34:25.049846: W tensorflow/compiler/xla/stream_executor/platform/default/dso_loader.cc:64] Could not load dynamic library 'libcuda.so.1'; dlerror: libcuda.so.1: cannot open shared object file: No such file or directory\n",
      "2023-01-09 22:34:25.050382: W tensorflow/compiler/xla/stream_executor/cuda/cuda_driver.cc:265] failed call to cuInit: UNKNOWN ERROR (303)\n",
      "2023-01-09 22:34:25.050411: I tensorflow/compiler/xla/stream_executor/cuda/cuda_diagnostics.cc:156] kernel driver does not appear to be running on this host (server-OptiPlex-7010): /proc/driver/nvidia/version does not exist\n"
     ]
    }
   ],
   "source": [
    "model_gru =  keras.models.Sequential([\n",
    "  \n",
    "    keras.layers.GRU(256,return_sequences=True,input_shape=(train_X.shape[1],train_X.shape[2]),activation='relu'),\n",
    "    keras.layers.GRU(units=128,return_sequences=True,activation='relu'),\n",
    "    keras.layers.GRU(units=64,activation='relu'),\n",
    "    keras.layers.Dense(units=100,activation='sigmoid'),\n",
    "    keras.layers.Dense(units=1,activation='sigmoid')\n",
    "                        ])\n",
    "model_gru.compile(loss='binary_crossentropy', optimizer='sgd',metrics=['AUC'])"
   ]
  },
  {
   "cell_type": "code",
   "execution_count": 19,
   "metadata": {},
   "outputs": [
    {
     "name": "stdout",
     "output_type": "stream",
     "text": [
      "Model: \"sequential\"\n",
      "_________________________________________________________________\n",
      " Layer (type)                Output Shape              Param #   \n",
      "=================================================================\n",
      " gru (GRU)                   (None, 16, 256)           209664    \n",
      "                                                                 \n",
      " gru_1 (GRU)                 (None, 16, 128)           148224    \n",
      "                                                                 \n",
      " gru_2 (GRU)                 (None, 64)                37248     \n",
      "                                                                 \n",
      " dense (Dense)               (None, 100)               6500      \n",
      "                                                                 \n",
      " dense_1 (Dense)             (None, 1)                 101       \n",
      "                                                                 \n",
      "=================================================================\n",
      "Total params: 401,737\n",
      "Trainable params: 401,737\n",
      "Non-trainable params: 0\n",
      "_________________________________________________________________\n"
     ]
    }
   ],
   "source": [
    "model_gru.summary()"
   ]
  },
  {
   "cell_type": "code",
   "execution_count": 20,
   "metadata": {},
   "outputs": [],
   "source": [
    " start = t.time()"
   ]
  },
  {
   "cell_type": "code",
   "execution_count": 21,
   "metadata": {
    "scrolled": true
   },
   "outputs": [
    {
     "name": "stdout",
     "output_type": "stream",
     "text": [
      "Epoch 1/140\n"
     ]
    },
    {
     "name": "stderr",
     "output_type": "stream",
     "text": [
      "2023-01-09 22:34:25.726249: W tensorflow/tsl/framework/cpu_allocator_impl.cc:82] Allocation of 365045760 exceeds 10% of free system memory.\n"
     ]
    },
    {
     "name": "stdout",
     "output_type": "stream",
     "text": [
      "2971/2971 [==============================] - 417s 138ms/step - loss: 0.5739 - auc: 0.5304 - val_loss: 0.5585 - val_auc: 0.5747\n",
      "Epoch 2/140\n",
      "2971/2971 [==============================] - 345s 116ms/step - loss: 0.5708 - auc: 0.5947 - val_loss: 0.5546 - val_auc: 0.6636\n",
      "Epoch 3/140\n",
      "2971/2971 [==============================] - 316s 106ms/step - loss: 0.5598 - auc: 0.6576 - val_loss: 0.5327 - val_auc: 0.6891\n",
      "Epoch 4/140\n",
      "2971/2971 [==============================] - 317s 107ms/step - loss: 0.5259 - auc: 0.7043 - val_loss: 0.4954 - val_auc: 0.7291\n",
      "Epoch 5/140\n",
      "2971/2971 [==============================] - 317s 107ms/step - loss: 0.5044 - auc: 0.7315 - val_loss: 0.4881 - val_auc: 0.7378\n",
      "Epoch 6/140\n",
      "2971/2971 [==============================] - 317s 107ms/step - loss: 0.4980 - auc: 0.7385 - val_loss: 0.4813 - val_auc: 0.7430\n",
      "Epoch 7/140\n",
      "2971/2971 [==============================] - 316s 106ms/step - loss: 0.4918 - auc: 0.7484 - val_loss: 0.4809 - val_auc: 0.7480\n",
      "Epoch 8/140\n",
      "2971/2971 [==============================] - 316s 106ms/step - loss: 0.4854 - auc: 0.7587 - val_loss: 0.4746 - val_auc: 0.7557\n",
      "Epoch 9/140\n",
      "2971/2971 [==============================] - 316s 106ms/step - loss: 0.4793 - auc: 0.7681 - val_loss: 0.4684 - val_auc: 0.7643\n",
      "Epoch 10/140\n",
      "2971/2971 [==============================] - 316s 106ms/step - loss: 0.4742 - auc: 0.7752 - val_loss: 0.4670 - val_auc: 0.7713\n",
      "Epoch 11/140\n",
      "2971/2971 [==============================] - 316s 106ms/step - loss: 0.4699 - auc: 0.7810 - val_loss: 0.4600 - val_auc: 0.7805\n",
      "Epoch 12/140\n",
      "2971/2971 [==============================] - 316s 106ms/step - loss: 0.4663 - auc: 0.7855 - val_loss: 0.4564 - val_auc: 0.7836\n",
      "Epoch 13/140\n",
      "2971/2971 [==============================] - 315s 106ms/step - loss: 0.4631 - auc: 0.7893 - val_loss: 0.4654 - val_auc: 0.7853\n",
      "Epoch 14/140\n",
      "2971/2971 [==============================] - 316s 106ms/step - loss: 0.4605 - auc: 0.7923 - val_loss: 0.4715 - val_auc: 0.7873\n",
      "Epoch 15/140\n",
      "2971/2971 [==============================] - 317s 107ms/step - loss: 0.4580 - auc: 0.7953 - val_loss: 0.4485 - val_auc: 0.7946\n",
      "Epoch 16/140\n",
      "2971/2971 [==============================] - 316s 106ms/step - loss: 0.4559 - auc: 0.7976 - val_loss: 0.4465 - val_auc: 0.7953\n",
      "Epoch 17/140\n",
      "2971/2971 [==============================] - 316s 106ms/step - loss: 0.4540 - auc: 0.7999 - val_loss: 0.4570 - val_auc: 0.7965\n",
      "Epoch 18/140\n",
      "2971/2971 [==============================] - 317s 107ms/step - loss: 0.4523 - auc: 0.8018 - val_loss: 0.4444 - val_auc: 0.8002\n",
      "Epoch 19/140\n",
      "2971/2971 [==============================] - 317s 107ms/step - loss: 0.4507 - auc: 0.8035 - val_loss: 0.4415 - val_auc: 0.8007\n",
      "Epoch 20/140\n",
      "2971/2971 [==============================] - 316s 106ms/step - loss: 0.4495 - auc: 0.8049 - val_loss: 0.4431 - val_auc: 0.8027\n",
      "Epoch 21/140\n",
      "2971/2971 [==============================] - 316s 106ms/step - loss: 0.4483 - auc: 0.8060 - val_loss: 0.4448 - val_auc: 0.8011\n",
      "Epoch 22/140\n",
      "2971/2971 [==============================] - 317s 107ms/step - loss: 0.4471 - auc: 0.8075 - val_loss: 0.4603 - val_auc: 0.8033\n",
      "Epoch 23/140\n",
      "2971/2971 [==============================] - 317s 107ms/step - loss: 0.4458 - auc: 0.8088 - val_loss: 0.4392 - val_auc: 0.8046\n",
      "Epoch 24/140\n",
      "2971/2971 [==============================] - 316s 106ms/step - loss: 0.4449 - auc: 0.8099 - val_loss: 0.4407 - val_auc: 0.8024\n",
      "Epoch 25/140\n",
      "2971/2971 [==============================] - 317s 107ms/step - loss: 0.4437 - auc: 0.8112 - val_loss: 0.4355 - val_auc: 0.8080\n",
      "Epoch 26/140\n",
      "2971/2971 [==============================] - 317s 107ms/step - loss: 0.4427 - auc: 0.8122 - val_loss: 0.4704 - val_auc: 0.8051\n",
      "Epoch 27/140\n",
      "2971/2971 [==============================] - 316s 106ms/step - loss: 0.4421 - auc: 0.8129 - val_loss: 0.4360 - val_auc: 0.8075\n",
      "Epoch 28/140\n",
      "2971/2971 [==============================] - 317s 107ms/step - loss: 0.4413 - auc: 0.8137 - val_loss: 0.4368 - val_auc: 0.8084\n",
      "Epoch 29/140\n",
      "2971/2971 [==============================] - 317s 107ms/step - loss: 0.4404 - auc: 0.8147 - val_loss: 0.4337 - val_auc: 0.8105\n",
      "Epoch 30/140\n",
      "2971/2971 [==============================] - 317s 107ms/step - loss: 0.4397 - auc: 0.8153 - val_loss: 0.4338 - val_auc: 0.8102\n",
      "Epoch 31/140\n",
      "2971/2971 [==============================] - 317s 107ms/step - loss: 0.4388 - auc: 0.8164 - val_loss: 0.4350 - val_auc: 0.8109\n",
      "Epoch 32/140\n",
      "2971/2971 [==============================] - 317s 107ms/step - loss: 0.4381 - auc: 0.8170 - val_loss: 0.4594 - val_auc: 0.8047\n",
      "Epoch 33/140\n",
      "2971/2971 [==============================] - 317s 107ms/step - loss: 0.4373 - auc: 0.8179 - val_loss: 0.4349 - val_auc: 0.8093\n",
      "Epoch 34/140\n",
      "2971/2971 [==============================] - 317s 107ms/step - loss: 0.4365 - auc: 0.8187 - val_loss: 0.4329 - val_auc: 0.8113\n",
      "Epoch 35/140\n",
      "2971/2971 [==============================] - 317s 107ms/step - loss: 0.4360 - auc: 0.8191 - val_loss: 0.4347 - val_auc: 0.8119\n",
      "Epoch 36/140\n",
      "2971/2971 [==============================] - 316s 107ms/step - loss: 0.4355 - auc: 0.8196 - val_loss: 0.4437 - val_auc: 0.8135\n",
      "Epoch 37/140\n",
      "2971/2971 [==============================] - 317s 107ms/step - loss: 0.4348 - auc: 0.8204 - val_loss: 0.4327 - val_auc: 0.8133\n",
      "Epoch 38/140\n",
      "2971/2971 [==============================] - 317s 107ms/step - loss: 0.4342 - auc: 0.8209 - val_loss: 0.4441 - val_auc: 0.8145\n",
      "Epoch 39/140\n",
      "2971/2971 [==============================] - 317s 107ms/step - loss: 0.4334 - auc: 0.8217 - val_loss: 0.4419 - val_auc: 0.8150\n",
      "Epoch 40/140\n",
      "2971/2971 [==============================] - 317s 107ms/step - loss: 0.4332 - auc: 0.8219 - val_loss: 0.4317 - val_auc: 0.8127\n",
      "Epoch 41/140\n",
      "2971/2971 [==============================] - 317s 107ms/step - loss: 0.4327 - auc: 0.8225 - val_loss: 0.4291 - val_auc: 0.8146\n",
      "Epoch 42/140\n",
      "2971/2971 [==============================] - 317s 107ms/step - loss: 0.4322 - auc: 0.8230 - val_loss: 0.4305 - val_auc: 0.8155\n",
      "Epoch 43/140\n",
      "2971/2971 [==============================] - 317s 107ms/step - loss: 0.4319 - auc: 0.8234 - val_loss: 0.4302 - val_auc: 0.8154\n",
      "Epoch 44/140\n",
      "2971/2971 [==============================] - 317s 107ms/step - loss: 0.4316 - auc: 0.8236 - val_loss: 0.4342 - val_auc: 0.8111\n",
      "Epoch 45/140\n",
      "2971/2971 [==============================] - 317s 107ms/step - loss: 0.4307 - auc: 0.8245 - val_loss: 0.4292 - val_auc: 0.8157\n",
      "Epoch 46/140\n",
      "2971/2971 [==============================] - 317s 107ms/step - loss: 0.4307 - auc: 0.8244 - val_loss: 0.4319 - val_auc: 0.8141\n",
      "Epoch 47/140\n",
      "2971/2971 [==============================] - 317s 107ms/step - loss: 0.4304 - auc: 0.8248 - val_loss: 0.4285 - val_auc: 0.8164\n",
      "Epoch 48/140\n",
      "2971/2971 [==============================] - 316s 106ms/step - loss: 0.4297 - auc: 0.8255 - val_loss: 0.4295 - val_auc: 0.8165\n",
      "Epoch 49/140\n",
      "2971/2971 [==============================] - 317s 107ms/step - loss: 0.4296 - auc: 0.8255 - val_loss: 0.4294 - val_auc: 0.8170\n",
      "Epoch 50/140\n",
      "2971/2971 [==============================] - 317s 107ms/step - loss: 0.4291 - auc: 0.8260 - val_loss: 0.4268 - val_auc: 0.8176\n",
      "Epoch 51/140\n",
      "2971/2971 [==============================] - 317s 107ms/step - loss: 0.4287 - auc: 0.8264 - val_loss: 0.4347 - val_auc: 0.8152\n",
      "Epoch 52/140\n",
      "2971/2971 [==============================] - 317s 107ms/step - loss: 0.4287 - auc: 0.8264 - val_loss: 0.4281 - val_auc: 0.8166\n",
      "Epoch 53/140\n",
      "2971/2971 [==============================] - 317s 107ms/step - loss: 0.4284 - auc: 0.8267 - val_loss: 0.4323 - val_auc: 0.8154\n",
      "Epoch 54/140\n",
      "2971/2971 [==============================] - 317s 107ms/step - loss: 0.4278 - auc: 0.8272 - val_loss: 0.4659 - val_auc: 0.8120\n",
      "Epoch 55/140\n",
      "2971/2971 [==============================] - 317s 107ms/step - loss: 0.4277 - auc: 0.8274 - val_loss: 0.4282 - val_auc: 0.8152\n",
      "Epoch 56/140\n",
      "2971/2971 [==============================] - 318s 107ms/step - loss: 0.4277 - auc: 0.8274 - val_loss: 0.4262 - val_auc: 0.8180\n",
      "Epoch 57/140\n",
      "2971/2971 [==============================] - 317s 107ms/step - loss: 0.4272 - auc: 0.8279 - val_loss: 0.4310 - val_auc: 0.8144\n",
      "Epoch 58/140\n",
      "2971/2971 [==============================] - 316s 107ms/step - loss: 0.4270 - auc: 0.8281 - val_loss: 0.4351 - val_auc: 0.8143\n",
      "Epoch 59/140\n"
     ]
    },
    {
     "name": "stdout",
     "output_type": "stream",
     "text": [
      "2971/2971 [==============================] - 311s 105ms/step - loss: 0.4268 - auc: 0.8283 - val_loss: 0.4317 - val_auc: 0.8174\n",
      "Epoch 60/140\n",
      "2971/2971 [==============================] - 311s 105ms/step - loss: 0.4264 - auc: 0.8287 - val_loss: 0.4333 - val_auc: 0.8177\n",
      "Epoch 61/140\n",
      "2971/2971 [==============================] - 311s 105ms/step - loss: 0.4263 - auc: 0.8288 - val_loss: 0.4273 - val_auc: 0.8169\n",
      "Epoch 62/140\n",
      "2971/2971 [==============================] - 312s 105ms/step - loss: 0.4260 - auc: 0.8290 - val_loss: 0.4271 - val_auc: 0.8173\n",
      "Epoch 63/140\n",
      "2971/2971 [==============================] - 311s 105ms/step - loss: 0.4259 - auc: 0.8292 - val_loss: 0.4310 - val_auc: 0.8170\n",
      "Epoch 64/140\n",
      "2971/2971 [==============================] - 311s 105ms/step - loss: 0.4256 - auc: 0.8295 - val_loss: 0.4248 - val_auc: 0.8192\n",
      "Epoch 65/140\n",
      "2971/2971 [==============================] - 311s 105ms/step - loss: 0.4254 - auc: 0.8296 - val_loss: 0.4311 - val_auc: 0.8147\n",
      "Epoch 66/140\n",
      "2971/2971 [==============================] - 311s 105ms/step - loss: 0.4253 - auc: 0.8297 - val_loss: 0.4286 - val_auc: 0.8170\n",
      "Epoch 67/140\n",
      "2971/2971 [==============================] - 311s 105ms/step - loss: 0.4251 - auc: 0.8300 - val_loss: 0.4289 - val_auc: 0.8165\n",
      "Epoch 68/140\n",
      "2971/2971 [==============================] - 311s 105ms/step - loss: 0.4247 - auc: 0.8302 - val_loss: 0.4343 - val_auc: 0.8114\n",
      "Epoch 69/140\n",
      "2971/2971 [==============================] - 311s 105ms/step - loss: 0.4246 - auc: 0.8303 - val_loss: 0.4305 - val_auc: 0.8152\n",
      "Epoch 70/140\n",
      "2971/2971 [==============================] - 311s 105ms/step - loss: 0.4243 - auc: 0.8307 - val_loss: 0.4278 - val_auc: 0.8190\n",
      "Epoch 71/140\n",
      "2971/2971 [==============================] - 311s 105ms/step - loss: 0.4241 - auc: 0.8308 - val_loss: 0.4359 - val_auc: 0.8098\n",
      "Epoch 72/140\n",
      "2971/2971 [==============================] - 311s 105ms/step - loss: 0.4239 - auc: 0.8310 - val_loss: 0.4276 - val_auc: 0.8177\n",
      "Epoch 73/140\n",
      "2971/2971 [==============================] - 311s 105ms/step - loss: 0.4237 - auc: 0.8312 - val_loss: 0.4276 - val_auc: 0.8168\n",
      "Epoch 74/140\n",
      "2971/2971 [==============================] - 311s 105ms/step - loss: 0.4234 - auc: 0.8315 - val_loss: 0.4293 - val_auc: 0.8177\n",
      "Epoch 75/140\n",
      "2971/2971 [==============================] - 311s 105ms/step - loss: 0.4233 - auc: 0.8316 - val_loss: 0.4292 - val_auc: 0.8164\n",
      "Epoch 76/140\n",
      "2971/2971 [==============================] - 312s 105ms/step - loss: 0.4232 - auc: 0.8317 - val_loss: 0.4282 - val_auc: 0.8163\n",
      "Epoch 77/140\n",
      "2971/2971 [==============================] - 312s 105ms/step - loss: 0.4228 - auc: 0.8321 - val_loss: 0.4344 - val_auc: 0.8131\n",
      "Epoch 78/140\n",
      "2971/2971 [==============================] - 311s 105ms/step - loss: 0.4227 - auc: 0.8322 - val_loss: 0.4269 - val_auc: 0.8162\n",
      "Epoch 79/140\n",
      "2971/2971 [==============================] - 311s 105ms/step - loss: 0.4226 - auc: 0.8322 - val_loss: 0.4397 - val_auc: 0.8151\n",
      "Epoch 80/140\n",
      "2971/2971 [==============================] - 312s 105ms/step - loss: 0.4224 - auc: 0.8325 - val_loss: 0.4263 - val_auc: 0.8187\n",
      "Epoch 81/140\n",
      "2971/2971 [==============================] - 312s 105ms/step - loss: 0.4221 - auc: 0.8327 - val_loss: 0.4260 - val_auc: 0.8189\n",
      "Epoch 82/140\n",
      "2971/2971 [==============================] - 312s 105ms/step - loss: 0.4219 - auc: 0.8329 - val_loss: 0.4282 - val_auc: 0.8164\n",
      "Epoch 83/140\n",
      "2971/2971 [==============================] - 312s 105ms/step - loss: 0.4218 - auc: 0.8330 - val_loss: 0.4272 - val_auc: 0.8178\n",
      "Epoch 84/140\n",
      "2971/2971 [==============================] - 312s 105ms/step - loss: 0.4217 - auc: 0.8330 - val_loss: 0.4279 - val_auc: 0.8170\n",
      "Epoch 85/140\n",
      "2971/2971 [==============================] - 312s 105ms/step - loss: 0.4217 - auc: 0.8332 - val_loss: 0.4302 - val_auc: 0.8168\n",
      "Epoch 86/140\n",
      "2971/2971 [==============================] - 312s 105ms/step - loss: 0.4213 - auc: 0.8335 - val_loss: 0.4324 - val_auc: 0.8177\n",
      "Epoch 87/140\n",
      "2971/2971 [==============================] - 312s 105ms/step - loss: 0.4210 - auc: 0.8337 - val_loss: 0.4301 - val_auc: 0.8178\n",
      "Epoch 88/140\n",
      "2971/2971 [==============================] - 312s 105ms/step - loss: 0.4208 - auc: 0.8341 - val_loss: 0.4270 - val_auc: 0.8177\n",
      "Epoch 89/140\n",
      "2971/2971 [==============================] - 311s 105ms/step - loss: 0.4207 - auc: 0.8340 - val_loss: 0.4299 - val_auc: 0.8170\n",
      "Epoch 90/140\n",
      "2971/2971 [==============================] - 312s 105ms/step - loss: 0.4206 - auc: 0.8341 - val_loss: 0.4423 - val_auc: 0.8089\n",
      "Epoch 91/140\n",
      "2971/2971 [==============================] - 312s 105ms/step - loss: 0.4206 - auc: 0.8343 - val_loss: 0.4283 - val_auc: 0.8180\n",
      "Epoch 92/140\n",
      "2971/2971 [==============================] - 311s 105ms/step - loss: 0.4202 - auc: 0.8346 - val_loss: 0.4247 - val_auc: 0.8197\n",
      "Epoch 93/140\n",
      "2971/2971 [==============================] - 312s 105ms/step - loss: 0.4201 - auc: 0.8346 - val_loss: 0.4290 - val_auc: 0.8161\n",
      "Epoch 94/140\n",
      "2971/2971 [==============================] - 312s 105ms/step - loss: 0.4198 - auc: 0.8350 - val_loss: 0.4338 - val_auc: 0.8143\n",
      "Epoch 95/140\n",
      "2971/2971 [==============================] - 312s 105ms/step - loss: 0.4197 - auc: 0.8351 - val_loss: 0.4270 - val_auc: 0.8195\n",
      "Epoch 96/140\n",
      "2971/2971 [==============================] - 313s 106ms/step - loss: 0.4195 - auc: 0.8353 - val_loss: 0.4297 - val_auc: 0.8181\n",
      "Epoch 97/140\n",
      "2971/2971 [==============================] - 312s 105ms/step - loss: 0.4193 - auc: 0.8355 - val_loss: 0.4292 - val_auc: 0.8163\n",
      "Epoch 98/140\n",
      "2971/2971 [==============================] - 312s 105ms/step - loss: 0.4193 - auc: 0.8354 - val_loss: 0.4261 - val_auc: 0.8177\n",
      "Epoch 99/140\n",
      "2971/2971 [==============================] - 313s 105ms/step - loss: 0.4191 - auc: 0.8357 - val_loss: 0.4278 - val_auc: 0.8204\n",
      "Epoch 100/140\n",
      "2971/2971 [==============================] - 312s 105ms/step - loss: 0.4192 - auc: 0.8356 - val_loss: 0.4272 - val_auc: 0.8174\n",
      "Epoch 101/140\n",
      "2971/2971 [==============================] - 312s 105ms/step - loss: 0.4188 - auc: 0.8359 - val_loss: 0.4260 - val_auc: 0.8192\n",
      "Epoch 102/140\n",
      "2971/2971 [==============================] - 312s 105ms/step - loss: 0.4185 - auc: 0.8362 - val_loss: 0.4298 - val_auc: 0.8170\n",
      "Epoch 103/140\n",
      "2971/2971 [==============================] - 312s 105ms/step - loss: 0.4184 - auc: 0.8363 - val_loss: 0.4262 - val_auc: 0.8198\n",
      "Epoch 104/140\n",
      "2971/2971 [==============================] - 312s 105ms/step - loss: 0.4183 - auc: 0.8365 - val_loss: 0.4294 - val_auc: 0.8167\n",
      "Epoch 105/140\n",
      "2971/2971 [==============================] - 312s 105ms/step - loss: 0.4182 - auc: 0.8365 - val_loss: 0.4288 - val_auc: 0.8161\n",
      "Epoch 106/140\n",
      "2971/2971 [==============================] - 312s 105ms/step - loss: 0.4182 - auc: 0.8364 - val_loss: 0.4250 - val_auc: 0.8187\n",
      "Epoch 107/140\n",
      "2971/2971 [==============================] - 312s 105ms/step - loss: 0.4179 - auc: 0.8368 - val_loss: 0.4270 - val_auc: 0.8194\n",
      "Epoch 108/140\n",
      "2971/2971 [==============================] - 312s 105ms/step - loss: 0.4178 - auc: 0.8370 - val_loss: 0.4301 - val_auc: 0.8189\n",
      "Epoch 109/140\n",
      "2971/2971 [==============================] - 312s 105ms/step - loss: 0.4176 - auc: 0.8370 - val_loss: 0.4310 - val_auc: 0.8182\n",
      "Epoch 110/140\n",
      "2971/2971 [==============================] - 312s 105ms/step - loss: 0.4176 - auc: 0.8371 - val_loss: 0.4294 - val_auc: 0.8159\n",
      "Epoch 111/140\n",
      "2971/2971 [==============================] - 313s 105ms/step - loss: 0.4174 - auc: 0.8372 - val_loss: 0.4276 - val_auc: 0.8177\n",
      "Epoch 112/140\n",
      "2971/2971 [==============================] - 312s 105ms/step - loss: 0.4172 - auc: 0.8374 - val_loss: 0.4349 - val_auc: 0.8199\n",
      "Epoch 113/140\n",
      "2971/2971 [==============================] - 312s 105ms/step - loss: 0.4169 - auc: 0.8378 - val_loss: 0.4266 - val_auc: 0.8172\n",
      "Epoch 114/140\n",
      "2971/2971 [==============================] - 313s 105ms/step - loss: 0.4171 - auc: 0.8374 - val_loss: 0.4233 - val_auc: 0.8208\n",
      "Epoch 115/140\n",
      "2971/2971 [==============================] - 312s 105ms/step - loss: 0.4167 - auc: 0.8380 - val_loss: 0.4311 - val_auc: 0.8175\n",
      "Epoch 116/140\n",
      "2971/2971 [==============================] - 313s 105ms/step - loss: 0.4164 - auc: 0.8381 - val_loss: 0.4411 - val_auc: 0.8127\n",
      "Epoch 117/140\n"
     ]
    },
    {
     "name": "stdout",
     "output_type": "stream",
     "text": [
      "2971/2971 [==============================] - 313s 105ms/step - loss: 0.4164 - auc: 0.8382 - val_loss: 0.4319 - val_auc: 0.8169\n",
      "Epoch 118/140\n",
      "2971/2971 [==============================] - 311s 105ms/step - loss: 0.4162 - auc: 0.8383 - val_loss: 0.4282 - val_auc: 0.8190\n",
      "Epoch 119/140\n",
      "2971/2971 [==============================] - 311s 105ms/step - loss: 0.4161 - auc: 0.8384 - val_loss: 0.4265 - val_auc: 0.8189\n",
      "Epoch 120/140\n",
      "2971/2971 [==============================] - 311s 105ms/step - loss: 0.4159 - auc: 0.8386 - val_loss: 0.4277 - val_auc: 0.8171\n",
      "Epoch 121/140\n",
      "2971/2971 [==============================] - 311s 105ms/step - loss: 0.4156 - auc: 0.8390 - val_loss: 0.4280 - val_auc: 0.8189\n",
      "Epoch 122/140\n",
      "2971/2971 [==============================] - 311s 105ms/step - loss: 0.4156 - auc: 0.8388 - val_loss: 0.4356 - val_auc: 0.8192\n",
      "Epoch 123/140\n",
      "2971/2971 [==============================] - 311s 105ms/step - loss: 0.4156 - auc: 0.8390 - val_loss: 0.4267 - val_auc: 0.8165\n",
      "Epoch 124/140\n",
      "2971/2971 [==============================] - 311s 105ms/step - loss: 0.4156 - auc: 0.8389 - val_loss: 0.4237 - val_auc: 0.8215\n",
      "Epoch 125/140\n",
      "2971/2971 [==============================] - 311s 105ms/step - loss: 0.4152 - auc: 0.8393 - val_loss: 0.4297 - val_auc: 0.8178\n",
      "Epoch 126/140\n",
      "2971/2971 [==============================] - 312s 105ms/step - loss: 0.4152 - auc: 0.8393 - val_loss: 0.4293 - val_auc: 0.8188\n",
      "Epoch 127/140\n",
      "2971/2971 [==============================] - 311s 105ms/step - loss: 0.4151 - auc: 0.8394 - val_loss: 0.4303 - val_auc: 0.8166\n",
      "Epoch 128/140\n",
      "2971/2971 [==============================] - 311s 105ms/step - loss: 0.4147 - auc: 0.8397 - val_loss: 0.4261 - val_auc: 0.8184\n",
      "Epoch 129/140\n",
      "2971/2971 [==============================] - 311s 105ms/step - loss: 0.4148 - auc: 0.8396 - val_loss: 0.4263 - val_auc: 0.8205\n",
      "Epoch 130/140\n",
      "2971/2971 [==============================] - 312s 105ms/step - loss: 0.4147 - auc: 0.8398 - val_loss: 0.4257 - val_auc: 0.8217\n",
      "Epoch 131/140\n",
      "2971/2971 [==============================] - 312s 105ms/step - loss: 0.4146 - auc: 0.8398 - val_loss: 0.4283 - val_auc: 0.8186\n",
      "Epoch 132/140\n",
      "2971/2971 [==============================] - 311s 105ms/step - loss: 0.4144 - auc: 0.8400 - val_loss: 0.4287 - val_auc: 0.8189\n",
      "Epoch 133/140\n",
      "2971/2971 [==============================] - 311s 105ms/step - loss: 0.4144 - auc: 0.8401 - val_loss: 0.4292 - val_auc: 0.8176\n",
      "Epoch 134/140\n",
      "2971/2971 [==============================] - 311s 105ms/step - loss: 0.4142 - auc: 0.8402 - val_loss: 0.4294 - val_auc: 0.8185\n",
      "Epoch 135/140\n",
      "2971/2971 [==============================] - 311s 105ms/step - loss: 0.4140 - auc: 0.8404 - val_loss: 0.4320 - val_auc: 0.8165\n",
      "Epoch 136/140\n",
      "2971/2971 [==============================] - 311s 105ms/step - loss: 0.4139 - auc: 0.8406 - val_loss: 0.4268 - val_auc: 0.8193\n",
      "Epoch 137/140\n",
      "2971/2971 [==============================] - 311s 105ms/step - loss: 0.4140 - auc: 0.8404 - val_loss: 0.4369 - val_auc: 0.8107\n",
      "Epoch 138/140\n",
      "2971/2971 [==============================] - 311s 105ms/step - loss: 0.4138 - auc: 0.8406 - val_loss: 0.4308 - val_auc: 0.8184\n",
      "Epoch 139/140\n",
      "2971/2971 [==============================] - 311s 105ms/step - loss: 0.4136 - auc: 0.8408 - val_loss: 0.4290 - val_auc: 0.8185\n",
      "Epoch 140/140\n",
      "2971/2971 [==============================] - 311s 105ms/step - loss: 0.4135 - auc: 0.8409 - val_loss: 0.4246 - val_auc: 0.8198\n"
     ]
    }
   ],
   "source": [
    "# fit network\n",
    "gru_history = model_gru.fit(train_X, train_y, epochs=140,validation_data=(test_X, test_y), batch_size=128)#, shuffle=False)"
   ]
  },
  {
   "cell_type": "code",
   "execution_count": 22,
   "metadata": {},
   "outputs": [
    {
     "name": "stdout",
     "output_type": "stream",
     "text": [
      "2971/2971 [==============================] - 48s 16ms/step\n"
     ]
    }
   ],
   "source": [
    "pred_y =  model_gru.predict(test_X)"
   ]
  },
  {
   "cell_type": "code",
   "execution_count": 23,
   "metadata": {},
   "outputs": [
    {
     "name": "stdout",
     "output_type": "stream",
     "text": [
      "44097.14756464958\n"
     ]
    }
   ],
   "source": [
    "stop=t.time()-start\n",
    "print(stop)"
   ]
  },
  {
   "cell_type": "code",
   "execution_count": 24,
   "metadata": {},
   "outputs": [
    {
     "data": {
      "image/png": "[encoded data removed]",
      "text/plain": [
       "<Figure size 640x480 with 1 Axes>"
      ]
     },
     "metadata": {},
     "output_type": "display_data"
    }
   ],
   "source": [
    "#dont run this cell if you are running this cell than add \"validation_data=(test_X, test_y)\" in model_gru.fit()\n",
    "plt.plot(gru_history.history['loss'], label='GRU train', color='brown')\n",
    "plt.plot(gru_history.history['val_loss'], label='GRU test', color='blue')\n",
    "plt.legend()\n",
    "plt.show()"
   ]
  },
  {
   "cell_type": "code",
   "execution_count": 25,
   "metadata": {},
   "outputs": [
    {
     "name": "stdout",
     "output_type": "stream",
     "text": [
      "[[0.]\n",
      " [0.]\n",
      " [0.]\n",
      " ...\n",
      " [0.]\n",
      " [0.]\n",
      " [0.]]\n"
     ]
    }
   ],
   "source": [
    "#test_y.reshape(8086,1)\n",
    "#test_y.reshape(2627,1)\n",
    "#test_y=test_y[:, :1]\n",
    "\n",
    "#train_y=test_y[:, :1]\n",
    "print(test_y)"
   ]
  },
  {
   "cell_type": "code",
   "execution_count": 26,
   "metadata": {},
   "outputs": [
    {
     "data": {
      "text/plain": [
       "(95065, 1)"
      ]
     },
     "execution_count": 26,
     "metadata": {},
     "output_type": "execute_result"
    }
   ],
   "source": [
    "np.shape(pred_y)"
   ]
  },
  {
   "cell_type": "code",
   "execution_count": 27,
   "metadata": {},
   "outputs": [
    {
     "data": {
      "text/plain": [
       "array([[0.00166682],\n",
       "       [0.00186129],\n",
       "       [0.00062279],\n",
       "       ...,\n",
       "       [0.05122888],\n",
       "       [0.0543668 ],\n",
       "       [0.05672927]], dtype=float32)"
      ]
     },
     "execution_count": 27,
     "metadata": {},
     "output_type": "execute_result"
    }
   ],
   "source": [
    "pred_y"
   ]
  },
  {
   "cell_type": "code",
   "execution_count": 29,
   "metadata": {},
   "outputs": [],
   "source": [
    "#pred_y=np.reshape(pred_y,8068)\n",
    "pred_y=np.reshape(pred_y,95065)"
   ]
  },
  {
   "cell_type": "code",
   "execution_count": 30,
   "metadata": {},
   "outputs": [
    {
     "name": "stdout",
     "output_type": "stream",
     "text": [
      "0.14214263963621876\n",
      "0.23564469447121528\n",
      "0.3770180892692269\n",
      "0.2766244799196843\n"
     ]
    }
   ],
   "source": [
    "\n",
    "#plt.rcParams['figure.figsize'] = (15,5)\n",
    "\n",
    "MSE = mean_squared_error(test_y, pred_y)\n",
    "R2 = r2_score(test_y, pred_y)\n",
    "RMSE = sqrt(mean_squared_error(test_y, pred_y))\n",
    "MAE = mean_absolute_error(test_y, pred_y)\n",
    "\n",
    "\n",
    "print(MSE)\n",
    "print(R2)\n",
    "print(RMSE)\n",
    "print(MAE)\n",
    "\n",
    "#plotting predicted test value vs actual test value\n",
    "#plt.plot(test_y, label = 'Actual')\n",
    "#plt.plot(pred_y, label = 'Predicted')\n",
    "#plt.legend()\n",
    "#plt.show()"
   ]
  },
  {
   "cell_type": "code",
   "execution_count": 31,
   "metadata": {},
   "outputs": [
    {
     "data": {
      "text/plain": [
       "(380256, 16, 15)"
      ]
     },
     "execution_count": 31,
     "metadata": {},
     "output_type": "execute_result"
    }
   ],
   "source": [
    "np.shape(train_X)"
   ]
  },
  {
   "cell_type": "code",
   "execution_count": 32,
   "metadata": {},
   "outputs": [
    {
     "data": {
      "text/plain": [
       "(380256, 1)"
      ]
     },
     "execution_count": 32,
     "metadata": {},
     "output_type": "execute_result"
    }
   ],
   "source": [
    "np.shape(train_y)"
   ]
  },
  {
   "cell_type": "code",
   "execution_count": 33,
   "metadata": {},
   "outputs": [
    {
     "data": {
      "text/plain": [
       "(95065, 16, 15)"
      ]
     },
     "execution_count": 33,
     "metadata": {},
     "output_type": "execute_result"
    }
   ],
   "source": [
    "np.shape(test_X)"
   ]
  },
  {
   "cell_type": "code",
   "execution_count": 34,
   "metadata": {},
   "outputs": [
    {
     "data": {
      "text/plain": [
       "(95065, 1)"
      ]
     },
     "execution_count": 34,
     "metadata": {},
     "output_type": "execute_result"
    }
   ],
   "source": [
    "np.shape(test_y)"
   ]
  },
  {
   "cell_type": "code",
   "execution_count": 35,
   "metadata": {},
   "outputs": [
    {
     "name": "stdout",
     "output_type": "stream",
     "text": [
      "\r",
      "    1/14854 [..............................] - ETA: 12:44"
     ]
    },
    {
     "name": "stderr",
     "output_type": "stream",
     "text": [
      "2023-01-11 12:59:11.620646: W tensorflow/tsl/framework/cpu_allocator_impl.cc:82] Allocation of 456308160 exceeds 10% of free system memory.\n"
     ]
    },
    {
     "name": "stdout",
     "output_type": "stream",
     "text": [
      "14854/14854 [==============================] - 240s 16ms/step\n"
     ]
    }
   ],
   "source": [
    "#visualization over full data\n",
    "tra = np.concatenate([train_X,test_X])\n",
    "tes = np.concatenate([train_y,test_y])\n",
    "fp = model_gru.predict(tra)\n",
    "#plt.plot(tes, label = 'Actual')\n",
    "#plt.plot(fp, label = 'Predicted')\n",
    "#plt.legend()\n",
    "#plt.show()"
   ]
  },
  {
   "cell_type": "code",
   "execution_count": 36,
   "metadata": {},
   "outputs": [],
   "source": [
    "#over small part of data\n",
    "#plt.plot(tes, label = 'Actual')\n",
    "#plt.plot(fp[:2000], label = 'Predicted')\n",
    "#plt.legend()\n",
    "#plt.show()"
   ]
  },
  {
   "cell_type": "code",
   "execution_count": 37,
   "metadata": {},
   "outputs": [
    {
     "name": "stdout",
     "output_type": "stream",
     "text": [
      "[0.25794568]\n"
     ]
    }
   ],
   "source": [
    "print(sum(tes)/len(tes))"
   ]
  },
  {
   "cell_type": "code",
   "execution_count": 38,
   "metadata": {},
   "outputs": [
    {
     "name": "stdout",
     "output_type": "stream",
     "text": [
      "[0.63401997]\n",
      "[0.81783023]\n",
      "total acc [0.78700499]\n"
     ]
    }
   ],
   "source": [
    "#print(fp[1000:1010])\n",
    "_fp = np.where(fp>0.5,1,0)\n",
    "_all = sum(_fp)\n",
    "_w = (_fp*tes)\n",
    "print(sum(_w)/_all)\n",
    "      \n",
    "_all_z = sum(1-_fp)      \n",
    "_w_z = (1-_fp)*(1-tes)\n",
    "print(sum(_w_z)/_all_z)\n",
    "print('total acc', (sum(_w)+sum(_w_z))/len(_w))"
   ]
  },
  {
   "cell_type": "code",
   "execution_count": 39,
   "metadata": {},
   "outputs": [],
   "source": [
    "#plt.plot(tes[:8000], label = 'Actual')\n",
    "#plt.plot(fp[:8000], label = 'Predicted')\n",
    "#plt.legend()\n",
    "#plt.show()"
   ]
  },
  {
   "cell_type": "code",
   "execution_count": 40,
   "metadata": {},
   "outputs": [
    {
     "data": {
      "image/png": "[encoded data removed]",
      "text/plain": [
       "<Figure size 640x480 with 1 Axes>"
      ]
     },
     "metadata": {},
     "output_type": "display_data"
    }
   ],
   "source": [
    "#over very small part of data\n",
    "plt.plot(tes[2000:2020], label = 'Actual')\n",
    "plt.plot(fp[2000:2020], label = 'Predicted')\n",
    "plt.legend()\n",
    "plt.show()"
   ]
  },
  {
   "cell_type": "code",
   "execution_count": 41,
   "metadata": {},
   "outputs": [
    {
     "data": {
      "image/png": "[encoded data removed]",
      "text/plain": [
       "<Figure size 640x480 with 1 Axes>"
      ]
     },
     "metadata": {},
     "output_type": "display_data"
    }
   ],
   "source": [
    "plt.plot(tes[:50], label = 'Actual')\n",
    "plt.plot(fp[:50], label = 'Predicted')\n",
    "plt.legend()\n",
    "plt.show()"
   ]
  },
  {
   "cell_type": "code",
   "execution_count": 42,
   "metadata": {},
   "outputs": [
    {
     "data": {
      "image/png": "[encoded data removed]",
      "text/plain": [
       "<Figure size 640x480 with 1 Axes>"
      ]
     },
     "metadata": {},
     "output_type": "display_data"
    }
   ],
   "source": [
    "plt.plot(tes[:5], label = 'Actual')\n",
    "plt.plot(fp[:5], label = 'Predicted')\n",
    "plt.legend()\n",
    "plt.show()"
   ]
  },
  {
   "cell_type": "code",
   "execution_count": null,
   "metadata": {},
   "outputs": [],
   "source": []
  },
  {
   "cell_type": "code",
   "execution_count": null,
   "metadata": {},
   "outputs": [],
   "source": []
  }
 ],
 "metadata": {
  "kernelspec": {
   "display_name": "Python 3 (ipykernel)",
   "language": "python",
   "name": "python3"
  },
  "language_info": {
   "codemirror_mode": {
    "name": "ipython",
    "version": 3
   },
   "file_extension": ".py",
   "mimetype": "text/x-python",
   "name": "python",
   "nbconvert_exporter": "python",
   "pygments_lexer": "ipython3",
   "version": "3.8.10"
  }
 },
 "nbformat": 4,
 "nbformat_minor": 2
}
