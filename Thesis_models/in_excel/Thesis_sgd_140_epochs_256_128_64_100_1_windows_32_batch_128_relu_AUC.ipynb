{
 "cells": [
  {
   "cell_type": "code",
   "execution_count": 1,
   "metadata": {},
   "outputs": [
    {
     "name": "stderr",
     "output_type": "stream",
     "text": [
      "2023-01-05 08:27:02.984935: W tensorflow/compiler/xla/stream_executor/platform/default/dso_loader.cc:64] Could not load dynamic library 'libcudart.so.11.0'; dlerror: libcudart.so.11.0: cannot open shared object file: No such file or directory\n",
      "2023-01-05 08:27:02.984967: I tensorflow/compiler/xla/stream_executor/cuda/cudart_stub.cc:29] Ignore above cudart dlerror if you do not have a GPU set up on your machine.\n",
      "2023-01-05 08:27:04.626395: W tensorflow/compiler/xla/stream_executor/platform/default/dso_loader.cc:64] Could not load dynamic library 'libnvinfer.so.7'; dlerror: libnvinfer.so.7: cannot open shared object file: No such file or directory\n",
      "2023-01-05 08:27:04.626754: W tensorflow/compiler/xla/stream_executor/platform/default/dso_loader.cc:64] Could not load dynamic library 'libnvinfer_plugin.so.7'; dlerror: libnvinfer_plugin.so.7: cannot open shared object file: No such file or directory\n",
      "2023-01-05 08:27:04.626768: W tensorflow/compiler/tf2tensorrt/utils/py_utils.cc:38] TF-TRT Warning: Cannot dlopen some TensorRT libraries. If you would like to use Nvidia GPU with TensorRT, please make sure the missing libraries mentioned above are installed properly.\n"
     ]
    }
   ],
   "source": [
    "import pandas as pd\n",
    "import numpy as np\n",
    "import matplotlib.pyplot as plt\n",
    "from math import sqrt\n",
    "from numpy import concatenate\n",
    "from pandas import *\n",
    "from sklearn.preprocessing import *\n",
    "from sklearn.metrics import *\n",
    "from tensorflow import keras\n",
    "import tensorflow as tf\n",
    "import time as t"
   ]
  },
  {
   "cell_type": "code",
   "execution_count": 2,
   "metadata": {},
   "outputs": [],
   "source": [
    "w=32"
   ]
  },
  {
   "cell_type": "code",
   "execution_count": 3,
   "metadata": {},
   "outputs": [],
   "source": [
    "#print(dataFromSensors)\n",
    "dataFromSensors=np.load(\"DataWithLabels/dataFromSensors_\"+str(w)+\".npy\")"
   ]
  },
  {
   "cell_type": "code",
   "execution_count": 4,
   "metadata": {},
   "outputs": [
    {
     "name": "stdout",
     "output_type": "stream",
     "text": [
      "class:  ndarray\n",
      "shape:  (475305, 32, 16)\n",
      "strides:  (4096, 128, 8)\n",
      "itemsize:  8\n",
      "aligned:  True\n",
      "contiguous:  True\n",
      "fortran:  False\n",
      "data pointer: 0x7fc95bae4010\n",
      "byteorder:  little\n",
      "byteswap:  False\n",
      "type: float64\n"
     ]
    }
   ],
   "source": [
    "np.info(dataFromSensors)"
   ]
  },
  {
   "cell_type": "code",
   "execution_count": 5,
   "metadata": {},
   "outputs": [],
   "source": [
    "labels=np.load(\"DataWithLabels/labels_\"+str(w)+\".npy\")"
   ]
  },
  {
   "cell_type": "code",
   "execution_count": 6,
   "metadata": {},
   "outputs": [
    {
     "name": "stdout",
     "output_type": "stream",
     "text": [
      "class:  ndarray\n",
      "shape:  (475305,)\n",
      "strides:  (8,)\n",
      "itemsize:  8\n",
      "aligned:  True\n",
      "contiguous:  True\n",
      "fortran:  True\n",
      "data pointer: 0x7fc95b743010\n",
      "byteorder:  little\n",
      "byteswap:  False\n",
      "type: float64\n"
     ]
    }
   ],
   "source": [
    "np.info(labels)"
   ]
  },
  {
   "cell_type": "code",
   "execution_count": 7,
   "metadata": {},
   "outputs": [],
   "source": [
    "#values = reframed_df.values\n",
    "#training_sample =int( len(dataset) *0.8)\n",
    "training_sample_labels =int( len(labels) *0.8)\n",
    "training_sample =int( len(dataFromSensors) *0.8)\n",
    "#testDataset=DataFrame.to_numpy(dataset)\n",
    "#testDataset=DataFrame.to_numpy(reframed_df)"
   ]
  },
  {
   "cell_type": "code",
   "execution_count": 8,
   "metadata": {},
   "outputs": [
    {
     "data": {
      "text/plain": [
       "380244"
      ]
     },
     "execution_count": 8,
     "metadata": {},
     "output_type": "execute_result"
    }
   ],
   "source": [
    "training_sample_labels"
   ]
  },
  {
   "cell_type": "code",
   "execution_count": 9,
   "metadata": {},
   "outputs": [
    {
     "data": {
      "text/plain": [
       "380244"
      ]
     },
     "execution_count": 9,
     "metadata": {},
     "output_type": "execute_result"
    }
   ],
   "source": [
    "training_sample"
   ]
  },
  {
   "cell_type": "code",
   "execution_count": 10,
   "metadata": {},
   "outputs": [],
   "source": [
    "train_labels = labels[:training_sample]\n",
    "train = dataFromSensors[:training_sample, : ,:]\n",
    "test_labels = labels[training_sample:]\n",
    "test = dataFromSensors[training_sample:, : , :]\n",
    "# split into input and outputs\n",
    "#train_X, train_y = train[:,:, 1:], train[:,:,0]\n",
    "#test_X, test_y = test[:,:, 1:], test[:,:,0]\n",
    "train_X, train_y = train[:,:, 1:], train_labels[:]\n",
    "test_X, test_y = test[:,:, 1:], test_labels[:]"
   ]
  },
  {
   "cell_type": "code",
   "execution_count": 11,
   "metadata": {},
   "outputs": [
    {
     "data": {
      "text/plain": [
       "(380244, 32, 15)"
      ]
     },
     "execution_count": 11,
     "metadata": {},
     "output_type": "execute_result"
    }
   ],
   "source": [
    "train_X.shape"
   ]
  },
  {
   "cell_type": "code",
   "execution_count": 12,
   "metadata": {},
   "outputs": [
    {
     "data": {
      "text/plain": [
       "array([0., 0., 0., ..., 0., 0., 0.])"
      ]
     },
     "execution_count": 12,
     "metadata": {},
     "output_type": "execute_result"
    }
   ],
   "source": [
    "train_y"
   ]
  },
  {
   "cell_type": "code",
   "execution_count": 13,
   "metadata": {},
   "outputs": [
    {
     "data": {
      "text/plain": [
       "(380244,)"
      ]
     },
     "execution_count": 13,
     "metadata": {},
     "output_type": "execute_result"
    }
   ],
   "source": [
    "train_y.shape"
   ]
  },
  {
   "cell_type": "code",
   "execution_count": 14,
   "metadata": {},
   "outputs": [],
   "source": [
    "train_y=train_y.reshape(train_y.shape[0],1)"
   ]
  },
  {
   "cell_type": "code",
   "execution_count": 15,
   "metadata": {},
   "outputs": [],
   "source": [
    "test_y=test_y.reshape(test_y.shape[0],1)"
   ]
  },
  {
   "cell_type": "code",
   "execution_count": 16,
   "metadata": {},
   "outputs": [],
   "source": [
    "#print(train_X)"
   ]
  },
  {
   "cell_type": "code",
   "execution_count": 17,
   "metadata": {},
   "outputs": [
    {
     "name": "stdout",
     "output_type": "stream",
     "text": [
      "(380244, 32, 15) (380244, 1) (95061, 32, 15) (95061, 1)\n"
     ]
    }
   ],
   "source": [
    "print(train_X.shape, train_y.shape, test_X.shape, test_y.shape)"
   ]
  },
  {
   "cell_type": "code",
   "execution_count": 18,
   "metadata": {},
   "outputs": [
    {
     "name": "stderr",
     "output_type": "stream",
     "text": [
      "2023-01-05 08:27:10.407306: W tensorflow/compiler/xla/stream_executor/platform/default/dso_loader.cc:64] Could not load dynamic library 'libcuda.so.1'; dlerror: libcuda.so.1: cannot open shared object file: No such file or directory\n",
      "2023-01-05 08:27:10.407813: W tensorflow/compiler/xla/stream_executor/cuda/cuda_driver.cc:265] failed call to cuInit: UNKNOWN ERROR (303)\n",
      "2023-01-05 08:27:10.407842: I tensorflow/compiler/xla/stream_executor/cuda/cuda_diagnostics.cc:156] kernel driver does not appear to be running on this host (server-OptiPlex-7010): /proc/driver/nvidia/version does not exist\n"
     ]
    }
   ],
   "source": [
    "model_gru =  keras.models.Sequential([\n",
    "  \n",
    "    keras.layers.GRU(256,return_sequences=True,input_shape=(train_X.shape[1],train_X.shape[2]),activation='relu'),\n",
    "    keras.layers.GRU(units=128,return_sequences=True,activation='relu'),\n",
    "    keras.layers.GRU(units=64,activation='relu'),\n",
    "    keras.layers.Dense(units=100,activation='sigmoid'),\n",
    "    keras.layers.Dense(units=1,activation='sigmoid')\n",
    "                        ])\n",
    "model_gru.compile(loss='binary_crossentropy', optimizer='sgd',metrics=['AUC'])"
   ]
  },
  {
   "cell_type": "code",
   "execution_count": 19,
   "metadata": {},
   "outputs": [
    {
     "name": "stdout",
     "output_type": "stream",
     "text": [
      "Model: \"sequential\"\n",
      "_________________________________________________________________\n",
      " Layer (type)                Output Shape              Param #   \n",
      "=================================================================\n",
      " gru (GRU)                   (None, 32, 256)           209664    \n",
      "                                                                 \n",
      " gru_1 (GRU)                 (None, 32, 128)           148224    \n",
      "                                                                 \n",
      " gru_2 (GRU)                 (None, 64)                37248     \n",
      "                                                                 \n",
      " dense (Dense)               (None, 100)               6500      \n",
      "                                                                 \n",
      " dense_1 (Dense)             (None, 1)                 101       \n",
      "                                                                 \n",
      "=================================================================\n",
      "Total params: 401,737\n",
      "Trainable params: 401,737\n",
      "Non-trainable params: 0\n",
      "_________________________________________________________________\n"
     ]
    }
   ],
   "source": [
    "model_gru.summary()"
   ]
  },
  {
   "cell_type": "code",
   "execution_count": 20,
   "metadata": {},
   "outputs": [],
   "source": [
    " start = t.time()"
   ]
  },
  {
   "cell_type": "code",
   "execution_count": 21,
   "metadata": {
    "scrolled": true
   },
   "outputs": [
    {
     "name": "stdout",
     "output_type": "stream",
     "text": [
      "Epoch 1/140\n"
     ]
    },
    {
     "name": "stderr",
     "output_type": "stream",
     "text": [
      "2023-01-05 08:27:11.466937: W tensorflow/tsl/framework/cpu_allocator_impl.cc:82] Allocation of 730068480 exceeds 10% of free system memory.\n"
     ]
    },
    {
     "name": "stdout",
     "output_type": "stream",
     "text": [
      "2971/2971 [==============================] - ETA: 0s - loss: 0.5736 - auc: 0.5127"
     ]
    },
    {
     "name": "stderr",
     "output_type": "stream",
     "text": [
      "2023-01-05 08:36:36.996594: W tensorflow/tsl/framework/cpu_allocator_impl.cc:82] Allocation of 182517120 exceeds 10% of free system memory.\n"
     ]
    },
    {
     "name": "stdout",
     "output_type": "stream",
     "text": [
      "2971/2971 [==============================] - 615s 205ms/step - loss: 0.5736 - auc: 0.5127 - val_loss: 0.5589 - val_auc: 0.5964\n",
      "Epoch 2/140\n",
      "2971/2971 [==============================] - 607s 204ms/step - loss: 0.5726 - auc: 0.5537 - val_loss: 0.5582 - val_auc: 0.6418\n",
      "Epoch 3/140\n",
      "2971/2971 [==============================] - 607s 204ms/step - loss: 0.5702 - auc: 0.6153 - val_loss: 0.5548 - val_auc: 0.6821\n",
      "Epoch 4/140\n",
      "2971/2971 [==============================] - 609s 205ms/step - loss: 0.5575 - auc: 0.6707 - val_loss: 0.5275 - val_auc: 0.6973\n",
      "Epoch 5/140\n",
      "2971/2971 [==============================] - 608s 205ms/step - loss: 0.5214 - auc: 0.7116 - val_loss: 0.4935 - val_auc: 0.7336\n",
      "Epoch 6/140\n",
      "2971/2971 [==============================] - 608s 205ms/step - loss: 0.5020 - auc: 0.7338 - val_loss: 0.4877 - val_auc: 0.7399\n",
      "Epoch 7/140\n",
      "2971/2971 [==============================] - 609s 205ms/step - loss: 0.4951 - auc: 0.7430 - val_loss: 0.4793 - val_auc: 0.7462\n",
      "Epoch 8/140\n",
      "2971/2971 [==============================] - 610s 205ms/step - loss: 0.4889 - auc: 0.7530 - val_loss: 0.4776 - val_auc: 0.7514\n",
      "Epoch 9/140\n",
      "2971/2971 [==============================] - 612s 206ms/step - loss: 0.4825 - auc: 0.7629 - val_loss: 0.4732 - val_auc: 0.7610\n",
      "Epoch 10/140\n",
      "2971/2971 [==============================] - 611s 206ms/step - loss: 0.4770 - auc: 0.7711 - val_loss: 0.4761 - val_auc: 0.7672\n",
      "Epoch 11/140\n",
      "2971/2971 [==============================] - 612s 206ms/step - loss: 0.4722 - auc: 0.7777 - val_loss: 0.4609 - val_auc: 0.7755\n",
      "Epoch 12/140\n",
      "2971/2971 [==============================] - 626s 211ms/step - loss: 0.4688 - auc: 0.7823 - val_loss: 0.4622 - val_auc: 0.7802\n",
      "Epoch 13/140\n",
      "2971/2971 [==============================] - 612s 206ms/step - loss: 0.4653 - auc: 0.7864 - val_loss: 0.4661 - val_auc: 0.7832\n",
      "Epoch 14/140\n",
      "2971/2971 [==============================] - 612s 206ms/step - loss: 0.4623 - auc: 0.7902 - val_loss: 0.4526 - val_auc: 0.7878\n",
      "Epoch 15/140\n",
      "2971/2971 [==============================] - 612s 206ms/step - loss: 0.4600 - auc: 0.7929 - val_loss: 0.4510 - val_auc: 0.7890\n",
      "Epoch 16/140\n",
      "2971/2971 [==============================] - 614s 207ms/step - loss: 0.4578 - auc: 0.7954 - val_loss: 0.4493 - val_auc: 0.7916\n",
      "Epoch 17/140\n",
      "2971/2971 [==============================] - 608s 205ms/step - loss: 0.4560 - auc: 0.7975 - val_loss: 0.4479 - val_auc: 0.7935\n",
      "Epoch 18/140\n",
      "2971/2971 [==============================] - 607s 204ms/step - loss: 0.4543 - auc: 0.7995 - val_loss: 0.4440 - val_auc: 0.7974\n",
      "Epoch 19/140\n",
      "2971/2971 [==============================] - 607s 204ms/step - loss: 0.4527 - auc: 0.8012 - val_loss: 0.4464 - val_auc: 0.7980\n",
      "Epoch 20/140\n",
      "2971/2971 [==============================] - 608s 205ms/step - loss: 0.4514 - auc: 0.8026 - val_loss: 0.4455 - val_auc: 0.7983\n",
      "Epoch 21/140\n",
      "2971/2971 [==============================] - 607s 204ms/step - loss: 0.4500 - auc: 0.8042 - val_loss: 0.4542 - val_auc: 0.7962\n",
      "Epoch 22/140\n",
      "2971/2971 [==============================] - 607s 204ms/step - loss: 0.4487 - auc: 0.8056 - val_loss: 0.4487 - val_auc: 0.8010\n",
      "Epoch 23/140\n",
      "2971/2971 [==============================] - 608s 205ms/step - loss: 0.4476 - auc: 0.8068 - val_loss: 0.4435 - val_auc: 0.7998\n",
      "Epoch 24/140\n",
      "2971/2971 [==============================] - 607s 204ms/step - loss: 0.4467 - auc: 0.8079 - val_loss: 0.4497 - val_auc: 0.7995\n",
      "Epoch 25/140\n",
      "2971/2971 [==============================] - 608s 205ms/step - loss: 0.4452 - auc: 0.8094 - val_loss: 0.4479 - val_auc: 0.7979\n",
      "Epoch 26/140\n",
      "2971/2971 [==============================] - 608s 205ms/step - loss: 0.4447 - auc: 0.8099 - val_loss: 0.4438 - val_auc: 0.8013\n",
      "Epoch 27/140\n",
      "2971/2971 [==============================] - 608s 205ms/step - loss: 0.4436 - auc: 0.8111 - val_loss: 0.4405 - val_auc: 0.8065\n",
      "Epoch 28/140\n",
      "2971/2971 [==============================] - 608s 205ms/step - loss: 0.4426 - auc: 0.8123 - val_loss: 0.4441 - val_auc: 0.8009\n",
      "Epoch 29/140\n",
      "2971/2971 [==============================] - 608s 205ms/step - loss: 0.4414 - auc: 0.8135 - val_loss: 0.4353 - val_auc: 0.8098\n",
      "Epoch 30/140\n",
      "2971/2971 [==============================] - 608s 205ms/step - loss: 0.4407 - auc: 0.8142 - val_loss: 0.4341 - val_auc: 0.8090\n",
      "Epoch 31/140\n",
      "2971/2971 [==============================] - 608s 205ms/step - loss: 0.4399 - auc: 0.8150 - val_loss: 0.4356 - val_auc: 0.8079\n",
      "Epoch 32/140\n",
      "2971/2971 [==============================] - 608s 205ms/step - loss: 0.4391 - auc: 0.8159 - val_loss: 0.4345 - val_auc: 0.8097\n",
      "Epoch 33/140\n",
      "2971/2971 [==============================] - 608s 205ms/step - loss: 0.4382 - auc: 0.8167 - val_loss: 0.4334 - val_auc: 0.8100\n",
      "Epoch 34/140\n",
      "2971/2971 [==============================] - 609s 205ms/step - loss: 0.4376 - auc: 0.8173 - val_loss: 0.4315 - val_auc: 0.8117\n",
      "Epoch 35/140\n",
      "2971/2971 [==============================] - 608s 204ms/step - loss: 0.4368 - auc: 0.8181 - val_loss: 0.4324 - val_auc: 0.8111\n",
      "Epoch 36/140\n",
      "2971/2971 [==============================] - 608s 205ms/step - loss: 0.4363 - auc: 0.8186 - val_loss: 0.4340 - val_auc: 0.8127\n",
      "Epoch 37/140\n",
      "2971/2971 [==============================] - 607s 204ms/step - loss: 0.4355 - auc: 0.8195 - val_loss: 0.4294 - val_auc: 0.8139\n",
      "Epoch 38/140\n",
      "2971/2971 [==============================] - 608s 205ms/step - loss: 0.4348 - auc: 0.8203 - val_loss: 0.4327 - val_auc: 0.8110\n",
      "Epoch 39/140\n",
      "2971/2971 [==============================] - 608s 205ms/step - loss: 0.4342 - auc: 0.8209 - val_loss: 0.4368 - val_auc: 0.8119\n",
      "Epoch 40/140\n",
      "2971/2971 [==============================] - 608s 205ms/step - loss: 0.4336 - auc: 0.8215 - val_loss: 0.4330 - val_auc: 0.8116\n",
      "Epoch 41/140\n",
      "2971/2971 [==============================] - 608s 205ms/step - loss: 0.4327 - auc: 0.8224 - val_loss: 0.4315 - val_auc: 0.8149\n",
      "Epoch 42/140\n",
      "2971/2971 [==============================] - 609s 205ms/step - loss: 0.4324 - auc: 0.8226 - val_loss: 0.4300 - val_auc: 0.8139\n",
      "Epoch 43/140\n",
      "2971/2971 [==============================] - 608s 205ms/step - loss: 0.4320 - auc: 0.8230 - val_loss: 0.4396 - val_auc: 0.8113\n",
      "Epoch 44/140\n",
      "2971/2971 [==============================] - 608s 205ms/step - loss: 0.4316 - auc: 0.8234 - val_loss: 0.4292 - val_auc: 0.8145\n",
      "Epoch 45/140\n",
      "2971/2971 [==============================] - 609s 205ms/step - loss: 0.4309 - auc: 0.8240 - val_loss: 0.4307 - val_auc: 0.8135\n",
      "Epoch 46/140\n",
      "2971/2971 [==============================] - 607s 204ms/step - loss: 0.4306 - auc: 0.8244 - val_loss: 0.4307 - val_auc: 0.8157\n",
      "Epoch 47/140\n",
      "2971/2971 [==============================] - 607s 204ms/step - loss: 0.4302 - auc: 0.8248 - val_loss: 0.4323 - val_auc: 0.8132\n",
      "Epoch 48/140\n",
      "2971/2971 [==============================] - 607s 204ms/step - loss: 0.4298 - auc: 0.8252 - val_loss: 0.4337 - val_auc: 0.8115\n",
      "Epoch 49/140\n",
      "2971/2971 [==============================] - 606s 204ms/step - loss: 0.4294 - auc: 0.8256 - val_loss: 0.4348 - val_auc: 0.8162\n",
      "Epoch 50/140\n",
      "2971/2971 [==============================] - 607s 204ms/step - loss: 0.4291 - auc: 0.8259 - val_loss: 0.4282 - val_auc: 0.8159\n",
      "Epoch 51/140\n",
      "2971/2971 [==============================] - 607s 204ms/step - loss: 0.4289 - auc: 0.8261 - val_loss: 0.4266 - val_auc: 0.8168\n",
      "Epoch 52/140\n",
      "2971/2971 [==============================] - 607s 204ms/step - loss: 0.4285 - auc: 0.8265 - val_loss: 0.4328 - val_auc: 0.8158\n",
      "Epoch 53/140\n",
      "2971/2971 [==============================] - 607s 204ms/step - loss: 0.4282 - auc: 0.8268 - val_loss: 0.4329 - val_auc: 0.8164\n",
      "Epoch 54/140\n",
      "2971/2971 [==============================] - 607s 204ms/step - loss: 0.4281 - auc: 0.8268 - val_loss: 0.4283 - val_auc: 0.8161\n",
      "Epoch 55/140\n",
      "2971/2971 [==============================] - 610s 205ms/step - loss: 0.4278 - auc: 0.8271 - val_loss: 0.4284 - val_auc: 0.8172\n",
      "Epoch 56/140\n",
      "2971/2971 [==============================] - 609s 205ms/step - loss: 0.4273 - auc: 0.8276 - val_loss: 0.4353 - val_auc: 0.8111\n",
      "Epoch 57/140\n",
      "2971/2971 [==============================] - 609s 205ms/step - loss: 0.4270 - auc: 0.8279 - val_loss: 0.4278 - val_auc: 0.8160\n",
      "Epoch 58/140\n",
      "2971/2971 [==============================] - 610s 205ms/step - loss: 0.4266 - auc: 0.8284 - val_loss: 0.4321 - val_auc: 0.8155\n",
      "Epoch 59/140\n"
     ]
    },
    {
     "name": "stdout",
     "output_type": "stream",
     "text": [
      "2971/2971 [==============================] - 604s 203ms/step - loss: 0.4266 - auc: 0.8283 - val_loss: 0.4510 - val_auc: 0.8106\n",
      "Epoch 60/140\n",
      "2971/2971 [==============================] - 603s 203ms/step - loss: 0.4262 - auc: 0.8288 - val_loss: 0.4270 - val_auc: 0.8186\n",
      "Epoch 61/140\n",
      "2971/2971 [==============================] - 604s 203ms/step - loss: 0.4262 - auc: 0.8286 - val_loss: 0.4300 - val_auc: 0.8150\n",
      "Epoch 62/140\n",
      "2971/2971 [==============================] - 604s 203ms/step - loss: 0.4257 - auc: 0.8292 - val_loss: 0.4348 - val_auc: 0.8114\n",
      "Epoch 63/140\n",
      "2971/2971 [==============================] - 603s 203ms/step - loss: 0.4255 - auc: 0.8293 - val_loss: 0.4274 - val_auc: 0.8175\n",
      "Epoch 64/140\n",
      "2971/2971 [==============================] - 604s 203ms/step - loss: 0.4255 - auc: 0.8292 - val_loss: 0.4332 - val_auc: 0.8163\n",
      "Epoch 65/140\n",
      "2971/2971 [==============================] - 604s 203ms/step - loss: 0.4250 - auc: 0.8298 - val_loss: 0.4350 - val_auc: 0.8170\n",
      "Epoch 66/140\n",
      "2971/2971 [==============================] - 604s 203ms/step - loss: 0.4250 - auc: 0.8298 - val_loss: 0.4420 - val_auc: 0.8149\n",
      "Epoch 67/140\n",
      "2971/2971 [==============================] - 604s 203ms/step - loss: 0.4248 - auc: 0.8300 - val_loss: 0.4266 - val_auc: 0.8164\n",
      "Epoch 68/140\n",
      "2971/2971 [==============================] - 604s 203ms/step - loss: 0.4243 - auc: 0.8305 - val_loss: 0.4293 - val_auc: 0.8162\n",
      "Epoch 69/140\n",
      "2971/2971 [==============================] - 603s 203ms/step - loss: 0.4245 - auc: 0.8304 - val_loss: 0.4359 - val_auc: 0.8145\n",
      "Epoch 70/140\n",
      "2971/2971 [==============================] - 603s 203ms/step - loss: 0.4243 - auc: 0.8305 - val_loss: 0.4349 - val_auc: 0.8168\n",
      "Epoch 71/140\n",
      "2971/2971 [==============================] - 603s 203ms/step - loss: 0.4239 - auc: 0.8309 - val_loss: 0.4261 - val_auc: 0.8186\n",
      "Epoch 72/140\n",
      "2971/2971 [==============================] - 602s 203ms/step - loss: 0.4237 - auc: 0.8310 - val_loss: 0.4245 - val_auc: 0.8194\n",
      "Epoch 73/140\n",
      "2971/2971 [==============================] - 602s 203ms/step - loss: 0.4234 - auc: 0.8314 - val_loss: 0.4309 - val_auc: 0.8160\n",
      "Epoch 74/140\n",
      "2971/2971 [==============================] - 603s 203ms/step - loss: 0.4235 - auc: 0.8314 - val_loss: 0.4254 - val_auc: 0.8182\n",
      "Epoch 75/140\n",
      "2971/2971 [==============================] - 603s 203ms/step - loss: 0.4230 - auc: 0.8319 - val_loss: 0.4333 - val_auc: 0.8177\n",
      "Epoch 76/140\n",
      "2971/2971 [==============================] - 603s 203ms/step - loss: 0.4229 - auc: 0.8319 - val_loss: 0.4538 - val_auc: 0.8157\n",
      "Epoch 77/140\n",
      "2971/2971 [==============================] - 604s 203ms/step - loss: 0.4227 - auc: 0.8320 - val_loss: 0.4320 - val_auc: 0.8170\n",
      "Epoch 78/140\n",
      "2971/2971 [==============================] - 604s 203ms/step - loss: 0.4226 - auc: 0.8322 - val_loss: 0.4311 - val_auc: 0.8172\n",
      "Epoch 79/140\n",
      "2971/2971 [==============================] - 604s 203ms/step - loss: 0.4224 - auc: 0.8323 - val_loss: 0.4277 - val_auc: 0.8172\n",
      "Epoch 80/140\n",
      "2971/2971 [==============================] - 604s 203ms/step - loss: 0.4222 - auc: 0.8325 - val_loss: 0.4313 - val_auc: 0.8192\n",
      "Epoch 81/140\n",
      "2971/2971 [==============================] - 604s 203ms/step - loss: 0.4221 - auc: 0.8327 - val_loss: 0.4304 - val_auc: 0.8172\n",
      "Epoch 82/140\n",
      "2971/2971 [==============================] - 605s 204ms/step - loss: 0.4219 - auc: 0.8328 - val_loss: 0.4316 - val_auc: 0.8188\n",
      "Epoch 83/140\n",
      "2971/2971 [==============================] - 604s 203ms/step - loss: 0.4218 - auc: 0.8330 - val_loss: 0.4377 - val_auc: 0.8115\n",
      "Epoch 84/140\n",
      "2971/2971 [==============================] - 604s 203ms/step - loss: 0.4216 - auc: 0.8331 - val_loss: 0.4356 - val_auc: 0.8185\n",
      "Epoch 85/140\n",
      "2971/2971 [==============================] - 604s 203ms/step - loss: 0.4214 - auc: 0.8333 - val_loss: 0.4249 - val_auc: 0.8190\n",
      "Epoch 86/140\n",
      "2971/2971 [==============================] - 605s 204ms/step - loss: 0.4210 - auc: 0.8337 - val_loss: 0.4350 - val_auc: 0.8164\n",
      "Epoch 87/140\n",
      "2971/2971 [==============================] - 604s 203ms/step - loss: 0.4210 - auc: 0.8337 - val_loss: 0.4303 - val_auc: 0.8183\n",
      "Epoch 88/140\n",
      "2971/2971 [==============================] - 605s 204ms/step - loss: 0.4207 - auc: 0.8340 - val_loss: 0.4294 - val_auc: 0.8152\n",
      "Epoch 89/140\n",
      "2971/2971 [==============================] - 604s 203ms/step - loss: 0.4206 - auc: 0.8341 - val_loss: 0.4385 - val_auc: 0.8125\n",
      "Epoch 90/140\n",
      "2971/2971 [==============================] - 605s 203ms/step - loss: 0.4205 - auc: 0.8343 - val_loss: 0.4291 - val_auc: 0.8196\n",
      "Epoch 91/140\n",
      "2971/2971 [==============================] - 605s 204ms/step - loss: 0.4203 - auc: 0.8344 - val_loss: 0.4249 - val_auc: 0.8197\n",
      "Epoch 92/140\n",
      "2971/2971 [==============================] - 606s 204ms/step - loss: 0.4201 - auc: 0.8346 - val_loss: 0.4246 - val_auc: 0.8197\n",
      "Epoch 93/140\n",
      "2971/2971 [==============================] - 604s 203ms/step - loss: 0.4199 - auc: 0.8347 - val_loss: 0.4355 - val_auc: 0.8167\n",
      "Epoch 94/140\n",
      "2971/2971 [==============================] - 606s 204ms/step - loss: 0.4199 - auc: 0.8348 - val_loss: 0.4569 - val_auc: 0.8114\n",
      "Epoch 95/140\n",
      "2971/2971 [==============================] - 605s 203ms/step - loss: 0.4196 - auc: 0.8351 - val_loss: 0.4299 - val_auc: 0.8168\n",
      "Epoch 96/140\n",
      "2971/2971 [==============================] - 604s 203ms/step - loss: 0.4195 - auc: 0.8351 - val_loss: 0.4288 - val_auc: 0.8164\n",
      "Epoch 97/140\n",
      "2971/2971 [==============================] - 604s 203ms/step - loss: 0.4195 - auc: 0.8352 - val_loss: 0.4242 - val_auc: 0.8192\n",
      "Epoch 98/140\n",
      "2971/2971 [==============================] - 604s 203ms/step - loss: 0.4193 - auc: 0.8354 - val_loss: 0.4263 - val_auc: 0.8192\n",
      "Epoch 99/140\n",
      "2971/2971 [==============================] - 604s 203ms/step - loss: 0.4188 - auc: 0.8360 - val_loss: 0.4273 - val_auc: 0.8190\n",
      "Epoch 100/140\n",
      "2971/2971 [==============================] - 605s 204ms/step - loss: 0.4190 - auc: 0.8356 - val_loss: 0.4293 - val_auc: 0.8155\n",
      "Epoch 101/140\n",
      "2971/2971 [==============================] - 604s 203ms/step - loss: 0.4188 - auc: 0.8359 - val_loss: 0.4328 - val_auc: 0.8176\n",
      "Epoch 102/140\n",
      "2971/2971 [==============================] - 604s 203ms/step - loss: 0.4187 - auc: 0.8360 - val_loss: 0.4300 - val_auc: 0.8175\n",
      "Epoch 103/140\n",
      "2971/2971 [==============================] - 604s 203ms/step - loss: 0.4184 - auc: 0.8363 - val_loss: 0.4307 - val_auc: 0.8162\n",
      "Epoch 104/140\n",
      "2971/2971 [==============================] - 604s 203ms/step - loss: 0.4184 - auc: 0.8363 - val_loss: 0.4333 - val_auc: 0.8172\n",
      "Epoch 105/140\n",
      "2971/2971 [==============================] - 604s 203ms/step - loss: 0.4180 - auc: 0.8367 - val_loss: 0.4427 - val_auc: 0.8096\n",
      "Epoch 106/140\n",
      "2971/2971 [==============================] - 605s 204ms/step - loss: 0.4180 - auc: 0.8366 - val_loss: 0.4291 - val_auc: 0.8153\n",
      "Epoch 107/140\n",
      "2971/2971 [==============================] - 604s 203ms/step - loss: 0.4178 - auc: 0.8369 - val_loss: 0.4251 - val_auc: 0.8184\n",
      "Epoch 108/140\n",
      "2971/2971 [==============================] - 604s 203ms/step - loss: 0.4177 - auc: 0.8369 - val_loss: 0.4329 - val_auc: 0.8146\n",
      "Epoch 109/140\n",
      "2971/2971 [==============================] - 604s 203ms/step - loss: 0.4177 - auc: 0.8369 - val_loss: 0.4317 - val_auc: 0.8165\n",
      "Epoch 110/140\n",
      "2971/2971 [==============================] - 604s 203ms/step - loss: 0.4175 - auc: 0.8372 - val_loss: 0.4306 - val_auc: 0.8195\n",
      "Epoch 111/140\n",
      "2971/2971 [==============================] - 604s 203ms/step - loss: 0.4173 - auc: 0.8373 - val_loss: 0.4331 - val_auc: 0.8148\n",
      "Epoch 112/140\n",
      "2971/2971 [==============================] - 604s 203ms/step - loss: 0.4173 - auc: 0.8374 - val_loss: 0.4304 - val_auc: 0.8157\n",
      "Epoch 113/140\n",
      "2971/2971 [==============================] - 604s 203ms/step - loss: 0.4171 - auc: 0.8375 - val_loss: 0.4267 - val_auc: 0.8175\n",
      "Epoch 114/140\n",
      "2971/2971 [==============================] - 604s 203ms/step - loss: 0.4169 - auc: 0.8376 - val_loss: 0.4241 - val_auc: 0.8200\n",
      "Epoch 115/140\n",
      "2971/2971 [==============================] - 604s 203ms/step - loss: 0.4167 - auc: 0.8380 - val_loss: 0.4247 - val_auc: 0.8205\n",
      "Epoch 116/140\n",
      "2971/2971 [==============================] - 604s 203ms/step - loss: 0.4166 - auc: 0.8380 - val_loss: 0.4297 - val_auc: 0.8157\n",
      "Epoch 117/140\n"
     ]
    },
    {
     "name": "stdout",
     "output_type": "stream",
     "text": [
      "2971/2971 [==============================] - 603s 203ms/step - loss: 0.4164 - auc: 0.8382 - val_loss: 0.4287 - val_auc: 0.8188\n",
      "Epoch 118/140\n",
      "2971/2971 [==============================] - 603s 203ms/step - loss: 0.4165 - auc: 0.8381 - val_loss: 0.4333 - val_auc: 0.8128\n",
      "Epoch 119/140\n",
      "2971/2971 [==============================] - 603s 203ms/step - loss: 0.4162 - auc: 0.8383 - val_loss: 0.4251 - val_auc: 0.8187\n",
      "Epoch 120/140\n",
      "2971/2971 [==============================] - 603s 203ms/step - loss: 0.4160 - auc: 0.8386 - val_loss: 0.4266 - val_auc: 0.8201\n",
      "Epoch 121/140\n",
      "2971/2971 [==============================] - 603s 203ms/step - loss: 0.4160 - auc: 0.8386 - val_loss: 0.4251 - val_auc: 0.8197\n",
      "Epoch 122/140\n",
      "2971/2971 [==============================] - 603s 203ms/step - loss: 0.4158 - auc: 0.8387 - val_loss: 0.4354 - val_auc: 0.8170\n",
      "Epoch 123/140\n",
      "2971/2971 [==============================] - 604s 203ms/step - loss: 0.4156 - auc: 0.8389 - val_loss: 0.4294 - val_auc: 0.8170\n",
      "Epoch 124/140\n",
      "2971/2971 [==============================] - 603s 203ms/step - loss: 0.4155 - auc: 0.8389 - val_loss: 0.4252 - val_auc: 0.8205\n",
      "Epoch 125/140\n",
      "2971/2971 [==============================] - 602s 203ms/step - loss: 0.4155 - auc: 0.8391 - val_loss: 0.4278 - val_auc: 0.8187\n",
      "Epoch 126/140\n",
      "2971/2971 [==============================] - 602s 203ms/step - loss: 0.4152 - auc: 0.8393 - val_loss: 0.4280 - val_auc: 0.8184\n",
      "Epoch 127/140\n",
      "2971/2971 [==============================] - 601s 202ms/step - loss: 0.4151 - auc: 0.8394 - val_loss: 0.4297 - val_auc: 0.8174\n",
      "Epoch 128/140\n",
      "2971/2971 [==============================] - 602s 203ms/step - loss: 0.4150 - auc: 0.8396 - val_loss: 0.4356 - val_auc: 0.8139\n",
      "Epoch 129/140\n",
      "2971/2971 [==============================] - 602s 203ms/step - loss: 0.4150 - auc: 0.8395 - val_loss: 0.4392 - val_auc: 0.8167\n",
      "Epoch 130/140\n",
      "2971/2971 [==============================] - 606s 204ms/step - loss: 0.4148 - auc: 0.8397 - val_loss: 0.4295 - val_auc: 0.8160\n",
      "Epoch 131/140\n",
      "2971/2971 [==============================] - 603s 203ms/step - loss: 0.4147 - auc: 0.8398 - val_loss: 0.4284 - val_auc: 0.8175\n",
      "Epoch 132/140\n",
      "2971/2971 [==============================] - 604s 203ms/step - loss: 0.4145 - auc: 0.8401 - val_loss: 0.4248 - val_auc: 0.8194\n",
      "Epoch 133/140\n",
      "2971/2971 [==============================] - 602s 203ms/step - loss: 0.4143 - auc: 0.8401 - val_loss: 0.4401 - val_auc: 0.8142\n",
      "Epoch 134/140\n",
      "2971/2971 [==============================] - 602s 203ms/step - loss: 0.4142 - auc: 0.8403 - val_loss: 0.4303 - val_auc: 0.8183\n",
      "Epoch 135/140\n",
      "2971/2971 [==============================] - 602s 203ms/step - loss: 0.4142 - auc: 0.8403 - val_loss: 0.4267 - val_auc: 0.8194\n",
      "Epoch 136/140\n",
      "2971/2971 [==============================] - 601s 202ms/step - loss: 0.4141 - auc: 0.8404 - val_loss: 0.4341 - val_auc: 0.8182\n",
      "Epoch 137/140\n",
      "2971/2971 [==============================] - 602s 203ms/step - loss: 0.4140 - auc: 0.8404 - val_loss: 0.4277 - val_auc: 0.8177\n",
      "Epoch 138/140\n",
      "2971/2971 [==============================] - 602s 203ms/step - loss: 0.4138 - auc: 0.8406 - val_loss: 0.4303 - val_auc: 0.8173\n",
      "Epoch 139/140\n",
      "2971/2971 [==============================] - 602s 203ms/step - loss: 0.4136 - auc: 0.8409 - val_loss: 0.4277 - val_auc: 0.8177\n",
      "Epoch 140/140\n",
      "2971/2971 [==============================] - 603s 203ms/step - loss: 0.4137 - auc: 0.8407 - val_loss: 0.4281 - val_auc: 0.8161\n"
     ]
    }
   ],
   "source": [
    "# fit network\n",
    "gru_history = model_gru.fit(train_X, train_y, epochs=140,validation_data=(test_X, test_y), batch_size=128)#, shuffle=False)"
   ]
  },
  {
   "cell_type": "code",
   "execution_count": 22,
   "metadata": {},
   "outputs": [
    {
     "name": "stderr",
     "output_type": "stream",
     "text": [
      "2023-01-06 08:00:39.447828: W tensorflow/tsl/framework/cpu_allocator_impl.cc:82] Allocation of 182517120 exceeds 10% of free system memory.\n"
     ]
    },
    {
     "name": "stdout",
     "output_type": "stream",
     "text": [
      "2971/2971 [==============================] - 85s 28ms/step\n"
     ]
    }
   ],
   "source": [
    "pred_y =  model_gru.predict(test_X)"
   ]
  },
  {
   "cell_type": "code",
   "execution_count": 23,
   "metadata": {},
   "outputs": [
    {
     "name": "stdout",
     "output_type": "stream",
     "text": [
      "84895.3359606266\n"
     ]
    }
   ],
   "source": [
    "stop=t.time()-start\n",
    "print(stop)"
   ]
  },
  {
   "cell_type": "code",
   "execution_count": 24,
   "metadata": {},
   "outputs": [
    {
     "data": {
      "image/png": "[encoded data removed]",
      "text/plain": [
       "<Figure size 640x480 with 1 Axes>"
      ]
     },
     "metadata": {},
     "output_type": "display_data"
    }
   ],
   "source": [
    "#dont run this cell if you are running this cell than add \"validation_data=(test_X, test_y)\" in model_gru.fit()\n",
    "plt.plot(gru_history.history['loss'], label='GRU train', color='brown')\n",
    "plt.plot(gru_history.history['val_loss'], label='GRU test', color='blue')\n",
    "plt.legend()\n",
    "plt.show()"
   ]
  },
  {
   "cell_type": "code",
   "execution_count": 25,
   "metadata": {},
   "outputs": [
    {
     "name": "stdout",
     "output_type": "stream",
     "text": [
      "[[0.]\n",
      " [0.]\n",
      " [0.]\n",
      " ...\n",
      " [0.]\n",
      " [0.]\n",
      " [0.]]\n"
     ]
    }
   ],
   "source": [
    "#test_y.reshape(8086,1)\n",
    "#test_y.reshape(2627,1)\n",
    "#test_y=test_y[:, :1]\n",
    "\n",
    "#train_y=test_y[:, :1]\n",
    "print(test_y)"
   ]
  },
  {
   "cell_type": "code",
   "execution_count": 26,
   "metadata": {},
   "outputs": [
    {
     "data": {
      "text/plain": [
       "(95061, 1)"
      ]
     },
     "execution_count": 26,
     "metadata": {},
     "output_type": "execute_result"
    }
   ],
   "source": [
    "np.shape(pred_y)"
   ]
  },
  {
   "cell_type": "code",
   "execution_count": 27,
   "metadata": {},
   "outputs": [
    {
     "data": {
      "text/plain": [
       "array([[0.00094644],\n",
       "       [0.00309337],\n",
       "       [0.00041055],\n",
       "       ...,\n",
       "       [0.04257782],\n",
       "       [0.04586382],\n",
       "       [0.04767845]], dtype=float32)"
      ]
     },
     "execution_count": 27,
     "metadata": {},
     "output_type": "execute_result"
    }
   ],
   "source": [
    "pred_y"
   ]
  },
  {
   "cell_type": "code",
   "execution_count": 28,
   "metadata": {},
   "outputs": [],
   "source": [
    "#pred_y=np.reshape(pred_y,8068)\n",
    "pred_y=np.reshape(pred_y,95061)"
   ]
  },
  {
   "cell_type": "code",
   "execution_count": 29,
   "metadata": {},
   "outputs": [
    {
     "name": "stdout",
     "output_type": "stream",
     "text": [
      "0.14324144369216713\n",
      "0.22975778677773828\n",
      "0.37847251378688934\n",
      "0.2783258622184543\n"
     ]
    }
   ],
   "source": [
    "\n",
    "#plt.rcParams['figure.figsize'] = (15,5)\n",
    "\n",
    "MSE = mean_squared_error(test_y, pred_y)\n",
    "R2 = r2_score(test_y, pred_y)\n",
    "RMSE = sqrt(mean_squared_error(test_y, pred_y))\n",
    "MAE = mean_absolute_error(test_y, pred_y)\n",
    "\n",
    "\n",
    "print(MSE)\n",
    "print(R2)\n",
    "print(RMSE)\n",
    "print(MAE)\n",
    "\n",
    "#plotting predicted test value vs actual test value\n",
    "#plt.plot(test_y, label = 'Actual')\n",
    "#plt.plot(pred_y, label = 'Predicted')\n",
    "#plt.legend()\n",
    "#plt.show()"
   ]
  },
  {
   "cell_type": "code",
   "execution_count": 30,
   "metadata": {},
   "outputs": [
    {
     "data": {
      "text/plain": [
       "(380244, 32, 15)"
      ]
     },
     "execution_count": 30,
     "metadata": {},
     "output_type": "execute_result"
    }
   ],
   "source": [
    "np.shape(train_X)"
   ]
  },
  {
   "cell_type": "code",
   "execution_count": 31,
   "metadata": {},
   "outputs": [
    {
     "data": {
      "text/plain": [
       "(380244, 1)"
      ]
     },
     "execution_count": 31,
     "metadata": {},
     "output_type": "execute_result"
    }
   ],
   "source": [
    "np.shape(train_y)"
   ]
  },
  {
   "cell_type": "code",
   "execution_count": 32,
   "metadata": {},
   "outputs": [
    {
     "data": {
      "text/plain": [
       "(95061, 32, 15)"
      ]
     },
     "execution_count": 32,
     "metadata": {},
     "output_type": "execute_result"
    }
   ],
   "source": [
    "np.shape(test_X)"
   ]
  },
  {
   "cell_type": "code",
   "execution_count": 33,
   "metadata": {},
   "outputs": [
    {
     "data": {
      "text/plain": [
       "(95061, 1)"
      ]
     },
     "execution_count": 33,
     "metadata": {},
     "output_type": "execute_result"
    }
   ],
   "source": [
    "np.shape(test_y)"
   ]
  },
  {
   "cell_type": "code",
   "execution_count": null,
   "metadata": {},
   "outputs": [],
   "source": [
    "#visualization over full data\n",
    "tra = np.concatenate([train_X,test_X])\n",
    "tes = np.concatenate([train_y,test_y])\n",
    "fp = model_gru.predict(tra)\n",
    "#plt.plot(tes, label = 'Actual')\n",
    "#plt.plot(fp, label = 'Predicted')\n",
    "#plt.legend()\n",
    "#plt.show()"
   ]
  },
  {
   "cell_type": "code",
   "execution_count": null,
   "metadata": {},
   "outputs": [],
   "source": [
    "#over small part of data\n",
    "#plt.plot(tes, label = 'Actual')\n",
    "#plt.plot(fp[:2000], label = 'Predicted')\n",
    "#plt.legend()\n",
    "#plt.show()"
   ]
  },
  {
   "cell_type": "code",
   "execution_count": null,
   "metadata": {},
   "outputs": [],
   "source": [
    "print(sum(tes)/len(tes))"
   ]
  },
  {
   "cell_type": "code",
   "execution_count": null,
   "metadata": {},
   "outputs": [],
   "source": [
    "#print(fp[1000:1010])\n",
    "_fp = np.where(fp>0.5,1,0)\n",
    "_all = sum(_fp)\n",
    "_w = (_fp*tes)\n",
    "print(sum(_w)/_all)\n",
    "      \n",
    "_all_z = sum(1-_fp)      \n",
    "_w_z = (1-_fp)*(1-tes)\n",
    "print(sum(_w_z)/_all_z)\n",
    "print('total acc', (sum(_w)+sum(_w_z))/len(_w))"
   ]
  },
  {
   "cell_type": "code",
   "execution_count": null,
   "metadata": {},
   "outputs": [],
   "source": [
    "#plt.plot(tes[:8000], label = 'Actual')\n",
    "#plt.plot(fp[:8000], label = 'Predicted')\n",
    "#plt.legend()\n",
    "#plt.show()"
   ]
  },
  {
   "cell_type": "code",
   "execution_count": null,
   "metadata": {},
   "outputs": [],
   "source": [
    "#over very small part of data\n",
    "plt.plot(tes[2000:2020], label = 'Actual')\n",
    "plt.plot(fp[2000:2020], label = 'Predicted')\n",
    "plt.legend()\n",
    "plt.show()"
   ]
  },
  {
   "cell_type": "code",
   "execution_count": null,
   "metadata": {},
   "outputs": [],
   "source": [
    "plt.plot(tes[:50], label = 'Actual')\n",
    "plt.plot(fp[:50], label = 'Predicted')\n",
    "plt.legend()\n",
    "plt.show()"
   ]
  },
  {
   "cell_type": "code",
   "execution_count": null,
   "metadata": {},
   "outputs": [],
   "source": [
    "plt.plot(tes[:5], label = 'Actual')\n",
    "plt.plot(fp[:5], label = 'Predicted')\n",
    "plt.legend()\n",
    "plt.show()"
   ]
  },
  {
   "cell_type": "code",
   "execution_count": null,
   "metadata": {},
   "outputs": [],
   "source": []
  },
  {
   "cell_type": "code",
   "execution_count": null,
   "metadata": {},
   "outputs": [],
   "source": []
  }
 ],
 "metadata": {
  "kernelspec": {
   "display_name": "Python 3 (ipykernel)",
   "language": "python",
   "name": "python3"
  },
  "language_info": {
   "codemirror_mode": {
    "name": "ipython",
    "version": 3
   },
   "file_extension": ".py",
   "mimetype": "text/x-python",
   "name": "python",
   "nbconvert_exporter": "python",
   "pygments_lexer": "ipython3",
   "version": "3.8.10"
  }
 },
 "nbformat": 4,
 "nbformat_minor": 2
}
