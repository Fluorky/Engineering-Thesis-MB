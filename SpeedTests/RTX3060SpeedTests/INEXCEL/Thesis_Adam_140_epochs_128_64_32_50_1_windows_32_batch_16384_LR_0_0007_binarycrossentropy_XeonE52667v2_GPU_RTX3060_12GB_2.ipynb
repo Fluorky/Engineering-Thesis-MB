{
 "cells": [
  {
   "cell_type": "code",
   "execution_count": 1,
   "metadata": {},
   "outputs": [],
   "source": [
    "import pandas as pd\n",
    "import numpy as np\n",
    "import matplotlib.pyplot as plt\n",
    "from math import sqrt\n",
    "from numpy import concatenate\n",
    "from pandas import *\n",
    "from sklearn.preprocessing import *\n",
    "from sklearn.metrics import *\n",
    "from tensorflow import keras\n",
    "import tensorflow as tf\n",
    "import time as t"
   ]
  },
  {
   "cell_type": "code",
   "execution_count": 2,
   "metadata": {},
   "outputs": [],
   "source": [
    "w=32"
   ]
  },
  {
   "cell_type": "code",
   "execution_count": 3,
   "metadata": {},
   "outputs": [],
   "source": [
    "#import os\n",
    "#os.environ[\"CUDA_VISIBLE_DEVICES\"] = \"-1\""
   ]
  },
  {
   "cell_type": "code",
   "execution_count": 4,
   "metadata": {},
   "outputs": [],
   "source": [
    "dataFromSensors=np.load(\"DataWithLabels/dataFromSensors_\"+str(w)+\".npy\")"
   ]
  },
  {
   "cell_type": "code",
   "execution_count": 5,
   "metadata": {},
   "outputs": [
    {
     "name": "stdout",
     "output_type": "stream",
     "text": [
      "class:  ndarray\n",
      "shape:  (475305, 32, 16)\n",
      "strides:  (4096, 128, 8)\n",
      "itemsize:  8\n",
      "aligned:  True\n",
      "contiguous:  True\n",
      "fortran:  False\n",
      "data pointer: 0x2562074b040\n",
      "byteorder:  little\n",
      "byteswap:  False\n",
      "type: float64\n"
     ]
    }
   ],
   "source": [
    "np.info(dataFromSensors)"
   ]
  },
  {
   "cell_type": "code",
   "execution_count": 6,
   "metadata": {},
   "outputs": [],
   "source": [
    "labels=np.load(\"DataWithLabels/labels_\"+str(w)+\".npy\")"
   ]
  },
  {
   "cell_type": "code",
   "execution_count": 7,
   "metadata": {},
   "outputs": [
    {
     "name": "stdout",
     "output_type": "stream",
     "text": [
      "class:  ndarray\n",
      "shape:  (475305,)\n",
      "strides:  (8,)\n",
      "itemsize:  8\n",
      "aligned:  True\n",
      "contiguous:  True\n",
      "fortran:  True\n",
      "data pointer: 0x25694807040\n",
      "byteorder:  little\n",
      "byteswap:  False\n",
      "type: float64\n"
     ]
    }
   ],
   "source": [
    "np.info(labels)"
   ]
  },
  {
   "cell_type": "code",
   "execution_count": 8,
   "metadata": {},
   "outputs": [],
   "source": [
    "#values = reframed_df.values\n",
    "#training_sample =int( len(dataset) *0.8)\n",
    "training_sample_labels =int( len(labels) *0.8)\n",
    "training_sample =int( len(dataFromSensors) *0.8)\n",
    "#testDataset=DataFrame.to_numpy(dataset)\n",
    "#testDataset=DataFrame.to_numpy(reframed_df)"
   ]
  },
  {
   "cell_type": "code",
   "execution_count": 9,
   "metadata": {},
   "outputs": [
    {
     "data": {
      "text/plain": [
       "380244"
      ]
     },
     "execution_count": 9,
     "metadata": {},
     "output_type": "execute_result"
    }
   ],
   "source": [
    "training_sample_labels"
   ]
  },
  {
   "cell_type": "code",
   "execution_count": 10,
   "metadata": {},
   "outputs": [
    {
     "data": {
      "text/plain": [
       "380244"
      ]
     },
     "execution_count": 10,
     "metadata": {},
     "output_type": "execute_result"
    }
   ],
   "source": [
    "training_sample"
   ]
  },
  {
   "cell_type": "code",
   "execution_count": 11,
   "metadata": {},
   "outputs": [],
   "source": [
    "train_labels = labels[:training_sample]\n",
    "train = dataFromSensors[:training_sample, : ,:]\n",
    "test_labels = labels[training_sample:]\n",
    "test = dataFromSensors[training_sample:, : , :]\n",
    "# split into input and outputs\n",
    "#train_X, train_y = train[:,:, 1:], train[:,:,0]\n",
    "#test_X, test_y = test[:,:, 1:], test[:,:,0]\n",
    "train_X, train_y = train[:,:, 1:], train_labels[:]\n",
    "test_X, test_y = test[:,:, 1:], test_labels[:]"
   ]
  },
  {
   "cell_type": "code",
   "execution_count": 12,
   "metadata": {},
   "outputs": [
    {
     "data": {
      "text/plain": [
       "(380244, 32, 15)"
      ]
     },
     "execution_count": 12,
     "metadata": {},
     "output_type": "execute_result"
    }
   ],
   "source": [
    "train_X.shape"
   ]
  },
  {
   "cell_type": "code",
   "execution_count": 13,
   "metadata": {},
   "outputs": [
    {
     "data": {
      "text/plain": [
       "array([0., 0., 0., ..., 0., 0., 0.])"
      ]
     },
     "execution_count": 13,
     "metadata": {},
     "output_type": "execute_result"
    }
   ],
   "source": [
    "train_y"
   ]
  },
  {
   "cell_type": "code",
   "execution_count": 14,
   "metadata": {},
   "outputs": [],
   "source": [
    "#print(train_X)"
   ]
  },
  {
   "cell_type": "code",
   "execution_count": 15,
   "metadata": {},
   "outputs": [
    {
     "data": {
      "text/plain": [
       "(380244,)"
      ]
     },
     "execution_count": 15,
     "metadata": {},
     "output_type": "execute_result"
    }
   ],
   "source": [
    "train_y.shape"
   ]
  },
  {
   "cell_type": "code",
   "execution_count": 16,
   "metadata": {},
   "outputs": [],
   "source": [
    "#print(test_y)"
   ]
  },
  {
   "cell_type": "code",
   "execution_count": 17,
   "metadata": {},
   "outputs": [],
   "source": [
    "train_y=train_y.reshape(train_y.shape[0],1)"
   ]
  },
  {
   "cell_type": "code",
   "execution_count": 18,
   "metadata": {},
   "outputs": [],
   "source": [
    "test_y=test_y.reshape(test_y.shape[0],1)"
   ]
  },
  {
   "cell_type": "code",
   "execution_count": 19,
   "metadata": {},
   "outputs": [],
   "source": [
    "#print(train_X)"
   ]
  },
  {
   "cell_type": "code",
   "execution_count": 20,
   "metadata": {},
   "outputs": [
    {
     "name": "stdout",
     "output_type": "stream",
     "text": [
      "(380244, 32, 15) (380244, 1) (95061, 32, 15) (95061, 1)\n"
     ]
    }
   ],
   "source": [
    "print(train_X.shape, train_y.shape, test_X.shape, test_y.shape)"
   ]
  },
  {
   "cell_type": "code",
   "execution_count": 21,
   "metadata": {},
   "outputs": [],
   "source": [
    "model_gru =  keras.models.Sequential([\n",
    "    keras.layers.GRU(128,return_sequences=True,input_shape=(train_X.shape[1],train_X.shape[2])),\n",
    "    keras.layers.GRU(units=64,return_sequences=True),\n",
    "    keras.layers.GRU(units=32),\n",
    "    keras.layers.Dense(units=50,activation='sigmoid'),\n",
    "    keras.layers.Dense(units=1,activation='sigmoid')\n",
    "                        ])\n",
    "opt=keras.optimizers.Adam(learning_rate=0.0007)\n",
    "model_gru.compile(loss='binary_crossentropy', optimizer=opt,metrics=['accuracy'])"
   ]
  },
  {
   "cell_type": "code",
   "execution_count": 22,
   "metadata": {
    "scrolled": false
   },
   "outputs": [
    {
     "name": "stdout",
     "output_type": "stream",
     "text": [
      "Model: \"sequential\"\n",
      "_________________________________________________________________\n",
      " Layer (type)                Output Shape              Param #   \n",
      "=================================================================\n",
      " gru (GRU)                   (None, 32, 128)           55680     \n",
      "                                                                 \n",
      " gru_1 (GRU)                 (None, 32, 64)            37248     \n",
      "                                                                 \n",
      " gru_2 (GRU)                 (None, 32)                9408      \n",
      "                                                                 \n",
      " dense (Dense)               (None, 50)                1650      \n",
      "                                                                 \n",
      " dense_1 (Dense)             (None, 1)                 51        \n",
      "                                                                 \n",
      "=================================================================\n",
      "Total params: 104,037\n",
      "Trainable params: 104,037\n",
      "Non-trainable params: 0\n",
      "_________________________________________________________________\n"
     ]
    }
   ],
   "source": [
    "model_gru.summary()"
   ]
  },
  {
   "cell_type": "code",
   "execution_count": 23,
   "metadata": {},
   "outputs": [],
   "source": [
    " start = t.time()"
   ]
  },
  {
   "cell_type": "code",
   "execution_count": 24,
   "metadata": {},
   "outputs": [
    {
     "name": "stdout",
     "output_type": "stream",
     "text": [
      "Epoch 1/140\n",
      "24/24 [==============================] - 11s 198ms/step - loss: 0.6224 - accuracy: 0.6537 - val_loss: 0.5605 - val_accuracy: 0.7530\n",
      "Epoch 2/140\n",
      "24/24 [==============================] - 3s 144ms/step - loss: 0.5742 - accuracy: 0.7393 - val_loss: 0.5591 - val_accuracy: 0.7530\n",
      "Epoch 3/140\n",
      "24/24 [==============================] - 3s 143ms/step - loss: 0.5731 - accuracy: 0.7393 - val_loss: 0.5585 - val_accuracy: 0.7530\n",
      "Epoch 4/140\n",
      "24/24 [==============================] - 3s 143ms/step - loss: 0.5680 - accuracy: 0.7393 - val_loss: 0.5412 - val_accuracy: 0.7530\n",
      "Epoch 5/140\n",
      "24/24 [==============================] - 3s 143ms/step - loss: 0.5380 - accuracy: 0.7393 - val_loss: 0.5104 - val_accuracy: 0.7531\n",
      "Epoch 6/140\n",
      "24/24 [==============================] - 3s 143ms/step - loss: 0.5132 - accuracy: 0.7389 - val_loss: 0.4946 - val_accuracy: 0.7526\n",
      "Epoch 7/140\n",
      "24/24 [==============================] - 3s 143ms/step - loss: 0.5030 - accuracy: 0.7394 - val_loss: 0.4954 - val_accuracy: 0.7524\n",
      "Epoch 8/140\n",
      "24/24 [==============================] - 3s 143ms/step - loss: 0.4992 - accuracy: 0.7418 - val_loss: 0.4820 - val_accuracy: 0.7537\n",
      "Epoch 9/140\n",
      "24/24 [==============================] - 3s 143ms/step - loss: 0.4952 - accuracy: 0.7443 - val_loss: 0.4880 - val_accuracy: 0.7532\n",
      "Epoch 10/140\n",
      "24/24 [==============================] - 3s 145ms/step - loss: 0.4925 - accuracy: 0.7467 - val_loss: 0.4794 - val_accuracy: 0.7532\n",
      "Epoch 11/140\n",
      "24/24 [==============================] - 4s 150ms/step - loss: 0.4880 - accuracy: 0.7481 - val_loss: 0.4752 - val_accuracy: 0.7540\n",
      "Epoch 12/140\n",
      "24/24 [==============================] - 4s 147ms/step - loss: 0.4826 - accuracy: 0.7499 - val_loss: 0.4744 - val_accuracy: 0.7548\n",
      "Epoch 13/140\n",
      "24/24 [==============================] - 4s 147ms/step - loss: 0.4781 - accuracy: 0.7537 - val_loss: 0.4696 - val_accuracy: 0.7595\n",
      "Epoch 14/140\n",
      "24/24 [==============================] - 4s 148ms/step - loss: 0.4727 - accuracy: 0.7562 - val_loss: 0.4655 - val_accuracy: 0.7579\n",
      "Epoch 15/140\n",
      "24/24 [==============================] - 4s 150ms/step - loss: 0.4687 - accuracy: 0.7584 - val_loss: 0.4588 - val_accuracy: 0.7633\n",
      "Epoch 16/140\n",
      "24/24 [==============================] - 4s 151ms/step - loss: 0.4698 - accuracy: 0.7584 - val_loss: 0.4611 - val_accuracy: 0.7613\n",
      "Epoch 17/140\n",
      "24/24 [==============================] - 4s 151ms/step - loss: 0.4647 - accuracy: 0.7602 - val_loss: 0.4540 - val_accuracy: 0.7656\n",
      "Epoch 18/140\n",
      "24/24 [==============================] - 4s 149ms/step - loss: 0.4615 - accuracy: 0.7609 - val_loss: 0.4552 - val_accuracy: 0.7670\n",
      "Epoch 19/140\n",
      "24/24 [==============================] - 4s 148ms/step - loss: 0.4638 - accuracy: 0.7606 - val_loss: 0.4547 - val_accuracy: 0.7654\n",
      "Epoch 20/140\n",
      "24/24 [==============================] - 4s 151ms/step - loss: 0.4597 - accuracy: 0.7619 - val_loss: 0.4551 - val_accuracy: 0.7683\n",
      "Epoch 21/140\n",
      "24/24 [==============================] - 4s 148ms/step - loss: 0.4588 - accuracy: 0.7623 - val_loss: 0.4525 - val_accuracy: 0.7686\n",
      "Epoch 22/140\n",
      "24/24 [==============================] - 4s 149ms/step - loss: 0.4576 - accuracy: 0.7632 - val_loss: 0.4486 - val_accuracy: 0.7678\n",
      "Epoch 23/140\n",
      "24/24 [==============================] - 4s 148ms/step - loss: 0.4550 - accuracy: 0.7637 - val_loss: 0.4494 - val_accuracy: 0.7690\n",
      "Epoch 24/140\n",
      "24/24 [==============================] - 4s 148ms/step - loss: 0.4567 - accuracy: 0.7641 - val_loss: 0.4482 - val_accuracy: 0.7691\n",
      "Epoch 25/140\n",
      "24/24 [==============================] - 4s 148ms/step - loss: 0.4541 - accuracy: 0.7650 - val_loss: 0.4453 - val_accuracy: 0.7697\n",
      "Epoch 26/140\n",
      "24/24 [==============================] - 4s 148ms/step - loss: 0.4528 - accuracy: 0.7658 - val_loss: 0.4497 - val_accuracy: 0.7708\n",
      "Epoch 27/140\n",
      "24/24 [==============================] - 4s 149ms/step - loss: 0.4525 - accuracy: 0.7661 - val_loss: 0.4459 - val_accuracy: 0.7715\n",
      "Epoch 28/140\n",
      "24/24 [==============================] - 4s 151ms/step - loss: 0.4539 - accuracy: 0.7656 - val_loss: 0.4454 - val_accuracy: 0.7716\n",
      "Epoch 29/140\n",
      "24/24 [==============================] - 4s 153ms/step - loss: 0.4503 - accuracy: 0.7668 - val_loss: 0.4475 - val_accuracy: 0.7721\n",
      "Epoch 30/140\n",
      "24/24 [==============================] - 4s 150ms/step - loss: 0.4513 - accuracy: 0.7667 - val_loss: 0.4420 - val_accuracy: 0.7723\n",
      "Epoch 31/140\n",
      "24/24 [==============================] - 4s 152ms/step - loss: 0.4492 - accuracy: 0.7676 - val_loss: 0.4419 - val_accuracy: 0.7719\n",
      "Epoch 32/140\n",
      "24/24 [==============================] - 4s 150ms/step - loss: 0.4497 - accuracy: 0.7678 - val_loss: 0.4416 - val_accuracy: 0.7721\n",
      "Epoch 33/140\n",
      "24/24 [==============================] - 4s 149ms/step - loss: 0.4482 - accuracy: 0.7681 - val_loss: 0.4425 - val_accuracy: 0.7726\n",
      "Epoch 34/140\n",
      "24/24 [==============================] - 4s 151ms/step - loss: 0.4482 - accuracy: 0.7683 - val_loss: 0.4413 - val_accuracy: 0.7734\n",
      "Epoch 35/140\n",
      "24/24 [==============================] - 4s 149ms/step - loss: 0.4491 - accuracy: 0.7686 - val_loss: 0.4546 - val_accuracy: 0.7728\n",
      "Epoch 36/140\n",
      "24/24 [==============================] - 4s 150ms/step - loss: 0.4484 - accuracy: 0.7687 - val_loss: 0.4445 - val_accuracy: 0.7729\n",
      "Epoch 37/140\n",
      "24/24 [==============================] - 4s 152ms/step - loss: 0.4469 - accuracy: 0.7690 - val_loss: 0.4440 - val_accuracy: 0.7752\n",
      "Epoch 38/140\n",
      "24/24 [==============================] - 4s 150ms/step - loss: 0.4466 - accuracy: 0.7697 - val_loss: 0.4391 - val_accuracy: 0.7743\n",
      "Epoch 39/140\n",
      "24/24 [==============================] - 4s 149ms/step - loss: 0.4465 - accuracy: 0.7697 - val_loss: 0.4382 - val_accuracy: 0.7756\n",
      "Epoch 40/140\n",
      "24/24 [==============================] - 4s 152ms/step - loss: 0.4445 - accuracy: 0.7702 - val_loss: 0.4413 - val_accuracy: 0.7746\n",
      "Epoch 41/140\n",
      "24/24 [==============================] - 4s 150ms/step - loss: 0.4439 - accuracy: 0.7703 - val_loss: 0.4391 - val_accuracy: 0.7764\n",
      "Epoch 42/140\n",
      "24/24 [==============================] - 4s 152ms/step - loss: 0.4450 - accuracy: 0.7706 - val_loss: 0.4388 - val_accuracy: 0.7760\n",
      "Epoch 43/140\n",
      "24/24 [==============================] - 4s 151ms/step - loss: 0.4428 - accuracy: 0.7710 - val_loss: 0.4361 - val_accuracy: 0.7760\n",
      "Epoch 44/140\n",
      "24/24 [==============================] - 4s 149ms/step - loss: 0.4417 - accuracy: 0.7713 - val_loss: 0.4388 - val_accuracy: 0.7774\n",
      "Epoch 45/140\n",
      "24/24 [==============================] - 4s 149ms/step - loss: 0.4416 - accuracy: 0.7719 - val_loss: 0.4418 - val_accuracy: 0.7766\n",
      "Epoch 46/140\n",
      "24/24 [==============================] - 4s 149ms/step - loss: 0.4416 - accuracy: 0.7720 - val_loss: 0.4361 - val_accuracy: 0.7775\n",
      "Epoch 47/140\n",
      "24/24 [==============================] - 4s 150ms/step - loss: 0.4410 - accuracy: 0.7725 - val_loss: 0.4381 - val_accuracy: 0.7770\n",
      "Epoch 48/140\n",
      "24/24 [==============================] - 4s 149ms/step - loss: 0.4407 - accuracy: 0.7727 - val_loss: 0.4344 - val_accuracy: 0.7785\n",
      "Epoch 49/140\n",
      "24/24 [==============================] - 4s 150ms/step - loss: 0.4397 - accuracy: 0.7730 - val_loss: 0.4347 - val_accuracy: 0.7773\n",
      "Epoch 50/140\n",
      "24/24 [==============================] - 4s 150ms/step - loss: 0.4400 - accuracy: 0.7732 - val_loss: 0.4385 - val_accuracy: 0.7764\n",
      "Epoch 51/140\n",
      "24/24 [==============================] - 4s 150ms/step - loss: 0.4401 - accuracy: 0.7733 - val_loss: 0.4373 - val_accuracy: 0.7780\n",
      "Epoch 52/140\n",
      "24/24 [==============================] - 4s 152ms/step - loss: 0.4404 - accuracy: 0.7736 - val_loss: 0.4358 - val_accuracy: 0.7784\n",
      "Epoch 53/140\n",
      "24/24 [==============================] - 4s 148ms/step - loss: 0.4384 - accuracy: 0.7744 - val_loss: 0.4343 - val_accuracy: 0.7786\n",
      "Epoch 54/140\n",
      "24/24 [==============================] - 4s 151ms/step - loss: 0.4387 - accuracy: 0.7748 - val_loss: 0.4321 - val_accuracy: 0.7795\n",
      "Epoch 55/140\n",
      "24/24 [==============================] - 4s 149ms/step - loss: 0.4388 - accuracy: 0.7746 - val_loss: 0.4395 - val_accuracy: 0.7780\n",
      "Epoch 56/140\n",
      "24/24 [==============================] - 4s 148ms/step - loss: 0.4392 - accuracy: 0.7747 - val_loss: 0.4350 - val_accuracy: 0.7786\n",
      "Epoch 57/140\n",
      "24/24 [==============================] - 4s 149ms/step - loss: 0.4385 - accuracy: 0.7752 - val_loss: 0.4319 - val_accuracy: 0.7800\n"
     ]
    },
    {
     "name": "stdout",
     "output_type": "stream",
     "text": [
      "Epoch 58/140\n",
      "24/24 [==============================] - 4s 148ms/step - loss: 0.4369 - accuracy: 0.7757 - val_loss: 0.4377 - val_accuracy: 0.7776\n",
      "Epoch 59/140\n",
      "24/24 [==============================] - 4s 147ms/step - loss: 0.4366 - accuracy: 0.7760 - val_loss: 0.4349 - val_accuracy: 0.7797\n",
      "Epoch 60/140\n",
      "24/24 [==============================] - 4s 148ms/step - loss: 0.4367 - accuracy: 0.7761 - val_loss: 0.4319 - val_accuracy: 0.7796\n",
      "Epoch 61/140\n",
      "24/24 [==============================] - 4s 151ms/step - loss: 0.4360 - accuracy: 0.7761 - val_loss: 0.4353 - val_accuracy: 0.7769\n",
      "Epoch 62/140\n",
      "24/24 [==============================] - 4s 153ms/step - loss: 0.4362 - accuracy: 0.7763 - val_loss: 0.4312 - val_accuracy: 0.7794\n",
      "Epoch 63/140\n",
      "24/24 [==============================] - 4s 150ms/step - loss: 0.4358 - accuracy: 0.7766 - val_loss: 0.4332 - val_accuracy: 0.7777\n",
      "Epoch 64/140\n",
      "24/24 [==============================] - 4s 149ms/step - loss: 0.4349 - accuracy: 0.7771 - val_loss: 0.4379 - val_accuracy: 0.7801\n",
      "Epoch 65/140\n",
      "24/24 [==============================] - 4s 150ms/step - loss: 0.4360 - accuracy: 0.7772 - val_loss: 0.4360 - val_accuracy: 0.7804\n",
      "Epoch 66/140\n",
      "24/24 [==============================] - 4s 152ms/step - loss: 0.4345 - accuracy: 0.7773 - val_loss: 0.4317 - val_accuracy: 0.7783\n",
      "Epoch 67/140\n",
      "24/24 [==============================] - 4s 150ms/step - loss: 0.4339 - accuracy: 0.7781 - val_loss: 0.4412 - val_accuracy: 0.7794\n",
      "Epoch 68/140\n",
      "24/24 [==============================] - 4s 147ms/step - loss: 0.4364 - accuracy: 0.7774 - val_loss: 0.4315 - val_accuracy: 0.7801\n",
      "Epoch 69/140\n",
      "24/24 [==============================] - 4s 149ms/step - loss: 0.4341 - accuracy: 0.7776 - val_loss: 0.4339 - val_accuracy: 0.7778\n",
      "Epoch 70/140\n",
      "24/24 [==============================] - 4s 153ms/step - loss: 0.4349 - accuracy: 0.7777 - val_loss: 0.4339 - val_accuracy: 0.7806\n",
      "Epoch 71/140\n",
      "24/24 [==============================] - 4s 153ms/step - loss: 0.4328 - accuracy: 0.7786 - val_loss: 0.4336 - val_accuracy: 0.7815\n",
      "Epoch 72/140\n",
      "24/24 [==============================] - 4s 153ms/step - loss: 0.4345 - accuracy: 0.7784 - val_loss: 0.4309 - val_accuracy: 0.7792\n",
      "Epoch 73/140\n",
      "24/24 [==============================] - 4s 151ms/step - loss: 0.4332 - accuracy: 0.7785 - val_loss: 0.4301 - val_accuracy: 0.7814\n",
      "Epoch 74/140\n",
      "24/24 [==============================] - 4s 150ms/step - loss: 0.4328 - accuracy: 0.7792 - val_loss: 0.4306 - val_accuracy: 0.7795\n",
      "Epoch 75/140\n",
      "24/24 [==============================] - 4s 151ms/step - loss: 0.4333 - accuracy: 0.7787 - val_loss: 0.4296 - val_accuracy: 0.7808\n",
      "Epoch 76/140\n",
      "24/24 [==============================] - 4s 150ms/step - loss: 0.4316 - accuracy: 0.7792 - val_loss: 0.4338 - val_accuracy: 0.7818\n",
      "Epoch 77/140\n",
      "24/24 [==============================] - 4s 151ms/step - loss: 0.4317 - accuracy: 0.7794 - val_loss: 0.4309 - val_accuracy: 0.7817\n",
      "Epoch 78/140\n",
      "24/24 [==============================] - 4s 150ms/step - loss: 0.4315 - accuracy: 0.7793 - val_loss: 0.4305 - val_accuracy: 0.7805\n",
      "Epoch 79/140\n",
      "24/24 [==============================] - 4s 150ms/step - loss: 0.4311 - accuracy: 0.7797 - val_loss: 0.4291 - val_accuracy: 0.7799\n",
      "Epoch 80/140\n",
      "24/24 [==============================] - 4s 147ms/step - loss: 0.4315 - accuracy: 0.7796 - val_loss: 0.4314 - val_accuracy: 0.7801\n",
      "Epoch 81/140\n",
      "24/24 [==============================] - 4s 150ms/step - loss: 0.4315 - accuracy: 0.7795 - val_loss: 0.4316 - val_accuracy: 0.7813\n",
      "Epoch 82/140\n",
      "24/24 [==============================] - 4s 150ms/step - loss: 0.4298 - accuracy: 0.7804 - val_loss: 0.4303 - val_accuracy: 0.7822\n",
      "Epoch 83/140\n",
      "24/24 [==============================] - 4s 150ms/step - loss: 0.4303 - accuracy: 0.7797 - val_loss: 0.4325 - val_accuracy: 0.7816\n",
      "Epoch 84/140\n",
      "24/24 [==============================] - 4s 152ms/step - loss: 0.4307 - accuracy: 0.7799 - val_loss: 0.4286 - val_accuracy: 0.7819\n",
      "Epoch 85/140\n",
      "24/24 [==============================] - 3s 145ms/step - loss: 0.4296 - accuracy: 0.7802 - val_loss: 0.4365 - val_accuracy: 0.7734\n",
      "Epoch 86/140\n",
      "24/24 [==============================] - 3s 143ms/step - loss: 0.4313 - accuracy: 0.7796 - val_loss: 0.4314 - val_accuracy: 0.7797\n",
      "Epoch 87/140\n",
      "24/24 [==============================] - 3s 144ms/step - loss: 0.4300 - accuracy: 0.7806 - val_loss: 0.4307 - val_accuracy: 0.7828\n",
      "Epoch 88/140\n",
      "24/24 [==============================] - 3s 144ms/step - loss: 0.4306 - accuracy: 0.7798 - val_loss: 0.4307 - val_accuracy: 0.7793\n",
      "Epoch 89/140\n",
      "24/24 [==============================] - 3s 144ms/step - loss: 0.4293 - accuracy: 0.7808 - val_loss: 0.4357 - val_accuracy: 0.7801\n",
      "Epoch 90/140\n",
      "24/24 [==============================] - 3s 144ms/step - loss: 0.4290 - accuracy: 0.7807 - val_loss: 0.4314 - val_accuracy: 0.7800\n",
      "Epoch 91/140\n",
      "24/24 [==============================] - 3s 143ms/step - loss: 0.4296 - accuracy: 0.7802 - val_loss: 0.4294 - val_accuracy: 0.7826\n",
      "Epoch 92/140\n",
      "24/24 [==============================] - 3s 144ms/step - loss: 0.4287 - accuracy: 0.7811 - val_loss: 0.4281 - val_accuracy: 0.7828\n",
      "Epoch 93/140\n",
      "24/24 [==============================] - 3s 144ms/step - loss: 0.4278 - accuracy: 0.7813 - val_loss: 0.4309 - val_accuracy: 0.7797\n",
      "Epoch 94/140\n",
      "24/24 [==============================] - 3s 146ms/step - loss: 0.4282 - accuracy: 0.7811 - val_loss: 0.4289 - val_accuracy: 0.7823\n",
      "Epoch 95/140\n",
      "24/24 [==============================] - 3s 145ms/step - loss: 0.4296 - accuracy: 0.7811 - val_loss: 0.4282 - val_accuracy: 0.7829\n",
      "Epoch 96/140\n",
      "24/24 [==============================] - 4s 149ms/step - loss: 0.4277 - accuracy: 0.7814 - val_loss: 0.4314 - val_accuracy: 0.7798\n",
      "Epoch 97/140\n",
      "24/24 [==============================] - 4s 149ms/step - loss: 0.4273 - accuracy: 0.7818 - val_loss: 0.4309 - val_accuracy: 0.7781\n",
      "Epoch 98/140\n",
      "24/24 [==============================] - 4s 150ms/step - loss: 0.4272 - accuracy: 0.7816 - val_loss: 0.4286 - val_accuracy: 0.7796\n",
      "Epoch 99/140\n",
      "24/24 [==============================] - 4s 150ms/step - loss: 0.4271 - accuracy: 0.7816 - val_loss: 0.4280 - val_accuracy: 0.7818\n",
      "Epoch 100/140\n",
      "24/24 [==============================] - 4s 150ms/step - loss: 0.4274 - accuracy: 0.7823 - val_loss: 0.4312 - val_accuracy: 0.7817\n",
      "Epoch 101/140\n",
      "24/24 [==============================] - 4s 152ms/step - loss: 0.4281 - accuracy: 0.7819 - val_loss: 0.4294 - val_accuracy: 0.7795\n",
      "Epoch 102/140\n",
      "24/24 [==============================] - 4s 148ms/step - loss: 0.4269 - accuracy: 0.7818 - val_loss: 0.4301 - val_accuracy: 0.7827\n",
      "Epoch 103/140\n",
      "24/24 [==============================] - 4s 149ms/step - loss: 0.4271 - accuracy: 0.7819 - val_loss: 0.4315 - val_accuracy: 0.7778\n",
      "Epoch 104/140\n",
      "24/24 [==============================] - 4s 150ms/step - loss: 0.4267 - accuracy: 0.7821 - val_loss: 0.4269 - val_accuracy: 0.7840\n",
      "Epoch 105/140\n",
      "24/24 [==============================] - 4s 150ms/step - loss: 0.4258 - accuracy: 0.7826 - val_loss: 0.4287 - val_accuracy: 0.7833\n",
      "Epoch 106/140\n",
      "24/24 [==============================] - 3s 145ms/step - loss: 0.4257 - accuracy: 0.7826 - val_loss: 0.4277 - val_accuracy: 0.7819\n",
      "Epoch 107/140\n",
      "24/24 [==============================] - 3s 144ms/step - loss: 0.4262 - accuracy: 0.7824 - val_loss: 0.4296 - val_accuracy: 0.7801\n",
      "Epoch 108/140\n",
      "24/24 [==============================] - 3s 144ms/step - loss: 0.4275 - accuracy: 0.7820 - val_loss: 0.4337 - val_accuracy: 0.7830\n",
      "Epoch 109/140\n",
      "24/24 [==============================] - 4s 147ms/step - loss: 0.4276 - accuracy: 0.7821 - val_loss: 0.4302 - val_accuracy: 0.7826\n",
      "Epoch 110/140\n",
      "24/24 [==============================] - 4s 151ms/step - loss: 0.4255 - accuracy: 0.7825 - val_loss: 0.4276 - val_accuracy: 0.7817\n",
      "Epoch 111/140\n",
      "24/24 [==============================] - 4s 150ms/step - loss: 0.4251 - accuracy: 0.7827 - val_loss: 0.4279 - val_accuracy: 0.7816\n",
      "Epoch 112/140\n",
      "24/24 [==============================] - 4s 148ms/step - loss: 0.4268 - accuracy: 0.7827 - val_loss: 0.4277 - val_accuracy: 0.7826\n",
      "Epoch 113/140\n",
      "24/24 [==============================] - 4s 152ms/step - loss: 0.4247 - accuracy: 0.7829 - val_loss: 0.4303 - val_accuracy: 0.7777\n",
      "Epoch 114/140\n",
      "24/24 [==============================] - 4s 151ms/step - loss: 0.4250 - accuracy: 0.7831 - val_loss: 0.4324 - val_accuracy: 0.7823\n"
     ]
    },
    {
     "name": "stdout",
     "output_type": "stream",
     "text": [
      "Epoch 115/140\n",
      "24/24 [==============================] - 4s 150ms/step - loss: 0.4248 - accuracy: 0.7832 - val_loss: 0.4262 - val_accuracy: 0.7836\n",
      "Epoch 116/140\n",
      "24/24 [==============================] - 4s 152ms/step - loss: 0.4247 - accuracy: 0.7829 - val_loss: 0.4267 - val_accuracy: 0.7825\n",
      "Epoch 117/140\n",
      "24/24 [==============================] - 4s 151ms/step - loss: 0.4236 - accuracy: 0.7832 - val_loss: 0.4261 - val_accuracy: 0.7838\n",
      "Epoch 118/140\n",
      "24/24 [==============================] - 4s 153ms/step - loss: 0.4235 - accuracy: 0.7834 - val_loss: 0.4265 - val_accuracy: 0.7820\n",
      "Epoch 119/140\n",
      "24/24 [==============================] - 4s 158ms/step - loss: 0.4234 - accuracy: 0.7838 - val_loss: 0.4246 - val_accuracy: 0.7848\n",
      "Epoch 120/140\n",
      "24/24 [==============================] - 4s 161ms/step - loss: 0.4241 - accuracy: 0.7833 - val_loss: 0.4277 - val_accuracy: 0.7837\n",
      "Epoch 121/140\n",
      "24/24 [==============================] - 4s 149ms/step - loss: 0.4231 - accuracy: 0.7833 - val_loss: 0.4276 - val_accuracy: 0.7844\n",
      "Epoch 122/140\n",
      "24/24 [==============================] - 4s 150ms/step - loss: 0.4232 - accuracy: 0.7834 - val_loss: 0.4288 - val_accuracy: 0.7796\n",
      "Epoch 123/140\n",
      "24/24 [==============================] - 4s 148ms/step - loss: 0.4227 - accuracy: 0.7835 - val_loss: 0.4281 - val_accuracy: 0.7804\n",
      "Epoch 124/140\n",
      "24/24 [==============================] - 4s 149ms/step - loss: 0.4227 - accuracy: 0.7838 - val_loss: 0.4255 - val_accuracy: 0.7851\n",
      "Epoch 125/140\n",
      "24/24 [==============================] - 4s 153ms/step - loss: 0.4226 - accuracy: 0.7840 - val_loss: 0.4275 - val_accuracy: 0.7804\n",
      "Epoch 126/140\n",
      "24/24 [==============================] - 4s 150ms/step - loss: 0.4230 - accuracy: 0.7840 - val_loss: 0.4254 - val_accuracy: 0.7823\n",
      "Epoch 127/140\n",
      "24/24 [==============================] - 4s 149ms/step - loss: 0.4222 - accuracy: 0.7840 - val_loss: 0.4266 - val_accuracy: 0.7819\n",
      "Epoch 128/140\n",
      "24/24 [==============================] - 4s 153ms/step - loss: 0.4228 - accuracy: 0.7842 - val_loss: 0.4328 - val_accuracy: 0.7827\n",
      "Epoch 129/140\n",
      "24/24 [==============================] - 4s 150ms/step - loss: 0.4231 - accuracy: 0.7838 - val_loss: 0.4254 - val_accuracy: 0.7841\n",
      "Epoch 130/140\n",
      "24/24 [==============================] - 4s 149ms/step - loss: 0.4221 - accuracy: 0.7842 - val_loss: 0.4318 - val_accuracy: 0.7811\n",
      "Epoch 131/140\n",
      "24/24 [==============================] - 4s 148ms/step - loss: 0.4225 - accuracy: 0.7841 - val_loss: 0.4285 - val_accuracy: 0.7825\n",
      "Epoch 132/140\n",
      "24/24 [==============================] - 4s 148ms/step - loss: 0.4210 - accuracy: 0.7846 - val_loss: 0.4266 - val_accuracy: 0.7805\n",
      "Epoch 133/140\n",
      "24/24 [==============================] - 4s 148ms/step - loss: 0.4228 - accuracy: 0.7841 - val_loss: 0.4278 - val_accuracy: 0.7799\n",
      "Epoch 134/140\n",
      "24/24 [==============================] - 4s 149ms/step - loss: 0.4217 - accuracy: 0.7846 - val_loss: 0.4258 - val_accuracy: 0.7847\n",
      "Epoch 135/140\n",
      "24/24 [==============================] - 4s 155ms/step - loss: 0.4225 - accuracy: 0.7846 - val_loss: 0.4274 - val_accuracy: 0.7840\n",
      "Epoch 136/140\n",
      "24/24 [==============================] - 4s 155ms/step - loss: 0.4213 - accuracy: 0.7848 - val_loss: 0.4284 - val_accuracy: 0.7815\n",
      "Epoch 137/140\n",
      "24/24 [==============================] - 4s 157ms/step - loss: 0.4204 - accuracy: 0.7851 - val_loss: 0.4250 - val_accuracy: 0.7839\n",
      "Epoch 138/140\n",
      "24/24 [==============================] - 4s 151ms/step - loss: 0.4203 - accuracy: 0.7851 - val_loss: 0.4257 - val_accuracy: 0.7822\n",
      "Epoch 139/140\n",
      "24/24 [==============================] - 4s 155ms/step - loss: 0.4203 - accuracy: 0.7851 - val_loss: 0.4255 - val_accuracy: 0.7832\n",
      "Epoch 140/140\n",
      "24/24 [==============================] - 4s 160ms/step - loss: 0.4202 - accuracy: 0.7853 - val_loss: 0.4272 - val_accuracy: 0.7813\n"
     ]
    }
   ],
   "source": [
    "gru_history = model_gru.fit(train_X, train_y, epochs=140,validation_data=(test_X, test_y),batch_size=16384)#, shuffle=False)"
   ]
  },
  {
   "cell_type": "code",
   "execution_count": 25,
   "metadata": {},
   "outputs": [
    {
     "name": "stdout",
     "output_type": "stream",
     "text": [
      "2971/2971 [==============================] - 21s 7ms/step\n"
     ]
    }
   ],
   "source": [
    "pred_y =  model_gru.predict(test_X)"
   ]
  },
  {
   "cell_type": "code",
   "execution_count": 26,
   "metadata": {},
   "outputs": [
    {
     "name": "stdout",
     "output_type": "stream",
     "text": [
      "533.4205415248871\n"
     ]
    }
   ],
   "source": [
    "stop=t.time()-start\n",
    "print(stop)"
   ]
  },
  {
   "cell_type": "code",
   "execution_count": 27,
   "metadata": {},
   "outputs": [
    {
     "data": {
      "image/png": "[encoded data removed]",
      "text/plain": [
       "<Figure size 640x480 with 1 Axes>"
      ]
     },
     "metadata": {},
     "output_type": "display_data"
    }
   ],
   "source": [
    "#plt.plot(gru_history.history['accuracy'], label='GRU accuracy', color='green')\n",
    "#plt.plot(gru_history.history['val_accuracy'], label='GRU val_accuracy', color='yellow')\n",
    "plt.plot(gru_history.history['loss'], label='GRU train', color='brown')\n",
    "plt.plot(gru_history.history['val_loss'], label='GRU test', color='blue')\n",
    "plt.legend()\n",
    "plt.show()"
   ]
  },
  {
   "cell_type": "code",
   "execution_count": 28,
   "metadata": {
    "scrolled": true
   },
   "outputs": [
    {
     "data": {
      "image/png": "[encoded data removed]",
      "text/plain": [
       "<Figure size 640x480 with 1 Axes>"
      ]
     },
     "metadata": {},
     "output_type": "display_data"
    }
   ],
   "source": [
    "plt.plot(gru_history.history['accuracy'], label='GRU accuracy', color='green')\n",
    "plt.plot(gru_history.history['val_accuracy'], label='GRU val_accuracy', color='yellow')\n",
    "plt.legend()\n",
    "plt.show()"
   ]
  },
  {
   "cell_type": "code",
   "execution_count": 29,
   "metadata": {},
   "outputs": [
    {
     "name": "stdout",
     "output_type": "stream",
     "text": [
      "[[0.]\n",
      " [0.]\n",
      " [0.]\n",
      " ...\n",
      " [0.]\n",
      " [0.]\n",
      " [0.]]\n"
     ]
    }
   ],
   "source": [
    "print(test_y)"
   ]
  },
  {
   "cell_type": "code",
   "execution_count": 30,
   "metadata": {},
   "outputs": [
    {
     "data": {
      "text/plain": [
       "(95061, 1)"
      ]
     },
     "execution_count": 30,
     "metadata": {},
     "output_type": "execute_result"
    }
   ],
   "source": [
    "np.shape(pred_y)"
   ]
  },
  {
   "cell_type": "code",
   "execution_count": 31,
   "metadata": {},
   "outputs": [
    {
     "data": {
      "text/plain": [
       "array([[0.00133444],\n",
       "       [0.00365883],\n",
       "       [0.00218977],\n",
       "       ...,\n",
       "       [0.05046443],\n",
       "       [0.05216485],\n",
       "       [0.05317554]], dtype=float32)"
      ]
     },
     "execution_count": 31,
     "metadata": {},
     "output_type": "execute_result"
    }
   ],
   "source": [
    "pred_y"
   ]
  },
  {
   "cell_type": "code",
   "execution_count": 32,
   "metadata": {},
   "outputs": [],
   "source": [
    "pred_y=np.reshape(pred_y,95061)"
   ]
  },
  {
   "cell_type": "code",
   "execution_count": 33,
   "metadata": {},
   "outputs": [
    {
     "name": "stdout",
     "output_type": "stream",
     "text": [
      "0.1430589770650819\n",
      "0.2307389518306916\n",
      "0.3782313803283407\n",
      "0.2839864079582253\n"
     ]
    },
    {
     "data": {
      "image/png": "[encoded data removed]",
      "text/plain": [
       "<Figure size 1500x500 with 1 Axes>"
      ]
     },
     "metadata": {},
     "output_type": "display_data"
    }
   ],
   "source": [
    "\n",
    "plt.rcParams['figure.figsize'] = (15,5)\n",
    "\n",
    "MSE = mean_squared_error(test_y, pred_y)\n",
    "R2 = r2_score(test_y, pred_y)\n",
    "RMSE = sqrt(mean_squared_error(test_y, pred_y))\n",
    "MAE = mean_absolute_error(test_y, pred_y)\n",
    "\n",
    "\n",
    "print(MSE)\n",
    "print(R2)\n",
    "print(RMSE)\n",
    "print(MAE)\n",
    "\n",
    "\n",
    "plt.plot(test_y, label = 'Actual')\n",
    "plt.plot(pred_y, label = 'Predicted')\n",
    "plt.legend()\n",
    "plt.show()"
   ]
  },
  {
   "cell_type": "code",
   "execution_count": 34,
   "metadata": {},
   "outputs": [
    {
     "data": {
      "text/plain": [
       "(380244, 32, 15)"
      ]
     },
     "execution_count": 34,
     "metadata": {},
     "output_type": "execute_result"
    }
   ],
   "source": [
    "np.shape(train_X)"
   ]
  },
  {
   "cell_type": "code",
   "execution_count": 35,
   "metadata": {},
   "outputs": [
    {
     "data": {
      "text/plain": [
       "(380244, 1)"
      ]
     },
     "execution_count": 35,
     "metadata": {},
     "output_type": "execute_result"
    }
   ],
   "source": [
    "np.shape(train_y)"
   ]
  },
  {
   "cell_type": "code",
   "execution_count": 36,
   "metadata": {},
   "outputs": [
    {
     "data": {
      "text/plain": [
       "(95061, 32, 15)"
      ]
     },
     "execution_count": 36,
     "metadata": {},
     "output_type": "execute_result"
    }
   ],
   "source": [
    "np.shape(test_X)"
   ]
  },
  {
   "cell_type": "code",
   "execution_count": 37,
   "metadata": {},
   "outputs": [
    {
     "data": {
      "text/plain": [
       "(95061, 1)"
      ]
     },
     "execution_count": 37,
     "metadata": {},
     "output_type": "execute_result"
    }
   ],
   "source": [
    "np.shape(test_y)"
   ]
  },
  {
   "cell_type": "code",
   "execution_count": null,
   "metadata": {},
   "outputs": [
    {
     "name": "stdout",
     "output_type": "stream",
     "text": [
      "14854/14854 [==============================] - 101s 7ms/step\n"
     ]
    }
   ],
   "source": [
    "tra = np.concatenate([train_X,test_X])\n",
    "tes = np.concatenate([train_y,test_y])\n",
    "fp = model_gru.predict(tra)\n",
    "plt.plot(tes, label = 'Actual')\n",
    "plt.plot(fp, label = 'Predicted')\n",
    "plt.legend()\n",
    "plt.show()"
   ]
  },
  {
   "cell_type": "code",
   "execution_count": null,
   "metadata": {},
   "outputs": [],
   "source": [
    "plt.plot(tes[:2000], label = 'Actual')\n",
    "plt.plot(fp[:2000], label = 'Predicted')\n",
    "plt.legend()\n",
    "plt.show()"
   ]
  },
  {
   "cell_type": "code",
   "execution_count": null,
   "metadata": {},
   "outputs": [],
   "source": [
    "print(sum(tes)/len(tes))"
   ]
  },
  {
   "cell_type": "code",
   "execution_count": null,
   "metadata": {},
   "outputs": [],
   "source": [
    "#print(fp[1000:1010])\n",
    "_fp = np.where(fp>0.5,1,0)\n",
    "_all = sum(_fp)\n",
    "_w = (_fp*tes)\n",
    "print(sum(_w)/_all)\n",
    "      \n",
    "_all_z = sum(1-_fp)      \n",
    "_w_z = (1-_fp)*(1-tes)\n",
    "print(sum(_w_z)/_all_z)\n",
    "print('total acc', (sum(_w)+sum(_w_z))/len(_w))"
   ]
  },
  {
   "cell_type": "code",
   "execution_count": null,
   "metadata": {},
   "outputs": [],
   "source": [
    "plt.plot(tes[:8000], label = 'Actual')\n",
    "plt.plot(fp[:8000], label = 'Predicted')\n",
    "plt.legend()\n",
    "plt.show()"
   ]
  },
  {
   "cell_type": "code",
   "execution_count": null,
   "metadata": {},
   "outputs": [],
   "source": [
    "#over very small part of data\n",
    "plt.plot(tes[2000:2020], label = 'Actual')\n",
    "plt.plot(fp[2000:2020], label = 'Predicted')\n",
    "plt.legend()\n",
    "plt.show()"
   ]
  },
  {
   "cell_type": "code",
   "execution_count": null,
   "metadata": {},
   "outputs": [],
   "source": [
    "plt.plot(tes[:50], label = 'Actual')\n",
    "plt.plot(fp[:50], label = 'Predicted')\n",
    "plt.legend()\n",
    "plt.show()"
   ]
  },
  {
   "cell_type": "code",
   "execution_count": null,
   "metadata": {},
   "outputs": [],
   "source": [
    "plt.plot(tes[:5], label = 'Actual')\n",
    "plt.plot(fp[:5], label = 'Predicted')\n",
    "plt.legend()\n",
    "plt.show()"
   ]
  },
  {
   "cell_type": "code",
   "execution_count": null,
   "metadata": {},
   "outputs": [],
   "source": [
    "tf.config.experimental.get_memory_info('GPU:0')"
   ]
  },
  {
   "cell_type": "code",
   "execution_count": null,
   "metadata": {},
   "outputs": [],
   "source": []
  },
  {
   "cell_type": "code",
   "execution_count": null,
   "metadata": {},
   "outputs": [],
   "source": []
  },
  {
   "cell_type": "code",
   "execution_count": null,
   "metadata": {},
   "outputs": [],
   "source": []
  }
 ],
 "metadata": {
  "kernelspec": {
   "display_name": "Python 3 (ipykernel)",
   "language": "python",
   "name": "python3"
  },
  "language_info": {
   "codemirror_mode": {
    "name": "ipython",
    "version": 3
   },
   "file_extension": ".py",
   "mimetype": "text/x-python",
   "name": "python",
   "nbconvert_exporter": "python",
   "pygments_lexer": "ipython3",
   "version": "3.9.13"
  }
 },
 "nbformat": 4,
 "nbformat_minor": 2
}
