{
 "cells": [
  {
   "cell_type": "code",
   "execution_count": 1,
   "metadata": {},
   "outputs": [
    {
     "name": "stderr",
     "output_type": "stream",
     "text": [
      "2023-01-07 15:57:49.646750: W tensorflow/compiler/xla/stream_executor/platform/default/dso_loader.cc:64] Could not load dynamic library 'libcudart.so.11.0'; dlerror: libcudart.so.11.0: cannot open shared object file: No such file or directory\n",
      "2023-01-07 15:57:49.646776: I tensorflow/compiler/xla/stream_executor/cuda/cudart_stub.cc:29] Ignore above cudart dlerror if you do not have a GPU set up on your machine.\n",
      "2023-01-07 15:57:51.062574: W tensorflow/compiler/xla/stream_executor/platform/default/dso_loader.cc:64] Could not load dynamic library 'libnvinfer.so.7'; dlerror: libnvinfer.so.7: cannot open shared object file: No such file or directory\n",
      "2023-01-07 15:57:51.062707: W tensorflow/compiler/xla/stream_executor/platform/default/dso_loader.cc:64] Could not load dynamic library 'libnvinfer_plugin.so.7'; dlerror: libnvinfer_plugin.so.7: cannot open shared object file: No such file or directory\n",
      "2023-01-07 15:57:51.062717: W tensorflow/compiler/tf2tensorrt/utils/py_utils.cc:38] TF-TRT Warning: Cannot dlopen some TensorRT libraries. If you would like to use Nvidia GPU with TensorRT, please make sure the missing libraries mentioned above are installed properly.\n"
     ]
    }
   ],
   "source": [
    "import pandas as pd\n",
    "import numpy as np\n",
    "import matplotlib.pyplot as plt\n",
    "from math import sqrt\n",
    "from numpy import concatenate\n",
    "from pandas import *\n",
    "from sklearn.preprocessing import *\n",
    "from sklearn.metrics import *\n",
    "from tensorflow import keras\n",
    "import tensorflow as tf\n",
    "import time as t"
   ]
  },
  {
   "cell_type": "code",
   "execution_count": 2,
   "metadata": {},
   "outputs": [],
   "source": [
    "w=32"
   ]
  },
  {
   "cell_type": "code",
   "execution_count": 3,
   "metadata": {},
   "outputs": [],
   "source": [
    "#print(dataFromSensors)\n",
    "dataFromSensors=np.load(\"DataWithLabels/dataFromSensors_\"+str(w)+\".npy\")"
   ]
  },
  {
   "cell_type": "code",
   "execution_count": 4,
   "metadata": {},
   "outputs": [
    {
     "name": "stdout",
     "output_type": "stream",
     "text": [
      "class:  ndarray\n",
      "shape:  (475305, 32, 16)\n",
      "strides:  (4096, 128, 8)\n",
      "itemsize:  8\n",
      "aligned:  True\n",
      "contiguous:  True\n",
      "fortran:  False\n",
      "data pointer: 0x7fe99e57f010\n",
      "byteorder:  little\n",
      "byteswap:  False\n",
      "type: float64\n"
     ]
    }
   ],
   "source": [
    "np.info(dataFromSensors)"
   ]
  },
  {
   "cell_type": "code",
   "execution_count": 5,
   "metadata": {},
   "outputs": [],
   "source": [
    "labels=np.load(\"DataWithLabels/labels_\"+str(w)+\".npy\")"
   ]
  },
  {
   "cell_type": "code",
   "execution_count": 6,
   "metadata": {},
   "outputs": [
    {
     "name": "stdout",
     "output_type": "stream",
     "text": [
      "class:  ndarray\n",
      "shape:  (475305,)\n",
      "strides:  (8,)\n",
      "itemsize:  8\n",
      "aligned:  True\n",
      "contiguous:  True\n",
      "fortran:  True\n",
      "data pointer: 0x7fe99e1de010\n",
      "byteorder:  little\n",
      "byteswap:  False\n",
      "type: float64\n"
     ]
    }
   ],
   "source": [
    "np.info(labels)"
   ]
  },
  {
   "cell_type": "code",
   "execution_count": 7,
   "metadata": {},
   "outputs": [],
   "source": [
    "#values = reframed_df.values\n",
    "#training_sample =int( len(dataset) *0.8)\n",
    "training_sample_labels =int( len(labels) *0.8)\n",
    "training_sample =int( len(dataFromSensors) *0.8)\n",
    "#testDataset=DataFrame.to_numpy(dataset)\n",
    "#testDataset=DataFrame.to_numpy(reframed_df)"
   ]
  },
  {
   "cell_type": "code",
   "execution_count": 8,
   "metadata": {},
   "outputs": [
    {
     "data": {
      "text/plain": [
       "380244"
      ]
     },
     "execution_count": 8,
     "metadata": {},
     "output_type": "execute_result"
    }
   ],
   "source": [
    "training_sample_labels"
   ]
  },
  {
   "cell_type": "code",
   "execution_count": 9,
   "metadata": {},
   "outputs": [
    {
     "data": {
      "text/plain": [
       "380244"
      ]
     },
     "execution_count": 9,
     "metadata": {},
     "output_type": "execute_result"
    }
   ],
   "source": [
    "training_sample"
   ]
  },
  {
   "cell_type": "code",
   "execution_count": 10,
   "metadata": {},
   "outputs": [],
   "source": [
    "train_labels = labels[:training_sample]\n",
    "train = dataFromSensors[:training_sample, : ,:]\n",
    "test_labels = labels[training_sample:]\n",
    "test = dataFromSensors[training_sample:, : , :]\n",
    "# split into input and outputs\n",
    "#train_X, train_y = train[:,:, 1:], train[:,:,0]\n",
    "#test_X, test_y = test[:,:, 1:], test[:,:,0]\n",
    "train_X, train_y = train[:,:, 1:], train_labels[:]\n",
    "test_X, test_y = test[:,:, 1:], test_labels[:]"
   ]
  },
  {
   "cell_type": "code",
   "execution_count": 11,
   "metadata": {},
   "outputs": [
    {
     "data": {
      "text/plain": [
       "(380244, 32, 15)"
      ]
     },
     "execution_count": 11,
     "metadata": {},
     "output_type": "execute_result"
    }
   ],
   "source": [
    "train_X.shape"
   ]
  },
  {
   "cell_type": "code",
   "execution_count": 12,
   "metadata": {},
   "outputs": [
    {
     "data": {
      "text/plain": [
       "array([0., 0., 0., ..., 0., 0., 0.])"
      ]
     },
     "execution_count": 12,
     "metadata": {},
     "output_type": "execute_result"
    }
   ],
   "source": [
    "train_y"
   ]
  },
  {
   "cell_type": "code",
   "execution_count": 13,
   "metadata": {},
   "outputs": [
    {
     "data": {
      "text/plain": [
       "(380244,)"
      ]
     },
     "execution_count": 13,
     "metadata": {},
     "output_type": "execute_result"
    }
   ],
   "source": [
    "train_y.shape"
   ]
  },
  {
   "cell_type": "code",
   "execution_count": 14,
   "metadata": {},
   "outputs": [],
   "source": [
    "train_y=train_y.reshape(train_y.shape[0],1)"
   ]
  },
  {
   "cell_type": "code",
   "execution_count": 15,
   "metadata": {},
   "outputs": [],
   "source": [
    "test_y=test_y.reshape(test_y.shape[0],1)"
   ]
  },
  {
   "cell_type": "code",
   "execution_count": 16,
   "metadata": {},
   "outputs": [],
   "source": [
    "#print(train_X)"
   ]
  },
  {
   "cell_type": "code",
   "execution_count": 17,
   "metadata": {},
   "outputs": [
    {
     "name": "stdout",
     "output_type": "stream",
     "text": [
      "(380244, 32, 15) (380244, 1) (95061, 32, 15) (95061, 1)\n"
     ]
    }
   ],
   "source": [
    "print(train_X.shape, train_y.shape, test_X.shape, test_y.shape)"
   ]
  },
  {
   "cell_type": "code",
   "execution_count": 18,
   "metadata": {},
   "outputs": [
    {
     "name": "stderr",
     "output_type": "stream",
     "text": [
      "2023-01-07 15:57:56.432305: W tensorflow/compiler/xla/stream_executor/platform/default/dso_loader.cc:64] Could not load dynamic library 'libcuda.so.1'; dlerror: libcuda.so.1: cannot open shared object file: No such file or directory\n",
      "2023-01-07 15:57:56.432843: W tensorflow/compiler/xla/stream_executor/cuda/cuda_driver.cc:265] failed call to cuInit: UNKNOWN ERROR (303)\n",
      "2023-01-07 15:57:56.432902: I tensorflow/compiler/xla/stream_executor/cuda/cuda_diagnostics.cc:156] kernel driver does not appear to be running on this host (server-OptiPlex-7010): /proc/driver/nvidia/version does not exist\n"
     ]
    }
   ],
   "source": [
    "model_gru =  keras.models.Sequential([\n",
    "  \n",
    "    keras.layers.GRU(256,return_sequences=True,input_shape=(train_X.shape[1],train_X.shape[2]),activation='relu'),\n",
    "    keras.layers.GRU(units=128,return_sequences=True,activation='relu'),\n",
    "    keras.layers.GRU(units=64,activation='relu'),\n",
    "    keras.layers.Dense(units=100,activation='sigmoid'),\n",
    "    keras.layers.Dense(units=1,activation='sigmoid')\n",
    "                        ])\n",
    "model_gru.compile(loss='binary_crossentropy', optimizer='sgd',metrics=['AUC'])"
   ]
  },
  {
   "cell_type": "code",
   "execution_count": 19,
   "metadata": {},
   "outputs": [
    {
     "name": "stdout",
     "output_type": "stream",
     "text": [
      "Model: \"sequential\"\n",
      "_________________________________________________________________\n",
      " Layer (type)                Output Shape              Param #   \n",
      "=================================================================\n",
      " gru (GRU)                   (None, 32, 256)           209664    \n",
      "                                                                 \n",
      " gru_1 (GRU)                 (None, 32, 128)           148224    \n",
      "                                                                 \n",
      " gru_2 (GRU)                 (None, 64)                37248     \n",
      "                                                                 \n",
      " dense (Dense)               (None, 100)               6500      \n",
      "                                                                 \n",
      " dense_1 (Dense)             (None, 1)                 101       \n",
      "                                                                 \n",
      "=================================================================\n",
      "Total params: 401,737\n",
      "Trainable params: 401,737\n",
      "Non-trainable params: 0\n",
      "_________________________________________________________________\n"
     ]
    }
   ],
   "source": [
    "model_gru.summary()"
   ]
  },
  {
   "cell_type": "code",
   "execution_count": 20,
   "metadata": {},
   "outputs": [],
   "source": [
    " start = t.time()"
   ]
  },
  {
   "cell_type": "code",
   "execution_count": 21,
   "metadata": {
    "scrolled": true
   },
   "outputs": [
    {
     "name": "stdout",
     "output_type": "stream",
     "text": [
      "Epoch 1/140\n"
     ]
    },
    {
     "name": "stderr",
     "output_type": "stream",
     "text": [
      "2023-01-07 15:57:57.666292: W tensorflow/tsl/framework/cpu_allocator_impl.cc:82] Allocation of 730068480 exceeds 10% of free system memory.\n"
     ]
    },
    {
     "name": "stdout",
     "output_type": "stream",
     "text": [
      "2971/2971 [==============================] - ETA: 0s - loss: 0.5732 - auc: 0.5323"
     ]
    },
    {
     "name": "stderr",
     "output_type": "stream",
     "text": [
      "2023-01-07 16:07:15.523771: W tensorflow/tsl/framework/cpu_allocator_impl.cc:82] Allocation of 182517120 exceeds 10% of free system memory.\n"
     ]
    },
    {
     "name": "stdout",
     "output_type": "stream",
     "text": [
      "2971/2971 [==============================] - 608s 203ms/step - loss: 0.5732 - auc: 0.5323 - val_loss: 0.5583 - val_auc: 0.5860\n",
      "Epoch 2/140\n",
      "2971/2971 [==============================] - 606s 204ms/step - loss: 0.5698 - auc: 0.6020 - val_loss: 0.5526 - val_auc: 0.6656\n",
      "Epoch 3/140\n",
      "2971/2971 [==============================] - 606s 204ms/step - loss: 0.5554 - auc: 0.6622 - val_loss: 0.5272 - val_auc: 0.6933\n",
      "Epoch 4/140\n",
      "2971/2971 [==============================] - 606s 204ms/step - loss: 0.5211 - auc: 0.7120 - val_loss: 0.4920 - val_auc: 0.7338\n",
      "Epoch 5/140\n",
      "2971/2971 [==============================] - 606s 204ms/step - loss: 0.5029 - auc: 0.7328 - val_loss: 0.4848 - val_auc: 0.7389\n",
      "Epoch 6/140\n",
      "2971/2971 [==============================] - 606s 204ms/step - loss: 0.4974 - auc: 0.7386 - val_loss: 0.4884 - val_auc: 0.7427\n",
      "Epoch 7/140\n",
      "2971/2971 [==============================] - 606s 204ms/step - loss: 0.4920 - auc: 0.7469 - val_loss: 0.4795 - val_auc: 0.7486\n",
      "Epoch 8/140\n",
      "2971/2971 [==============================] - 605s 204ms/step - loss: 0.4862 - auc: 0.7566 - val_loss: 0.4784 - val_auc: 0.7559\n",
      "Epoch 9/140\n",
      "2971/2971 [==============================] - 606s 204ms/step - loss: 0.4800 - auc: 0.7665 - val_loss: 0.4697 - val_auc: 0.7637\n",
      "Epoch 10/140\n",
      "2971/2971 [==============================] - 606s 204ms/step - loss: 0.4745 - auc: 0.7746 - val_loss: 0.4667 - val_auc: 0.7738\n",
      "Epoch 11/140\n",
      "2971/2971 [==============================] - 605s 204ms/step - loss: 0.4696 - auc: 0.7811 - val_loss: 0.4695 - val_auc: 0.7800\n",
      "Epoch 12/140\n",
      "2971/2971 [==============================] - 605s 204ms/step - loss: 0.4658 - auc: 0.7860 - val_loss: 0.4562 - val_auc: 0.7822\n",
      "Epoch 13/140\n",
      "2971/2971 [==============================] - 605s 204ms/step - loss: 0.4628 - auc: 0.7895 - val_loss: 0.4522 - val_auc: 0.7876\n",
      "Epoch 14/140\n",
      "2971/2971 [==============================] - 606s 204ms/step - loss: 0.4605 - auc: 0.7924 - val_loss: 0.4522 - val_auc: 0.7909\n",
      "Epoch 15/140\n",
      "2971/2971 [==============================] - 606s 204ms/step - loss: 0.4582 - auc: 0.7950 - val_loss: 0.4573 - val_auc: 0.7933\n",
      "Epoch 16/140\n",
      "2971/2971 [==============================] - 607s 204ms/step - loss: 0.4559 - auc: 0.7977 - val_loss: 0.4456 - val_auc: 0.7955\n",
      "Epoch 17/140\n",
      "2971/2971 [==============================] - 606s 204ms/step - loss: 0.4539 - auc: 0.7999 - val_loss: 0.4536 - val_auc: 0.7935\n",
      "Epoch 18/140\n",
      "2971/2971 [==============================] - 606s 204ms/step - loss: 0.4524 - auc: 0.8017 - val_loss: 0.4426 - val_auc: 0.7994\n",
      "Epoch 19/140\n",
      "2971/2971 [==============================] - 606s 204ms/step - loss: 0.4512 - auc: 0.8029 - val_loss: 0.4484 - val_auc: 0.8006\n",
      "Epoch 20/140\n",
      "2971/2971 [==============================] - 606s 204ms/step - loss: 0.4498 - auc: 0.8046 - val_loss: 0.4416 - val_auc: 0.8028\n",
      "Epoch 21/140\n",
      "2971/2971 [==============================] - 607s 204ms/step - loss: 0.4485 - auc: 0.8059 - val_loss: 0.4389 - val_auc: 0.8034\n",
      "Epoch 22/140\n",
      "2971/2971 [==============================] - 607s 204ms/step - loss: 0.4472 - auc: 0.8073 - val_loss: 0.4464 - val_auc: 0.8037\n",
      "Epoch 23/140\n",
      "2971/2971 [==============================] - 607s 204ms/step - loss: 0.4462 - auc: 0.8085 - val_loss: 0.4379 - val_auc: 0.8042\n",
      "Epoch 24/140\n",
      "2971/2971 [==============================] - 607s 204ms/step - loss: 0.4451 - auc: 0.8096 - val_loss: 0.4373 - val_auc: 0.8071\n",
      "Epoch 25/140\n",
      "2971/2971 [==============================] - 607s 204ms/step - loss: 0.4440 - auc: 0.8108 - val_loss: 0.4442 - val_auc: 0.8071\n",
      "Epoch 26/140\n",
      "2971/2971 [==============================] - 607s 204ms/step - loss: 0.4433 - auc: 0.8115 - val_loss: 0.4475 - val_auc: 0.8030\n",
      "Epoch 27/140\n",
      "2971/2971 [==============================] - 606s 204ms/step - loss: 0.4422 - auc: 0.8127 - val_loss: 0.4368 - val_auc: 0.8054\n",
      "Epoch 28/140\n",
      "2971/2971 [==============================] - 607s 204ms/step - loss: 0.4412 - auc: 0.8137 - val_loss: 0.4429 - val_auc: 0.8047\n",
      "Epoch 29/140\n",
      "2971/2971 [==============================] - 607s 204ms/step - loss: 0.4405 - auc: 0.8145 - val_loss: 0.4390 - val_auc: 0.8084\n",
      "Epoch 30/140\n",
      "2971/2971 [==============================] - 607s 204ms/step - loss: 0.4398 - auc: 0.8152 - val_loss: 0.4377 - val_auc: 0.8093\n",
      "Epoch 31/140\n",
      "2971/2971 [==============================] - 607s 204ms/step - loss: 0.4388 - auc: 0.8162 - val_loss: 0.4329 - val_auc: 0.8119\n",
      "Epoch 32/140\n",
      "2971/2971 [==============================] - 607s 204ms/step - loss: 0.4383 - auc: 0.8168 - val_loss: 0.4368 - val_auc: 0.8108\n",
      "Epoch 33/140\n",
      "2971/2971 [==============================] - 607s 204ms/step - loss: 0.4374 - auc: 0.8177 - val_loss: 0.4328 - val_auc: 0.8108\n",
      "Epoch 34/140\n",
      "2971/2971 [==============================] - 606s 204ms/step - loss: 0.4364 - auc: 0.8187 - val_loss: 0.4349 - val_auc: 0.8112\n",
      "Epoch 35/140\n",
      "2971/2971 [==============================] - 606s 204ms/step - loss: 0.4358 - auc: 0.8193 - val_loss: 0.4503 - val_auc: 0.8107\n",
      "Epoch 36/140\n",
      "2971/2971 [==============================] - 607s 204ms/step - loss: 0.4351 - auc: 0.8201 - val_loss: 0.4550 - val_auc: 0.8020\n",
      "Epoch 37/140\n",
      "2971/2971 [==============================] - 607s 204ms/step - loss: 0.4347 - auc: 0.8205 - val_loss: 0.4301 - val_auc: 0.8143\n",
      "Epoch 38/140\n",
      "2971/2971 [==============================] - 607s 204ms/step - loss: 0.4342 - auc: 0.8209 - val_loss: 0.4363 - val_auc: 0.8073\n",
      "Epoch 39/140\n",
      "2971/2971 [==============================] - 606s 204ms/step - loss: 0.4334 - auc: 0.8217 - val_loss: 0.4347 - val_auc: 0.8104\n",
      "Epoch 40/140\n",
      "2971/2971 [==============================] - 608s 204ms/step - loss: 0.4332 - auc: 0.8218 - val_loss: 0.4323 - val_auc: 0.8127\n",
      "Epoch 41/140\n",
      "2971/2971 [==============================] - 607s 204ms/step - loss: 0.4326 - auc: 0.8226 - val_loss: 0.4620 - val_auc: 0.8081\n",
      "Epoch 42/140\n",
      "2971/2971 [==============================] - 607s 204ms/step - loss: 0.4320 - auc: 0.8230 - val_loss: 0.4297 - val_auc: 0.8159\n",
      "Epoch 43/140\n",
      "2971/2971 [==============================] - 609s 205ms/step - loss: 0.4318 - auc: 0.8233 - val_loss: 0.4270 - val_auc: 0.8169\n",
      "Epoch 44/140\n",
      "2971/2971 [==============================] - 608s 205ms/step - loss: 0.4311 - auc: 0.8239 - val_loss: 0.4343 - val_auc: 0.8130\n",
      "Epoch 45/140\n",
      "2971/2971 [==============================] - 606s 204ms/step - loss: 0.4306 - auc: 0.8245 - val_loss: 0.4298 - val_auc: 0.8171\n",
      "Epoch 46/140\n",
      "2971/2971 [==============================] - 606s 204ms/step - loss: 0.4304 - auc: 0.8247 - val_loss: 0.4325 - val_auc: 0.8120\n",
      "Epoch 47/140\n",
      "2971/2971 [==============================] - 607s 204ms/step - loss: 0.4301 - auc: 0.8249 - val_loss: 0.4313 - val_auc: 0.8154\n",
      "Epoch 48/140\n",
      "2971/2971 [==============================] - 607s 204ms/step - loss: 0.4297 - auc: 0.8254 - val_loss: 0.4348 - val_auc: 0.8103\n",
      "Epoch 49/140\n",
      "2971/2971 [==============================] - 607s 204ms/step - loss: 0.4294 - auc: 0.8256 - val_loss: 0.4321 - val_auc: 0.8167\n",
      "Epoch 50/140\n",
      "2971/2971 [==============================] - 606s 204ms/step - loss: 0.4289 - auc: 0.8260 - val_loss: 0.4282 - val_auc: 0.8175\n",
      "Epoch 51/140\n",
      "2971/2971 [==============================] - 606s 204ms/step - loss: 0.4288 - auc: 0.8263 - val_loss: 0.4291 - val_auc: 0.8159\n",
      "Epoch 52/140\n",
      "2971/2971 [==============================] - 606s 204ms/step - loss: 0.4286 - auc: 0.8264 - val_loss: 0.4294 - val_auc: 0.8150\n",
      "Epoch 53/140\n",
      "2971/2971 [==============================] - 606s 204ms/step - loss: 0.4281 - auc: 0.8269 - val_loss: 0.4278 - val_auc: 0.8170\n",
      "Epoch 54/140\n",
      "2971/2971 [==============================] - 606s 204ms/step - loss: 0.4280 - auc: 0.8270 - val_loss: 0.4335 - val_auc: 0.8134\n",
      "Epoch 55/140\n",
      "2971/2971 [==============================] - 607s 204ms/step - loss: 0.4276 - auc: 0.8274 - val_loss: 0.4334 - val_auc: 0.8149\n",
      "Epoch 56/140\n",
      "2971/2971 [==============================] - 607s 204ms/step - loss: 0.4276 - auc: 0.8273 - val_loss: 0.4423 - val_auc: 0.8143\n",
      "Epoch 57/140\n",
      "2971/2971 [==============================] - 606s 204ms/step - loss: 0.4271 - auc: 0.8279 - val_loss: 0.4281 - val_auc: 0.8172\n",
      "Epoch 58/140\n",
      "2971/2971 [==============================] - 607s 204ms/step - loss: 0.4271 - auc: 0.8278 - val_loss: 0.4415 - val_auc: 0.8101\n",
      "Epoch 59/140\n"
     ]
    },
    {
     "name": "stdout",
     "output_type": "stream",
     "text": [
      "2971/2971 [==============================] - 601s 202ms/step - loss: 0.4264 - auc: 0.8285 - val_loss: 0.4266 - val_auc: 0.8174\n",
      "Epoch 60/140\n",
      "2971/2971 [==============================] - 602s 203ms/step - loss: 0.4264 - auc: 0.8285 - val_loss: 0.4278 - val_auc: 0.8171\n",
      "Epoch 61/140\n",
      "2971/2971 [==============================] - 602s 203ms/step - loss: 0.4262 - auc: 0.8287 - val_loss: 0.4276 - val_auc: 0.8181\n",
      "Epoch 62/140\n",
      "2971/2971 [==============================] - 602s 203ms/step - loss: 0.4261 - auc: 0.8288 - val_loss: 0.4500 - val_auc: 0.8137\n",
      "Epoch 63/140\n",
      "2971/2971 [==============================] - 602s 203ms/step - loss: 0.4256 - auc: 0.8292 - val_loss: 0.4288 - val_auc: 0.8172\n",
      "Epoch 64/140\n",
      "2971/2971 [==============================] - 602s 203ms/step - loss: 0.4254 - auc: 0.8295 - val_loss: 0.4306 - val_auc: 0.8172\n",
      "Epoch 65/140\n",
      "2971/2971 [==============================] - 601s 202ms/step - loss: 0.4254 - auc: 0.8294 - val_loss: 0.4276 - val_auc: 0.8185\n",
      "Epoch 66/140\n",
      "2971/2971 [==============================] - 601s 202ms/step - loss: 0.4252 - auc: 0.8297 - val_loss: 0.4289 - val_auc: 0.8177\n",
      "Epoch 67/140\n",
      "2971/2971 [==============================] - 602s 203ms/step - loss: 0.4248 - auc: 0.8300 - val_loss: 0.4330 - val_auc: 0.8167\n",
      "Epoch 68/140\n",
      "2971/2971 [==============================] - 602s 203ms/step - loss: 0.4247 - auc: 0.8301 - val_loss: 0.4262 - val_auc: 0.8189\n",
      "Epoch 69/140\n",
      "2971/2971 [==============================] - 602s 203ms/step - loss: 0.4244 - auc: 0.8304 - val_loss: 0.4280 - val_auc: 0.8186\n",
      "Epoch 70/140\n",
      "2971/2971 [==============================] - 601s 202ms/step - loss: 0.4243 - auc: 0.8305 - val_loss: 0.4356 - val_auc: 0.8169\n",
      "Epoch 71/140\n",
      "2971/2971 [==============================] - 601s 202ms/step - loss: 0.4240 - auc: 0.8309 - val_loss: 0.4326 - val_auc: 0.8130\n",
      "Epoch 72/140\n",
      "2971/2971 [==============================] - 602s 203ms/step - loss: 0.4241 - auc: 0.8308 - val_loss: 0.4298 - val_auc: 0.8162\n",
      "Epoch 73/140\n",
      "2971/2971 [==============================] - 602s 203ms/step - loss: 0.4235 - auc: 0.8313 - val_loss: 0.4355 - val_auc: 0.8181\n",
      "Epoch 74/140\n",
      "2971/2971 [==============================] - 602s 202ms/step - loss: 0.4234 - auc: 0.8315 - val_loss: 0.4273 - val_auc: 0.8191\n",
      "Epoch 75/140\n",
      "2971/2971 [==============================] - 601s 202ms/step - loss: 0.4235 - auc: 0.8314 - val_loss: 0.4280 - val_auc: 0.8161\n",
      "Epoch 76/140\n",
      "2971/2971 [==============================] - 602s 203ms/step - loss: 0.4229 - auc: 0.8319 - val_loss: 0.4441 - val_auc: 0.8122\n",
      "Epoch 77/140\n",
      "2971/2971 [==============================] - 602s 203ms/step - loss: 0.4231 - auc: 0.8317 - val_loss: 0.4427 - val_auc: 0.8092\n",
      "Epoch 78/140\n",
      "2971/2971 [==============================] - 604s 203ms/step - loss: 0.4227 - auc: 0.8320 - val_loss: 0.4315 - val_auc: 0.8167\n",
      "Epoch 79/140\n",
      "2971/2971 [==============================] - 602s 203ms/step - loss: 0.4226 - auc: 0.8322 - val_loss: 0.4280 - val_auc: 0.8190\n",
      "Epoch 80/140\n",
      "2971/2971 [==============================] - 603s 203ms/step - loss: 0.4225 - auc: 0.8323 - val_loss: 0.4371 - val_auc: 0.8148\n",
      "Epoch 81/140\n",
      "2971/2971 [==============================] - 602s 203ms/step - loss: 0.4222 - auc: 0.8326 - val_loss: 0.4267 - val_auc: 0.8184\n",
      "Epoch 82/140\n",
      "2971/2971 [==============================] - 602s 203ms/step - loss: 0.4222 - auc: 0.8325 - val_loss: 0.4253 - val_auc: 0.8190\n",
      "Epoch 83/140\n",
      "2971/2971 [==============================] - 603s 203ms/step - loss: 0.4220 - auc: 0.8328 - val_loss: 0.4324 - val_auc: 0.8173\n",
      "Epoch 84/140\n",
      "2971/2971 [==============================] - 603s 203ms/step - loss: 0.4219 - auc: 0.8328 - val_loss: 0.4304 - val_auc: 0.8153\n",
      "Epoch 85/140\n",
      "2971/2971 [==============================] - 602s 203ms/step - loss: 0.4217 - auc: 0.8330 - val_loss: 0.4282 - val_auc: 0.8192\n",
      "Epoch 86/140\n",
      "2971/2971 [==============================] - 603s 203ms/step - loss: 0.4215 - auc: 0.8333 - val_loss: 0.4325 - val_auc: 0.8163\n",
      "Epoch 87/140\n",
      "2971/2971 [==============================] - 611s 206ms/step - loss: 0.4213 - auc: 0.8335 - val_loss: 0.4294 - val_auc: 0.8166\n",
      "Epoch 88/140\n",
      "2971/2971 [==============================] - 606s 204ms/step - loss: 0.4211 - auc: 0.8336 - val_loss: 0.4275 - val_auc: 0.8173\n",
      "Epoch 89/140\n",
      "2971/2971 [==============================] - 603s 203ms/step - loss: 0.4209 - auc: 0.8339 - val_loss: 0.4330 - val_auc: 0.8174\n",
      "Epoch 90/140\n",
      "2971/2971 [==============================] - 603s 203ms/step - loss: 0.4208 - auc: 0.8340 - val_loss: 0.4399 - val_auc: 0.8155\n",
      "Epoch 91/140\n",
      "2971/2971 [==============================] - 603s 203ms/step - loss: 0.4207 - auc: 0.8340 - val_loss: 0.4262 - val_auc: 0.8192\n",
      "Epoch 92/140\n",
      "2971/2971 [==============================] - 604s 203ms/step - loss: 0.4204 - auc: 0.8342 - val_loss: 0.4266 - val_auc: 0.8176\n",
      "Epoch 93/140\n",
      "2971/2971 [==============================] - 604s 203ms/step - loss: 0.4203 - auc: 0.8344 - val_loss: 0.4320 - val_auc: 0.8157\n",
      "Epoch 94/140\n",
      "2971/2971 [==============================] - 604s 203ms/step - loss: 0.4201 - auc: 0.8347 - val_loss: 0.4347 - val_auc: 0.8148\n",
      "Epoch 95/140\n",
      "2971/2971 [==============================] - 603s 203ms/step - loss: 0.4200 - auc: 0.8347 - val_loss: 0.4303 - val_auc: 0.8173\n",
      "Epoch 96/140\n",
      "2971/2971 [==============================] - 604s 203ms/step - loss: 0.4197 - auc: 0.8350 - val_loss: 0.4313 - val_auc: 0.8165\n",
      "Epoch 97/140\n",
      "2971/2971 [==============================] - 604s 203ms/step - loss: 0.4197 - auc: 0.8350 - val_loss: 0.4270 - val_auc: 0.8194\n",
      "Epoch 98/140\n",
      "2971/2971 [==============================] - 604s 203ms/step - loss: 0.4195 - auc: 0.8352 - val_loss: 0.4262 - val_auc: 0.8191\n",
      "Epoch 99/140\n",
      "2971/2971 [==============================] - 604s 203ms/step - loss: 0.4195 - auc: 0.8352 - val_loss: 0.4251 - val_auc: 0.8184\n",
      "Epoch 100/140\n",
      "2971/2971 [==============================] - 604s 203ms/step - loss: 0.4191 - auc: 0.8355 - val_loss: 0.4256 - val_auc: 0.8185\n",
      "Epoch 101/140\n",
      "2971/2971 [==============================] - 603s 203ms/step - loss: 0.4189 - auc: 0.8358 - val_loss: 0.4291 - val_auc: 0.8182\n",
      "Epoch 102/140\n",
      "2971/2971 [==============================] - 604s 203ms/step - loss: 0.4191 - auc: 0.8356 - val_loss: 0.4261 - val_auc: 0.8199\n",
      "Epoch 103/140\n",
      "2971/2971 [==============================] - 603s 203ms/step - loss: 0.4188 - auc: 0.8358 - val_loss: 0.4326 - val_auc: 0.8188\n",
      "Epoch 104/140\n",
      "2971/2971 [==============================] - 603s 203ms/step - loss: 0.4187 - auc: 0.8359 - val_loss: 0.4277 - val_auc: 0.8203\n",
      "Epoch 105/140\n",
      "2971/2971 [==============================] - 603s 203ms/step - loss: 0.4186 - auc: 0.8361 - val_loss: 0.4236 - val_auc: 0.8209\n",
      "Epoch 106/140\n",
      "2971/2971 [==============================] - 602s 203ms/step - loss: 0.4184 - auc: 0.8361 - val_loss: 0.4304 - val_auc: 0.8157\n",
      "Epoch 107/140\n",
      "2971/2971 [==============================] - 603s 203ms/step - loss: 0.4184 - auc: 0.8363 - val_loss: 0.4336 - val_auc: 0.8158\n",
      "Epoch 108/140\n",
      "2971/2971 [==============================] - 603s 203ms/step - loss: 0.4180 - auc: 0.8366 - val_loss: 0.4307 - val_auc: 0.8190\n",
      "Epoch 109/140\n",
      "2971/2971 [==============================] - 611s 206ms/step - loss: 0.4179 - auc: 0.8366 - val_loss: 0.4255 - val_auc: 0.8201\n",
      "Epoch 110/140\n",
      "2971/2971 [==============================] - 604s 203ms/step - loss: 0.4178 - auc: 0.8368 - val_loss: 0.4256 - val_auc: 0.8197\n",
      "Epoch 111/140\n",
      "2971/2971 [==============================] - 605s 204ms/step - loss: 0.4177 - auc: 0.8369 - val_loss: 0.4279 - val_auc: 0.8185\n",
      "Epoch 112/140\n",
      "2971/2971 [==============================] - 606s 204ms/step - loss: 0.4176 - auc: 0.8371 - val_loss: 0.4303 - val_auc: 0.8171\n",
      "Epoch 113/140\n",
      "2971/2971 [==============================] - 605s 204ms/step - loss: 0.4175 - auc: 0.8371 - val_loss: 0.4308 - val_auc: 0.8184\n",
      "Epoch 114/140\n",
      "2971/2971 [==============================] - 606s 204ms/step - loss: 0.4173 - auc: 0.8373 - val_loss: 0.4327 - val_auc: 0.8151\n",
      "Epoch 115/140\n",
      "2971/2971 [==============================] - 606s 204ms/step - loss: 0.4171 - auc: 0.8374 - val_loss: 0.4316 - val_auc: 0.8177\n",
      "Epoch 116/140\n",
      "2971/2971 [==============================] - 605s 204ms/step - loss: 0.4170 - auc: 0.8375 - val_loss: 0.4306 - val_auc: 0.8183\n",
      "Epoch 117/140\n"
     ]
    },
    {
     "name": "stdout",
     "output_type": "stream",
     "text": [
      "2971/2971 [==============================] - 601s 202ms/step - loss: 0.4169 - auc: 0.8376 - val_loss: 0.4265 - val_auc: 0.8175\n",
      "Epoch 118/140\n",
      "2971/2971 [==============================] - 602s 203ms/step - loss: 0.4169 - auc: 0.8377 - val_loss: 0.4381 - val_auc: 0.8192\n",
      "Epoch 119/140\n",
      "2971/2971 [==============================] - 601s 202ms/step - loss: 0.4168 - auc: 0.8379 - val_loss: 0.4316 - val_auc: 0.8150\n",
      "Epoch 120/140\n",
      "2971/2971 [==============================] - 601s 202ms/step - loss: 0.4164 - auc: 0.8381 - val_loss: 0.4293 - val_auc: 0.8185\n",
      "Epoch 121/140\n",
      "2971/2971 [==============================] - 601s 202ms/step - loss: 0.4163 - auc: 0.8382 - val_loss: 0.4309 - val_auc: 0.8164\n",
      "Epoch 122/140\n",
      "2971/2971 [==============================] - 601s 202ms/step - loss: 0.4163 - auc: 0.8383 - val_loss: 0.4261 - val_auc: 0.8184\n",
      "Epoch 123/140\n",
      "2971/2971 [==============================] - 601s 202ms/step - loss: 0.4160 - auc: 0.8385 - val_loss: 0.4300 - val_auc: 0.8167\n",
      "Epoch 124/140\n",
      "2971/2971 [==============================] - 601s 202ms/step - loss: 0.4160 - auc: 0.8386 - val_loss: 0.4355 - val_auc: 0.8152\n",
      "Epoch 125/140\n",
      "2971/2971 [==============================] - 600s 202ms/step - loss: 0.4160 - auc: 0.8385 - val_loss: 0.4257 - val_auc: 0.8191\n",
      "Epoch 126/140\n",
      "2971/2971 [==============================] - 607s 204ms/step - loss: 0.4158 - auc: 0.8387 - val_loss: 0.4268 - val_auc: 0.8178\n",
      "Epoch 127/140\n",
      "2971/2971 [==============================] - 603s 203ms/step - loss: 0.4155 - auc: 0.8389 - val_loss: 0.4289 - val_auc: 0.8190\n",
      "Epoch 128/140\n",
      "2971/2971 [==============================] - 603s 203ms/step - loss: 0.4153 - auc: 0.8392 - val_loss: 0.4290 - val_auc: 0.8168\n",
      "Epoch 129/140\n",
      "2971/2971 [==============================] - 603s 203ms/step - loss: 0.4151 - auc: 0.8394 - val_loss: 0.4337 - val_auc: 0.8160\n",
      "Epoch 130/140\n",
      "2971/2971 [==============================] - 603s 203ms/step - loss: 0.4155 - auc: 0.8390 - val_loss: 0.4248 - val_auc: 0.8205\n",
      "Epoch 131/140\n",
      "2971/2971 [==============================] - 604s 203ms/step - loss: 0.4150 - auc: 0.8394 - val_loss: 0.4253 - val_auc: 0.8189\n",
      "Epoch 132/140\n",
      "2971/2971 [==============================] - 603s 203ms/step - loss: 0.4150 - auc: 0.8394 - val_loss: 0.4279 - val_auc: 0.8177\n",
      "Epoch 133/140\n",
      "2971/2971 [==============================] - 604s 203ms/step - loss: 0.4147 - auc: 0.8396 - val_loss: 0.4334 - val_auc: 0.8183\n",
      "Epoch 134/140\n",
      "2971/2971 [==============================] - 604s 203ms/step - loss: 0.4148 - auc: 0.8396 - val_loss: 0.4258 - val_auc: 0.8190\n",
      "Epoch 135/140\n",
      "2971/2971 [==============================] - 604s 203ms/step - loss: 0.4145 - auc: 0.8400 - val_loss: 0.4319 - val_auc: 0.8178\n",
      "Epoch 136/140\n",
      "2971/2971 [==============================] - 616s 207ms/step - loss: 0.4143 - auc: 0.8402 - val_loss: 0.4314 - val_auc: 0.8160\n",
      "Epoch 137/140\n",
      "2971/2971 [==============================] - 606s 204ms/step - loss: 0.4142 - auc: 0.8402 - val_loss: 0.4339 - val_auc: 0.8175\n",
      "Epoch 138/140\n",
      "2971/2971 [==============================] - 606s 204ms/step - loss: 0.4141 - auc: 0.8403 - val_loss: 0.4288 - val_auc: 0.8186\n",
      "Epoch 139/140\n",
      "2971/2971 [==============================] - 606s 204ms/step - loss: 0.4140 - auc: 0.8403 - val_loss: 0.4272 - val_auc: 0.8179\n",
      "Epoch 140/140\n",
      "2971/2971 [==============================] - 606s 204ms/step - loss: 0.4139 - auc: 0.8405 - val_loss: 0.4283 - val_auc: 0.8198\n"
     ]
    }
   ],
   "source": [
    "# fit network\n",
    "gru_history = model_gru.fit(train_X, train_y, epochs=140,validation_data=(test_X, test_y), batch_size=128)#, shuffle=False)"
   ]
  },
  {
   "cell_type": "code",
   "execution_count": 22,
   "metadata": {},
   "outputs": [
    {
     "name": "stderr",
     "output_type": "stream",
     "text": [
      "2023-01-08 15:28:53.082382: W tensorflow/tsl/framework/cpu_allocator_impl.cc:82] Allocation of 182517120 exceeds 10% of free system memory.\n"
     ]
    },
    {
     "name": "stdout",
     "output_type": "stream",
     "text": [
      "2971/2971 [==============================] - 85s 29ms/step\n"
     ]
    }
   ],
   "source": [
    "pred_y =  model_gru.predict(test_X)"
   ]
  },
  {
   "cell_type": "code",
   "execution_count": 23,
   "metadata": {},
   "outputs": [
    {
     "name": "stdout",
     "output_type": "stream",
     "text": [
      "84743.47366642952\n"
     ]
    }
   ],
   "source": [
    "stop=t.time()-start\n",
    "print(stop)"
   ]
  },
  {
   "cell_type": "code",
   "execution_count": 24,
   "metadata": {},
   "outputs": [
    {
     "data": {
      "image/png": "[encoded data removed]",
      "text/plain": [
       "<Figure size 640x480 with 1 Axes>"
      ]
     },
     "metadata": {},
     "output_type": "display_data"
    }
   ],
   "source": [
    "#dont run this cell if you are running this cell than add \"validation_data=(test_X, test_y)\" in model_gru.fit()\n",
    "plt.plot(gru_history.history['loss'], label='GRU train', color='brown')\n",
    "plt.plot(gru_history.history['val_loss'], label='GRU test', color='blue')\n",
    "plt.legend()\n",
    "plt.show()"
   ]
  },
  {
   "cell_type": "code",
   "execution_count": 25,
   "metadata": {},
   "outputs": [
    {
     "name": "stdout",
     "output_type": "stream",
     "text": [
      "[[0.]\n",
      " [0.]\n",
      " [0.]\n",
      " ...\n",
      " [0.]\n",
      " [0.]\n",
      " [0.]]\n"
     ]
    }
   ],
   "source": [
    "#test_y.reshape(8086,1)\n",
    "#test_y.reshape(2627,1)\n",
    "#test_y=test_y[:, :1]\n",
    "\n",
    "#train_y=test_y[:, :1]\n",
    "print(test_y)"
   ]
  },
  {
   "cell_type": "code",
   "execution_count": 26,
   "metadata": {},
   "outputs": [
    {
     "data": {
      "text/plain": [
       "(95061, 1)"
      ]
     },
     "execution_count": 26,
     "metadata": {},
     "output_type": "execute_result"
    }
   ],
   "source": [
    "np.shape(pred_y)"
   ]
  },
  {
   "cell_type": "code",
   "execution_count": 27,
   "metadata": {},
   "outputs": [
    {
     "data": {
      "text/plain": [
       "array([[0.00098622],\n",
       "       [0.00317511],\n",
       "       [0.00070283],\n",
       "       ...,\n",
       "       [0.04980322],\n",
       "       [0.05096111],\n",
       "       [0.05001492]], dtype=float32)"
      ]
     },
     "execution_count": 27,
     "metadata": {},
     "output_type": "execute_result"
    }
   ],
   "source": [
    "pred_y"
   ]
  },
  {
   "cell_type": "code",
   "execution_count": 28,
   "metadata": {},
   "outputs": [],
   "source": [
    "#pred_y=np.reshape(pred_y,8068)\n",
    "pred_y=np.reshape(pred_y,95061)"
   ]
  },
  {
   "cell_type": "code",
   "execution_count": 29,
   "metadata": {},
   "outputs": [
    {
     "name": "stdout",
     "output_type": "stream",
     "text": [
      "0.1439157868696787\n",
      "0.22613168829583474\n",
      "0.37936234245069544\n",
      "0.28934662721415727\n"
     ]
    }
   ],
   "source": [
    "\n",
    "#plt.rcParams['figure.figsize'] = (15,5)\n",
    "\n",
    "MSE = mean_squared_error(test_y, pred_y)\n",
    "R2 = r2_score(test_y, pred_y)\n",
    "RMSE = sqrt(mean_squared_error(test_y, pred_y))\n",
    "MAE = mean_absolute_error(test_y, pred_y)\n",
    "\n",
    "\n",
    "print(MSE)\n",
    "print(R2)\n",
    "print(RMSE)\n",
    "print(MAE)\n",
    "\n",
    "#plotting predicted test value vs actual test value\n",
    "#plt.plot(test_y, label = 'Actual')\n",
    "#plt.plot(pred_y, label = 'Predicted')\n",
    "#plt.legend()\n",
    "#plt.show()"
   ]
  },
  {
   "cell_type": "code",
   "execution_count": 30,
   "metadata": {},
   "outputs": [
    {
     "data": {
      "text/plain": [
       "(380244, 32, 15)"
      ]
     },
     "execution_count": 30,
     "metadata": {},
     "output_type": "execute_result"
    }
   ],
   "source": [
    "np.shape(train_X)"
   ]
  },
  {
   "cell_type": "code",
   "execution_count": 31,
   "metadata": {},
   "outputs": [
    {
     "data": {
      "text/plain": [
       "(380244, 1)"
      ]
     },
     "execution_count": 31,
     "metadata": {},
     "output_type": "execute_result"
    }
   ],
   "source": [
    "np.shape(train_y)"
   ]
  },
  {
   "cell_type": "code",
   "execution_count": 32,
   "metadata": {},
   "outputs": [
    {
     "data": {
      "text/plain": [
       "(95061, 32, 15)"
      ]
     },
     "execution_count": 32,
     "metadata": {},
     "output_type": "execute_result"
    }
   ],
   "source": [
    "np.shape(test_X)"
   ]
  },
  {
   "cell_type": "code",
   "execution_count": 33,
   "metadata": {},
   "outputs": [
    {
     "data": {
      "text/plain": [
       "(95061, 1)"
      ]
     },
     "execution_count": 33,
     "metadata": {},
     "output_type": "execute_result"
    }
   ],
   "source": [
    "np.shape(test_y)"
   ]
  },
  {
   "cell_type": "code",
   "execution_count": null,
   "metadata": {},
   "outputs": [],
   "source": [
    "#visualization over full data\n",
    "tra = np.concatenate([train_X,test_X])\n",
    "tes = np.concatenate([train_y,test_y])\n",
    "fp = model_gru.predict(tra)\n",
    "#plt.plot(tes, label = 'Actual')\n",
    "#plt.plot(fp, label = 'Predicted')\n",
    "#plt.legend()\n",
    "#plt.show()"
   ]
  },
  {
   "cell_type": "code",
   "execution_count": null,
   "metadata": {},
   "outputs": [],
   "source": [
    "#over small part of data\n",
    "#plt.plot(tes, label = 'Actual')\n",
    "#plt.plot(fp[:2000], label = 'Predicted')\n",
    "#plt.legend()\n",
    "#plt.show()"
   ]
  },
  {
   "cell_type": "code",
   "execution_count": null,
   "metadata": {},
   "outputs": [],
   "source": [
    "print(sum(tes)/len(tes))"
   ]
  },
  {
   "cell_type": "code",
   "execution_count": null,
   "metadata": {},
   "outputs": [],
   "source": [
    "#print(fp[1000:1010])\n",
    "_fp = np.where(fp>0.5,1,0)\n",
    "_all = sum(_fp)\n",
    "_w = (_fp*tes)\n",
    "print(sum(_w)/_all)\n",
    "      \n",
    "_all_z = sum(1-_fp)      \n",
    "_w_z = (1-_fp)*(1-tes)\n",
    "print(sum(_w_z)/_all_z)\n",
    "print('total acc', (sum(_w)+sum(_w_z))/len(_w))"
   ]
  },
  {
   "cell_type": "code",
   "execution_count": null,
   "metadata": {},
   "outputs": [],
   "source": [
    "#plt.plot(tes[:8000], label = 'Actual')\n",
    "#plt.plot(fp[:8000], label = 'Predicted')\n",
    "#plt.legend()\n",
    "#plt.show()"
   ]
  },
  {
   "cell_type": "code",
   "execution_count": null,
   "metadata": {},
   "outputs": [],
   "source": [
    "#over very small part of data\n",
    "plt.plot(tes[2000:2020], label = 'Actual')\n",
    "plt.plot(fp[2000:2020], label = 'Predicted')\n",
    "plt.legend()\n",
    "plt.show()"
   ]
  },
  {
   "cell_type": "code",
   "execution_count": null,
   "metadata": {},
   "outputs": [],
   "source": [
    "plt.plot(tes[:50], label = 'Actual')\n",
    "plt.plot(fp[:50], label = 'Predicted')\n",
    "plt.legend()\n",
    "plt.show()"
   ]
  },
  {
   "cell_type": "code",
   "execution_count": null,
   "metadata": {},
   "outputs": [],
   "source": [
    "plt.plot(tes[:5], label = 'Actual')\n",
    "plt.plot(fp[:5], label = 'Predicted')\n",
    "plt.legend()\n",
    "plt.show()"
   ]
  },
  {
   "cell_type": "code",
   "execution_count": null,
   "metadata": {},
   "outputs": [],
   "source": []
  },
  {
   "cell_type": "code",
   "execution_count": null,
   "metadata": {},
   "outputs": [],
   "source": []
  }
 ],
 "metadata": {
  "kernelspec": {
   "display_name": "Python 3 (ipykernel)",
   "language": "python",
   "name": "python3"
  },
  "language_info": {
   "codemirror_mode": {
    "name": "ipython",
    "version": 3
   },
   "file_extension": ".py",
   "mimetype": "text/x-python",
   "name": "python",
   "nbconvert_exporter": "python",
   "pygments_lexer": "ipython3",
   "version": "3.8.10"
  }
 },
 "nbformat": 4,
 "nbformat_minor": 2
}
