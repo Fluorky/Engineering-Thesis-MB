{
 "cells": [
  {
   "cell_type": "code",
   "execution_count": 1,
   "metadata": {},
   "outputs": [],
   "source": [
    "import pandas as pd\n",
    "import numpy as np\n",
    "import matplotlib.pyplot as plt\n",
    "from math import sqrt\n",
    "from numpy import concatenate\n",
    "from pandas import *\n",
    "from sklearn.preprocessing import *\n",
    "from sklearn.metrics import *\n",
    "from tensorflow import keras\n",
    "import tensorflow as tf\n",
    "import time as t"
   ]
  },
  {
   "cell_type": "code",
   "execution_count": 2,
   "metadata": {},
   "outputs": [],
   "source": [
    "w=32"
   ]
  },
  {
   "cell_type": "code",
   "execution_count": 3,
   "metadata": {},
   "outputs": [],
   "source": [
    "dataFromSensors=np.load(\"DataWithLabels/dataFromSensors_\"+str(w)+\".npy\")"
   ]
  },
  {
   "cell_type": "code",
   "execution_count": 4,
   "metadata": {},
   "outputs": [
    {
     "name": "stdout",
     "output_type": "stream",
     "text": [
      "class:  ndarray\n",
      "shape:  (475305, 32, 16)\n",
      "strides:  (4096, 128, 8)\n",
      "itemsize:  8\n",
      "aligned:  True\n",
      "contiguous:  True\n",
      "fortran:  False\n",
      "data pointer: 0x2b7ef38d040\n",
      "byteorder:  little\n",
      "byteswap:  False\n",
      "type: float64\n"
     ]
    }
   ],
   "source": [
    "np.info(dataFromSensors)"
   ]
  },
  {
   "cell_type": "code",
   "execution_count": 5,
   "metadata": {},
   "outputs": [],
   "source": [
    "labels=np.load(\"DataWithLabels/labels_\"+str(w)+\".npy\")"
   ]
  },
  {
   "cell_type": "code",
   "execution_count": 6,
   "metadata": {},
   "outputs": [
    {
     "name": "stdout",
     "output_type": "stream",
     "text": [
      "class:  ndarray\n",
      "shape:  (475305,)\n",
      "strides:  (8,)\n",
      "itemsize:  8\n",
      "aligned:  True\n",
      "contiguous:  True\n",
      "fortran:  True\n",
      "data pointer: 0x2b86344f040\n",
      "byteorder:  little\n",
      "byteswap:  False\n",
      "type: float64\n"
     ]
    }
   ],
   "source": [
    "np.info(labels)"
   ]
  },
  {
   "cell_type": "code",
   "execution_count": 7,
   "metadata": {},
   "outputs": [],
   "source": [
    "#values = reframed_df.values\n",
    "#training_sample =int( len(dataset) *0.8)\n",
    "training_sample_labels =int( len(labels) *0.8)\n",
    "training_sample =int( len(dataFromSensors) *0.8)\n",
    "#testDataset=DataFrame.to_numpy(dataset)\n",
    "#testDataset=DataFrame.to_numpy(reframed_df)"
   ]
  },
  {
   "cell_type": "code",
   "execution_count": 8,
   "metadata": {},
   "outputs": [
    {
     "data": {
      "text/plain": [
       "380244"
      ]
     },
     "execution_count": 8,
     "metadata": {},
     "output_type": "execute_result"
    }
   ],
   "source": [
    "training_sample_labels"
   ]
  },
  {
   "cell_type": "code",
   "execution_count": 9,
   "metadata": {},
   "outputs": [
    {
     "data": {
      "text/plain": [
       "380244"
      ]
     },
     "execution_count": 9,
     "metadata": {},
     "output_type": "execute_result"
    }
   ],
   "source": [
    "training_sample"
   ]
  },
  {
   "cell_type": "code",
   "execution_count": 10,
   "metadata": {},
   "outputs": [],
   "source": [
    "train_labels = labels[:training_sample]\n",
    "train = dataFromSensors[:training_sample, : ,:]\n",
    "test_labels = labels[training_sample:]\n",
    "test = dataFromSensors[training_sample:, : , :]\n",
    "# split into input and outputs\n",
    "#train_X, train_y = train[:,:, 1:], train[:,:,0]\n",
    "#test_X, test_y = test[:,:, 1:], test[:,:,0]\n",
    "train_X, train_y = train[:,:, 1:], train_labels[:]\n",
    "test_X, test_y = test[:,:, 1:], test_labels[:]"
   ]
  },
  {
   "cell_type": "code",
   "execution_count": 11,
   "metadata": {},
   "outputs": [
    {
     "data": {
      "text/plain": [
       "(380244, 32, 15)"
      ]
     },
     "execution_count": 11,
     "metadata": {},
     "output_type": "execute_result"
    }
   ],
   "source": [
    "train_X.shape"
   ]
  },
  {
   "cell_type": "code",
   "execution_count": 12,
   "metadata": {},
   "outputs": [
    {
     "data": {
      "text/plain": [
       "array([0., 0., 0., ..., 0., 0., 0.])"
      ]
     },
     "execution_count": 12,
     "metadata": {},
     "output_type": "execute_result"
    }
   ],
   "source": [
    "train_y"
   ]
  },
  {
   "cell_type": "code",
   "execution_count": 13,
   "metadata": {},
   "outputs": [],
   "source": [
    "#print(train_X)"
   ]
  },
  {
   "cell_type": "code",
   "execution_count": 14,
   "metadata": {},
   "outputs": [
    {
     "data": {
      "text/plain": [
       "(380244,)"
      ]
     },
     "execution_count": 14,
     "metadata": {},
     "output_type": "execute_result"
    }
   ],
   "source": [
    "train_y.shape"
   ]
  },
  {
   "cell_type": "code",
   "execution_count": 15,
   "metadata": {},
   "outputs": [],
   "source": [
    "#print(test_y)"
   ]
  },
  {
   "cell_type": "code",
   "execution_count": 16,
   "metadata": {},
   "outputs": [],
   "source": [
    "train_y=train_y.reshape(train_y.shape[0],1)"
   ]
  },
  {
   "cell_type": "code",
   "execution_count": 17,
   "metadata": {},
   "outputs": [],
   "source": [
    "test_y=test_y.reshape(test_y.shape[0],1)"
   ]
  },
  {
   "cell_type": "code",
   "execution_count": 18,
   "metadata": {},
   "outputs": [],
   "source": [
    "#print(train_X)"
   ]
  },
  {
   "cell_type": "code",
   "execution_count": 19,
   "metadata": {},
   "outputs": [
    {
     "name": "stdout",
     "output_type": "stream",
     "text": [
      "(380244, 32, 15) (380244, 1) (95061, 32, 15) (95061, 1)\n"
     ]
    }
   ],
   "source": [
    "print(train_X.shape, train_y.shape, test_X.shape, test_y.shape)"
   ]
  },
  {
   "cell_type": "code",
   "execution_count": 20,
   "metadata": {},
   "outputs": [],
   "source": [
    "model_gru =  keras.models.Sequential([\n",
    "    keras.layers.GRU(256,return_sequences=True,input_shape=(train_X.shape[1],train_X.shape[2])),#,activation='relu'),\n",
    "    keras.layers.GRU(units=128,return_sequences=True),#,activation='relu'),\n",
    "    keras.layers.GRU(units=64),#,activation='relu'),\n",
    "    keras.layers.Dense(units=100,activation='sigmoid'),\n",
    "    keras.layers.Dense(units=1,activation='sigmoid')\n",
    "                        ])\n",
    "\n",
    "#opt=keras.optimizers.SGD(learning_rate=0.9)\n",
    "opt=keras.optimizers.Adam(learning_rate=0.0008)\n",
    "model_gru.compile(loss='MSE', optimizer=opt,metrics=['accuracy'])"
   ]
  },
  {
   "cell_type": "code",
   "execution_count": 21,
   "metadata": {
    "scrolled": true
   },
   "outputs": [
    {
     "name": "stdout",
     "output_type": "stream",
     "text": [
      "Model: \"sequential\"\n",
      "_________________________________________________________________\n",
      " Layer (type)                Output Shape              Param #   \n",
      "=================================================================\n",
      " gru (GRU)                   (None, 32, 256)           209664    \n",
      "                                                                 \n",
      " gru_1 (GRU)                 (None, 32, 128)           148224    \n",
      "                                                                 \n",
      " gru_2 (GRU)                 (None, 64)                37248     \n",
      "                                                                 \n",
      " dense (Dense)               (None, 100)               6500      \n",
      "                                                                 \n",
      " dense_1 (Dense)             (None, 1)                 101       \n",
      "                                                                 \n",
      "=================================================================\n",
      "Total params: 401,737\n",
      "Trainable params: 401,737\n",
      "Non-trainable params: 0\n",
      "_________________________________________________________________\n"
     ]
    }
   ],
   "source": [
    "model_gru.summary()"
   ]
  },
  {
   "cell_type": "code",
   "execution_count": 22,
   "metadata": {},
   "outputs": [],
   "source": [
    " start = t.time()"
   ]
  },
  {
   "cell_type": "code",
   "execution_count": 23,
   "metadata": {},
   "outputs": [
    {
     "name": "stdout",
     "output_type": "stream",
     "text": [
      "Epoch 1/140\n",
      "24/24 [==============================] - 16s 357ms/step - loss: 0.1902 - accuracy: 0.7386 - val_loss: 0.1767 - val_accuracy: 0.7391\n",
      "Epoch 2/140\n",
      "24/24 [==============================] - 7s 311ms/step - loss: 0.1745 - accuracy: 0.7389 - val_loss: 0.1660 - val_accuracy: 0.7476\n",
      "Epoch 3/140\n",
      "24/24 [==============================] - 7s 300ms/step - loss: 0.1688 - accuracy: 0.7413 - val_loss: 0.1623 - val_accuracy: 0.7532\n",
      "Epoch 4/140\n",
      "24/24 [==============================] - 7s 301ms/step - loss: 0.1661 - accuracy: 0.7463 - val_loss: 0.1610 - val_accuracy: 0.7534\n",
      "Epoch 5/140\n",
      "24/24 [==============================] - 7s 299ms/step - loss: 0.1617 - accuracy: 0.7514 - val_loss: 0.1568 - val_accuracy: 0.7595\n",
      "Epoch 6/140\n",
      "24/24 [==============================] - 8s 315ms/step - loss: 0.1597 - accuracy: 0.7558 - val_loss: 0.1559 - val_accuracy: 0.7604\n",
      "Epoch 7/140\n",
      "24/24 [==============================] - 7s 299ms/step - loss: 0.1570 - accuracy: 0.7583 - val_loss: 0.1541 - val_accuracy: 0.7655\n",
      "Epoch 8/140\n",
      "24/24 [==============================] - 7s 301ms/step - loss: 0.1554 - accuracy: 0.7609 - val_loss: 0.1575 - val_accuracy: 0.7610\n",
      "Epoch 9/140\n",
      "24/24 [==============================] - 8s 319ms/step - loss: 0.1553 - accuracy: 0.7623 - val_loss: 0.1504 - val_accuracy: 0.7690\n",
      "Epoch 10/140\n",
      "24/24 [==============================] - 7s 304ms/step - loss: 0.1531 - accuracy: 0.7652 - val_loss: 0.1492 - val_accuracy: 0.7705\n",
      "Epoch 11/140\n",
      "24/24 [==============================] - 7s 298ms/step - loss: 0.1525 - accuracy: 0.7669 - val_loss: 0.1497 - val_accuracy: 0.7714\n",
      "Epoch 12/140\n",
      "24/24 [==============================] - 7s 301ms/step - loss: 0.1512 - accuracy: 0.7683 - val_loss: 0.1493 - val_accuracy: 0.7710\n",
      "Epoch 13/140\n",
      "24/24 [==============================] - 7s 300ms/step - loss: 0.1513 - accuracy: 0.7681 - val_loss: 0.1488 - val_accuracy: 0.7736\n",
      "Epoch 14/140\n",
      "24/24 [==============================] - 7s 299ms/step - loss: 0.1512 - accuracy: 0.7687 - val_loss: 0.1489 - val_accuracy: 0.7716\n",
      "Epoch 15/140\n",
      "24/24 [==============================] - 7s 299ms/step - loss: 0.1503 - accuracy: 0.7703 - val_loss: 0.1478 - val_accuracy: 0.7762\n",
      "Epoch 16/140\n",
      "24/24 [==============================] - 7s 299ms/step - loss: 0.1493 - accuracy: 0.7715 - val_loss: 0.1492 - val_accuracy: 0.7754\n",
      "Epoch 17/140\n",
      "24/24 [==============================] - 7s 299ms/step - loss: 0.1494 - accuracy: 0.7719 - val_loss: 0.1469 - val_accuracy: 0.7760\n",
      "Epoch 18/140\n",
      "24/24 [==============================] - 7s 299ms/step - loss: 0.1492 - accuracy: 0.7726 - val_loss: 0.1464 - val_accuracy: 0.7775\n",
      "Epoch 19/140\n",
      "24/24 [==============================] - 7s 299ms/step - loss: 0.1484 - accuracy: 0.7736 - val_loss: 0.1465 - val_accuracy: 0.7786\n",
      "Epoch 20/140\n",
      "24/24 [==============================] - 7s 299ms/step - loss: 0.1482 - accuracy: 0.7745 - val_loss: 0.1499 - val_accuracy: 0.7767\n",
      "Epoch 21/140\n",
      "24/24 [==============================] - 7s 299ms/step - loss: 0.1481 - accuracy: 0.7750 - val_loss: 0.1475 - val_accuracy: 0.7754\n",
      "Epoch 22/140\n",
      "24/24 [==============================] - 7s 302ms/step - loss: 0.1476 - accuracy: 0.7758 - val_loss: 0.1470 - val_accuracy: 0.7753\n",
      "Epoch 23/140\n",
      "24/24 [==============================] - 7s 300ms/step - loss: 0.1479 - accuracy: 0.7753 - val_loss: 0.1464 - val_accuracy: 0.7776\n",
      "Epoch 24/140\n",
      "24/24 [==============================] - 7s 301ms/step - loss: 0.1467 - accuracy: 0.7767 - val_loss: 0.1459 - val_accuracy: 0.7783\n",
      "Epoch 25/140\n",
      "24/24 [==============================] - 7s 301ms/step - loss: 0.1469 - accuracy: 0.7767 - val_loss: 0.1468 - val_accuracy: 0.7759\n",
      "Epoch 26/140\n",
      "24/24 [==============================] - 7s 302ms/step - loss: 0.1464 - accuracy: 0.7774 - val_loss: 0.1452 - val_accuracy: 0.7786\n",
      "Epoch 27/140\n",
      "24/24 [==============================] - 7s 301ms/step - loss: 0.1465 - accuracy: 0.7776 - val_loss: 0.1453 - val_accuracy: 0.7788\n",
      "Epoch 28/140\n",
      "24/24 [==============================] - 7s 302ms/step - loss: 0.1458 - accuracy: 0.7784 - val_loss: 0.1467 - val_accuracy: 0.7809\n",
      "Epoch 29/140\n",
      "24/24 [==============================] - 7s 302ms/step - loss: 0.1456 - accuracy: 0.7791 - val_loss: 0.1453 - val_accuracy: 0.7787\n",
      "Epoch 30/140\n",
      "24/24 [==============================] - 7s 300ms/step - loss: 0.1455 - accuracy: 0.7788 - val_loss: 0.1447 - val_accuracy: 0.7802\n",
      "Epoch 31/140\n",
      "24/24 [==============================] - 7s 299ms/step - loss: 0.1452 - accuracy: 0.7790 - val_loss: 0.1459 - val_accuracy: 0.7784\n",
      "Epoch 32/140\n",
      "24/24 [==============================] - 7s 298ms/step - loss: 0.1451 - accuracy: 0.7793 - val_loss: 0.1463 - val_accuracy: 0.7805\n",
      "Epoch 33/140\n",
      "24/24 [==============================] - 7s 299ms/step - loss: 0.1451 - accuracy: 0.7793 - val_loss: 0.1449 - val_accuracy: 0.7799\n",
      "Epoch 34/140\n",
      "24/24 [==============================] - 7s 298ms/step - loss: 0.1448 - accuracy: 0.7799 - val_loss: 0.1438 - val_accuracy: 0.7820\n",
      "Epoch 35/140\n",
      "24/24 [==============================] - 7s 299ms/step - loss: 0.1446 - accuracy: 0.7802 - val_loss: 0.1430 - val_accuracy: 0.7823\n",
      "Epoch 36/140\n",
      "24/24 [==============================] - 7s 301ms/step - loss: 0.1440 - accuracy: 0.7808 - val_loss: 0.1440 - val_accuracy: 0.7822\n",
      "Epoch 37/140\n",
      "24/24 [==============================] - 7s 301ms/step - loss: 0.1440 - accuracy: 0.7812 - val_loss: 0.1452 - val_accuracy: 0.7802\n",
      "Epoch 38/140\n",
      "24/24 [==============================] - 7s 298ms/step - loss: 0.1443 - accuracy: 0.7807 - val_loss: 0.1441 - val_accuracy: 0.7809\n",
      "Epoch 39/140\n",
      "24/24 [==============================] - 7s 300ms/step - loss: 0.1440 - accuracy: 0.7817 - val_loss: 0.1441 - val_accuracy: 0.7819\n",
      "Epoch 40/140\n",
      "24/24 [==============================] - 7s 299ms/step - loss: 0.1440 - accuracy: 0.7814 - val_loss: 0.1470 - val_accuracy: 0.7763\n",
      "Epoch 41/140\n",
      "24/24 [==============================] - 7s 300ms/step - loss: 0.1436 - accuracy: 0.7815 - val_loss: 0.1443 - val_accuracy: 0.7824\n",
      "Epoch 42/140\n",
      "24/24 [==============================] - 7s 302ms/step - loss: 0.1442 - accuracy: 0.7815 - val_loss: 0.1439 - val_accuracy: 0.7824\n",
      "Epoch 43/140\n",
      "24/24 [==============================] - 7s 301ms/step - loss: 0.1435 - accuracy: 0.7817 - val_loss: 0.1444 - val_accuracy: 0.7809\n",
      "Epoch 44/140\n",
      "24/24 [==============================] - 7s 301ms/step - loss: 0.1434 - accuracy: 0.7827 - val_loss: 0.1438 - val_accuracy: 0.7835\n",
      "Epoch 45/140\n",
      "24/24 [==============================] - 7s 301ms/step - loss: 0.1431 - accuracy: 0.7830 - val_loss: 0.1435 - val_accuracy: 0.7831\n",
      "Epoch 46/140\n",
      "24/24 [==============================] - 7s 302ms/step - loss: 0.1428 - accuracy: 0.7831 - val_loss: 0.1441 - val_accuracy: 0.7809\n",
      "Epoch 47/140\n",
      "24/24 [==============================] - 7s 300ms/step - loss: 0.1430 - accuracy: 0.7833 - val_loss: 0.1425 - val_accuracy: 0.7849\n",
      "Epoch 48/140\n",
      "24/24 [==============================] - 7s 299ms/step - loss: 0.1428 - accuracy: 0.7832 - val_loss: 0.1466 - val_accuracy: 0.7738\n",
      "Epoch 49/140\n",
      "24/24 [==============================] - 7s 299ms/step - loss: 0.1429 - accuracy: 0.7832 - val_loss: 0.1438 - val_accuracy: 0.7824\n",
      "Epoch 50/140\n",
      "24/24 [==============================] - 7s 301ms/step - loss: 0.1422 - accuracy: 0.7842 - val_loss: 0.1434 - val_accuracy: 0.7823\n",
      "Epoch 51/140\n",
      "24/24 [==============================] - 7s 301ms/step - loss: 0.1424 - accuracy: 0.7840 - val_loss: 0.1447 - val_accuracy: 0.7832\n",
      "Epoch 52/140\n",
      "24/24 [==============================] - 7s 300ms/step - loss: 0.1421 - accuracy: 0.7843 - val_loss: 0.1428 - val_accuracy: 0.7844\n",
      "Epoch 53/140\n",
      "24/24 [==============================] - 7s 300ms/step - loss: 0.1420 - accuracy: 0.7844 - val_loss: 0.1428 - val_accuracy: 0.7835\n",
      "Epoch 54/140\n",
      "24/24 [==============================] - 7s 300ms/step - loss: 0.1416 - accuracy: 0.7846 - val_loss: 0.1430 - val_accuracy: 0.7829\n",
      "Epoch 55/140\n",
      "24/24 [==============================] - 7s 300ms/step - loss: 0.1415 - accuracy: 0.7854 - val_loss: 0.1429 - val_accuracy: 0.7827\n",
      "Epoch 56/140\n",
      "24/24 [==============================] - 7s 297ms/step - loss: 0.1418 - accuracy: 0.7846 - val_loss: 0.1429 - val_accuracy: 0.7831\n",
      "Epoch 57/140\n",
      "24/24 [==============================] - 7s 300ms/step - loss: 0.1420 - accuracy: 0.7846 - val_loss: 0.1428 - val_accuracy: 0.7847\n"
     ]
    },
    {
     "name": "stdout",
     "output_type": "stream",
     "text": [
      "Epoch 58/140\n",
      "24/24 [==============================] - 7s 298ms/step - loss: 0.1420 - accuracy: 0.7845 - val_loss: 0.1446 - val_accuracy: 0.7805\n",
      "Epoch 59/140\n",
      "24/24 [==============================] - 7s 299ms/step - loss: 0.1416 - accuracy: 0.7849 - val_loss: 0.1432 - val_accuracy: 0.7811\n",
      "Epoch 60/140\n",
      "24/24 [==============================] - 7s 297ms/step - loss: 0.1412 - accuracy: 0.7860 - val_loss: 0.1419 - val_accuracy: 0.7854\n",
      "Epoch 61/140\n",
      "24/24 [==============================] - 7s 295ms/step - loss: 0.1413 - accuracy: 0.7855 - val_loss: 0.1432 - val_accuracy: 0.7810\n",
      "Epoch 62/140\n",
      "24/24 [==============================] - 7s 295ms/step - loss: 0.1411 - accuracy: 0.7860 - val_loss: 0.1439 - val_accuracy: 0.7844\n",
      "Epoch 63/140\n",
      "24/24 [==============================] - 7s 297ms/step - loss: 0.1410 - accuracy: 0.7860 - val_loss: 0.1421 - val_accuracy: 0.7856\n",
      "Epoch 64/140\n",
      "24/24 [==============================] - 7s 296ms/step - loss: 0.1409 - accuracy: 0.7863 - val_loss: 0.1429 - val_accuracy: 0.7820\n",
      "Epoch 65/140\n",
      "24/24 [==============================] - 7s 294ms/step - loss: 0.1412 - accuracy: 0.7860 - val_loss: 0.1434 - val_accuracy: 0.7847\n",
      "Epoch 66/140\n",
      "24/24 [==============================] - 7s 297ms/step - loss: 0.1403 - accuracy: 0.7866 - val_loss: 0.1434 - val_accuracy: 0.7838\n",
      "Epoch 67/140\n",
      "24/24 [==============================] - 7s 298ms/step - loss: 0.1405 - accuracy: 0.7867 - val_loss: 0.1425 - val_accuracy: 0.7858\n",
      "Epoch 68/140\n",
      "24/24 [==============================] - 7s 297ms/step - loss: 0.1408 - accuracy: 0.7865 - val_loss: 0.1426 - val_accuracy: 0.7852\n",
      "Epoch 69/140\n",
      "24/24 [==============================] - 7s 298ms/step - loss: 0.1401 - accuracy: 0.7870 - val_loss: 0.1430 - val_accuracy: 0.7843\n",
      "Epoch 70/140\n",
      "24/24 [==============================] - 7s 296ms/step - loss: 0.1400 - accuracy: 0.7872 - val_loss: 0.1427 - val_accuracy: 0.7843\n",
      "Epoch 71/140\n",
      "24/24 [==============================] - 7s 297ms/step - loss: 0.1405 - accuracy: 0.7867 - val_loss: 0.1426 - val_accuracy: 0.7839\n",
      "Epoch 72/140\n",
      "24/24 [==============================] - 7s 298ms/step - loss: 0.1404 - accuracy: 0.7870 - val_loss: 0.1423 - val_accuracy: 0.7853\n",
      "Epoch 73/140\n",
      "24/24 [==============================] - 7s 297ms/step - loss: 0.1404 - accuracy: 0.7871 - val_loss: 0.1427 - val_accuracy: 0.7857\n",
      "Epoch 74/140\n",
      "24/24 [==============================] - 7s 299ms/step - loss: 0.1396 - accuracy: 0.7880 - val_loss: 0.1418 - val_accuracy: 0.7863\n",
      "Epoch 75/140\n",
      "24/24 [==============================] - 7s 299ms/step - loss: 0.1397 - accuracy: 0.7874 - val_loss: 0.1450 - val_accuracy: 0.7839\n",
      "Epoch 76/140\n",
      "24/24 [==============================] - 7s 299ms/step - loss: 0.1400 - accuracy: 0.7877 - val_loss: 0.1441 - val_accuracy: 0.7857\n",
      "Epoch 77/140\n",
      "24/24 [==============================] - 7s 299ms/step - loss: 0.1398 - accuracy: 0.7876 - val_loss: 0.1421 - val_accuracy: 0.7849\n",
      "Epoch 78/140\n",
      "24/24 [==============================] - 7s 296ms/step - loss: 0.1396 - accuracy: 0.7882 - val_loss: 0.1426 - val_accuracy: 0.7838\n",
      "Epoch 79/140\n",
      "24/24 [==============================] - 7s 296ms/step - loss: 0.1394 - accuracy: 0.7883 - val_loss: 0.1429 - val_accuracy: 0.7817\n",
      "Epoch 80/140\n",
      "24/24 [==============================] - 7s 296ms/step - loss: 0.1393 - accuracy: 0.7877 - val_loss: 0.1450 - val_accuracy: 0.7784\n",
      "Epoch 81/140\n",
      "24/24 [==============================] - 7s 297ms/step - loss: 0.1394 - accuracy: 0.7881 - val_loss: 0.1443 - val_accuracy: 0.7802\n",
      "Epoch 82/140\n",
      "24/24 [==============================] - 7s 297ms/step - loss: 0.1392 - accuracy: 0.7883 - val_loss: 0.1435 - val_accuracy: 0.7812\n",
      "Epoch 83/140\n",
      "24/24 [==============================] - 7s 298ms/step - loss: 0.1390 - accuracy: 0.7891 - val_loss: 0.1430 - val_accuracy: 0.7837\n",
      "Epoch 84/140\n",
      "24/24 [==============================] - 7s 297ms/step - loss: 0.1386 - accuracy: 0.7894 - val_loss: 0.1428 - val_accuracy: 0.7828\n",
      "Epoch 85/140\n",
      "24/24 [==============================] - 7s 297ms/step - loss: 0.1390 - accuracy: 0.7886 - val_loss: 0.1423 - val_accuracy: 0.7853\n",
      "Epoch 86/140\n",
      "24/24 [==============================] - 7s 297ms/step - loss: 0.1388 - accuracy: 0.7894 - val_loss: 0.1448 - val_accuracy: 0.7797\n",
      "Epoch 87/140\n",
      "24/24 [==============================] - 7s 297ms/step - loss: 0.1391 - accuracy: 0.7888 - val_loss: 0.1425 - val_accuracy: 0.7853\n",
      "Epoch 88/140\n",
      "24/24 [==============================] - 7s 297ms/step - loss: 0.1383 - accuracy: 0.7898 - val_loss: 0.1427 - val_accuracy: 0.7858\n",
      "Epoch 89/140\n",
      "24/24 [==============================] - 7s 300ms/step - loss: 0.1384 - accuracy: 0.7898 - val_loss: 0.1427 - val_accuracy: 0.7858\n",
      "Epoch 90/140\n",
      "24/24 [==============================] - 7s 297ms/step - loss: 0.1380 - accuracy: 0.7902 - val_loss: 0.1427 - val_accuracy: 0.7845\n",
      "Epoch 91/140\n",
      "24/24 [==============================] - 7s 298ms/step - loss: 0.1381 - accuracy: 0.7899 - val_loss: 0.1449 - val_accuracy: 0.7810\n",
      "Epoch 92/140\n",
      "24/24 [==============================] - 7s 297ms/step - loss: 0.1382 - accuracy: 0.7899 - val_loss: 0.1434 - val_accuracy: 0.7854\n",
      "Epoch 93/140\n",
      "24/24 [==============================] - 7s 297ms/step - loss: 0.1379 - accuracy: 0.7906 - val_loss: 0.1438 - val_accuracy: 0.7834\n",
      "Epoch 94/140\n",
      "24/24 [==============================] - 7s 297ms/step - loss: 0.1378 - accuracy: 0.7904 - val_loss: 0.1429 - val_accuracy: 0.7832\n",
      "Epoch 95/140\n",
      "24/24 [==============================] - 7s 297ms/step - loss: 0.1380 - accuracy: 0.7904 - val_loss: 0.1441 - val_accuracy: 0.7790\n",
      "Epoch 96/140\n",
      "24/24 [==============================] - 7s 298ms/step - loss: 0.1381 - accuracy: 0.7903 - val_loss: 0.1437 - val_accuracy: 0.7815\n",
      "Epoch 97/140\n",
      "24/24 [==============================] - 7s 299ms/step - loss: 0.1377 - accuracy: 0.7906 - val_loss: 0.1441 - val_accuracy: 0.7819\n",
      "Epoch 98/140\n",
      "24/24 [==============================] - 7s 297ms/step - loss: 0.1377 - accuracy: 0.7912 - val_loss: 0.1430 - val_accuracy: 0.7852\n",
      "Epoch 99/140\n",
      "24/24 [==============================] - 7s 296ms/step - loss: 0.1373 - accuracy: 0.7913 - val_loss: 0.1431 - val_accuracy: 0.7848\n",
      "Epoch 100/140\n",
      "24/24 [==============================] - 7s 296ms/step - loss: 0.1376 - accuracy: 0.7908 - val_loss: 0.1439 - val_accuracy: 0.7808\n",
      "Epoch 101/140\n",
      "24/24 [==============================] - 7s 296ms/step - loss: 0.1373 - accuracy: 0.7915 - val_loss: 0.1440 - val_accuracy: 0.7779\n",
      "Epoch 102/140\n",
      "24/24 [==============================] - 7s 296ms/step - loss: 0.1373 - accuracy: 0.7917 - val_loss: 0.1435 - val_accuracy: 0.7833\n",
      "Epoch 103/140\n",
      "24/24 [==============================] - 7s 296ms/step - loss: 0.1370 - accuracy: 0.7916 - val_loss: 0.1437 - val_accuracy: 0.7797\n",
      "Epoch 104/140\n",
      "24/24 [==============================] - 7s 297ms/step - loss: 0.1370 - accuracy: 0.7921 - val_loss: 0.1438 - val_accuracy: 0.7807\n",
      "Epoch 105/140\n",
      "24/24 [==============================] - 7s 299ms/step - loss: 0.1369 - accuracy: 0.7921 - val_loss: 0.1430 - val_accuracy: 0.7842\n",
      "Epoch 106/140\n",
      "24/24 [==============================] - 7s 302ms/step - loss: 0.1373 - accuracy: 0.7918 - val_loss: 0.1426 - val_accuracy: 0.7830\n",
      "Epoch 107/140\n",
      "24/24 [==============================] - 7s 299ms/step - loss: 0.1369 - accuracy: 0.7922 - val_loss: 0.1438 - val_accuracy: 0.7796\n",
      "Epoch 108/140\n",
      "24/24 [==============================] - 7s 297ms/step - loss: 0.1364 - accuracy: 0.7930 - val_loss: 0.1435 - val_accuracy: 0.7815\n",
      "Epoch 109/140\n",
      "24/24 [==============================] - 7s 297ms/step - loss: 0.1362 - accuracy: 0.7929 - val_loss: 0.1458 - val_accuracy: 0.7746\n",
      "Epoch 110/140\n",
      "24/24 [==============================] - 7s 296ms/step - loss: 0.1367 - accuracy: 0.7924 - val_loss: 0.1446 - val_accuracy: 0.7806\n",
      "Epoch 111/140\n",
      "24/24 [==============================] - 7s 296ms/step - loss: 0.1363 - accuracy: 0.7928 - val_loss: 0.1445 - val_accuracy: 0.7850\n",
      "Epoch 112/140\n",
      "24/24 [==============================] - 7s 296ms/step - loss: 0.1364 - accuracy: 0.7932 - val_loss: 0.1431 - val_accuracy: 0.7839\n",
      "Epoch 113/140\n",
      "24/24 [==============================] - 7s 297ms/step - loss: 0.1362 - accuracy: 0.7932 - val_loss: 0.1436 - val_accuracy: 0.7845\n",
      "Epoch 114/140\n",
      "24/24 [==============================] - 7s 298ms/step - loss: 0.1370 - accuracy: 0.7922 - val_loss: 0.1433 - val_accuracy: 0.7804\n"
     ]
    },
    {
     "name": "stdout",
     "output_type": "stream",
     "text": [
      "Epoch 115/140\n",
      "24/24 [==============================] - 7s 298ms/step - loss: 0.1363 - accuracy: 0.7932 - val_loss: 0.1440 - val_accuracy: 0.7833\n",
      "Epoch 116/140\n",
      "24/24 [==============================] - 7s 299ms/step - loss: 0.1362 - accuracy: 0.7929 - val_loss: 0.1451 - val_accuracy: 0.7786\n",
      "Epoch 117/140\n",
      "24/24 [==============================] - 7s 299ms/step - loss: 0.1356 - accuracy: 0.7939 - val_loss: 0.1438 - val_accuracy: 0.7828\n",
      "Epoch 118/140\n",
      "24/24 [==============================] - 7s 295ms/step - loss: 0.1357 - accuracy: 0.7939 - val_loss: 0.1440 - val_accuracy: 0.7786\n",
      "Epoch 119/140\n",
      "24/24 [==============================] - 7s 297ms/step - loss: 0.1358 - accuracy: 0.7935 - val_loss: 0.1448 - val_accuracy: 0.7831\n",
      "Epoch 120/140\n",
      "24/24 [==============================] - 7s 295ms/step - loss: 0.1355 - accuracy: 0.7946 - val_loss: 0.1434 - val_accuracy: 0.7819\n",
      "Epoch 121/140\n",
      "24/24 [==============================] - 7s 299ms/step - loss: 0.1353 - accuracy: 0.7949 - val_loss: 0.1437 - val_accuracy: 0.7809\n",
      "Epoch 122/140\n",
      "24/24 [==============================] - 7s 295ms/step - loss: 0.1350 - accuracy: 0.7950 - val_loss: 0.1443 - val_accuracy: 0.7793\n",
      "Epoch 123/140\n",
      "24/24 [==============================] - 7s 297ms/step - loss: 0.1350 - accuracy: 0.7950 - val_loss: 0.1449 - val_accuracy: 0.7805\n",
      "Epoch 124/140\n",
      "24/24 [==============================] - 7s 295ms/step - loss: 0.1348 - accuracy: 0.7953 - val_loss: 0.1441 - val_accuracy: 0.7788\n",
      "Epoch 125/140\n",
      "24/24 [==============================] - 7s 295ms/step - loss: 0.1348 - accuracy: 0.7953 - val_loss: 0.1441 - val_accuracy: 0.7826\n",
      "Epoch 126/140\n",
      "24/24 [==============================] - 7s 295ms/step - loss: 0.1345 - accuracy: 0.7959 - val_loss: 0.1448 - val_accuracy: 0.7794\n",
      "Epoch 127/140\n",
      "24/24 [==============================] - 7s 297ms/step - loss: 0.1347 - accuracy: 0.7954 - val_loss: 0.1440 - val_accuracy: 0.7823\n",
      "Epoch 128/140\n",
      "24/24 [==============================] - 7s 298ms/step - loss: 0.1347 - accuracy: 0.7955 - val_loss: 0.1452 - val_accuracy: 0.7810\n",
      "Epoch 129/140\n",
      "24/24 [==============================] - 7s 296ms/step - loss: 0.1349 - accuracy: 0.7955 - val_loss: 0.1464 - val_accuracy: 0.7726\n",
      "Epoch 130/140\n",
      "24/24 [==============================] - 7s 295ms/step - loss: 0.1346 - accuracy: 0.7959 - val_loss: 0.1473 - val_accuracy: 0.7769\n",
      "Epoch 131/140\n",
      "24/24 [==============================] - 7s 298ms/step - loss: 0.1349 - accuracy: 0.7956 - val_loss: 0.1441 - val_accuracy: 0.7815\n",
      "Epoch 132/140\n",
      "24/24 [==============================] - 7s 296ms/step - loss: 0.1342 - accuracy: 0.7967 - val_loss: 0.1449 - val_accuracy: 0.7791\n",
      "Epoch 133/140\n",
      "24/24 [==============================] - 7s 298ms/step - loss: 0.1337 - accuracy: 0.7974 - val_loss: 0.1448 - val_accuracy: 0.7807\n",
      "Epoch 134/140\n",
      "24/24 [==============================] - 7s 298ms/step - loss: 0.1338 - accuracy: 0.7971 - val_loss: 0.1443 - val_accuracy: 0.7803\n",
      "Epoch 135/140\n",
      "24/24 [==============================] - 7s 297ms/step - loss: 0.1336 - accuracy: 0.7978 - val_loss: 0.1457 - val_accuracy: 0.7816\n",
      "Epoch 136/140\n",
      "24/24 [==============================] - 7s 297ms/step - loss: 0.1344 - accuracy: 0.7963 - val_loss: 0.1449 - val_accuracy: 0.7820\n",
      "Epoch 137/140\n",
      "24/24 [==============================] - 7s 296ms/step - loss: 0.1338 - accuracy: 0.7974 - val_loss: 0.1453 - val_accuracy: 0.7784\n",
      "Epoch 138/140\n",
      "24/24 [==============================] - 7s 296ms/step - loss: 0.1335 - accuracy: 0.7973 - val_loss: 0.1450 - val_accuracy: 0.7815\n",
      "Epoch 139/140\n",
      "24/24 [==============================] - 7s 296ms/step - loss: 0.1333 - accuracy: 0.7978 - val_loss: 0.1479 - val_accuracy: 0.7726\n",
      "Epoch 140/140\n",
      "24/24 [==============================] - 7s 297ms/step - loss: 0.1334 - accuracy: 0.7979 - val_loss: 0.1451 - val_accuracy: 0.7766\n"
     ]
    }
   ],
   "source": [
    "gru_history = model_gru.fit(train_X, train_y, epochs=140,validation_data=(test_X, test_y),batch_size=16384)#, shuffle=False)"
   ]
  },
  {
   "cell_type": "code",
   "execution_count": 24,
   "metadata": {},
   "outputs": [
    {
     "name": "stdout",
     "output_type": "stream",
     "text": [
      "2971/2971 [==============================] - 28s 9ms/step\n"
     ]
    }
   ],
   "source": [
    "pred_y =  model_gru.predict(test_X)"
   ]
  },
  {
   "cell_type": "code",
   "execution_count": 25,
   "metadata": {},
   "outputs": [
    {
     "name": "stdout",
     "output_type": "stream",
     "text": [
      "1042.2066659927368\n"
     ]
    }
   ],
   "source": [
    "stop=t.time()-start\n",
    "print(stop)"
   ]
  },
  {
   "cell_type": "code",
   "execution_count": 26,
   "metadata": {},
   "outputs": [
    {
     "data": {
      "image/png": "[encoded data removed]",
      "text/plain": [
       "<Figure size 640x480 with 1 Axes>"
      ]
     },
     "metadata": {},
     "output_type": "display_data"
    }
   ],
   "source": [
    "#plt.plot(gru_history.history['accuracy'], label='GRU accuracy', color='green')\n",
    "#plt.plot(gru_history.history['val_accuracy'], label='GRU val_accuracy', color='yellow')\n",
    "plt.plot(gru_history.history['loss'], label='GRU train', color='brown')\n",
    "plt.plot(gru_history.history['val_loss'], label='GRU test', color='blue')\n",
    "plt.legend()\n",
    "plt.show()"
   ]
  },
  {
   "cell_type": "code",
   "execution_count": 27,
   "metadata": {},
   "outputs": [
    {
     "data": {
      "image/png": "[encoded data removed]",
      "text/plain": [
       "<Figure size 640x480 with 1 Axes>"
      ]
     },
     "metadata": {},
     "output_type": "display_data"
    }
   ],
   "source": [
    "plt.plot(gru_history.history['accuracy'], label='GRU accuracy', color='green')\n",
    "plt.plot(gru_history.history['val_accuracy'], label='GRU val_accuracy', color='yellow')\n",
    "plt.legend()\n",
    "plt.show()"
   ]
  },
  {
   "cell_type": "code",
   "execution_count": 28,
   "metadata": {},
   "outputs": [
    {
     "name": "stdout",
     "output_type": "stream",
     "text": [
      "[[0.]\n",
      " [0.]\n",
      " [0.]\n",
      " ...\n",
      " [0.]\n",
      " [0.]\n",
      " [0.]]\n"
     ]
    }
   ],
   "source": [
    "print(test_y)"
   ]
  },
  {
   "cell_type": "code",
   "execution_count": 29,
   "metadata": {},
   "outputs": [
    {
     "data": {
      "text/plain": [
       "(95061, 1)"
      ]
     },
     "execution_count": 29,
     "metadata": {},
     "output_type": "execute_result"
    }
   ],
   "source": [
    "np.shape(pred_y)"
   ]
  },
  {
   "cell_type": "code",
   "execution_count": 30,
   "metadata": {},
   "outputs": [
    {
     "data": {
      "text/plain": [
       "array([[0.00140175],\n",
       "       [0.00242686],\n",
       "       [0.0018637 ],\n",
       "       ...,\n",
       "       [0.07078148],\n",
       "       [0.06965087],\n",
       "       [0.07555876]], dtype=float32)"
      ]
     },
     "execution_count": 30,
     "metadata": {},
     "output_type": "execute_result"
    }
   ],
   "source": [
    "pred_y"
   ]
  },
  {
   "cell_type": "code",
   "execution_count": 31,
   "metadata": {},
   "outputs": [],
   "source": [
    "pred_y=np.reshape(pred_y,95061)"
   ]
  },
  {
   "cell_type": "code",
   "execution_count": 32,
   "metadata": {},
   "outputs": [
    {
     "name": "stdout",
     "output_type": "stream",
     "text": [
      "0.14509716676503037\n",
      "0.21977913667531712\n",
      "0.380916220139062\n",
      "0.27996873646617687\n"
     ]
    },
    {
     "data": {
      "image/png": "[encoded data removed]",
      "text/plain": [
       "<Figure size 1500x500 with 1 Axes>"
      ]
     },
     "metadata": {},
     "output_type": "display_data"
    }
   ],
   "source": [
    "\n",
    "plt.rcParams['figure.figsize'] = (15,5)\n",
    "\n",
    "MSE = mean_squared_error(test_y, pred_y)\n",
    "R2 = r2_score(test_y, pred_y)\n",
    "RMSE = sqrt(mean_squared_error(test_y, pred_y))\n",
    "MAE = mean_absolute_error(test_y, pred_y)\n",
    "\n",
    "\n",
    "print(MSE)\n",
    "print(R2)\n",
    "print(RMSE)\n",
    "print(MAE)\n",
    "\n",
    "\n",
    "plt.plot(test_y, label = 'Actual')\n",
    "plt.plot(pred_y, label = 'Predicted')\n",
    "plt.legend()\n",
    "plt.show()"
   ]
  },
  {
   "cell_type": "code",
   "execution_count": 33,
   "metadata": {},
   "outputs": [
    {
     "data": {
      "text/plain": [
       "(380244, 32, 15)"
      ]
     },
     "execution_count": 33,
     "metadata": {},
     "output_type": "execute_result"
    }
   ],
   "source": [
    "np.shape(train_X)"
   ]
  },
  {
   "cell_type": "code",
   "execution_count": 34,
   "metadata": {},
   "outputs": [
    {
     "data": {
      "text/plain": [
       "(380244, 1)"
      ]
     },
     "execution_count": 34,
     "metadata": {},
     "output_type": "execute_result"
    }
   ],
   "source": [
    "np.shape(train_y)"
   ]
  },
  {
   "cell_type": "code",
   "execution_count": 35,
   "metadata": {},
   "outputs": [
    {
     "data": {
      "text/plain": [
       "(95061, 32, 15)"
      ]
     },
     "execution_count": 35,
     "metadata": {},
     "output_type": "execute_result"
    }
   ],
   "source": [
    "np.shape(test_X)"
   ]
  },
  {
   "cell_type": "code",
   "execution_count": 36,
   "metadata": {},
   "outputs": [
    {
     "data": {
      "text/plain": [
       "(95061, 1)"
      ]
     },
     "execution_count": 36,
     "metadata": {},
     "output_type": "execute_result"
    }
   ],
   "source": [
    "np.shape(test_y)"
   ]
  },
  {
   "cell_type": "code",
   "execution_count": null,
   "metadata": {},
   "outputs": [
    {
     "name": "stdout",
     "output_type": "stream",
     "text": [
      " 9813/14854 [==================>...........] - ETA: 42s"
     ]
    }
   ],
   "source": [
    "tra = np.concatenate([train_X,test_X])\n",
    "tes = np.concatenate([train_y,test_y])\n",
    "fp = model_gru.predict(tra)\n",
    "plt.plot(tes, label = 'Actual')\n",
    "plt.plot(fp, label = 'Predicted')\n",
    "plt.legend()\n",
    "plt.show()"
   ]
  },
  {
   "cell_type": "code",
   "execution_count": null,
   "metadata": {},
   "outputs": [],
   "source": [
    "plt.plot(tes[:2000], label = 'Actual')\n",
    "plt.plot(fp[:2000], label = 'Predicted')\n",
    "plt.legend()\n",
    "plt.show()"
   ]
  },
  {
   "cell_type": "code",
   "execution_count": null,
   "metadata": {},
   "outputs": [],
   "source": [
    "print(sum(tes)/len(tes))"
   ]
  },
  {
   "cell_type": "code",
   "execution_count": null,
   "metadata": {},
   "outputs": [],
   "source": [
    "#print(fp[1000:1010])\n",
    "_fp = np.where(fp>0.5,1,0)\n",
    "_all = sum(_fp)\n",
    "_w = (_fp*tes)\n",
    "print(sum(_w)/_all)\n",
    "      \n",
    "_all_z = sum(1-_fp)      \n",
    "_w_z = (1-_fp)*(1-tes)\n",
    "print(sum(_w_z)/_all_z)\n",
    "print('total acc', (sum(_w)+sum(_w_z))/len(_w))"
   ]
  },
  {
   "cell_type": "code",
   "execution_count": null,
   "metadata": {},
   "outputs": [],
   "source": [
    "plt.plot(tes[:8000], label = 'Actual')\n",
    "plt.plot(fp[:8000], label = 'Predicted')\n",
    "plt.legend()\n",
    "plt.show()"
   ]
  },
  {
   "cell_type": "code",
   "execution_count": null,
   "metadata": {},
   "outputs": [],
   "source": [
    "#over very small part of data\n",
    "plt.plot(tes[2000:2020], label = 'Actual')\n",
    "plt.plot(fp[2000:2020], label = 'Predicted')\n",
    "plt.legend()\n",
    "plt.show()"
   ]
  },
  {
   "cell_type": "code",
   "execution_count": null,
   "metadata": {},
   "outputs": [],
   "source": [
    "plt.plot(tes[:50], label = 'Actual')\n",
    "plt.plot(fp[:50], label = 'Predicted')\n",
    "plt.legend()\n",
    "plt.show()"
   ]
  },
  {
   "cell_type": "code",
   "execution_count": null,
   "metadata": {},
   "outputs": [],
   "source": [
    "plt.plot(tes[:5], label = 'Actual')\n",
    "plt.plot(fp[:5], label = 'Predicted')\n",
    "plt.legend()\n",
    "plt.show()"
   ]
  },
  {
   "cell_type": "code",
   "execution_count": null,
   "metadata": {},
   "outputs": [],
   "source": [
    "tf.config.experimental.get_memory_info('GPU:0')"
   ]
  },
  {
   "cell_type": "code",
   "execution_count": null,
   "metadata": {},
   "outputs": [],
   "source": []
  },
  {
   "cell_type": "code",
   "execution_count": null,
   "metadata": {},
   "outputs": [],
   "source": []
  },
  {
   "cell_type": "code",
   "execution_count": null,
   "metadata": {},
   "outputs": [],
   "source": []
  }
 ],
 "metadata": {
  "kernelspec": {
   "display_name": "Python 3 (ipykernel)",
   "language": "python",
   "name": "python3"
  },
  "language_info": {
   "codemirror_mode": {
    "name": "ipython",
    "version": 3
   },
   "file_extension": ".py",
   "mimetype": "text/x-python",
   "name": "python",
   "nbconvert_exporter": "python",
   "pygments_lexer": "ipython3",
   "version": "3.9.13"
  }
 },
 "nbformat": 4,
 "nbformat_minor": 2
}
