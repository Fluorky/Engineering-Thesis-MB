{
 "cells": [
  {
   "cell_type": "code",
   "execution_count": 1,
   "metadata": {},
   "outputs": [
    {
     "name": "stderr",
     "output_type": "stream",
     "text": [
      "2023-01-04 16:33:01.166378: W tensorflow/compiler/xla/stream_executor/platform/default/dso_loader.cc:64] Could not load dynamic library 'libcudart.so.11.0'; dlerror: libcudart.so.11.0: cannot open shared object file: No such file or directory\n",
      "2023-01-04 16:33:01.166411: I tensorflow/compiler/xla/stream_executor/cuda/cudart_stub.cc:29] Ignore above cudart dlerror if you do not have a GPU set up on your machine.\n",
      "2023-01-04 16:33:02.523006: W tensorflow/compiler/xla/stream_executor/platform/default/dso_loader.cc:64] Could not load dynamic library 'libnvinfer.so.7'; dlerror: libnvinfer.so.7: cannot open shared object file: No such file or directory\n",
      "2023-01-04 16:33:02.523113: W tensorflow/compiler/xla/stream_executor/platform/default/dso_loader.cc:64] Could not load dynamic library 'libnvinfer_plugin.so.7'; dlerror: libnvinfer_plugin.so.7: cannot open shared object file: No such file or directory\n",
      "2023-01-04 16:33:02.523126: W tensorflow/compiler/tf2tensorrt/utils/py_utils.cc:38] TF-TRT Warning: Cannot dlopen some TensorRT libraries. If you would like to use Nvidia GPU with TensorRT, please make sure the missing libraries mentioned above are installed properly.\n"
     ]
    }
   ],
   "source": [
    "import pandas as pd\n",
    "import numpy as np\n",
    "import matplotlib.pyplot as plt\n",
    "from math import sqrt\n",
    "from numpy import concatenate\n",
    "from pandas import *\n",
    "from sklearn.preprocessing import *\n",
    "from sklearn.metrics import *\n",
    "from tensorflow import keras\n",
    "import tensorflow as tf\n",
    "import time as t"
   ]
  },
  {
   "cell_type": "code",
   "execution_count": 2,
   "metadata": {},
   "outputs": [],
   "source": [
    "w=32"
   ]
  },
  {
   "cell_type": "code",
   "execution_count": 3,
   "metadata": {},
   "outputs": [],
   "source": [
    "#print(dataFromSensors)\n",
    "dataFromSensors=np.load(\"DataWithLabels/dataFromSensors_\"+str(w)+\".npy\")"
   ]
  },
  {
   "cell_type": "code",
   "execution_count": 4,
   "metadata": {},
   "outputs": [
    {
     "name": "stdout",
     "output_type": "stream",
     "text": [
      "class:  ndarray\n",
      "shape:  (475305, 32, 16)\n",
      "strides:  (4096, 128, 8)\n",
      "itemsize:  8\n",
      "aligned:  True\n",
      "contiguous:  True\n",
      "fortran:  False\n",
      "data pointer: 0x7f2e11de0010\n",
      "byteorder:  little\n",
      "byteswap:  False\n",
      "type: float64\n"
     ]
    }
   ],
   "source": [
    "np.info(dataFromSensors)"
   ]
  },
  {
   "cell_type": "code",
   "execution_count": 5,
   "metadata": {},
   "outputs": [],
   "source": [
    "labels=np.load(\"DataWithLabels/labels_\"+str(w)+\".npy\")"
   ]
  },
  {
   "cell_type": "code",
   "execution_count": 6,
   "metadata": {},
   "outputs": [
    {
     "name": "stdout",
     "output_type": "stream",
     "text": [
      "class:  ndarray\n",
      "shape:  (475305,)\n",
      "strides:  (8,)\n",
      "itemsize:  8\n",
      "aligned:  True\n",
      "contiguous:  True\n",
      "fortran:  True\n",
      "data pointer: 0x7f2e11a3f010\n",
      "byteorder:  little\n",
      "byteswap:  False\n",
      "type: float64\n"
     ]
    }
   ],
   "source": [
    "np.info(labels)"
   ]
  },
  {
   "cell_type": "code",
   "execution_count": 7,
   "metadata": {},
   "outputs": [],
   "source": [
    "#values = reframed_df.values\n",
    "#training_sample =int( len(dataset) *0.8)\n",
    "training_sample_labels =int( len(labels) *0.8)\n",
    "training_sample =int( len(dataFromSensors) *0.8)\n",
    "#testDataset=DataFrame.to_numpy(dataset)\n",
    "#testDataset=DataFrame.to_numpy(reframed_df)"
   ]
  },
  {
   "cell_type": "code",
   "execution_count": 8,
   "metadata": {},
   "outputs": [
    {
     "data": {
      "text/plain": [
       "380244"
      ]
     },
     "execution_count": 8,
     "metadata": {},
     "output_type": "execute_result"
    }
   ],
   "source": [
    "training_sample_labels"
   ]
  },
  {
   "cell_type": "code",
   "execution_count": 9,
   "metadata": {},
   "outputs": [
    {
     "data": {
      "text/plain": [
       "380244"
      ]
     },
     "execution_count": 9,
     "metadata": {},
     "output_type": "execute_result"
    }
   ],
   "source": [
    "training_sample"
   ]
  },
  {
   "cell_type": "code",
   "execution_count": 10,
   "metadata": {},
   "outputs": [],
   "source": [
    "train_labels = labels[:training_sample]\n",
    "train = dataFromSensors[:training_sample, : ,:]\n",
    "test_labels = labels[training_sample:]\n",
    "test = dataFromSensors[training_sample:, : , :]\n",
    "# split into input and outputs\n",
    "#train_X, train_y = train[:,:, 1:], train[:,:,0]\n",
    "#test_X, test_y = test[:,:, 1:], test[:,:,0]\n",
    "train_X, train_y = train[:,:, 1:], train_labels[:]\n",
    "test_X, test_y = test[:,:, 1:], test_labels[:]"
   ]
  },
  {
   "cell_type": "code",
   "execution_count": 11,
   "metadata": {},
   "outputs": [
    {
     "data": {
      "text/plain": [
       "(380244, 32, 15)"
      ]
     },
     "execution_count": 11,
     "metadata": {},
     "output_type": "execute_result"
    }
   ],
   "source": [
    "train_X.shape"
   ]
  },
  {
   "cell_type": "code",
   "execution_count": 12,
   "metadata": {},
   "outputs": [
    {
     "data": {
      "text/plain": [
       "array([0., 0., 0., ..., 0., 0., 0.])"
      ]
     },
     "execution_count": 12,
     "metadata": {},
     "output_type": "execute_result"
    }
   ],
   "source": [
    "train_y"
   ]
  },
  {
   "cell_type": "code",
   "execution_count": 13,
   "metadata": {},
   "outputs": [
    {
     "data": {
      "text/plain": [
       "(380244,)"
      ]
     },
     "execution_count": 13,
     "metadata": {},
     "output_type": "execute_result"
    }
   ],
   "source": [
    "train_y.shape"
   ]
  },
  {
   "cell_type": "code",
   "execution_count": 14,
   "metadata": {},
   "outputs": [],
   "source": [
    "train_y=train_y.reshape(train_y.shape[0],1)"
   ]
  },
  {
   "cell_type": "code",
   "execution_count": 15,
   "metadata": {},
   "outputs": [],
   "source": [
    "test_y=test_y.reshape(test_y.shape[0],1)"
   ]
  },
  {
   "cell_type": "code",
   "execution_count": 16,
   "metadata": {},
   "outputs": [],
   "source": [
    "#print(train_X)"
   ]
  },
  {
   "cell_type": "code",
   "execution_count": 17,
   "metadata": {},
   "outputs": [
    {
     "name": "stdout",
     "output_type": "stream",
     "text": [
      "(380244, 32, 15) (380244, 1) (95061, 32, 15) (95061, 1)\n"
     ]
    }
   ],
   "source": [
    "print(train_X.shape, train_y.shape, test_X.shape, test_y.shape)"
   ]
  },
  {
   "cell_type": "code",
   "execution_count": 18,
   "metadata": {},
   "outputs": [
    {
     "name": "stderr",
     "output_type": "stream",
     "text": [
      "2023-01-04 16:33:08.097141: W tensorflow/compiler/xla/stream_executor/platform/default/dso_loader.cc:64] Could not load dynamic library 'libcuda.so.1'; dlerror: libcuda.so.1: cannot open shared object file: No such file or directory\n",
      "2023-01-04 16:33:08.097650: W tensorflow/compiler/xla/stream_executor/cuda/cuda_driver.cc:265] failed call to cuInit: UNKNOWN ERROR (303)\n",
      "2023-01-04 16:33:08.097679: I tensorflow/compiler/xla/stream_executor/cuda/cuda_diagnostics.cc:156] kernel driver does not appear to be running on this host (server-OptiPlex-7010): /proc/driver/nvidia/version does not exist\n"
     ]
    }
   ],
   "source": [
    "model_gru =  keras.models.Sequential([\n",
    "  \n",
    "    keras.layers.GRU(256,return_sequences=True,input_shape=(train_X.shape[1],train_X.shape[2]),activation='relu'),\n",
    "    keras.layers.GRU(units=128,return_sequences=True,activation='relu'),\n",
    "    keras.layers.GRU(units=64,activation='relu'),\n",
    "    keras.layers.Dense(units=100,activation='sigmoid'),\n",
    "    keras.layers.Dense(units=1,activation='sigmoid')\n",
    "                        ])\n",
    "model_gru.compile(loss='binary_crossentropy', optimizer='sgd',metrics=['AUC'])"
   ]
  },
  {
   "cell_type": "code",
   "execution_count": 19,
   "metadata": {},
   "outputs": [
    {
     "name": "stdout",
     "output_type": "stream",
     "text": [
      "Model: \"sequential\"\n",
      "_________________________________________________________________\n",
      " Layer (type)                Output Shape              Param #   \n",
      "=================================================================\n",
      " gru (GRU)                   (None, 32, 256)           209664    \n",
      "                                                                 \n",
      " gru_1 (GRU)                 (None, 32, 128)           148224    \n",
      "                                                                 \n",
      " gru_2 (GRU)                 (None, 64)                37248     \n",
      "                                                                 \n",
      " dense (Dense)               (None, 100)               6500      \n",
      "                                                                 \n",
      " dense_1 (Dense)             (None, 1)                 101       \n",
      "                                                                 \n",
      "=================================================================\n",
      "Total params: 401,737\n",
      "Trainable params: 401,737\n",
      "Non-trainable params: 0\n",
      "_________________________________________________________________\n"
     ]
    }
   ],
   "source": [
    "model_gru.summary()"
   ]
  },
  {
   "cell_type": "code",
   "execution_count": 20,
   "metadata": {},
   "outputs": [],
   "source": [
    " start = t.time()"
   ]
  },
  {
   "cell_type": "code",
   "execution_count": 21,
   "metadata": {
    "scrolled": false
   },
   "outputs": [
    {
     "name": "stderr",
     "output_type": "stream",
     "text": [
      "2023-01-04 16:33:09.294983: W tensorflow/tsl/framework/cpu_allocator_impl.cc:82] Allocation of 730068480 exceeds 10% of free system memory.\n"
     ]
    },
    {
     "name": "stdout",
     "output_type": "stream",
     "text": [
      "Epoch 1/90\n",
      "2971/2971 [==============================] - ETA: 0s - loss: 0.5749 - auc: 0.5119"
     ]
    },
    {
     "name": "stderr",
     "output_type": "stream",
     "text": [
      "2023-01-04 16:42:30.701530: W tensorflow/tsl/framework/cpu_allocator_impl.cc:82] Allocation of 182517120 exceeds 10% of free system memory.\n"
     ]
    },
    {
     "name": "stdout",
     "output_type": "stream",
     "text": [
      "2971/2971 [==============================] - 611s 204ms/step - loss: 0.5749 - auc: 0.5119 - val_loss: 0.5592 - val_auc: 0.5077\n",
      "Epoch 2/90\n",
      "2971/2971 [==============================] - 607s 204ms/step - loss: 0.5730 - auc: 0.5382 - val_loss: 0.5578 - val_auc: 0.5831\n",
      "Epoch 3/90\n",
      "2971/2971 [==============================] - 607s 204ms/step - loss: 0.5715 - auc: 0.5847 - val_loss: 0.5557 - val_auc: 0.6595\n",
      "Epoch 4/90\n",
      "2971/2971 [==============================] - 607s 204ms/step - loss: 0.5657 - auc: 0.6498 - val_loss: 0.5451 - val_auc: 0.6827\n",
      "Epoch 5/90\n",
      "2971/2971 [==============================] - 607s 204ms/step - loss: 0.5396 - auc: 0.6873 - val_loss: 0.5084 - val_auc: 0.7151\n",
      "Epoch 6/90\n",
      "2971/2971 [==============================] - 606s 204ms/step - loss: 0.5073 - auc: 0.7273 - val_loss: 0.4852 - val_auc: 0.7380\n",
      "Epoch 7/90\n",
      "2971/2971 [==============================] - 607s 204ms/step - loss: 0.4983 - auc: 0.7365 - val_loss: 0.4810 - val_auc: 0.7423\n",
      "Epoch 8/90\n",
      "2971/2971 [==============================] - 607s 204ms/step - loss: 0.4934 - auc: 0.7439 - val_loss: 0.4775 - val_auc: 0.7468\n",
      "Epoch 9/90\n",
      "2971/2971 [==============================] - 607s 204ms/step - loss: 0.4882 - auc: 0.7524 - val_loss: 0.4814 - val_auc: 0.7529\n",
      "Epoch 10/90\n",
      "2971/2971 [==============================] - 607s 204ms/step - loss: 0.4828 - auc: 0.7616 - val_loss: 0.4698 - val_auc: 0.7608\n",
      "Epoch 11/90\n",
      "2971/2971 [==============================] - 608s 205ms/step - loss: 0.4770 - auc: 0.7705 - val_loss: 0.4668 - val_auc: 0.7674\n",
      "Epoch 12/90\n",
      "2971/2971 [==============================] - 607s 204ms/step - loss: 0.4721 - auc: 0.7778 - val_loss: 0.4700 - val_auc: 0.7745\n",
      "Epoch 13/90\n",
      "2971/2971 [==============================] - 607s 204ms/step - loss: 0.4685 - auc: 0.7826 - val_loss: 0.4580 - val_auc: 0.7801\n",
      "Epoch 14/90\n",
      "2971/2971 [==============================] - 608s 205ms/step - loss: 0.4649 - auc: 0.7870 - val_loss: 0.4547 - val_auc: 0.7859\n",
      "Epoch 15/90\n",
      "2971/2971 [==============================] - 608s 205ms/step - loss: 0.4621 - auc: 0.7904 - val_loss: 0.4544 - val_auc: 0.7854\n",
      "Epoch 16/90\n",
      "2971/2971 [==============================] - 608s 205ms/step - loss: 0.4597 - auc: 0.7933 - val_loss: 0.4525 - val_auc: 0.7879\n",
      "Epoch 17/90\n",
      "2971/2971 [==============================] - 608s 205ms/step - loss: 0.4575 - auc: 0.7957 - val_loss: 0.4508 - val_auc: 0.7944\n",
      "Epoch 18/90\n",
      "2971/2971 [==============================] - 609s 205ms/step - loss: 0.4559 - auc: 0.7975 - val_loss: 0.4559 - val_auc: 0.7957\n",
      "Epoch 19/90\n",
      "2971/2971 [==============================] - 607s 204ms/step - loss: 0.4543 - auc: 0.7993 - val_loss: 0.4768 - val_auc: 0.7913\n",
      "Epoch 20/90\n",
      "2971/2971 [==============================] - 607s 204ms/step - loss: 0.4527 - auc: 0.8011 - val_loss: 0.4416 - val_auc: 0.8004\n",
      "Epoch 21/90\n",
      "2971/2971 [==============================] - 609s 205ms/step - loss: 0.4513 - auc: 0.8027 - val_loss: 0.4418 - val_auc: 0.8003\n",
      "Epoch 22/90\n",
      "2971/2971 [==============================] - 609s 205ms/step - loss: 0.4496 - auc: 0.8044 - val_loss: 0.4433 - val_auc: 0.8021\n",
      "Epoch 23/90\n",
      "2971/2971 [==============================] - 608s 205ms/step - loss: 0.4487 - auc: 0.8054 - val_loss: 0.4395 - val_auc: 0.8042\n",
      "Epoch 24/90\n",
      "2971/2971 [==============================] - 609s 205ms/step - loss: 0.4477 - auc: 0.8066 - val_loss: 0.4427 - val_auc: 0.8041\n",
      "Epoch 25/90\n",
      "2971/2971 [==============================] - 609s 205ms/step - loss: 0.4465 - auc: 0.8078 - val_loss: 0.4379 - val_auc: 0.8051\n",
      "Epoch 26/90\n",
      "2971/2971 [==============================] - 609s 205ms/step - loss: 0.4451 - auc: 0.8094 - val_loss: 0.4397 - val_auc: 0.8034\n",
      "Epoch 27/90\n",
      "2971/2971 [==============================] - 609s 205ms/step - loss: 0.4445 - auc: 0.8101 - val_loss: 0.4403 - val_auc: 0.8055\n",
      "Epoch 28/90\n",
      "2971/2971 [==============================] - 609s 205ms/step - loss: 0.4433 - auc: 0.8112 - val_loss: 0.4363 - val_auc: 0.8062\n",
      "Epoch 29/90\n",
      "2971/2971 [==============================] - 608s 205ms/step - loss: 0.4428 - auc: 0.8117 - val_loss: 0.4348 - val_auc: 0.8080\n",
      "Epoch 30/90\n",
      "2971/2971 [==============================] - 609s 205ms/step - loss: 0.4418 - auc: 0.8127 - val_loss: 0.4349 - val_auc: 0.8084\n",
      "Epoch 31/90\n",
      "2971/2971 [==============================] - 609s 205ms/step - loss: 0.4409 - auc: 0.8137 - val_loss: 0.4353 - val_auc: 0.8072\n",
      "Epoch 32/90\n",
      "2971/2971 [==============================] - 610s 205ms/step - loss: 0.4402 - auc: 0.8144 - val_loss: 0.4436 - val_auc: 0.8074\n",
      "Epoch 33/90\n",
      "2971/2971 [==============================] - 618s 208ms/step - loss: 0.4392 - auc: 0.8156 - val_loss: 0.4314 - val_auc: 0.8120\n",
      "Epoch 34/90\n",
      "2971/2971 [==============================] - 606s 204ms/step - loss: 0.4389 - auc: 0.8159 - val_loss: 0.4343 - val_auc: 0.8105\n",
      "Epoch 35/90\n",
      "2971/2971 [==============================] - 607s 204ms/step - loss: 0.4379 - auc: 0.8169 - val_loss: 0.4573 - val_auc: 0.8117\n",
      "Epoch 36/90\n",
      "2971/2971 [==============================] - 608s 205ms/step - loss: 0.4372 - auc: 0.8176 - val_loss: 0.4346 - val_auc: 0.8101\n",
      "Epoch 37/90\n",
      "2971/2971 [==============================] - 607s 204ms/step - loss: 0.4365 - auc: 0.8184 - val_loss: 0.4561 - val_auc: 0.8078\n",
      "Epoch 38/90\n",
      "2971/2971 [==============================] - 608s 205ms/step - loss: 0.4361 - auc: 0.8187 - val_loss: 0.4315 - val_auc: 0.8123\n",
      "Epoch 39/90\n",
      "2971/2971 [==============================] - 609s 205ms/step - loss: 0.4353 - auc: 0.8195 - val_loss: 0.4521 - val_auc: 0.8089\n",
      "Epoch 40/90\n",
      "2971/2971 [==============================] - 601s 202ms/step - loss: 0.4346 - auc: 0.8202 - val_loss: 0.4302 - val_auc: 0.8138\n",
      "Epoch 41/90\n",
      "2971/2971 [==============================] - 600s 202ms/step - loss: 0.4344 - auc: 0.8204 - val_loss: 0.4374 - val_auc: 0.8132\n",
      "Epoch 42/90\n",
      "2971/2971 [==============================] - 601s 202ms/step - loss: 0.4336 - auc: 0.8213 - val_loss: 0.4292 - val_auc: 0.8150\n",
      "Epoch 43/90\n",
      "2971/2971 [==============================] - 600s 202ms/step - loss: 0.4332 - auc: 0.8217 - val_loss: 0.4298 - val_auc: 0.8143\n",
      "Epoch 44/90\n",
      "2971/2971 [==============================] - 601s 202ms/step - loss: 0.4326 - auc: 0.8223 - val_loss: 0.4389 - val_auc: 0.8095\n",
      "Epoch 45/90\n",
      "2971/2971 [==============================] - 602s 202ms/step - loss: 0.4322 - auc: 0.8226 - val_loss: 0.4311 - val_auc: 0.8163\n",
      "Epoch 46/90\n",
      "2971/2971 [==============================] - 601s 202ms/step - loss: 0.4317 - auc: 0.8232 - val_loss: 0.4339 - val_auc: 0.8150\n",
      "Epoch 47/90\n",
      "2971/2971 [==============================] - 601s 202ms/step - loss: 0.4313 - auc: 0.8237 - val_loss: 0.4343 - val_auc: 0.8115\n",
      "Epoch 48/90\n",
      "2971/2971 [==============================] - 601s 202ms/step - loss: 0.4309 - auc: 0.8240 - val_loss: 0.4277 - val_auc: 0.8155\n",
      "Epoch 49/90\n",
      "2971/2971 [==============================] - 601s 202ms/step - loss: 0.4306 - auc: 0.8244 - val_loss: 0.4293 - val_auc: 0.8151\n",
      "Epoch 50/90\n",
      "2971/2971 [==============================] - 601s 202ms/step - loss: 0.4301 - auc: 0.8247 - val_loss: 0.4263 - val_auc: 0.8186\n",
      "Epoch 51/90\n",
      "2971/2971 [==============================] - 601s 202ms/step - loss: 0.4301 - auc: 0.8248 - val_loss: 0.4273 - val_auc: 0.8169\n",
      "Epoch 52/90\n",
      "2971/2971 [==============================] - 601s 202ms/step - loss: 0.4294 - auc: 0.8256 - val_loss: 0.4331 - val_auc: 0.8169\n",
      "Epoch 53/90\n",
      "2971/2971 [==============================] - 601s 202ms/step - loss: 0.4292 - auc: 0.8257 - val_loss: 0.4303 - val_auc: 0.8167\n",
      "Epoch 54/90\n",
      "2971/2971 [==============================] - 601s 202ms/step - loss: 0.4289 - auc: 0.8260 - val_loss: 0.4298 - val_auc: 0.8166\n",
      "Epoch 55/90\n",
      "2971/2971 [==============================] - 601s 202ms/step - loss: 0.4285 - auc: 0.8264 - val_loss: 0.4269 - val_auc: 0.8179\n",
      "Epoch 56/90\n",
      "2971/2971 [==============================] - 601s 202ms/step - loss: 0.4282 - auc: 0.8266 - val_loss: 0.4506 - val_auc: 0.8126\n",
      "Epoch 57/90\n",
      "2971/2971 [==============================] - 601s 202ms/step - loss: 0.4281 - auc: 0.8267 - val_loss: 0.4343 - val_auc: 0.8151\n",
      "Epoch 58/90\n",
      "2971/2971 [==============================] - 601s 202ms/step - loss: 0.4276 - auc: 0.8273 - val_loss: 0.4312 - val_auc: 0.8158\n",
      "Epoch 59/90\n",
      "2971/2971 [==============================] - 600s 202ms/step - loss: 0.4271 - auc: 0.8278 - val_loss: 0.4314 - val_auc: 0.8163\n",
      "Epoch 60/90\n"
     ]
    },
    {
     "name": "stdout",
     "output_type": "stream",
     "text": [
      "2971/2971 [==============================] - 600s 202ms/step - loss: 0.4273 - auc: 0.8276 - val_loss: 0.4270 - val_auc: 0.8170\n",
      "Epoch 61/90\n",
      "2971/2971 [==============================] - 600s 202ms/step - loss: 0.4269 - auc: 0.8279 - val_loss: 0.4280 - val_auc: 0.8162\n",
      "Epoch 62/90\n",
      "2971/2971 [==============================] - 600s 202ms/step - loss: 0.4267 - auc: 0.8282 - val_loss: 0.4462 - val_auc: 0.8122\n",
      "Epoch 63/90\n",
      "2971/2971 [==============================] - 600s 202ms/step - loss: 0.4263 - auc: 0.8286 - val_loss: 0.4339 - val_auc: 0.8115\n",
      "Epoch 64/90\n",
      "2971/2971 [==============================] - 600s 202ms/step - loss: 0.4261 - auc: 0.8287 - val_loss: 0.4455 - val_auc: 0.8054\n",
      "Epoch 65/90\n",
      "2971/2971 [==============================] - 599s 202ms/step - loss: 0.4259 - auc: 0.8290 - val_loss: 0.4346 - val_auc: 0.8140\n",
      "Epoch 66/90\n",
      "2971/2971 [==============================] - 600s 202ms/step - loss: 0.4258 - auc: 0.8291 - val_loss: 0.4278 - val_auc: 0.8162\n",
      "Epoch 67/90\n",
      "2971/2971 [==============================] - 599s 202ms/step - loss: 0.4254 - auc: 0.8295 - val_loss: 0.4294 - val_auc: 0.8169\n",
      "Epoch 68/90\n",
      "2971/2971 [==============================] - 599s 202ms/step - loss: 0.4253 - auc: 0.8295 - val_loss: 0.4298 - val_auc: 0.8177\n",
      "Epoch 69/90\n",
      "2971/2971 [==============================] - 600s 202ms/step - loss: 0.4251 - auc: 0.8297 - val_loss: 0.4255 - val_auc: 0.8183\n",
      "Epoch 70/90\n",
      "2971/2971 [==============================] - 599s 202ms/step - loss: 0.4249 - auc: 0.8299 - val_loss: 0.4267 - val_auc: 0.8191\n",
      "Epoch 71/90\n",
      "2971/2971 [==============================] - 600s 202ms/step - loss: 0.4247 - auc: 0.8301 - val_loss: 0.4322 - val_auc: 0.8137\n",
      "Epoch 72/90\n",
      "2971/2971 [==============================] - 598s 201ms/step - loss: 0.4243 - auc: 0.8305 - val_loss: 0.4293 - val_auc: 0.8176\n",
      "Epoch 73/90\n",
      "2971/2971 [==============================] - 599s 202ms/step - loss: 0.4242 - auc: 0.8306 - val_loss: 0.4301 - val_auc: 0.8149\n",
      "Epoch 74/90\n",
      "2971/2971 [==============================] - 600s 202ms/step - loss: 0.4239 - auc: 0.8309 - val_loss: 0.4258 - val_auc: 0.8183\n",
      "Epoch 75/90\n",
      "2971/2971 [==============================] - 600s 202ms/step - loss: 0.4236 - auc: 0.8311 - val_loss: 0.4273 - val_auc: 0.8177\n",
      "Epoch 76/90\n",
      "2971/2971 [==============================] - 600s 202ms/step - loss: 0.4234 - auc: 0.8314 - val_loss: 0.4259 - val_auc: 0.8180\n",
      "Epoch 77/90\n",
      "2971/2971 [==============================] - 600s 202ms/step - loss: 0.4233 - auc: 0.8314 - val_loss: 0.4271 - val_auc: 0.8185\n",
      "Epoch 78/90\n",
      "2971/2971 [==============================] - 600s 202ms/step - loss: 0.4231 - auc: 0.8317 - val_loss: 0.4254 - val_auc: 0.8200\n",
      "Epoch 79/90\n",
      "2971/2971 [==============================] - 602s 203ms/step - loss: 0.4230 - auc: 0.8317 - val_loss: 0.4337 - val_auc: 0.8174\n",
      "Epoch 80/90\n",
      "2971/2971 [==============================] - 602s 202ms/step - loss: 0.4229 - auc: 0.8319 - val_loss: 0.4256 - val_auc: 0.8198\n",
      "Epoch 81/90\n",
      "2971/2971 [==============================] - 602s 203ms/step - loss: 0.4226 - auc: 0.8322 - val_loss: 0.4368 - val_auc: 0.8130\n",
      "Epoch 82/90\n",
      "2971/2971 [==============================] - 601s 202ms/step - loss: 0.4224 - auc: 0.8324 - val_loss: 0.4368 - val_auc: 0.8165\n",
      "Epoch 83/90\n",
      "2971/2971 [==============================] - 600s 202ms/step - loss: 0.4223 - auc: 0.8325 - val_loss: 0.4303 - val_auc: 0.8181\n",
      "Epoch 84/90\n",
      "2971/2971 [==============================] - 600s 202ms/step - loss: 0.4221 - auc: 0.8326 - val_loss: 0.4242 - val_auc: 0.8200\n",
      "Epoch 85/90\n",
      "2971/2971 [==============================] - 601s 202ms/step - loss: 0.4221 - auc: 0.8327 - val_loss: 0.4279 - val_auc: 0.8201\n",
      "Epoch 86/90\n",
      "2971/2971 [==============================] - 601s 202ms/step - loss: 0.4218 - auc: 0.8329 - val_loss: 0.4315 - val_auc: 0.8152\n",
      "Epoch 87/90\n",
      "2971/2971 [==============================] - 600s 202ms/step - loss: 0.4215 - auc: 0.8332 - val_loss: 0.4240 - val_auc: 0.8201\n",
      "Epoch 88/90\n",
      "2971/2971 [==============================] - 735s 247ms/step - loss: 0.4212 - auc: 0.8336 - val_loss: 0.4357 - val_auc: 0.8142\n",
      "Epoch 89/90\n",
      "2971/2971 [==============================] - 608s 205ms/step - loss: 0.4210 - auc: 0.8337 - val_loss: 0.4284 - val_auc: 0.8164\n",
      "Epoch 90/90\n",
      "2971/2971 [==============================] - 609s 205ms/step - loss: 0.4208 - auc: 0.8339 - val_loss: 0.4379 - val_auc: 0.8101\n"
     ]
    }
   ],
   "source": [
    "# fit network\n",
    "gru_history = model_gru.fit(train_X, train_y, epochs=90,validation_data=(test_X, test_y), batch_size=128)#, shuffle=False)"
   ]
  },
  {
   "cell_type": "code",
   "execution_count": 22,
   "metadata": {},
   "outputs": [
    {
     "name": "stderr",
     "output_type": "stream",
     "text": [
      "2023-01-05 07:41:23.203957: W tensorflow/tsl/framework/cpu_allocator_impl.cc:82] Allocation of 182517120 exceeds 10% of free system memory.\n"
     ]
    },
    {
     "name": "stdout",
     "output_type": "stream",
     "text": [
      "2971/2971 [==============================] - 85s 29ms/step\n"
     ]
    }
   ],
   "source": [
    "pred_y =  model_gru.predict(test_X)"
   ]
  },
  {
   "cell_type": "code",
   "execution_count": 23,
   "metadata": {},
   "outputs": [
    {
     "name": "stdout",
     "output_type": "stream",
     "text": [
      "54581.74108481407\n"
     ]
    }
   ],
   "source": [
    "stop=t.time()-start\n",
    "print(stop)"
   ]
  },
  {
   "cell_type": "code",
   "execution_count": 24,
   "metadata": {},
   "outputs": [
    {
     "data": {
      "image/png": "[encoded data removed]",
      "text/plain": [
       "<Figure size 640x480 with 1 Axes>"
      ]
     },
     "metadata": {},
     "output_type": "display_data"
    }
   ],
   "source": [
    "#dont run this cell if you are running this cell than add \"validation_data=(test_X, test_y)\" in model_gru.fit()\n",
    "plt.plot(gru_history.history['loss'], label='GRU train', color='brown')\n",
    "plt.plot(gru_history.history['val_loss'], label='GRU test', color='blue')\n",
    "plt.legend()\n",
    "plt.show()"
   ]
  },
  {
   "cell_type": "code",
   "execution_count": 25,
   "metadata": {},
   "outputs": [
    {
     "name": "stdout",
     "output_type": "stream",
     "text": [
      "[[0.]\n",
      " [0.]\n",
      " [0.]\n",
      " ...\n",
      " [0.]\n",
      " [0.]\n",
      " [0.]]\n"
     ]
    }
   ],
   "source": [
    "#test_y.reshape(8086,1)\n",
    "#test_y.reshape(2627,1)\n",
    "#test_y=test_y[:, :1]\n",
    "\n",
    "#train_y=test_y[:, :1]\n",
    "print(test_y)"
   ]
  },
  {
   "cell_type": "code",
   "execution_count": 26,
   "metadata": {},
   "outputs": [
    {
     "data": {
      "text/plain": [
       "(95061, 1)"
      ]
     },
     "execution_count": 26,
     "metadata": {},
     "output_type": "execute_result"
    }
   ],
   "source": [
    "np.shape(pred_y)"
   ]
  },
  {
   "cell_type": "code",
   "execution_count": 27,
   "metadata": {},
   "outputs": [
    {
     "data": {
      "text/plain": [
       "array([[0.00221635],\n",
       "       [0.00483389],\n",
       "       [0.00148642],\n",
       "       ...,\n",
       "       [0.01815938],\n",
       "       [0.01884131],\n",
       "       [0.0197182 ]], dtype=float32)"
      ]
     },
     "execution_count": 27,
     "metadata": {},
     "output_type": "execute_result"
    }
   ],
   "source": [
    "pred_y"
   ]
  },
  {
   "cell_type": "code",
   "execution_count": 28,
   "metadata": {},
   "outputs": [],
   "source": [
    "#pred_y=np.reshape(pred_y,8068)\n",
    "pred_y=np.reshape(pred_y,95061)"
   ]
  },
  {
   "cell_type": "code",
   "execution_count": 29,
   "metadata": {},
   "outputs": [
    {
     "name": "stdout",
     "output_type": "stream",
     "text": [
      "0.14493430706307334\n",
      "0.22065487077884705\n",
      "0.38070238646884436\n",
      "0.2788381687141875\n"
     ]
    }
   ],
   "source": [
    "\n",
    "#plt.rcParams['figure.figsize'] = (15,5)\n",
    "\n",
    "MSE = mean_squared_error(test_y, pred_y)\n",
    "R2 = r2_score(test_y, pred_y)\n",
    "RMSE = sqrt(mean_squared_error(test_y, pred_y))\n",
    "MAE = mean_absolute_error(test_y, pred_y)\n",
    "\n",
    "\n",
    "print(MSE)\n",
    "print(R2)\n",
    "print(RMSE)\n",
    "print(MAE)\n",
    "\n",
    "#plotting predicted test value vs actual test value\n",
    "#plt.plot(test_y, label = 'Actual')\n",
    "#plt.plot(pred_y, label = 'Predicted')\n",
    "#plt.legend()\n",
    "#plt.show()"
   ]
  },
  {
   "cell_type": "code",
   "execution_count": 30,
   "metadata": {},
   "outputs": [
    {
     "data": {
      "text/plain": [
       "(380244, 32, 15)"
      ]
     },
     "execution_count": 30,
     "metadata": {},
     "output_type": "execute_result"
    }
   ],
   "source": [
    "np.shape(train_X)"
   ]
  },
  {
   "cell_type": "code",
   "execution_count": 31,
   "metadata": {},
   "outputs": [
    {
     "data": {
      "text/plain": [
       "(380244, 1)"
      ]
     },
     "execution_count": 31,
     "metadata": {},
     "output_type": "execute_result"
    }
   ],
   "source": [
    "np.shape(train_y)"
   ]
  },
  {
   "cell_type": "code",
   "execution_count": 32,
   "metadata": {},
   "outputs": [
    {
     "data": {
      "text/plain": [
       "(95061, 32, 15)"
      ]
     },
     "execution_count": 32,
     "metadata": {},
     "output_type": "execute_result"
    }
   ],
   "source": [
    "np.shape(test_X)"
   ]
  },
  {
   "cell_type": "code",
   "execution_count": 33,
   "metadata": {},
   "outputs": [
    {
     "data": {
      "text/plain": [
       "(95061, 1)"
      ]
     },
     "execution_count": 33,
     "metadata": {},
     "output_type": "execute_result"
    }
   ],
   "source": [
    "np.shape(test_y)"
   ]
  },
  {
   "cell_type": "code",
   "execution_count": 34,
   "metadata": {},
   "outputs": [
    {
     "name": "stderr",
     "output_type": "stream",
     "text": [
      "2023-01-05 07:42:56.232180: W tensorflow/tsl/framework/cpu_allocator_impl.cc:82] Allocation of 912585600 exceeds 10% of free system memory.\n"
     ]
    },
    {
     "name": "stdout",
     "output_type": "stream",
     "text": [
      "14854/14854 [==============================] - 428s 29ms/step\n"
     ]
    }
   ],
   "source": [
    "#visualization over full data\n",
    "tra = np.concatenate([train_X,test_X])\n",
    "tes = np.concatenate([train_y,test_y])\n",
    "fp = model_gru.predict(tra)\n",
    "#plt.plot(tes, label = 'Actual')\n",
    "#plt.plot(fp, label = 'Predicted')\n",
    "#plt.legend()\n",
    "#plt.show()"
   ]
  },
  {
   "cell_type": "code",
   "execution_count": 35,
   "metadata": {},
   "outputs": [],
   "source": [
    "#over small part of data\n",
    "#plt.plot(tes, label = 'Actual')\n",
    "#plt.plot(fp[:2000], label = 'Predicted')\n",
    "#plt.legend()\n",
    "#plt.show()"
   ]
  },
  {
   "cell_type": "code",
   "execution_count": 36,
   "metadata": {},
   "outputs": [
    {
     "name": "stdout",
     "output_type": "stream",
     "text": [
      "[0.25795437]\n"
     ]
    }
   ],
   "source": [
    "print(sum(tes)/len(tes))"
   ]
  },
  {
   "cell_type": "code",
   "execution_count": 37,
   "metadata": {},
   "outputs": [
    {
     "name": "stdout",
     "output_type": "stream",
     "text": [
      "[0.61412439]\n",
      "[0.82011799]\n",
      "total acc [0.78308244]\n"
     ]
    }
   ],
   "source": [
    "#print(fp[1000:1010])\n",
    "_fp = np.where(fp>0.5,1,0)\n",
    "_all = sum(_fp)\n",
    "_w = (_fp*tes)\n",
    "print(sum(_w)/_all)\n",
    "      \n",
    "_all_z = sum(1-_fp)      \n",
    "_w_z = (1-_fp)*(1-tes)\n",
    "print(sum(_w_z)/_all_z)\n",
    "print('total acc', (sum(_w)+sum(_w_z))/len(_w))"
   ]
  },
  {
   "cell_type": "code",
   "execution_count": 38,
   "metadata": {},
   "outputs": [],
   "source": [
    "#plt.plot(tes[:8000], label = 'Actual')\n",
    "#plt.plot(fp[:8000], label = 'Predicted')\n",
    "#plt.legend()\n",
    "#plt.show()"
   ]
  },
  {
   "cell_type": "code",
   "execution_count": 39,
   "metadata": {},
   "outputs": [
    {
     "data": {
      "image/png": "[encoded data removed]",
      "text/plain": [
       "<Figure size 640x480 with 1 Axes>"
      ]
     },
     "metadata": {},
     "output_type": "display_data"
    }
   ],
   "source": [
    "#over very small part of data\n",
    "plt.plot(tes[2000:2020], label = 'Actual')\n",
    "plt.plot(fp[2000:2020], label = 'Predicted')\n",
    "plt.legend()\n",
    "plt.show()"
   ]
  },
  {
   "cell_type": "code",
   "execution_count": 40,
   "metadata": {},
   "outputs": [
    {
     "data": {
      "image/png": "[encoded data removed]",
      "text/plain": [
       "<Figure size 640x480 with 1 Axes>"
      ]
     },
     "metadata": {},
     "output_type": "display_data"
    }
   ],
   "source": [
    "plt.plot(tes[:50], label = 'Actual')\n",
    "plt.plot(fp[:50], label = 'Predicted')\n",
    "plt.legend()\n",
    "plt.show()"
   ]
  },
  {
   "cell_type": "code",
   "execution_count": 41,
   "metadata": {},
   "outputs": [
    {
     "data": {
      "image/png": "[encoded data removed]",
      "text/plain": [
       "<Figure size 640x480 with 1 Axes>"
      ]
     },
     "metadata": {},
     "output_type": "display_data"
    }
   ],
   "source": [
    "plt.plot(tes[:5], label = 'Actual')\n",
    "plt.plot(fp[:5], label = 'Predicted')\n",
    "plt.legend()\n",
    "plt.show()"
   ]
  },
  {
   "cell_type": "code",
   "execution_count": null,
   "metadata": {},
   "outputs": [],
   "source": []
  },
  {
   "cell_type": "code",
   "execution_count": null,
   "metadata": {},
   "outputs": [],
   "source": []
  }
 ],
 "metadata": {
  "kernelspec": {
   "display_name": "Python 3 (ipykernel)",
   "language": "python",
   "name": "python3"
  },
  "language_info": {
   "codemirror_mode": {
    "name": "ipython",
    "version": 3
   },
   "file_extension": ".py",
   "mimetype": "text/x-python",
   "name": "python",
   "nbconvert_exporter": "python",
   "pygments_lexer": "ipython3",
   "version": "3.8.10"
  }
 },
 "nbformat": 4,
 "nbformat_minor": 2
}
