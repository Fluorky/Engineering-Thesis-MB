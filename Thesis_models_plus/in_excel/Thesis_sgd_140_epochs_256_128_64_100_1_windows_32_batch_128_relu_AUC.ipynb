{
 "cells": [
  {
   "cell_type": "code",
   "execution_count": 1,
   "metadata": {},
   "outputs": [
    {
     "name": "stderr",
     "output_type": "stream",
     "text": [
      "2023-01-06 11:41:43.851045: W tensorflow/compiler/xla/stream_executor/platform/default/dso_loader.cc:64] Could not load dynamic library 'libcudart.so.11.0'; dlerror: libcudart.so.11.0: cannot open shared object file: No such file or directory\n",
      "2023-01-06 11:41:43.851071: I tensorflow/compiler/xla/stream_executor/cuda/cudart_stub.cc:29] Ignore above cudart dlerror if you do not have a GPU set up on your machine.\n",
      "2023-01-06 11:41:45.258463: W tensorflow/compiler/xla/stream_executor/platform/default/dso_loader.cc:64] Could not load dynamic library 'libnvinfer.so.7'; dlerror: libnvinfer.so.7: cannot open shared object file: No such file or directory\n",
      "2023-01-06 11:41:45.258590: W tensorflow/compiler/xla/stream_executor/platform/default/dso_loader.cc:64] Could not load dynamic library 'libnvinfer_plugin.so.7'; dlerror: libnvinfer_plugin.so.7: cannot open shared object file: No such file or directory\n",
      "2023-01-06 11:41:45.258613: W tensorflow/compiler/tf2tensorrt/utils/py_utils.cc:38] TF-TRT Warning: Cannot dlopen some TensorRT libraries. If you would like to use Nvidia GPU with TensorRT, please make sure the missing libraries mentioned above are installed properly.\n"
     ]
    }
   ],
   "source": [
    "import pandas as pd\n",
    "import numpy as np\n",
    "import matplotlib.pyplot as plt\n",
    "from math import sqrt\n",
    "from numpy import concatenate\n",
    "from pandas import *\n",
    "from sklearn.preprocessing import *\n",
    "from sklearn.metrics import *\n",
    "from tensorflow import keras\n",
    "import tensorflow as tf\n",
    "import time as t"
   ]
  },
  {
   "cell_type": "code",
   "execution_count": 2,
   "metadata": {},
   "outputs": [],
   "source": [
    "w=32"
   ]
  },
  {
   "cell_type": "code",
   "execution_count": 3,
   "metadata": {},
   "outputs": [],
   "source": [
    "#print(dataFromSensors)\n",
    "dataFromSensors=np.load(\"DataWithLabels/dataFromSensors_\"+str(w)+\".npy\")"
   ]
  },
  {
   "cell_type": "code",
   "execution_count": 4,
   "metadata": {},
   "outputs": [
    {
     "name": "stdout",
     "output_type": "stream",
     "text": [
      "class:  ndarray\n",
      "shape:  (475305, 32, 16)\n",
      "strides:  (4096, 128, 8)\n",
      "itemsize:  8\n",
      "aligned:  True\n",
      "contiguous:  True\n",
      "fortran:  False\n",
      "data pointer: 0x7f653face010\n",
      "byteorder:  little\n",
      "byteswap:  False\n",
      "type: float64\n"
     ]
    }
   ],
   "source": [
    "np.info(dataFromSensors)"
   ]
  },
  {
   "cell_type": "code",
   "execution_count": 5,
   "metadata": {},
   "outputs": [],
   "source": [
    "labels=np.load(\"DataWithLabels/labels_\"+str(w)+\".npy\")"
   ]
  },
  {
   "cell_type": "code",
   "execution_count": 6,
   "metadata": {},
   "outputs": [
    {
     "name": "stdout",
     "output_type": "stream",
     "text": [
      "class:  ndarray\n",
      "shape:  (475305,)\n",
      "strides:  (8,)\n",
      "itemsize:  8\n",
      "aligned:  True\n",
      "contiguous:  True\n",
      "fortran:  True\n",
      "data pointer: 0x7f653f72d010\n",
      "byteorder:  little\n",
      "byteswap:  False\n",
      "type: float64\n"
     ]
    }
   ],
   "source": [
    "np.info(labels)"
   ]
  },
  {
   "cell_type": "code",
   "execution_count": 7,
   "metadata": {},
   "outputs": [],
   "source": [
    "#values = reframed_df.values\n",
    "#training_sample =int( len(dataset) *0.8)\n",
    "training_sample_labels =int( len(labels) *0.8)\n",
    "training_sample =int( len(dataFromSensors) *0.8)\n",
    "#testDataset=DataFrame.to_numpy(dataset)\n",
    "#testDataset=DataFrame.to_numpy(reframed_df)"
   ]
  },
  {
   "cell_type": "code",
   "execution_count": 8,
   "metadata": {},
   "outputs": [
    {
     "data": {
      "text/plain": [
       "380244"
      ]
     },
     "execution_count": 8,
     "metadata": {},
     "output_type": "execute_result"
    }
   ],
   "source": [
    "training_sample_labels"
   ]
  },
  {
   "cell_type": "code",
   "execution_count": 9,
   "metadata": {},
   "outputs": [
    {
     "data": {
      "text/plain": [
       "380244"
      ]
     },
     "execution_count": 9,
     "metadata": {},
     "output_type": "execute_result"
    }
   ],
   "source": [
    "training_sample"
   ]
  },
  {
   "cell_type": "code",
   "execution_count": 10,
   "metadata": {},
   "outputs": [],
   "source": [
    "train_labels = labels[:training_sample]\n",
    "train = dataFromSensors[:training_sample, : ,:]\n",
    "test_labels = labels[training_sample:]\n",
    "test = dataFromSensors[training_sample:, : , :]\n",
    "# split into input and outputs\n",
    "#train_X, train_y = train[:,:, 1:], train[:,:,0]\n",
    "#test_X, test_y = test[:,:, 1:], test[:,:,0]\n",
    "train_X, train_y = train[:,:, 1:], train_labels[:]\n",
    "test_X, test_y = test[:,:, 1:], test_labels[:]"
   ]
  },
  {
   "cell_type": "code",
   "execution_count": 11,
   "metadata": {},
   "outputs": [
    {
     "data": {
      "text/plain": [
       "(380244, 32, 15)"
      ]
     },
     "execution_count": 11,
     "metadata": {},
     "output_type": "execute_result"
    }
   ],
   "source": [
    "train_X.shape"
   ]
  },
  {
   "cell_type": "code",
   "execution_count": 12,
   "metadata": {},
   "outputs": [
    {
     "data": {
      "text/plain": [
       "array([0., 0., 0., ..., 0., 0., 0.])"
      ]
     },
     "execution_count": 12,
     "metadata": {},
     "output_type": "execute_result"
    }
   ],
   "source": [
    "train_y"
   ]
  },
  {
   "cell_type": "code",
   "execution_count": 13,
   "metadata": {},
   "outputs": [
    {
     "data": {
      "text/plain": [
       "(380244,)"
      ]
     },
     "execution_count": 13,
     "metadata": {},
     "output_type": "execute_result"
    }
   ],
   "source": [
    "train_y.shape"
   ]
  },
  {
   "cell_type": "code",
   "execution_count": 14,
   "metadata": {},
   "outputs": [],
   "source": [
    "train_y=train_y.reshape(train_y.shape[0],1)"
   ]
  },
  {
   "cell_type": "code",
   "execution_count": 15,
   "metadata": {},
   "outputs": [],
   "source": [
    "test_y=test_y.reshape(test_y.shape[0],1)"
   ]
  },
  {
   "cell_type": "code",
   "execution_count": 16,
   "metadata": {},
   "outputs": [],
   "source": [
    "#print(train_X)"
   ]
  },
  {
   "cell_type": "code",
   "execution_count": 17,
   "metadata": {},
   "outputs": [
    {
     "name": "stdout",
     "output_type": "stream",
     "text": [
      "(380244, 32, 15) (380244, 1) (95061, 32, 15) (95061, 1)\n"
     ]
    }
   ],
   "source": [
    "print(train_X.shape, train_y.shape, test_X.shape, test_y.shape)"
   ]
  },
  {
   "cell_type": "code",
   "execution_count": 18,
   "metadata": {},
   "outputs": [
    {
     "name": "stderr",
     "output_type": "stream",
     "text": [
      "2023-01-06 11:41:50.672427: W tensorflow/compiler/xla/stream_executor/platform/default/dso_loader.cc:64] Could not load dynamic library 'libcuda.so.1'; dlerror: libcuda.so.1: cannot open shared object file: No such file or directory\n",
      "2023-01-06 11:41:50.672971: W tensorflow/compiler/xla/stream_executor/cuda/cuda_driver.cc:265] failed call to cuInit: UNKNOWN ERROR (303)\n",
      "2023-01-06 11:41:50.673022: I tensorflow/compiler/xla/stream_executor/cuda/cuda_diagnostics.cc:156] kernel driver does not appear to be running on this host (server-OptiPlex-7010): /proc/driver/nvidia/version does not exist\n"
     ]
    }
   ],
   "source": [
    "model_gru =  keras.models.Sequential([\n",
    "  \n",
    "    keras.layers.GRU(256,return_sequences=True,input_shape=(train_X.shape[1],train_X.shape[2]),activation='relu'),\n",
    "    keras.layers.GRU(units=128,return_sequences=True,activation='relu'),\n",
    "    keras.layers.GRU(units=64,activation='relu'),\n",
    "    keras.layers.Dense(units=100,activation='sigmoid'),\n",
    "    keras.layers.Dense(units=1,activation='sigmoid')\n",
    "                        ])\n",
    "model_gru.compile(loss='binary_crossentropy', optimizer='sgd',metrics=['AUC'])"
   ]
  },
  {
   "cell_type": "code",
   "execution_count": 19,
   "metadata": {},
   "outputs": [
    {
     "name": "stdout",
     "output_type": "stream",
     "text": [
      "Model: \"sequential\"\n",
      "_________________________________________________________________\n",
      " Layer (type)                Output Shape              Param #   \n",
      "=================================================================\n",
      " gru (GRU)                   (None, 32, 256)           209664    \n",
      "                                                                 \n",
      " gru_1 (GRU)                 (None, 32, 128)           148224    \n",
      "                                                                 \n",
      " gru_2 (GRU)                 (None, 64)                37248     \n",
      "                                                                 \n",
      " dense (Dense)               (None, 100)               6500      \n",
      "                                                                 \n",
      " dense_1 (Dense)             (None, 1)                 101       \n",
      "                                                                 \n",
      "=================================================================\n",
      "Total params: 401,737\n",
      "Trainable params: 401,737\n",
      "Non-trainable params: 0\n",
      "_________________________________________________________________\n"
     ]
    }
   ],
   "source": [
    "model_gru.summary()"
   ]
  },
  {
   "cell_type": "code",
   "execution_count": 20,
   "metadata": {},
   "outputs": [],
   "source": [
    " start = t.time()"
   ]
  },
  {
   "cell_type": "code",
   "execution_count": 21,
   "metadata": {
    "scrolled": true
   },
   "outputs": [
    {
     "name": "stdout",
     "output_type": "stream",
     "text": [
      "Epoch 1/140\n"
     ]
    },
    {
     "name": "stderr",
     "output_type": "stream",
     "text": [
      "2023-01-06 11:41:51.735070: W tensorflow/tsl/framework/cpu_allocator_impl.cc:82] Allocation of 730068480 exceeds 10% of free system memory.\n"
     ]
    },
    {
     "name": "stdout",
     "output_type": "stream",
     "text": [
      "2971/2971 [==============================] - ETA: 0s - loss: 0.5751 - auc: 0.5216"
     ]
    },
    {
     "name": "stderr",
     "output_type": "stream",
     "text": [
      "2023-01-06 11:51:12.415191: W tensorflow/tsl/framework/cpu_allocator_impl.cc:82] Allocation of 182517120 exceeds 10% of free system memory.\n"
     ]
    },
    {
     "name": "stdout",
     "output_type": "stream",
     "text": [
      "2971/2971 [==============================] - 610s 204ms/step - loss: 0.5751 - auc: 0.5216 - val_loss: 0.5586 - val_auc: 0.6476\n",
      "Epoch 2/140\n",
      "2971/2971 [==============================] - 600s 202ms/step - loss: 0.5720 - auc: 0.5731 - val_loss: 0.5568 - val_auc: 0.6683\n",
      "Epoch 3/140\n",
      "2971/2971 [==============================] - 600s 202ms/step - loss: 0.5672 - auc: 0.6488 - val_loss: 0.5487 - val_auc: 0.6880\n",
      "Epoch 4/140\n",
      "2971/2971 [==============================] - 602s 203ms/step - loss: 0.5429 - auc: 0.6839 - val_loss: 0.5085 - val_auc: 0.7147\n",
      "Epoch 5/140\n",
      "2971/2971 [==============================] - 601s 202ms/step - loss: 0.5095 - auc: 0.7263 - val_loss: 0.4902 - val_auc: 0.7373\n",
      "Epoch 6/140\n",
      "2971/2971 [==============================] - 602s 203ms/step - loss: 0.4995 - auc: 0.7368 - val_loss: 0.4831 - val_auc: 0.7421\n",
      "Epoch 7/140\n",
      "2971/2971 [==============================] - 601s 202ms/step - loss: 0.4929 - auc: 0.7465 - val_loss: 0.4868 - val_auc: 0.7462\n",
      "Epoch 8/140\n",
      "2971/2971 [==============================] - 600s 202ms/step - loss: 0.4865 - auc: 0.7567 - val_loss: 0.4750 - val_auc: 0.7542\n",
      "Epoch 9/140\n",
      "2971/2971 [==============================] - 600s 202ms/step - loss: 0.4801 - auc: 0.7668 - val_loss: 0.4694 - val_auc: 0.7622\n",
      "Epoch 10/140\n",
      "2971/2971 [==============================] - 599s 202ms/step - loss: 0.4745 - auc: 0.7748 - val_loss: 0.4628 - val_auc: 0.7724\n",
      "Epoch 11/140\n",
      "2971/2971 [==============================] - 601s 202ms/step - loss: 0.4697 - auc: 0.7813 - val_loss: 0.4582 - val_auc: 0.7790\n",
      "Epoch 12/140\n",
      "2971/2971 [==============================] - 602s 203ms/step - loss: 0.4661 - auc: 0.7858 - val_loss: 0.4594 - val_auc: 0.7832\n",
      "Epoch 13/140\n",
      "2971/2971 [==============================] - 601s 202ms/step - loss: 0.4631 - auc: 0.7894 - val_loss: 0.4532 - val_auc: 0.7886\n",
      "Epoch 14/140\n",
      "2971/2971 [==============================] - 601s 202ms/step - loss: 0.4602 - auc: 0.7928 - val_loss: 0.4509 - val_auc: 0.7895\n",
      "Epoch 15/140\n",
      "2971/2971 [==============================] - 601s 202ms/step - loss: 0.4575 - auc: 0.7960 - val_loss: 0.4715 - val_auc: 0.7932\n",
      "Epoch 16/140\n",
      "2971/2971 [==============================] - 602s 203ms/step - loss: 0.4560 - auc: 0.7976 - val_loss: 0.4490 - val_auc: 0.7949\n",
      "Epoch 17/140\n",
      "2971/2971 [==============================] - 602s 203ms/step - loss: 0.4541 - auc: 0.7997 - val_loss: 0.4433 - val_auc: 0.7987\n",
      "Epoch 18/140\n",
      "2971/2971 [==============================] - 606s 204ms/step - loss: 0.4525 - auc: 0.8016 - val_loss: 0.4532 - val_auc: 0.7994\n",
      "Epoch 19/140\n",
      "2971/2971 [==============================] - 602s 203ms/step - loss: 0.4508 - auc: 0.8033 - val_loss: 0.4429 - val_auc: 0.8011\n",
      "Epoch 20/140\n",
      "2971/2971 [==============================] - 600s 202ms/step - loss: 0.4494 - auc: 0.8050 - val_loss: 0.4434 - val_auc: 0.8008\n",
      "Epoch 21/140\n",
      "2971/2971 [==============================] - 601s 202ms/step - loss: 0.4480 - auc: 0.8065 - val_loss: 0.4406 - val_auc: 0.8017\n",
      "Epoch 22/140\n",
      "2971/2971 [==============================] - 601s 202ms/step - loss: 0.4467 - auc: 0.8079 - val_loss: 0.4705 - val_auc: 0.8015\n",
      "Epoch 23/140\n",
      "2971/2971 [==============================] - 602s 203ms/step - loss: 0.4456 - auc: 0.8092 - val_loss: 0.4643 - val_auc: 0.7940\n",
      "Epoch 24/140\n",
      "2971/2971 [==============================] - 601s 202ms/step - loss: 0.4446 - auc: 0.8102 - val_loss: 0.4375 - val_auc: 0.8063\n",
      "Epoch 25/140\n",
      "2971/2971 [==============================] - 602s 203ms/step - loss: 0.4438 - auc: 0.8111 - val_loss: 0.4384 - val_auc: 0.8059\n",
      "Epoch 26/140\n",
      "2971/2971 [==============================] - 600s 202ms/step - loss: 0.4429 - auc: 0.8120 - val_loss: 0.4381 - val_auc: 0.8061\n",
      "Epoch 27/140\n",
      "2971/2971 [==============================] - 602s 202ms/step - loss: 0.4416 - auc: 0.8135 - val_loss: 0.4371 - val_auc: 0.8065\n",
      "Epoch 28/140\n",
      "2971/2971 [==============================] - 601s 202ms/step - loss: 0.4407 - auc: 0.8144 - val_loss: 0.4370 - val_auc: 0.8063\n",
      "Epoch 29/140\n",
      "2971/2971 [==============================] - 602s 202ms/step - loss: 0.4399 - auc: 0.8153 - val_loss: 0.4348 - val_auc: 0.8082\n",
      "Epoch 30/140\n",
      "2971/2971 [==============================] - 602s 203ms/step - loss: 0.4390 - auc: 0.8161 - val_loss: 0.4340 - val_auc: 0.8094\n",
      "Epoch 31/140\n",
      "2971/2971 [==============================] - 602s 203ms/step - loss: 0.4384 - auc: 0.8168 - val_loss: 0.4766 - val_auc: 0.7845\n",
      "Epoch 32/140\n",
      "2971/2971 [==============================] - 602s 203ms/step - loss: 0.4376 - auc: 0.8176 - val_loss: 0.4353 - val_auc: 0.8123\n",
      "Epoch 33/140\n",
      "2971/2971 [==============================] - 601s 202ms/step - loss: 0.4371 - auc: 0.8180 - val_loss: 0.4350 - val_auc: 0.8104\n",
      "Epoch 34/140\n",
      "2971/2971 [==============================] - 602s 203ms/step - loss: 0.4366 - auc: 0.8186 - val_loss: 0.4306 - val_auc: 0.8131\n",
      "Epoch 35/140\n",
      "2971/2971 [==============================] - 603s 203ms/step - loss: 0.4358 - auc: 0.8193 - val_loss: 0.4324 - val_auc: 0.8118\n",
      "Epoch 36/140\n",
      "2971/2971 [==============================] - 602s 202ms/step - loss: 0.4350 - auc: 0.8202 - val_loss: 0.4329 - val_auc: 0.8134\n",
      "Epoch 37/140\n",
      "2971/2971 [==============================] - 602s 203ms/step - loss: 0.4348 - auc: 0.8203 - val_loss: 0.4290 - val_auc: 0.8146\n",
      "Epoch 38/140\n",
      "2971/2971 [==============================] - 602s 203ms/step - loss: 0.4340 - auc: 0.8213 - val_loss: 0.4316 - val_auc: 0.8130\n",
      "Epoch 39/140\n",
      "2971/2971 [==============================] - 602s 203ms/step - loss: 0.4335 - auc: 0.8218 - val_loss: 0.4322 - val_auc: 0.8137\n",
      "Epoch 40/140\n",
      "2971/2971 [==============================] - 603s 203ms/step - loss: 0.4327 - auc: 0.8225 - val_loss: 0.4454 - val_auc: 0.8088\n",
      "Epoch 41/140\n",
      "2971/2971 [==============================] - 603s 203ms/step - loss: 0.4327 - auc: 0.8225 - val_loss: 0.4304 - val_auc: 0.8134\n",
      "Epoch 42/140\n",
      "2971/2971 [==============================] - 602s 203ms/step - loss: 0.4319 - auc: 0.8232 - val_loss: 0.4308 - val_auc: 0.8138\n",
      "Epoch 43/140\n",
      "2971/2971 [==============================] - 602s 203ms/step - loss: 0.4314 - auc: 0.8238 - val_loss: 0.4297 - val_auc: 0.8149\n",
      "Epoch 44/140\n",
      "2971/2971 [==============================] - 602s 203ms/step - loss: 0.4309 - auc: 0.8243 - val_loss: 0.4333 - val_auc: 0.8142\n",
      "Epoch 45/140\n",
      "2971/2971 [==============================] - 603s 203ms/step - loss: 0.4306 - auc: 0.8245 - val_loss: 0.4371 - val_auc: 0.8155\n",
      "Epoch 46/140\n",
      "2971/2971 [==============================] - 603s 203ms/step - loss: 0.4304 - auc: 0.8247 - val_loss: 0.4321 - val_auc: 0.8122\n",
      "Epoch 47/140\n",
      "2971/2971 [==============================] - 602s 203ms/step - loss: 0.4299 - auc: 0.8252 - val_loss: 0.4301 - val_auc: 0.8147\n",
      "Epoch 48/140\n",
      "2971/2971 [==============================] - 602s 203ms/step - loss: 0.4297 - auc: 0.8254 - val_loss: 0.4321 - val_auc: 0.8155\n",
      "Epoch 49/140\n",
      "2971/2971 [==============================] - 601s 202ms/step - loss: 0.4293 - auc: 0.8258 - val_loss: 0.4291 - val_auc: 0.8146\n",
      "Epoch 50/140\n",
      "2971/2971 [==============================] - 602s 203ms/step - loss: 0.4286 - auc: 0.8264 - val_loss: 0.4383 - val_auc: 0.8075\n",
      "Epoch 51/140\n",
      "2971/2971 [==============================] - 601s 202ms/step - loss: 0.4284 - auc: 0.8267 - val_loss: 0.4309 - val_auc: 0.8132\n",
      "Epoch 52/140\n",
      "2971/2971 [==============================] - 601s 202ms/step - loss: 0.4281 - auc: 0.8270 - val_loss: 0.4278 - val_auc: 0.8170\n",
      "Epoch 53/140\n",
      "2971/2971 [==============================] - 601s 202ms/step - loss: 0.4278 - auc: 0.8272 - val_loss: 0.4286 - val_auc: 0.8175\n",
      "Epoch 54/140\n",
      "2971/2971 [==============================] - 602s 203ms/step - loss: 0.4277 - auc: 0.8273 - val_loss: 0.4290 - val_auc: 0.8155\n",
      "Epoch 55/140\n",
      "2971/2971 [==============================] - 602s 203ms/step - loss: 0.4274 - auc: 0.8276 - val_loss: 0.4295 - val_auc: 0.8170\n",
      "Epoch 56/140\n",
      "2971/2971 [==============================] - 603s 203ms/step - loss: 0.4270 - auc: 0.8279 - val_loss: 0.4275 - val_auc: 0.8174\n",
      "Epoch 57/140\n",
      "2971/2971 [==============================] - 602s 203ms/step - loss: 0.4269 - auc: 0.8281 - val_loss: 0.4269 - val_auc: 0.8182\n",
      "Epoch 58/140\n",
      "2971/2971 [==============================] - 603s 203ms/step - loss: 0.4268 - auc: 0.8282 - val_loss: 0.4352 - val_auc: 0.8112\n",
      "Epoch 59/140\n"
     ]
    },
    {
     "name": "stdout",
     "output_type": "stream",
     "text": [
      "2971/2971 [==============================] - 601s 202ms/step - loss: 0.4264 - auc: 0.8286 - val_loss: 0.4303 - val_auc: 0.8167\n",
      "Epoch 60/140\n",
      "2971/2971 [==============================] - 601s 202ms/step - loss: 0.4263 - auc: 0.8287 - val_loss: 0.4362 - val_auc: 0.8161\n",
      "Epoch 61/140\n",
      "2971/2971 [==============================] - 602s 202ms/step - loss: 0.4259 - auc: 0.8291 - val_loss: 0.4437 - val_auc: 0.8101\n",
      "Epoch 62/140\n",
      "2971/2971 [==============================] - 601s 202ms/step - loss: 0.4259 - auc: 0.8291 - val_loss: 0.4310 - val_auc: 0.8173\n",
      "Epoch 63/140\n",
      "2971/2971 [==============================] - 601s 202ms/step - loss: 0.4256 - auc: 0.8294 - val_loss: 0.4349 - val_auc: 0.8118\n",
      "Epoch 64/140\n",
      "2971/2971 [==============================] - 601s 202ms/step - loss: 0.4256 - auc: 0.8294 - val_loss: 0.4428 - val_auc: 0.8092\n",
      "Epoch 65/140\n",
      "2971/2971 [==============================] - 657s 221ms/step - loss: 0.4250 - auc: 0.8300 - val_loss: 0.4437 - val_auc: 0.8156\n",
      "Epoch 66/140\n",
      "2971/2971 [==============================] - 608s 205ms/step - loss: 0.4250 - auc: 0.8300 - val_loss: 0.4278 - val_auc: 0.8171\n",
      "Epoch 67/140\n",
      "2971/2971 [==============================] - 608s 205ms/step - loss: 0.4246 - auc: 0.8304 - val_loss: 0.4364 - val_auc: 0.8169\n",
      "Epoch 68/140\n",
      "2971/2971 [==============================] - 608s 205ms/step - loss: 0.4244 - auc: 0.8306 - val_loss: 0.4356 - val_auc: 0.8120\n",
      "Epoch 69/140\n",
      "2971/2971 [==============================] - 609s 205ms/step - loss: 0.4244 - auc: 0.8305 - val_loss: 0.4278 - val_auc: 0.8177\n",
      "Epoch 70/140\n",
      "2971/2971 [==============================] - 609s 205ms/step - loss: 0.4242 - auc: 0.8307 - val_loss: 0.4272 - val_auc: 0.8186\n",
      "Epoch 71/140\n",
      "2971/2971 [==============================] - 608s 205ms/step - loss: 0.4238 - auc: 0.8312 - val_loss: 0.4282 - val_auc: 0.8170\n",
      "Epoch 72/140\n",
      "2971/2971 [==============================] - 608s 205ms/step - loss: 0.4237 - auc: 0.8312 - val_loss: 0.4371 - val_auc: 0.8124\n",
      "Epoch 73/140\n",
      "2971/2971 [==============================] - 609s 205ms/step - loss: 0.4236 - auc: 0.8313 - val_loss: 0.4298 - val_auc: 0.8181\n",
      "Epoch 74/140\n",
      "2971/2971 [==============================] - 610s 205ms/step - loss: 0.4234 - auc: 0.8315 - val_loss: 0.4303 - val_auc: 0.8150\n",
      "Epoch 75/140\n",
      "2971/2971 [==============================] - 609s 205ms/step - loss: 0.4232 - auc: 0.8316 - val_loss: 0.4286 - val_auc: 0.8172\n",
      "Epoch 76/140\n",
      "2971/2971 [==============================] - 608s 205ms/step - loss: 0.4230 - auc: 0.8318 - val_loss: 0.4275 - val_auc: 0.8170\n",
      "Epoch 77/140\n",
      "2971/2971 [==============================] - 609s 205ms/step - loss: 0.4227 - auc: 0.8321 - val_loss: 0.4258 - val_auc: 0.8189\n",
      "Epoch 78/140\n",
      "2971/2971 [==============================] - 609s 205ms/step - loss: 0.4224 - auc: 0.8324 - val_loss: 0.4260 - val_auc: 0.8187\n",
      "Epoch 79/140\n",
      "2971/2971 [==============================] - 609s 205ms/step - loss: 0.4225 - auc: 0.8323 - val_loss: 0.4256 - val_auc: 0.8183\n",
      "Epoch 80/140\n",
      "2971/2971 [==============================] - 607s 204ms/step - loss: 0.4224 - auc: 0.8324 - val_loss: 0.4363 - val_auc: 0.8167\n",
      "Epoch 81/140\n",
      "2971/2971 [==============================] - 610s 205ms/step - loss: 0.4220 - auc: 0.8329 - val_loss: 0.4308 - val_auc: 0.8157\n",
      "Epoch 82/140\n",
      "2971/2971 [==============================] - 609s 205ms/step - loss: 0.4219 - auc: 0.8328 - val_loss: 0.4378 - val_auc: 0.8143\n",
      "Epoch 83/140\n",
      "2971/2971 [==============================] - 609s 205ms/step - loss: 0.4219 - auc: 0.8329 - val_loss: 0.4241 - val_auc: 0.8202\n",
      "Epoch 84/140\n",
      "2971/2971 [==============================] - 609s 205ms/step - loss: 0.4213 - auc: 0.8334 - val_loss: 0.4248 - val_auc: 0.8197\n",
      "Epoch 85/140\n",
      "2971/2971 [==============================] - 609s 205ms/step - loss: 0.4213 - auc: 0.8334 - val_loss: 0.4326 - val_auc: 0.8155\n",
      "Epoch 86/140\n",
      "2971/2971 [==============================] - 609s 205ms/step - loss: 0.4211 - auc: 0.8337 - val_loss: 0.4259 - val_auc: 0.8192\n",
      "Epoch 87/140\n",
      "2971/2971 [==============================] - 608s 205ms/step - loss: 0.4209 - auc: 0.8338 - val_loss: 0.4351 - val_auc: 0.8137\n",
      "Epoch 88/140\n",
      "2971/2971 [==============================] - 609s 205ms/step - loss: 0.4208 - auc: 0.8340 - val_loss: 0.4321 - val_auc: 0.8184\n",
      "Epoch 89/140\n",
      "2971/2971 [==============================] - 610s 205ms/step - loss: 0.4207 - auc: 0.8340 - val_loss: 0.4285 - val_auc: 0.8166\n",
      "Epoch 90/140\n",
      "2971/2971 [==============================] - 610s 205ms/step - loss: 0.4203 - auc: 0.8344 - val_loss: 0.4258 - val_auc: 0.8202\n",
      "Epoch 91/140\n",
      "2971/2971 [==============================] - 609s 205ms/step - loss: 0.4203 - auc: 0.8345 - val_loss: 0.4291 - val_auc: 0.8165\n",
      "Epoch 92/140\n",
      "2971/2971 [==============================] - 610s 205ms/step - loss: 0.4199 - auc: 0.8348 - val_loss: 0.4251 - val_auc: 0.8201\n",
      "Epoch 93/140\n",
      "2971/2971 [==============================] - 609s 205ms/step - loss: 0.4198 - auc: 0.8349 - val_loss: 0.4305 - val_auc: 0.8159\n",
      "Epoch 94/140\n",
      "2971/2971 [==============================] - 609s 205ms/step - loss: 0.4196 - auc: 0.8352 - val_loss: 0.4271 - val_auc: 0.8178\n",
      "Epoch 95/140\n",
      "2971/2971 [==============================] - 609s 205ms/step - loss: 0.4195 - auc: 0.8351 - val_loss: 0.4284 - val_auc: 0.8179\n",
      "Epoch 96/140\n",
      "2971/2971 [==============================] - 609s 205ms/step - loss: 0.4196 - auc: 0.8350 - val_loss: 0.4315 - val_auc: 0.8165\n",
      "Epoch 97/140\n",
      "2971/2971 [==============================] - 609s 205ms/step - loss: 0.4191 - auc: 0.8356 - val_loss: 0.4313 - val_auc: 0.8165\n",
      "Epoch 98/140\n",
      "2971/2971 [==============================] - 612s 206ms/step - loss: 0.4191 - auc: 0.8355 - val_loss: 0.4391 - val_auc: 0.8105\n",
      "Epoch 99/140\n",
      "2971/2971 [==============================] - 614s 207ms/step - loss: 0.4190 - auc: 0.8357 - val_loss: 0.4361 - val_auc: 0.8132\n",
      "Epoch 100/140\n",
      "2971/2971 [==============================] - 614s 207ms/step - loss: 0.4189 - auc: 0.8358 - val_loss: 0.4295 - val_auc: 0.8191\n",
      "Epoch 101/140\n",
      "2971/2971 [==============================] - 614s 207ms/step - loss: 0.4186 - auc: 0.8361 - val_loss: 0.4297 - val_auc: 0.8160\n",
      "Epoch 102/140\n",
      "2971/2971 [==============================] - 614s 207ms/step - loss: 0.4184 - auc: 0.8362 - val_loss: 0.4267 - val_auc: 0.8193\n",
      "Epoch 103/140\n",
      "2971/2971 [==============================] - 615s 207ms/step - loss: 0.4181 - auc: 0.8366 - val_loss: 0.4262 - val_auc: 0.8193\n",
      "Epoch 104/140\n",
      "2971/2971 [==============================] - 615s 207ms/step - loss: 0.4182 - auc: 0.8364 - val_loss: 0.4325 - val_auc: 0.8150\n",
      "Epoch 105/140\n",
      "2971/2971 [==============================] - 614s 207ms/step - loss: 0.4181 - auc: 0.8365 - val_loss: 0.4242 - val_auc: 0.8198\n",
      "Epoch 106/140\n",
      "2971/2971 [==============================] - 614s 207ms/step - loss: 0.4179 - auc: 0.8367 - val_loss: 0.4309 - val_auc: 0.8151\n",
      "Epoch 107/140\n",
      "2971/2971 [==============================] - 614s 207ms/step - loss: 0.4179 - auc: 0.8367 - val_loss: 0.4299 - val_auc: 0.8171\n",
      "Epoch 108/140\n",
      "2971/2971 [==============================] - 614s 207ms/step - loss: 0.4176 - auc: 0.8371 - val_loss: 0.4244 - val_auc: 0.8213\n",
      "Epoch 109/140\n",
      "2971/2971 [==============================] - 617s 208ms/step - loss: 0.4173 - auc: 0.8373 - val_loss: 0.4253 - val_auc: 0.8194\n",
      "Epoch 110/140\n",
      "2971/2971 [==============================] - 615s 207ms/step - loss: 0.4174 - auc: 0.8372 - val_loss: 0.4245 - val_auc: 0.8209\n",
      "Epoch 111/140\n",
      "2971/2971 [==============================] - 614s 207ms/step - loss: 0.4172 - auc: 0.8374 - val_loss: 0.4298 - val_auc: 0.8193\n",
      "Epoch 112/140\n",
      "2971/2971 [==============================] - 615s 207ms/step - loss: 0.4169 - auc: 0.8377 - val_loss: 0.4250 - val_auc: 0.8212\n",
      "Epoch 113/140\n",
      "2971/2971 [==============================] - 616s 207ms/step - loss: 0.4168 - auc: 0.8378 - val_loss: 0.4307 - val_auc: 0.8198\n",
      "Epoch 114/140\n",
      "2971/2971 [==============================] - 616s 207ms/step - loss: 0.4168 - auc: 0.8378 - val_loss: 0.4316 - val_auc: 0.8169\n",
      "Epoch 115/140\n",
      "2971/2971 [==============================] - 615s 207ms/step - loss: 0.4164 - auc: 0.8381 - val_loss: 0.4360 - val_auc: 0.8135\n",
      "Epoch 116/140\n",
      "2971/2971 [==============================] - 616s 207ms/step - loss: 0.4164 - auc: 0.8382 - val_loss: 0.4243 - val_auc: 0.8197\n",
      "Epoch 117/140\n"
     ]
    },
    {
     "name": "stdout",
     "output_type": "stream",
     "text": [
      "2971/2971 [==============================] - 610s 205ms/step - loss: 0.4162 - auc: 0.8383 - val_loss: 0.4265 - val_auc: 0.8192\n",
      "Epoch 118/140\n",
      "2971/2971 [==============================] - 610s 205ms/step - loss: 0.4161 - auc: 0.8384 - val_loss: 0.4265 - val_auc: 0.8204\n",
      "Epoch 119/140\n",
      "2971/2971 [==============================] - 609s 205ms/step - loss: 0.4158 - auc: 0.8388 - val_loss: 0.4293 - val_auc: 0.8186\n",
      "Epoch 120/140\n",
      "2971/2971 [==============================] - 610s 205ms/step - loss: 0.4160 - auc: 0.8385 - val_loss: 0.4308 - val_auc: 0.8160\n",
      "Epoch 121/140\n",
      "2971/2971 [==============================] - 610s 205ms/step - loss: 0.4158 - auc: 0.8387 - val_loss: 0.4254 - val_auc: 0.8194\n",
      "Epoch 122/140\n",
      "2971/2971 [==============================] - 609s 205ms/step - loss: 0.4156 - auc: 0.8390 - val_loss: 0.4446 - val_auc: 0.8133\n",
      "Epoch 123/140\n",
      "2971/2971 [==============================] - 610s 205ms/step - loss: 0.4155 - auc: 0.8390 - val_loss: 0.4268 - val_auc: 0.8201\n",
      "Epoch 124/140\n",
      "2971/2971 [==============================] - 609s 205ms/step - loss: 0.4151 - auc: 0.8394 - val_loss: 0.4322 - val_auc: 0.8186\n",
      "Epoch 125/140\n",
      "2971/2971 [==============================] - 608s 204ms/step - loss: 0.4151 - auc: 0.8394 - val_loss: 0.4350 - val_auc: 0.8146\n",
      "Epoch 126/140\n",
      "2971/2971 [==============================] - 608s 204ms/step - loss: 0.4151 - auc: 0.8394 - val_loss: 0.4277 - val_auc: 0.8195\n",
      "Epoch 127/140\n",
      "2971/2971 [==============================] - 608s 205ms/step - loss: 0.4150 - auc: 0.8396 - val_loss: 0.4355 - val_auc: 0.8159\n",
      "Epoch 128/140\n",
      "2971/2971 [==============================] - 608s 205ms/step - loss: 0.4151 - auc: 0.8394 - val_loss: 0.4344 - val_auc: 0.8157\n",
      "Epoch 129/140\n",
      "2971/2971 [==============================] - 608s 205ms/step - loss: 0.4146 - auc: 0.8399 - val_loss: 0.4433 - val_auc: 0.8147\n",
      "Epoch 130/140\n",
      "2971/2971 [==============================] - 608s 205ms/step - loss: 0.4146 - auc: 0.8398 - val_loss: 0.4290 - val_auc: 0.8183\n",
      "Epoch 131/140\n",
      "2971/2971 [==============================] - 608s 205ms/step - loss: 0.4145 - auc: 0.8399 - val_loss: 0.4330 - val_auc: 0.8193\n",
      "Epoch 132/140\n",
      "2971/2971 [==============================] - 608s 205ms/step - loss: 0.4142 - auc: 0.8402 - val_loss: 0.4272 - val_auc: 0.8203\n",
      "Epoch 133/140\n",
      "2971/2971 [==============================] - 608s 205ms/step - loss: 0.4142 - auc: 0.8402 - val_loss: 0.4285 - val_auc: 0.8172\n",
      "Epoch 134/140\n",
      "2971/2971 [==============================] - 608s 205ms/step - loss: 0.4141 - auc: 0.8404 - val_loss: 0.4277 - val_auc: 0.8212\n",
      "Epoch 135/140\n",
      "2971/2971 [==============================] - 608s 205ms/step - loss: 0.4139 - auc: 0.8405 - val_loss: 0.4335 - val_auc: 0.8170\n",
      "Epoch 136/140\n",
      "2971/2971 [==============================] - 610s 205ms/step - loss: 0.4138 - auc: 0.8406 - val_loss: 0.4292 - val_auc: 0.8173\n",
      "Epoch 137/140\n",
      "2971/2971 [==============================] - 666s 224ms/step - loss: 0.4136 - auc: 0.8407 - val_loss: 0.4271 - val_auc: 0.8187\n",
      "Epoch 138/140\n",
      "2971/2971 [==============================] - 612s 206ms/step - loss: 0.4135 - auc: 0.8409 - val_loss: 0.4408 - val_auc: 0.8102\n",
      "Epoch 139/140\n",
      "2971/2971 [==============================] - 612s 206ms/step - loss: 0.4135 - auc: 0.8409 - val_loss: 0.4320 - val_auc: 0.8183\n",
      "Epoch 140/140\n",
      "2971/2971 [==============================] - 612s 206ms/step - loss: 0.4133 - auc: 0.8410 - val_loss: 0.4314 - val_auc: 0.8153\n"
     ]
    }
   ],
   "source": [
    "# fit network\n",
    "gru_history = model_gru.fit(train_X, train_y, epochs=140,validation_data=(test_X, test_y), batch_size=128)#, shuffle=False)"
   ]
  },
  {
   "cell_type": "code",
   "execution_count": 22,
   "metadata": {},
   "outputs": [
    {
     "name": "stderr",
     "output_type": "stream",
     "text": [
      "2023-01-07 11:18:42.953857: W tensorflow/tsl/framework/cpu_allocator_impl.cc:82] Allocation of 182517120 exceeds 10% of free system memory.\n"
     ]
    },
    {
     "name": "stdout",
     "output_type": "stream",
     "text": [
      "2971/2971 [==============================] - 86s 29ms/step\n"
     ]
    }
   ],
   "source": [
    "pred_y =  model_gru.predict(test_X)"
   ]
  },
  {
   "cell_type": "code",
   "execution_count": 23,
   "metadata": {},
   "outputs": [
    {
     "name": "stdout",
     "output_type": "stream",
     "text": [
      "85099.60606789589\n"
     ]
    }
   ],
   "source": [
    "stop=t.time()-start\n",
    "print(stop)"
   ]
  },
  {
   "cell_type": "code",
   "execution_count": 24,
   "metadata": {},
   "outputs": [
    {
     "data": {
      "image/png": "[encoded data removed]",
      "text/plain": [
       "<Figure size 640x480 with 1 Axes>"
      ]
     },
     "metadata": {},
     "output_type": "display_data"
    }
   ],
   "source": [
    "#dont run this cell if you are running this cell than add \"validation_data=(test_X, test_y)\" in model_gru.fit()\n",
    "plt.plot(gru_history.history['loss'], label='GRU train', color='brown')\n",
    "plt.plot(gru_history.history['val_loss'], label='GRU test', color='blue')\n",
    "plt.legend()\n",
    "plt.show()"
   ]
  },
  {
   "cell_type": "code",
   "execution_count": 25,
   "metadata": {},
   "outputs": [
    {
     "name": "stdout",
     "output_type": "stream",
     "text": [
      "[[0.]\n",
      " [0.]\n",
      " [0.]\n",
      " ...\n",
      " [0.]\n",
      " [0.]\n",
      " [0.]]\n"
     ]
    }
   ],
   "source": [
    "#test_y.reshape(8086,1)\n",
    "#test_y.reshape(2627,1)\n",
    "#test_y=test_y[:, :1]\n",
    "\n",
    "#train_y=test_y[:, :1]\n",
    "print(test_y)"
   ]
  },
  {
   "cell_type": "code",
   "execution_count": 26,
   "metadata": {},
   "outputs": [
    {
     "data": {
      "text/plain": [
       "(95061, 1)"
      ]
     },
     "execution_count": 26,
     "metadata": {},
     "output_type": "execute_result"
    }
   ],
   "source": [
    "np.shape(pred_y)"
   ]
  },
  {
   "cell_type": "code",
   "execution_count": 27,
   "metadata": {},
   "outputs": [
    {
     "data": {
      "text/plain": [
       "array([[0.0029061 ],\n",
       "       [0.00794958],\n",
       "       [0.00152444],\n",
       "       ...,\n",
       "       [0.01898646],\n",
       "       [0.02050946],\n",
       "       [0.02132136]], dtype=float32)"
      ]
     },
     "execution_count": 27,
     "metadata": {},
     "output_type": "execute_result"
    }
   ],
   "source": [
    "pred_y"
   ]
  },
  {
   "cell_type": "code",
   "execution_count": 28,
   "metadata": {},
   "outputs": [],
   "source": [
    "#pred_y=np.reshape(pred_y,8068)\n",
    "pred_y=np.reshape(pred_y,95061)"
   ]
  },
  {
   "cell_type": "code",
   "execution_count": 29,
   "metadata": {},
   "outputs": [
    {
     "name": "stdout",
     "output_type": "stream",
     "text": [
      "0.14333801748644578\n",
      "0.22923848725710283\n",
      "0.37860007591975703\n",
      "0.2793559986275906\n"
     ]
    }
   ],
   "source": [
    "\n",
    "#plt.rcParams['figure.figsize'] = (15,5)\n",
    "\n",
    "MSE = mean_squared_error(test_y, pred_y)\n",
    "R2 = r2_score(test_y, pred_y)\n",
    "RMSE = sqrt(mean_squared_error(test_y, pred_y))\n",
    "MAE = mean_absolute_error(test_y, pred_y)\n",
    "\n",
    "\n",
    "print(MSE)\n",
    "print(R2)\n",
    "print(RMSE)\n",
    "print(MAE)\n",
    "\n",
    "#plotting predicted test value vs actual test value\n",
    "#plt.plot(test_y, label = 'Actual')\n",
    "#plt.plot(pred_y, label = 'Predicted')\n",
    "#plt.legend()\n",
    "#plt.show()"
   ]
  },
  {
   "cell_type": "code",
   "execution_count": 30,
   "metadata": {},
   "outputs": [
    {
     "data": {
      "text/plain": [
       "(380244, 32, 15)"
      ]
     },
     "execution_count": 30,
     "metadata": {},
     "output_type": "execute_result"
    }
   ],
   "source": [
    "np.shape(train_X)"
   ]
  },
  {
   "cell_type": "code",
   "execution_count": 31,
   "metadata": {},
   "outputs": [
    {
     "data": {
      "text/plain": [
       "(380244, 1)"
      ]
     },
     "execution_count": 31,
     "metadata": {},
     "output_type": "execute_result"
    }
   ],
   "source": [
    "np.shape(train_y)"
   ]
  },
  {
   "cell_type": "code",
   "execution_count": 32,
   "metadata": {},
   "outputs": [
    {
     "data": {
      "text/plain": [
       "(95061, 32, 15)"
      ]
     },
     "execution_count": 32,
     "metadata": {},
     "output_type": "execute_result"
    }
   ],
   "source": [
    "np.shape(test_X)"
   ]
  },
  {
   "cell_type": "code",
   "execution_count": 33,
   "metadata": {},
   "outputs": [
    {
     "data": {
      "text/plain": [
       "(95061, 1)"
      ]
     },
     "execution_count": 33,
     "metadata": {},
     "output_type": "execute_result"
    }
   ],
   "source": [
    "np.shape(test_y)"
   ]
  },
  {
   "cell_type": "code",
   "execution_count": null,
   "metadata": {},
   "outputs": [],
   "source": [
    "#visualization over full data\n",
    "tra = np.concatenate([train_X,test_X])\n",
    "tes = np.concatenate([train_y,test_y])\n",
    "fp = model_gru.predict(tra)\n",
    "#plt.plot(tes, label = 'Actual')\n",
    "#plt.plot(fp, label = 'Predicted')\n",
    "#plt.legend()\n",
    "#plt.show()"
   ]
  },
  {
   "cell_type": "code",
   "execution_count": null,
   "metadata": {},
   "outputs": [],
   "source": [
    "#over small part of data\n",
    "#plt.plot(tes, label = 'Actual')\n",
    "#plt.plot(fp[:2000], label = 'Predicted')\n",
    "#plt.legend()\n",
    "#plt.show()"
   ]
  },
  {
   "cell_type": "code",
   "execution_count": null,
   "metadata": {},
   "outputs": [],
   "source": [
    "print(sum(tes)/len(tes))"
   ]
  },
  {
   "cell_type": "code",
   "execution_count": null,
   "metadata": {},
   "outputs": [],
   "source": [
    "#print(fp[1000:1010])\n",
    "_fp = np.where(fp>0.5,1,0)\n",
    "_all = sum(_fp)\n",
    "_w = (_fp*tes)\n",
    "print(sum(_w)/_all)\n",
    "      \n",
    "_all_z = sum(1-_fp)      \n",
    "_w_z = (1-_fp)*(1-tes)\n",
    "print(sum(_w_z)/_all_z)\n",
    "print('total acc', (sum(_w)+sum(_w_z))/len(_w))"
   ]
  },
  {
   "cell_type": "code",
   "execution_count": null,
   "metadata": {},
   "outputs": [],
   "source": [
    "#plt.plot(tes[:8000], label = 'Actual')\n",
    "#plt.plot(fp[:8000], label = 'Predicted')\n",
    "#plt.legend()\n",
    "#plt.show()"
   ]
  },
  {
   "cell_type": "code",
   "execution_count": null,
   "metadata": {},
   "outputs": [],
   "source": [
    "#over very small part of data\n",
    "plt.plot(tes[2000:2020], label = 'Actual')\n",
    "plt.plot(fp[2000:2020], label = 'Predicted')\n",
    "plt.legend()\n",
    "plt.show()"
   ]
  },
  {
   "cell_type": "code",
   "execution_count": null,
   "metadata": {},
   "outputs": [],
   "source": [
    "plt.plot(tes[:50], label = 'Actual')\n",
    "plt.plot(fp[:50], label = 'Predicted')\n",
    "plt.legend()\n",
    "plt.show()"
   ]
  },
  {
   "cell_type": "code",
   "execution_count": null,
   "metadata": {},
   "outputs": [],
   "source": [
    "plt.plot(tes[:5], label = 'Actual')\n",
    "plt.plot(fp[:5], label = 'Predicted')\n",
    "plt.legend()\n",
    "plt.show()"
   ]
  },
  {
   "cell_type": "code",
   "execution_count": null,
   "metadata": {},
   "outputs": [],
   "source": []
  },
  {
   "cell_type": "code",
   "execution_count": null,
   "metadata": {},
   "outputs": [],
   "source": []
  }
 ],
 "metadata": {
  "kernelspec": {
   "display_name": "Python 3 (ipykernel)",
   "language": "python",
   "name": "python3"
  },
  "language_info": {
   "codemirror_mode": {
    "name": "ipython",
    "version": 3
   },
   "file_extension": ".py",
   "mimetype": "text/x-python",
   "name": "python",
   "nbconvert_exporter": "python",
   "pygments_lexer": "ipython3",
   "version": "3.8.10"
  }
 },
 "nbformat": 4,
 "nbformat_minor": 2
}
