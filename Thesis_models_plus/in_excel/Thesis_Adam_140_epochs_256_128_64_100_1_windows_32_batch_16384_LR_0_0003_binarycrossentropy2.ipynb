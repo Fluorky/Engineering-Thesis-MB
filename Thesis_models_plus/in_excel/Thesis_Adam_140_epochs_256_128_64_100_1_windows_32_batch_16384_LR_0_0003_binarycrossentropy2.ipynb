{
 "cells": [
  {
   "cell_type": "code",
   "execution_count": 1,
   "metadata": {},
   "outputs": [],
   "source": [
    "import pandas as pd\n",
    "import numpy as np\n",
    "import matplotlib.pyplot as plt\n",
    "from math import sqrt\n",
    "from numpy import concatenate\n",
    "from pandas import *\n",
    "from sklearn.preprocessing import *\n",
    "from sklearn.metrics import *\n",
    "from tensorflow import keras\n",
    "import tensorflow as tf\n",
    "import time as t"
   ]
  },
  {
   "cell_type": "code",
   "execution_count": 2,
   "metadata": {},
   "outputs": [],
   "source": [
    "w=32"
   ]
  },
  {
   "cell_type": "code",
   "execution_count": 3,
   "metadata": {},
   "outputs": [],
   "source": [
    "dataFromSensors=np.load(\"DataWithLabels/dataFromSensors_\"+str(w)+\".npy\")"
   ]
  },
  {
   "cell_type": "code",
   "execution_count": 4,
   "metadata": {},
   "outputs": [
    {
     "name": "stdout",
     "output_type": "stream",
     "text": [
      "class:  ndarray\n",
      "shape:  (475305, 32, 16)\n",
      "strides:  (4096, 128, 8)\n",
      "itemsize:  8\n",
      "aligned:  True\n",
      "contiguous:  True\n",
      "fortran:  False\n",
      "data pointer: 0x2355faa0040\n",
      "byteorder:  little\n",
      "byteswap:  False\n",
      "type: float64\n"
     ]
    }
   ],
   "source": [
    "np.info(dataFromSensors)"
   ]
  },
  {
   "cell_type": "code",
   "execution_count": 5,
   "metadata": {},
   "outputs": [],
   "source": [
    "labels=np.load(\"DataWithLabels/labels_\"+str(w)+\".npy\")"
   ]
  },
  {
   "cell_type": "code",
   "execution_count": 6,
   "metadata": {},
   "outputs": [
    {
     "name": "stdout",
     "output_type": "stream",
     "text": [
      "class:  ndarray\n",
      "shape:  (475305,)\n",
      "strides:  (8,)\n",
      "itemsize:  8\n",
      "aligned:  True\n",
      "contiguous:  True\n",
      "fortran:  True\n",
      "data pointer: 0x235d3b52040\n",
      "byteorder:  little\n",
      "byteswap:  False\n",
      "type: float64\n"
     ]
    }
   ],
   "source": [
    "np.info(labels)"
   ]
  },
  {
   "cell_type": "code",
   "execution_count": 7,
   "metadata": {},
   "outputs": [],
   "source": [
    "#values = reframed_df.values\n",
    "#training_sample =int( len(dataset) *0.8)\n",
    "training_sample_labels =int( len(labels) *0.8)\n",
    "training_sample =int( len(dataFromSensors) *0.8)\n",
    "#testDataset=DataFrame.to_numpy(dataset)\n",
    "#testDataset=DataFrame.to_numpy(reframed_df)"
   ]
  },
  {
   "cell_type": "code",
   "execution_count": 8,
   "metadata": {},
   "outputs": [
    {
     "data": {
      "text/plain": [
       "380244"
      ]
     },
     "execution_count": 8,
     "metadata": {},
     "output_type": "execute_result"
    }
   ],
   "source": [
    "training_sample_labels"
   ]
  },
  {
   "cell_type": "code",
   "execution_count": 9,
   "metadata": {},
   "outputs": [
    {
     "data": {
      "text/plain": [
       "380244"
      ]
     },
     "execution_count": 9,
     "metadata": {},
     "output_type": "execute_result"
    }
   ],
   "source": [
    "training_sample"
   ]
  },
  {
   "cell_type": "code",
   "execution_count": 10,
   "metadata": {},
   "outputs": [],
   "source": [
    "train_labels = labels[:training_sample]\n",
    "train = dataFromSensors[:training_sample, : ,:]\n",
    "test_labels = labels[training_sample:]\n",
    "test = dataFromSensors[training_sample:, : , :]\n",
    "# split into input and outputs\n",
    "#train_X, train_y = train[:,:, 1:], train[:,:,0]\n",
    "#test_X, test_y = test[:,:, 1:], test[:,:,0]\n",
    "train_X, train_y = train[:,:, 1:], train_labels[:]\n",
    "test_X, test_y = test[:,:, 1:], test_labels[:]"
   ]
  },
  {
   "cell_type": "code",
   "execution_count": 11,
   "metadata": {},
   "outputs": [
    {
     "data": {
      "text/plain": [
       "(380244, 32, 15)"
      ]
     },
     "execution_count": 11,
     "metadata": {},
     "output_type": "execute_result"
    }
   ],
   "source": [
    "train_X.shape"
   ]
  },
  {
   "cell_type": "code",
   "execution_count": 12,
   "metadata": {},
   "outputs": [
    {
     "data": {
      "text/plain": [
       "array([0., 0., 0., ..., 0., 0., 0.])"
      ]
     },
     "execution_count": 12,
     "metadata": {},
     "output_type": "execute_result"
    }
   ],
   "source": [
    "train_y"
   ]
  },
  {
   "cell_type": "code",
   "execution_count": 13,
   "metadata": {},
   "outputs": [],
   "source": [
    "#print(train_X)"
   ]
  },
  {
   "cell_type": "code",
   "execution_count": 14,
   "metadata": {},
   "outputs": [
    {
     "data": {
      "text/plain": [
       "(380244,)"
      ]
     },
     "execution_count": 14,
     "metadata": {},
     "output_type": "execute_result"
    }
   ],
   "source": [
    "train_y.shape"
   ]
  },
  {
   "cell_type": "code",
   "execution_count": 15,
   "metadata": {},
   "outputs": [],
   "source": [
    "#print(test_y)"
   ]
  },
  {
   "cell_type": "code",
   "execution_count": 16,
   "metadata": {},
   "outputs": [],
   "source": [
    "train_y=train_y.reshape(train_y.shape[0],1)"
   ]
  },
  {
   "cell_type": "code",
   "execution_count": 17,
   "metadata": {},
   "outputs": [],
   "source": [
    "test_y=test_y.reshape(test_y.shape[0],1)"
   ]
  },
  {
   "cell_type": "code",
   "execution_count": 18,
   "metadata": {},
   "outputs": [],
   "source": [
    "#print(train_X)"
   ]
  },
  {
   "cell_type": "code",
   "execution_count": 19,
   "metadata": {},
   "outputs": [
    {
     "name": "stdout",
     "output_type": "stream",
     "text": [
      "(380244, 32, 15) (380244, 1) (95061, 32, 15) (95061, 1)\n"
     ]
    }
   ],
   "source": [
    "print(train_X.shape, train_y.shape, test_X.shape, test_y.shape)"
   ]
  },
  {
   "cell_type": "code",
   "execution_count": 20,
   "metadata": {},
   "outputs": [],
   "source": [
    "model_gru =  keras.models.Sequential([\n",
    "    keras.layers.GRU(256,return_sequences=True,input_shape=(train_X.shape[1],train_X.shape[2])),#,activation='relu'),\n",
    "    keras.layers.GRU(units=128,return_sequences=True),#,activation='relu'),\n",
    "    keras.layers.GRU(units=64),#,activation='relu'),\n",
    "    keras.layers.Dense(units=100,activation='sigmoid'),\n",
    "    keras.layers.Dense(units=1,activation='sigmoid')\n",
    "                        ])\n",
    "\n",
    "#opt=keras.optimizers.SGD(learning_rate=0.9)\n",
    "opt=keras.optimizers.Adam(learning_rate=0.0003)\n",
    "model_gru.compile(loss='BinaryCrossentropy', optimizer=opt,metrics=['accuracy'])"
   ]
  },
  {
   "cell_type": "code",
   "execution_count": 21,
   "metadata": {
    "scrolled": true
   },
   "outputs": [
    {
     "name": "stdout",
     "output_type": "stream",
     "text": [
      "Model: \"sequential\"\n",
      "_________________________________________________________________\n",
      " Layer (type)                Output Shape              Param #   \n",
      "=================================================================\n",
      " gru (GRU)                   (None, 32, 256)           209664    \n",
      "                                                                 \n",
      " gru_1 (GRU)                 (None, 32, 128)           148224    \n",
      "                                                                 \n",
      " gru_2 (GRU)                 (None, 64)                37248     \n",
      "                                                                 \n",
      " dense (Dense)               (None, 100)               6500      \n",
      "                                                                 \n",
      " dense_1 (Dense)             (None, 1)                 101       \n",
      "                                                                 \n",
      "=================================================================\n",
      "Total params: 401,737\n",
      "Trainable params: 401,737\n",
      "Non-trainable params: 0\n",
      "_________________________________________________________________\n"
     ]
    }
   ],
   "source": [
    "model_gru.summary()"
   ]
  },
  {
   "cell_type": "code",
   "execution_count": 22,
   "metadata": {},
   "outputs": [],
   "source": [
    " start = t.time()"
   ]
  },
  {
   "cell_type": "code",
   "execution_count": 23,
   "metadata": {},
   "outputs": [
    {
     "name": "stdout",
     "output_type": "stream",
     "text": [
      "Epoch 1/140\n",
      "24/24 [==============================] - 15s 350ms/step - loss: 0.6393 - accuracy: 0.6171 - val_loss: 0.5642 - val_accuracy: 0.7530\n",
      "Epoch 2/140\n",
      "24/24 [==============================] - 7s 294ms/step - loss: 0.5742 - accuracy: 0.7393 - val_loss: 0.5566 - val_accuracy: 0.7530\n",
      "Epoch 3/140\n",
      "24/24 [==============================] - 7s 291ms/step - loss: 0.5663 - accuracy: 0.7393 - val_loss: 0.5464 - val_accuracy: 0.7532\n",
      "Epoch 4/140\n",
      "24/24 [==============================] - 7s 290ms/step - loss: 0.5479 - accuracy: 0.7381 - val_loss: 0.5239 - val_accuracy: 0.7512\n",
      "Epoch 5/140\n",
      "24/24 [==============================] - 7s 294ms/step - loss: 0.5222 - accuracy: 0.7381 - val_loss: 0.4972 - val_accuracy: 0.7517\n",
      "Epoch 6/140\n",
      "24/24 [==============================] - 7s 293ms/step - loss: 0.5084 - accuracy: 0.7396 - val_loss: 0.4915 - val_accuracy: 0.7526\n",
      "Epoch 7/140\n",
      "24/24 [==============================] - 7s 292ms/step - loss: 0.5031 - accuracy: 0.7402 - val_loss: 0.4866 - val_accuracy: 0.7531\n",
      "Epoch 8/140\n",
      "24/24 [==============================] - 7s 289ms/step - loss: 0.4999 - accuracy: 0.7421 - val_loss: 0.4841 - val_accuracy: 0.7531\n",
      "Epoch 9/140\n",
      "24/24 [==============================] - 7s 293ms/step - loss: 0.4965 - accuracy: 0.7442 - val_loss: 0.4806 - val_accuracy: 0.7530\n",
      "Epoch 10/140\n",
      "24/24 [==============================] - 7s 293ms/step - loss: 0.4930 - accuracy: 0.7465 - val_loss: 0.4787 - val_accuracy: 0.7532\n",
      "Epoch 11/140\n",
      "24/24 [==============================] - 7s 293ms/step - loss: 0.4898 - accuracy: 0.7480 - val_loss: 0.4766 - val_accuracy: 0.7532\n",
      "Epoch 12/140\n",
      "24/24 [==============================] - 7s 292ms/step - loss: 0.4845 - accuracy: 0.7486 - val_loss: 0.4763 - val_accuracy: 0.7511\n",
      "Epoch 13/140\n",
      "24/24 [==============================] - 7s 291ms/step - loss: 0.4791 - accuracy: 0.7513 - val_loss: 0.4703 - val_accuracy: 0.7561\n",
      "Epoch 14/140\n",
      "24/24 [==============================] - 7s 291ms/step - loss: 0.4745 - accuracy: 0.7547 - val_loss: 0.4663 - val_accuracy: 0.7603\n",
      "Epoch 15/140\n",
      "24/24 [==============================] - 7s 295ms/step - loss: 0.4744 - accuracy: 0.7560 - val_loss: 0.4637 - val_accuracy: 0.7589\n",
      "Epoch 16/140\n",
      "24/24 [==============================] - 7s 295ms/step - loss: 0.4698 - accuracy: 0.7578 - val_loss: 0.4597 - val_accuracy: 0.7613\n",
      "Epoch 17/140\n",
      "24/24 [==============================] - 7s 295ms/step - loss: 0.4673 - accuracy: 0.7587 - val_loss: 0.4569 - val_accuracy: 0.7643\n",
      "Epoch 18/140\n",
      "24/24 [==============================] - 7s 292ms/step - loss: 0.4654 - accuracy: 0.7592 - val_loss: 0.4601 - val_accuracy: 0.7615\n",
      "Epoch 19/140\n",
      "24/24 [==============================] - 7s 292ms/step - loss: 0.4652 - accuracy: 0.7593 - val_loss: 0.4578 - val_accuracy: 0.7615\n",
      "Epoch 20/140\n",
      "24/24 [==============================] - 7s 292ms/step - loss: 0.4633 - accuracy: 0.7606 - val_loss: 0.4544 - val_accuracy: 0.7660\n",
      "Epoch 21/140\n",
      "24/24 [==============================] - 7s 292ms/step - loss: 0.4612 - accuracy: 0.7607 - val_loss: 0.4536 - val_accuracy: 0.7658\n",
      "Epoch 22/140\n",
      "24/24 [==============================] - 7s 293ms/step - loss: 0.4600 - accuracy: 0.7616 - val_loss: 0.4528 - val_accuracy: 0.7672\n",
      "Epoch 23/140\n",
      "24/24 [==============================] - 7s 292ms/step - loss: 0.4585 - accuracy: 0.7620 - val_loss: 0.4498 - val_accuracy: 0.7664\n",
      "Epoch 24/140\n",
      "24/24 [==============================] - 7s 293ms/step - loss: 0.4578 - accuracy: 0.7627 - val_loss: 0.4484 - val_accuracy: 0.7672\n",
      "Epoch 25/140\n",
      "24/24 [==============================] - 7s 294ms/step - loss: 0.4569 - accuracy: 0.7629 - val_loss: 0.4486 - val_accuracy: 0.7691\n",
      "Epoch 26/140\n",
      "24/24 [==============================] - 7s 296ms/step - loss: 0.4562 - accuracy: 0.7639 - val_loss: 0.4485 - val_accuracy: 0.7697\n",
      "Epoch 27/140\n",
      "24/24 [==============================] - 7s 293ms/step - loss: 0.4558 - accuracy: 0.7642 - val_loss: 0.4502 - val_accuracy: 0.7700\n",
      "Epoch 28/140\n",
      "24/24 [==============================] - 7s 290ms/step - loss: 0.4545 - accuracy: 0.7650 - val_loss: 0.4462 - val_accuracy: 0.7701\n",
      "Epoch 29/140\n",
      "24/24 [==============================] - 7s 291ms/step - loss: 0.4539 - accuracy: 0.7654 - val_loss: 0.4477 - val_accuracy: 0.7695\n",
      "Epoch 30/140\n",
      "24/24 [==============================] - 7s 290ms/step - loss: 0.4541 - accuracy: 0.7656 - val_loss: 0.4498 - val_accuracy: 0.7703\n",
      "Epoch 31/140\n",
      "24/24 [==============================] - 7s 291ms/step - loss: 0.4534 - accuracy: 0.7663 - val_loss: 0.4465 - val_accuracy: 0.7712\n",
      "Epoch 32/140\n",
      "24/24 [==============================] - 7s 290ms/step - loss: 0.4509 - accuracy: 0.7669 - val_loss: 0.4482 - val_accuracy: 0.7700\n",
      "Epoch 33/140\n",
      "24/24 [==============================] - 7s 293ms/step - loss: 0.4517 - accuracy: 0.7670 - val_loss: 0.4450 - val_accuracy: 0.7729\n",
      "Epoch 34/140\n",
      "24/24 [==============================] - 7s 294ms/step - loss: 0.4497 - accuracy: 0.7671 - val_loss: 0.4443 - val_accuracy: 0.7732\n",
      "Epoch 35/140\n",
      "24/24 [==============================] - 7s 293ms/step - loss: 0.4501 - accuracy: 0.7679 - val_loss: 0.4474 - val_accuracy: 0.7716\n",
      "Epoch 36/140\n",
      "24/24 [==============================] - 7s 295ms/step - loss: 0.4498 - accuracy: 0.7683 - val_loss: 0.4432 - val_accuracy: 0.7731\n",
      "Epoch 37/140\n",
      "24/24 [==============================] - 7s 295ms/step - loss: 0.4485 - accuracy: 0.7686 - val_loss: 0.4427 - val_accuracy: 0.7739\n",
      "Epoch 38/140\n",
      "24/24 [==============================] - 7s 295ms/step - loss: 0.4484 - accuracy: 0.7690 - val_loss: 0.4436 - val_accuracy: 0.7738\n",
      "Epoch 39/140\n",
      "24/24 [==============================] - 7s 294ms/step - loss: 0.4487 - accuracy: 0.7688 - val_loss: 0.4432 - val_accuracy: 0.7752\n",
      "Epoch 40/140\n",
      "24/24 [==============================] - 7s 294ms/step - loss: 0.4470 - accuracy: 0.7694 - val_loss: 0.4429 - val_accuracy: 0.7735\n",
      "Epoch 41/140\n",
      "24/24 [==============================] - 7s 294ms/step - loss: 0.4467 - accuracy: 0.7698 - val_loss: 0.4394 - val_accuracy: 0.7760\n",
      "Epoch 42/140\n",
      "24/24 [==============================] - 7s 294ms/step - loss: 0.4471 - accuracy: 0.7698 - val_loss: 0.4461 - val_accuracy: 0.7746\n",
      "Epoch 43/140\n",
      "24/24 [==============================] - 7s 295ms/step - loss: 0.4472 - accuracy: 0.7700 - val_loss: 0.4415 - val_accuracy: 0.7748\n",
      "Epoch 44/140\n",
      "24/24 [==============================] - 7s 294ms/step - loss: 0.4468 - accuracy: 0.7707 - val_loss: 0.4449 - val_accuracy: 0.7725\n",
      "Epoch 45/140\n",
      "24/24 [==============================] - 7s 294ms/step - loss: 0.4463 - accuracy: 0.7704 - val_loss: 0.4422 - val_accuracy: 0.7751\n",
      "Epoch 46/140\n",
      "24/24 [==============================] - 7s 300ms/step - loss: 0.4454 - accuracy: 0.7711 - val_loss: 0.4397 - val_accuracy: 0.7755\n",
      "Epoch 47/140\n",
      "24/24 [==============================] - 7s 297ms/step - loss: 0.4445 - accuracy: 0.7714 - val_loss: 0.4383 - val_accuracy: 0.7763\n",
      "Epoch 48/140\n",
      "24/24 [==============================] - 7s 299ms/step - loss: 0.4438 - accuracy: 0.7716 - val_loss: 0.4444 - val_accuracy: 0.7739\n",
      "Epoch 49/140\n",
      "24/24 [==============================] - 7s 300ms/step - loss: 0.4454 - accuracy: 0.7712 - val_loss: 0.4379 - val_accuracy: 0.7770\n",
      "Epoch 50/140\n",
      "24/24 [==============================] - 7s 296ms/step - loss: 0.4437 - accuracy: 0.7719 - val_loss: 0.4403 - val_accuracy: 0.7767\n",
      "Epoch 51/140\n",
      "24/24 [==============================] - 7s 297ms/step - loss: 0.4435 - accuracy: 0.7719 - val_loss: 0.4410 - val_accuracy: 0.7764\n",
      "Epoch 52/140\n",
      "24/24 [==============================] - 7s 298ms/step - loss: 0.4426 - accuracy: 0.7725 - val_loss: 0.4393 - val_accuracy: 0.7769\n",
      "Epoch 53/140\n",
      "24/24 [==============================] - 7s 292ms/step - loss: 0.4425 - accuracy: 0.7724 - val_loss: 0.4364 - val_accuracy: 0.7775\n",
      "Epoch 54/140\n",
      "24/24 [==============================] - 7s 292ms/step - loss: 0.4425 - accuracy: 0.7728 - val_loss: 0.4373 - val_accuracy: 0.7767\n",
      "Epoch 55/140\n",
      "24/24 [==============================] - 7s 292ms/step - loss: 0.4418 - accuracy: 0.7728 - val_loss: 0.4352 - val_accuracy: 0.7774\n",
      "Epoch 56/140\n",
      "24/24 [==============================] - 7s 296ms/step - loss: 0.4410 - accuracy: 0.7732 - val_loss: 0.4362 - val_accuracy: 0.7768\n",
      "Epoch 57/140\n",
      "24/24 [==============================] - 7s 295ms/step - loss: 0.4413 - accuracy: 0.7733 - val_loss: 0.4372 - val_accuracy: 0.7770\n"
     ]
    },
    {
     "name": "stdout",
     "output_type": "stream",
     "text": [
      "Epoch 58/140\n",
      "24/24 [==============================] - 7s 294ms/step - loss: 0.4406 - accuracy: 0.7736 - val_loss: 0.4346 - val_accuracy: 0.7783\n",
      "Epoch 59/140\n",
      "24/24 [==============================] - 7s 294ms/step - loss: 0.4414 - accuracy: 0.7739 - val_loss: 0.4348 - val_accuracy: 0.7782\n",
      "Epoch 60/140\n",
      "24/24 [==============================] - 7s 294ms/step - loss: 0.4395 - accuracy: 0.7740 - val_loss: 0.4384 - val_accuracy: 0.7762\n",
      "Epoch 61/140\n",
      "24/24 [==============================] - 7s 293ms/step - loss: 0.4400 - accuracy: 0.7740 - val_loss: 0.4486 - val_accuracy: 0.7770\n",
      "Epoch 62/140\n",
      "24/24 [==============================] - 7s 292ms/step - loss: 0.4408 - accuracy: 0.7740 - val_loss: 0.4377 - val_accuracy: 0.7778\n",
      "Epoch 63/140\n",
      "24/24 [==============================] - 7s 291ms/step - loss: 0.4389 - accuracy: 0.7745 - val_loss: 0.4376 - val_accuracy: 0.7781\n",
      "Epoch 64/140\n",
      "24/24 [==============================] - 7s 292ms/step - loss: 0.4388 - accuracy: 0.7745 - val_loss: 0.4353 - val_accuracy: 0.7778\n",
      "Epoch 65/140\n",
      "24/24 [==============================] - 7s 292ms/step - loss: 0.4397 - accuracy: 0.7746 - val_loss: 0.4333 - val_accuracy: 0.7792\n",
      "Epoch 66/140\n",
      "24/24 [==============================] - 7s 294ms/step - loss: 0.4383 - accuracy: 0.7749 - val_loss: 0.4333 - val_accuracy: 0.7787\n",
      "Epoch 67/140\n",
      "24/24 [==============================] - 7s 295ms/step - loss: 0.4378 - accuracy: 0.7753 - val_loss: 0.4337 - val_accuracy: 0.7784\n",
      "Epoch 68/140\n",
      "24/24 [==============================] - 7s 295ms/step - loss: 0.4380 - accuracy: 0.7754 - val_loss: 0.4359 - val_accuracy: 0.7791\n",
      "Epoch 69/140\n",
      "24/24 [==============================] - 7s 295ms/step - loss: 0.4387 - accuracy: 0.7755 - val_loss: 0.4329 - val_accuracy: 0.7791\n",
      "Epoch 70/140\n",
      "24/24 [==============================] - 7s 295ms/step - loss: 0.4368 - accuracy: 0.7758 - val_loss: 0.4366 - val_accuracy: 0.7794\n",
      "Epoch 71/140\n",
      "24/24 [==============================] - 7s 294ms/step - loss: 0.4388 - accuracy: 0.7756 - val_loss: 0.4346 - val_accuracy: 0.7788\n",
      "Epoch 72/140\n",
      "24/24 [==============================] - 7s 294ms/step - loss: 0.4381 - accuracy: 0.7760 - val_loss: 0.4371 - val_accuracy: 0.7766\n",
      "Epoch 73/140\n",
      "24/24 [==============================] - 7s 294ms/step - loss: 0.4364 - accuracy: 0.7765 - val_loss: 0.4356 - val_accuracy: 0.7771\n",
      "Epoch 74/140\n",
      "24/24 [==============================] - 7s 292ms/step - loss: 0.4361 - accuracy: 0.7761 - val_loss: 0.4350 - val_accuracy: 0.7794\n",
      "Epoch 75/140\n",
      "24/24 [==============================] - 7s 296ms/step - loss: 0.4368 - accuracy: 0.7764 - val_loss: 0.4313 - val_accuracy: 0.7799\n",
      "Epoch 76/140\n",
      "24/24 [==============================] - 7s 302ms/step - loss: 0.4363 - accuracy: 0.7768 - val_loss: 0.4360 - val_accuracy: 0.7778\n",
      "Epoch 77/140\n",
      "24/24 [==============================] - 7s 293ms/step - loss: 0.4358 - accuracy: 0.7765 - val_loss: 0.4355 - val_accuracy: 0.7780\n",
      "Epoch 78/140\n",
      "24/24 [==============================] - 7s 292ms/step - loss: 0.4351 - accuracy: 0.7771 - val_loss: 0.4336 - val_accuracy: 0.7783\n",
      "Epoch 79/140\n",
      "24/24 [==============================] - 7s 291ms/step - loss: 0.4351 - accuracy: 0.7775 - val_loss: 0.4347 - val_accuracy: 0.7793\n",
      "Epoch 80/140\n",
      "24/24 [==============================] - 7s 293ms/step - loss: 0.4351 - accuracy: 0.7771 - val_loss: 0.4350 - val_accuracy: 0.7803\n",
      "Epoch 81/140\n",
      "24/24 [==============================] - 7s 292ms/step - loss: 0.4351 - accuracy: 0.7768 - val_loss: 0.4351 - val_accuracy: 0.7796\n",
      "Epoch 82/140\n",
      "24/24 [==============================] - 7s 293ms/step - loss: 0.4364 - accuracy: 0.7770 - val_loss: 0.4351 - val_accuracy: 0.7778\n",
      "Epoch 83/140\n",
      "24/24 [==============================] - 7s 293ms/step - loss: 0.4347 - accuracy: 0.7772 - val_loss: 0.4312 - val_accuracy: 0.7791\n",
      "Epoch 84/140\n",
      "24/24 [==============================] - 7s 293ms/step - loss: 0.4338 - accuracy: 0.7777 - val_loss: 0.4345 - val_accuracy: 0.7796\n",
      "Epoch 85/140\n",
      "24/24 [==============================] - 7s 293ms/step - loss: 0.4345 - accuracy: 0.7777 - val_loss: 0.4395 - val_accuracy: 0.7793\n",
      "Epoch 86/140\n",
      "24/24 [==============================] - 7s 294ms/step - loss: 0.4347 - accuracy: 0.7776 - val_loss: 0.4313 - val_accuracy: 0.7814\n",
      "Epoch 87/140\n",
      "24/24 [==============================] - 7s 293ms/step - loss: 0.4336 - accuracy: 0.7780 - val_loss: 0.4311 - val_accuracy: 0.7798\n",
      "Epoch 88/140\n",
      "24/24 [==============================] - 7s 293ms/step - loss: 0.4337 - accuracy: 0.7776 - val_loss: 0.4317 - val_accuracy: 0.7810\n",
      "Epoch 89/140\n",
      "24/24 [==============================] - 7s 293ms/step - loss: 0.4334 - accuracy: 0.7777 - val_loss: 0.4311 - val_accuracy: 0.7800\n",
      "Epoch 90/140\n",
      "24/24 [==============================] - 7s 295ms/step - loss: 0.4345 - accuracy: 0.7777 - val_loss: 0.4317 - val_accuracy: 0.7790\n",
      "Epoch 91/140\n",
      "24/24 [==============================] - 7s 294ms/step - loss: 0.4328 - accuracy: 0.7780 - val_loss: 0.4301 - val_accuracy: 0.7796\n",
      "Epoch 92/140\n",
      "24/24 [==============================] - 7s 294ms/step - loss: 0.4332 - accuracy: 0.7782 - val_loss: 0.4351 - val_accuracy: 0.7787\n",
      "Epoch 93/140\n",
      "24/24 [==============================] - 7s 292ms/step - loss: 0.4326 - accuracy: 0.7780 - val_loss: 0.4353 - val_accuracy: 0.7793\n",
      "Epoch 94/140\n",
      "24/24 [==============================] - 7s 292ms/step - loss: 0.4324 - accuracy: 0.7780 - val_loss: 0.4345 - val_accuracy: 0.7804\n",
      "Epoch 95/140\n",
      "24/24 [==============================] - 7s 292ms/step - loss: 0.4325 - accuracy: 0.7784 - val_loss: 0.4315 - val_accuracy: 0.7803\n",
      "Epoch 96/140\n",
      "24/24 [==============================] - 7s 292ms/step - loss: 0.4319 - accuracy: 0.7780 - val_loss: 0.4321 - val_accuracy: 0.7777\n",
      "Epoch 97/140\n",
      "24/24 [==============================] - 7s 293ms/step - loss: 0.4319 - accuracy: 0.7782 - val_loss: 0.4335 - val_accuracy: 0.7811\n",
      "Epoch 98/140\n",
      "24/24 [==============================] - 7s 292ms/step - loss: 0.4325 - accuracy: 0.7783 - val_loss: 0.4333 - val_accuracy: 0.7807\n",
      "Epoch 99/140\n",
      "24/24 [==============================] - 7s 292ms/step - loss: 0.4315 - accuracy: 0.7785 - val_loss: 0.4307 - val_accuracy: 0.7801\n",
      "Epoch 100/140\n",
      "24/24 [==============================] - 7s 293ms/step - loss: 0.4324 - accuracy: 0.7781 - val_loss: 0.4369 - val_accuracy: 0.7809\n",
      "Epoch 101/140\n",
      "24/24 [==============================] - 7s 293ms/step - loss: 0.4327 - accuracy: 0.7785 - val_loss: 0.4313 - val_accuracy: 0.7808\n",
      "Epoch 102/140\n",
      "24/24 [==============================] - 7s 293ms/step - loss: 0.4320 - accuracy: 0.7787 - val_loss: 0.4324 - val_accuracy: 0.7803\n",
      "Epoch 103/140\n",
      "24/24 [==============================] - 7s 295ms/step - loss: 0.4314 - accuracy: 0.7788 - val_loss: 0.4308 - val_accuracy: 0.7779\n",
      "Epoch 104/140\n",
      "24/24 [==============================] - 7s 295ms/step - loss: 0.4309 - accuracy: 0.7787 - val_loss: 0.4328 - val_accuracy: 0.7803\n",
      "Epoch 105/140\n",
      "24/24 [==============================] - 7s 296ms/step - loss: 0.4313 - accuracy: 0.7788 - val_loss: 0.4301 - val_accuracy: 0.7795\n",
      "Epoch 106/140\n",
      "24/24 [==============================] - 7s 295ms/step - loss: 0.4311 - accuracy: 0.7787 - val_loss: 0.4325 - val_accuracy: 0.7767\n",
      "Epoch 107/140\n",
      "24/24 [==============================] - 7s 296ms/step - loss: 0.4306 - accuracy: 0.7788 - val_loss: 0.4312 - val_accuracy: 0.7805\n",
      "Epoch 108/140\n",
      "24/24 [==============================] - 7s 291ms/step - loss: 0.4306 - accuracy: 0.7790 - val_loss: 0.4336 - val_accuracy: 0.7799\n",
      "Epoch 109/140\n",
      "24/24 [==============================] - 7s 291ms/step - loss: 0.4315 - accuracy: 0.7787 - val_loss: 0.4331 - val_accuracy: 0.7781\n",
      "Epoch 110/140\n",
      "24/24 [==============================] - 7s 292ms/step - loss: 0.4302 - accuracy: 0.7792 - val_loss: 0.4297 - val_accuracy: 0.7801\n",
      "Epoch 111/140\n",
      "24/24 [==============================] - 7s 294ms/step - loss: 0.4299 - accuracy: 0.7792 - val_loss: 0.4347 - val_accuracy: 0.7797\n",
      "Epoch 112/140\n",
      "24/24 [==============================] - 7s 292ms/step - loss: 0.4308 - accuracy: 0.7792 - val_loss: 0.4322 - val_accuracy: 0.7775\n",
      "Epoch 113/140\n",
      "24/24 [==============================] - 7s 292ms/step - loss: 0.4308 - accuracy: 0.7791 - val_loss: 0.4304 - val_accuracy: 0.7805\n",
      "Epoch 114/140\n",
      "24/24 [==============================] - 7s 292ms/step - loss: 0.4303 - accuracy: 0.7792 - val_loss: 0.4358 - val_accuracy: 0.7820\n"
     ]
    },
    {
     "name": "stdout",
     "output_type": "stream",
     "text": [
      "Epoch 115/140\n",
      "24/24 [==============================] - 7s 292ms/step - loss: 0.4300 - accuracy: 0.7795 - val_loss: 0.4290 - val_accuracy: 0.7793\n",
      "Epoch 116/140\n",
      "24/24 [==============================] - 7s 292ms/step - loss: 0.4296 - accuracy: 0.7792 - val_loss: 0.4310 - val_accuracy: 0.7784\n",
      "Epoch 117/140\n",
      "24/24 [==============================] - 7s 294ms/step - loss: 0.4289 - accuracy: 0.7796 - val_loss: 0.4322 - val_accuracy: 0.7770\n",
      "Epoch 118/140\n",
      "24/24 [==============================] - 7s 292ms/step - loss: 0.4299 - accuracy: 0.7794 - val_loss: 0.4325 - val_accuracy: 0.7785\n",
      "Epoch 119/140\n",
      "24/24 [==============================] - 7s 291ms/step - loss: 0.4288 - accuracy: 0.7799 - val_loss: 0.4294 - val_accuracy: 0.7802\n",
      "Epoch 120/140\n",
      "24/24 [==============================] - 7s 291ms/step - loss: 0.4285 - accuracy: 0.7799 - val_loss: 0.4312 - val_accuracy: 0.7796\n",
      "Epoch 121/140\n",
      "24/24 [==============================] - 7s 290ms/step - loss: 0.4285 - accuracy: 0.7800 - val_loss: 0.4289 - val_accuracy: 0.7792\n",
      "Epoch 122/140\n",
      "24/24 [==============================] - 7s 291ms/step - loss: 0.4290 - accuracy: 0.7794 - val_loss: 0.4337 - val_accuracy: 0.7794\n",
      "Epoch 123/140\n",
      "24/24 [==============================] - 7s 293ms/step - loss: 0.4285 - accuracy: 0.7799 - val_loss: 0.4393 - val_accuracy: 0.7804\n",
      "Epoch 124/140\n",
      "24/24 [==============================] - 7s 293ms/step - loss: 0.4294 - accuracy: 0.7799 - val_loss: 0.4322 - val_accuracy: 0.7799\n",
      "Epoch 125/140\n",
      "24/24 [==============================] - 7s 295ms/step - loss: 0.4282 - accuracy: 0.7797 - val_loss: 0.4306 - val_accuracy: 0.7794\n",
      "Epoch 126/140\n",
      "24/24 [==============================] - 7s 294ms/step - loss: 0.4278 - accuracy: 0.7802 - val_loss: 0.4298 - val_accuracy: 0.7785\n",
      "Epoch 127/140\n",
      "24/24 [==============================] - 7s 294ms/step - loss: 0.4299 - accuracy: 0.7795 - val_loss: 0.4299 - val_accuracy: 0.7795\n",
      "Epoch 128/140\n",
      "24/24 [==============================] - 7s 295ms/step - loss: 0.4292 - accuracy: 0.7798 - val_loss: 0.4308 - val_accuracy: 0.7790\n",
      "Epoch 129/140\n",
      "24/24 [==============================] - 7s 294ms/step - loss: 0.4276 - accuracy: 0.7801 - val_loss: 0.4302 - val_accuracy: 0.7804\n",
      "Epoch 130/140\n",
      "24/24 [==============================] - 7s 293ms/step - loss: 0.4274 - accuracy: 0.7801 - val_loss: 0.4306 - val_accuracy: 0.7782\n",
      "Epoch 131/140\n",
      "24/24 [==============================] - 7s 293ms/step - loss: 0.4269 - accuracy: 0.7804 - val_loss: 0.4303 - val_accuracy: 0.7784\n",
      "Epoch 132/140\n",
      "24/24 [==============================] - 7s 293ms/step - loss: 0.4279 - accuracy: 0.7802 - val_loss: 0.4334 - val_accuracy: 0.7760\n",
      "Epoch 133/140\n",
      "24/24 [==============================] - 7s 292ms/step - loss: 0.4279 - accuracy: 0.7803 - val_loss: 0.4301 - val_accuracy: 0.7800\n",
      "Epoch 134/140\n",
      "24/24 [==============================] - 7s 292ms/step - loss: 0.4273 - accuracy: 0.7806 - val_loss: 0.4325 - val_accuracy: 0.7804\n",
      "Epoch 135/140\n",
      "24/24 [==============================] - 7s 293ms/step - loss: 0.4271 - accuracy: 0.7805 - val_loss: 0.4306 - val_accuracy: 0.7818\n",
      "Epoch 136/140\n",
      "24/24 [==============================] - 7s 293ms/step - loss: 0.4270 - accuracy: 0.7807 - val_loss: 0.4311 - val_accuracy: 0.7807\n",
      "Epoch 137/140\n",
      "24/24 [==============================] - 7s 293ms/step - loss: 0.4269 - accuracy: 0.7808 - val_loss: 0.4369 - val_accuracy: 0.7784\n",
      "Epoch 138/140\n",
      "24/24 [==============================] - 7s 293ms/step - loss: 0.4274 - accuracy: 0.7806 - val_loss: 0.4333 - val_accuracy: 0.7800\n",
      "Epoch 139/140\n",
      "24/24 [==============================] - 7s 294ms/step - loss: 0.4267 - accuracy: 0.7806 - val_loss: 0.4353 - val_accuracy: 0.7760\n",
      "Epoch 140/140\n",
      "24/24 [==============================] - 7s 292ms/step - loss: 0.4275 - accuracy: 0.7808 - val_loss: 0.4296 - val_accuracy: 0.7783\n"
     ]
    }
   ],
   "source": [
    "gru_history = model_gru.fit(train_X, train_y, epochs=140,validation_data=(test_X, test_y),batch_size=16384)#, shuffle=False)"
   ]
  },
  {
   "cell_type": "code",
   "execution_count": 24,
   "metadata": {},
   "outputs": [
    {
     "name": "stdout",
     "output_type": "stream",
     "text": [
      "2971/2971 [==============================] - 22s 7ms/step\n"
     ]
    }
   ],
   "source": [
    "pred_y =  model_gru.predict(test_X)"
   ]
  },
  {
   "cell_type": "code",
   "execution_count": 25,
   "metadata": {},
   "outputs": [
    {
     "name": "stdout",
     "output_type": "stream",
     "text": [
      "1018.6456952095032\n"
     ]
    }
   ],
   "source": [
    "stop=t.time()-start\n",
    "print(stop)"
   ]
  },
  {
   "cell_type": "code",
   "execution_count": 26,
   "metadata": {},
   "outputs": [
    {
     "data": {
      "image/png": "[encoded data removed]",
      "text/plain": [
       "<Figure size 640x480 with 1 Axes>"
      ]
     },
     "metadata": {},
     "output_type": "display_data"
    }
   ],
   "source": [
    "#plt.plot(gru_history.history['accuracy'], label='GRU accuracy', color='green')\n",
    "#plt.plot(gru_history.history['val_accuracy'], label='GRU val_accuracy', color='yellow')\n",
    "plt.plot(gru_history.history['loss'], label='GRU train', color='brown')\n",
    "plt.plot(gru_history.history['val_loss'], label='GRU test', color='blue')\n",
    "plt.legend()\n",
    "plt.show()"
   ]
  },
  {
   "cell_type": "code",
   "execution_count": 27,
   "metadata": {},
   "outputs": [
    {
     "data": {
      "image/png": "[encoded data removed]",
      "text/plain": [
       "<Figure size 640x480 with 1 Axes>"
      ]
     },
     "metadata": {},
     "output_type": "display_data"
    }
   ],
   "source": [
    "plt.plot(gru_history.history['accuracy'], label='GRU accuracy', color='green')\n",
    "plt.plot(gru_history.history['val_accuracy'], label='GRU val_accuracy', color='yellow')\n",
    "plt.legend()\n",
    "plt.show()"
   ]
  },
  {
   "cell_type": "code",
   "execution_count": 28,
   "metadata": {},
   "outputs": [
    {
     "name": "stdout",
     "output_type": "stream",
     "text": [
      "[[0.]\n",
      " [0.]\n",
      " [0.]\n",
      " ...\n",
      " [0.]\n",
      " [0.]\n",
      " [0.]]\n"
     ]
    }
   ],
   "source": [
    "print(test_y)"
   ]
  },
  {
   "cell_type": "code",
   "execution_count": 29,
   "metadata": {},
   "outputs": [
    {
     "data": {
      "text/plain": [
       "(95061, 1)"
      ]
     },
     "execution_count": 29,
     "metadata": {},
     "output_type": "execute_result"
    }
   ],
   "source": [
    "np.shape(pred_y)"
   ]
  },
  {
   "cell_type": "code",
   "execution_count": 30,
   "metadata": {},
   "outputs": [
    {
     "data": {
      "text/plain": [
       "array([[0.00072647],\n",
       "       [0.0014421 ],\n",
       "       [0.00138568],\n",
       "       ...,\n",
       "       [0.08224194],\n",
       "       [0.08647665],\n",
       "       [0.08902524]], dtype=float32)"
      ]
     },
     "execution_count": 30,
     "metadata": {},
     "output_type": "execute_result"
    }
   ],
   "source": [
    "pred_y"
   ]
  },
  {
   "cell_type": "code",
   "execution_count": 31,
   "metadata": {},
   "outputs": [],
   "source": [
    "pred_y=np.reshape(pred_y,95061)"
   ]
  },
  {
   "cell_type": "code",
   "execution_count": 32,
   "metadata": {},
   "outputs": [
    {
     "name": "stdout",
     "output_type": "stream",
     "text": [
      "0.14422952606265382\n",
      "0.22444464044052925\n",
      "0.37977562594597064\n",
      "0.2892486334998826\n"
     ]
    },
    {
     "data": {
      "image/png": "[encoded data removed]",
      "text/plain": [
       "<Figure size 1500x500 with 1 Axes>"
      ]
     },
     "metadata": {},
     "output_type": "display_data"
    }
   ],
   "source": [
    "\n",
    "plt.rcParams['figure.figsize'] = (15,5)\n",
    "\n",
    "MSE = mean_squared_error(test_y, pred_y)\n",
    "R2 = r2_score(test_y, pred_y)\n",
    "RMSE = sqrt(mean_squared_error(test_y, pred_y))\n",
    "MAE = mean_absolute_error(test_y, pred_y)\n",
    "\n",
    "\n",
    "print(MSE)\n",
    "print(R2)\n",
    "print(RMSE)\n",
    "print(MAE)\n",
    "\n",
    "\n",
    "plt.plot(test_y, label = 'Actual')\n",
    "plt.plot(pred_y, label = 'Predicted')\n",
    "plt.legend()\n",
    "plt.show()"
   ]
  },
  {
   "cell_type": "code",
   "execution_count": 33,
   "metadata": {},
   "outputs": [
    {
     "data": {
      "text/plain": [
       "(380244, 32, 15)"
      ]
     },
     "execution_count": 33,
     "metadata": {},
     "output_type": "execute_result"
    }
   ],
   "source": [
    "np.shape(train_X)"
   ]
  },
  {
   "cell_type": "code",
   "execution_count": 34,
   "metadata": {},
   "outputs": [
    {
     "data": {
      "text/plain": [
       "(380244, 1)"
      ]
     },
     "execution_count": 34,
     "metadata": {},
     "output_type": "execute_result"
    }
   ],
   "source": [
    "np.shape(train_y)"
   ]
  },
  {
   "cell_type": "code",
   "execution_count": 35,
   "metadata": {},
   "outputs": [
    {
     "data": {
      "text/plain": [
       "(95061, 32, 15)"
      ]
     },
     "execution_count": 35,
     "metadata": {},
     "output_type": "execute_result"
    }
   ],
   "source": [
    "np.shape(test_X)"
   ]
  },
  {
   "cell_type": "code",
   "execution_count": 36,
   "metadata": {},
   "outputs": [
    {
     "data": {
      "text/plain": [
       "(95061, 1)"
      ]
     },
     "execution_count": 36,
     "metadata": {},
     "output_type": "execute_result"
    }
   ],
   "source": [
    "np.shape(test_y)"
   ]
  },
  {
   "cell_type": "code",
   "execution_count": null,
   "metadata": {},
   "outputs": [
    {
     "name": "stdout",
     "output_type": "stream",
     "text": [
      "13444/14854 [==========================>...] - ETA: 10s"
     ]
    }
   ],
   "source": [
    "tra = np.concatenate([train_X,test_X])\n",
    "tes = np.concatenate([train_y,test_y])\n",
    "fp = model_gru.predict(tra)\n",
    "plt.plot(tes, label = 'Actual')\n",
    "plt.plot(fp, label = 'Predicted')\n",
    "plt.legend()\n",
    "plt.show()"
   ]
  },
  {
   "cell_type": "code",
   "execution_count": null,
   "metadata": {},
   "outputs": [],
   "source": [
    "plt.plot(tes[:2000], label = 'Actual')\n",
    "plt.plot(fp[:2000], label = 'Predicted')\n",
    "plt.legend()\n",
    "plt.show()"
   ]
  },
  {
   "cell_type": "code",
   "execution_count": null,
   "metadata": {},
   "outputs": [],
   "source": [
    "print(sum(tes)/len(tes))"
   ]
  },
  {
   "cell_type": "code",
   "execution_count": null,
   "metadata": {},
   "outputs": [],
   "source": [
    "#print(fp[1000:1010])\n",
    "_fp = np.where(fp>0.5,1,0)\n",
    "_all = sum(_fp)\n",
    "_w = (_fp*tes)\n",
    "print(sum(_w)/_all)\n",
    "      \n",
    "_all_z = sum(1-_fp)      \n",
    "_w_z = (1-_fp)*(1-tes)\n",
    "print(sum(_w_z)/_all_z)\n",
    "print('total acc', (sum(_w)+sum(_w_z))/len(_w))"
   ]
  },
  {
   "cell_type": "code",
   "execution_count": null,
   "metadata": {},
   "outputs": [],
   "source": [
    "plt.plot(tes[:8000], label = 'Actual')\n",
    "plt.plot(fp[:8000], label = 'Predicted')\n",
    "plt.legend()\n",
    "plt.show()"
   ]
  },
  {
   "cell_type": "code",
   "execution_count": null,
   "metadata": {},
   "outputs": [],
   "source": [
    "#over very small part of data\n",
    "plt.plot(tes[2000:2020], label = 'Actual')\n",
    "plt.plot(fp[2000:2020], label = 'Predicted')\n",
    "plt.legend()\n",
    "plt.show()"
   ]
  },
  {
   "cell_type": "code",
   "execution_count": null,
   "metadata": {},
   "outputs": [],
   "source": [
    "plt.plot(tes[:50], label = 'Actual')\n",
    "plt.plot(fp[:50], label = 'Predicted')\n",
    "plt.legend()\n",
    "plt.show()"
   ]
  },
  {
   "cell_type": "code",
   "execution_count": null,
   "metadata": {},
   "outputs": [],
   "source": [
    "plt.plot(tes[:5], label = 'Actual')\n",
    "plt.plot(fp[:5], label = 'Predicted')\n",
    "plt.legend()\n",
    "plt.show()"
   ]
  },
  {
   "cell_type": "code",
   "execution_count": null,
   "metadata": {},
   "outputs": [],
   "source": [
    "tf.config.experimental.get_memory_info('GPU:0')"
   ]
  },
  {
   "cell_type": "code",
   "execution_count": null,
   "metadata": {},
   "outputs": [],
   "source": []
  },
  {
   "cell_type": "code",
   "execution_count": null,
   "metadata": {},
   "outputs": [],
   "source": []
  },
  {
   "cell_type": "code",
   "execution_count": null,
   "metadata": {},
   "outputs": [],
   "source": []
  }
 ],
 "metadata": {
  "kernelspec": {
   "display_name": "Python 3 (ipykernel)",
   "language": "python",
   "name": "python3"
  },
  "language_info": {
   "codemirror_mode": {
    "name": "ipython",
    "version": 3
   },
   "file_extension": ".py",
   "mimetype": "text/x-python",
   "name": "python",
   "nbconvert_exporter": "python",
   "pygments_lexer": "ipython3",
   "version": "3.9.13"
  }
 },
 "nbformat": 4,
 "nbformat_minor": 2
}
