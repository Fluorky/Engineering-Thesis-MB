{
 "cells": [
  {
   "cell_type": "code",
   "execution_count": 4,
   "metadata": {},
   "outputs": [],
   "source": [
    "import pandas as pd\n",
    "import numpy as np\n",
    "import matplotlib.pyplot as plt\n",
    "from math import sqrt\n",
    "from numpy import concatenate\n",
    "from pandas import *\n",
    "from sklearn.preprocessing import *\n",
    "from sklearn.metrics import *\n",
    "from tensorflow import keras\n",
    "import tensorflow as tf\n",
    "import time as t"
   ]
  },
  {
   "cell_type": "code",
   "execution_count": 5,
   "metadata": {},
   "outputs": [],
   "source": [
    "w=24"
   ]
  },
  {
   "cell_type": "code",
   "execution_count": 6,
   "metadata": {},
   "outputs": [],
   "source": [
    "#print(dataFromSensors)\n",
    "dataFromSensors=np.load(\"DataWithLabels/dataFromSensors_\"+str(w)+\".npy\")"
   ]
  },
  {
   "cell_type": "code",
   "execution_count": 7,
   "metadata": {},
   "outputs": [
    {
     "name": "stdout",
     "output_type": "stream",
     "text": [
      "class:  ndarray\n",
      "shape:  (475313, 24, 16)\n",
      "strides:  (3072, 128, 8)\n",
      "itemsize:  8\n",
      "aligned:  True\n",
      "contiguous:  True\n",
      "fortran:  False\n",
      "data pointer: 0x7f9ce9a39010\n",
      "byteorder:  little\n",
      "byteswap:  False\n",
      "type: float64\n"
     ]
    }
   ],
   "source": [
    "np.info(dataFromSensors)"
   ]
  },
  {
   "cell_type": "code",
   "execution_count": 8,
   "metadata": {},
   "outputs": [],
   "source": [
    "labels=np.load(\"DataWithLabels/labels_\"+str(w)+\".npy\")"
   ]
  },
  {
   "cell_type": "code",
   "execution_count": 9,
   "metadata": {},
   "outputs": [
    {
     "name": "stdout",
     "output_type": "stream",
     "text": [
      "class:  ndarray\n",
      "shape:  (475313,)\n",
      "strides:  (8,)\n",
      "itemsize:  8\n",
      "aligned:  True\n",
      "contiguous:  True\n",
      "fortran:  True\n",
      "data pointer: 0x7f9ce9698010\n",
      "byteorder:  little\n",
      "byteswap:  False\n",
      "type: float64\n"
     ]
    }
   ],
   "source": [
    "np.info(labels)"
   ]
  },
  {
   "cell_type": "code",
   "execution_count": 10,
   "metadata": {},
   "outputs": [],
   "source": [
    "#values = reframed_df.values\n",
    "#training_sample =int( len(dataset) *0.8)\n",
    "training_sample_labels =int( len(labels) *0.8)\n",
    "training_sample =int( len(dataFromSensors) *0.8)\n",
    "#testDataset=DataFrame.to_numpy(dataset)\n",
    "#testDataset=DataFrame.to_numpy(reframed_df)"
   ]
  },
  {
   "cell_type": "code",
   "execution_count": 11,
   "metadata": {},
   "outputs": [
    {
     "data": {
      "text/plain": [
       "380250"
      ]
     },
     "execution_count": 11,
     "metadata": {},
     "output_type": "execute_result"
    }
   ],
   "source": [
    "training_sample_labels"
   ]
  },
  {
   "cell_type": "code",
   "execution_count": 12,
   "metadata": {},
   "outputs": [
    {
     "data": {
      "text/plain": [
       "380250"
      ]
     },
     "execution_count": 12,
     "metadata": {},
     "output_type": "execute_result"
    }
   ],
   "source": [
    "training_sample"
   ]
  },
  {
   "cell_type": "code",
   "execution_count": 13,
   "metadata": {},
   "outputs": [],
   "source": [
    "train_labels = labels[:training_sample]\n",
    "train = dataFromSensors[:training_sample, : ,:]\n",
    "test_labels = labels[training_sample:]\n",
    "test = dataFromSensors[training_sample:, : , :]\n",
    "# split into input and outputs\n",
    "#train_X, train_y = train[:,:, 1:], train[:,:,0]\n",
    "#test_X, test_y = test[:,:, 1:], test[:,:,0]\n",
    "train_X, train_y = train[:,:, 1:], train_labels[:]\n",
    "test_X, test_y = test[:,:, 1:], test_labels[:]"
   ]
  },
  {
   "cell_type": "code",
   "execution_count": 14,
   "metadata": {},
   "outputs": [
    {
     "data": {
      "text/plain": [
       "(380250, 24, 15)"
      ]
     },
     "execution_count": 14,
     "metadata": {},
     "output_type": "execute_result"
    }
   ],
   "source": [
    "train_X.shape"
   ]
  },
  {
   "cell_type": "code",
   "execution_count": 15,
   "metadata": {},
   "outputs": [
    {
     "data": {
      "text/plain": [
       "array([0., 0., 0., ..., 0., 0., 0.])"
      ]
     },
     "execution_count": 15,
     "metadata": {},
     "output_type": "execute_result"
    }
   ],
   "source": [
    "train_y"
   ]
  },
  {
   "cell_type": "code",
   "execution_count": 16,
   "metadata": {},
   "outputs": [
    {
     "data": {
      "text/plain": [
       "(380250,)"
      ]
     },
     "execution_count": 16,
     "metadata": {},
     "output_type": "execute_result"
    }
   ],
   "source": [
    "train_y.shape"
   ]
  },
  {
   "cell_type": "code",
   "execution_count": 17,
   "metadata": {},
   "outputs": [],
   "source": [
    "train_y=train_y.reshape(train_y.shape[0],1)"
   ]
  },
  {
   "cell_type": "code",
   "execution_count": 18,
   "metadata": {},
   "outputs": [],
   "source": [
    "test_y=test_y.reshape(test_y.shape[0],1)"
   ]
  },
  {
   "cell_type": "code",
   "execution_count": 19,
   "metadata": {},
   "outputs": [],
   "source": [
    "#print(train_X)"
   ]
  },
  {
   "cell_type": "code",
   "execution_count": 20,
   "metadata": {},
   "outputs": [
    {
     "name": "stdout",
     "output_type": "stream",
     "text": [
      "(380250, 24, 15) (380250, 1) (95063, 24, 15) (95063, 1)\n"
     ]
    }
   ],
   "source": [
    "print(train_X.shape, train_y.shape, test_X.shape, test_y.shape)"
   ]
  },
  {
   "cell_type": "code",
   "execution_count": 21,
   "metadata": {},
   "outputs": [
    {
     "name": "stderr",
     "output_type": "stream",
     "text": [
      "2023-01-09 04:16:11.311683: W tensorflow/compiler/xla/stream_executor/platform/default/dso_loader.cc:64] Could not load dynamic library 'libcuda.so.1'; dlerror: libcuda.so.1: cannot open shared object file: No such file or directory\n",
      "2023-01-09 04:16:11.312352: W tensorflow/compiler/xla/stream_executor/cuda/cuda_driver.cc:265] failed call to cuInit: UNKNOWN ERROR (303)\n",
      "2023-01-09 04:16:11.312625: I tensorflow/compiler/xla/stream_executor/cuda/cuda_diagnostics.cc:156] kernel driver does not appear to be running on this host (server-OptiPlex-7010): /proc/driver/nvidia/version does not exist\n"
     ]
    }
   ],
   "source": [
    "model_gru =  keras.models.Sequential([\n",
    "  \n",
    "    keras.layers.GRU(256,return_sequences=True,input_shape=(train_X.shape[1],train_X.shape[2]),activation='relu'),\n",
    "    keras.layers.GRU(units=128,return_sequences=True,activation='relu'),\n",
    "    keras.layers.GRU(units=64,activation='relu'),\n",
    "    keras.layers.Dense(units=100,activation='sigmoid'),\n",
    "    keras.layers.Dense(units=1,activation='sigmoid')\n",
    "                        ])\n",
    "model_gru.compile(loss='binary_crossentropy', optimizer='sgd',metrics=['AUC'])"
   ]
  },
  {
   "cell_type": "code",
   "execution_count": 22,
   "metadata": {},
   "outputs": [
    {
     "name": "stdout",
     "output_type": "stream",
     "text": [
      "Model: \"sequential\"\n",
      "_________________________________________________________________\n",
      " Layer (type)                Output Shape              Param #   \n",
      "=================================================================\n",
      " gru (GRU)                   (None, 24, 256)           209664    \n",
      "                                                                 \n",
      " gru_1 (GRU)                 (None, 24, 128)           148224    \n",
      "                                                                 \n",
      " gru_2 (GRU)                 (None, 64)                37248     \n",
      "                                                                 \n",
      " dense (Dense)               (None, 100)               6500      \n",
      "                                                                 \n",
      " dense_1 (Dense)             (None, 1)                 101       \n",
      "                                                                 \n",
      "=================================================================\n",
      "Total params: 401,737\n",
      "Trainable params: 401,737\n",
      "Non-trainable params: 0\n",
      "_________________________________________________________________\n"
     ]
    }
   ],
   "source": [
    "model_gru.summary()"
   ]
  },
  {
   "cell_type": "code",
   "execution_count": 23,
   "metadata": {},
   "outputs": [],
   "source": [
    " start = t.time()"
   ]
  },
  {
   "cell_type": "code",
   "execution_count": 24,
   "metadata": {
    "scrolled": true
   },
   "outputs": [
    {
     "name": "stderr",
     "output_type": "stream",
     "text": [
      "2023-01-09 04:16:12.727716: W tensorflow/tsl/framework/cpu_allocator_impl.cc:82] Allocation of 547560000 exceeds 10% of free system memory.\n"
     ]
    },
    {
     "name": "stdout",
     "output_type": "stream",
     "text": [
      "Epoch 1/140\n",
      "2971/2971 [==============================] - ETA: 0s - loss: 0.5738 - auc: 0.5147"
     ]
    },
    {
     "name": "stderr",
     "output_type": "stream",
     "text": [
      "2023-01-09 04:23:26.115841: W tensorflow/tsl/framework/cpu_allocator_impl.cc:82] Allocation of 136890720 exceeds 10% of free system memory.\n"
     ]
    },
    {
     "name": "stdout",
     "output_type": "stream",
     "text": [
      "2971/2971 [==============================] - 471s 157ms/step - loss: 0.5738 - auc: 0.5147 - val_loss: 0.5587 - val_auc: 0.5365\n",
      "Epoch 2/140\n",
      "2971/2971 [==============================] - 459s 155ms/step - loss: 0.5725 - auc: 0.5546 - val_loss: 0.5576 - val_auc: 0.6328\n",
      "Epoch 3/140\n",
      "2971/2971 [==============================] - 459s 154ms/step - loss: 0.5695 - auc: 0.6184 - val_loss: 0.5526 - val_auc: 0.6681\n",
      "Epoch 4/140\n",
      "2971/2971 [==============================] - 459s 154ms/step - loss: 0.5536 - auc: 0.6662 - val_loss: 0.5261 - val_auc: 0.6960\n",
      "Epoch 5/140\n",
      "2971/2971 [==============================] - 458s 154ms/step - loss: 0.5197 - auc: 0.7129 - val_loss: 0.5016 - val_auc: 0.7318\n",
      "Epoch 6/140\n",
      "2971/2971 [==============================] - 458s 154ms/step - loss: 0.5031 - auc: 0.7326 - val_loss: 0.4846 - val_auc: 0.7396\n",
      "Epoch 7/140\n",
      "2971/2971 [==============================] - 458s 154ms/step - loss: 0.4972 - auc: 0.7394 - val_loss: 0.4808 - val_auc: 0.7434\n",
      "Epoch 8/140\n",
      "2971/2971 [==============================] - 458s 154ms/step - loss: 0.4918 - auc: 0.7476 - val_loss: 0.4774 - val_auc: 0.7491\n",
      "Epoch 9/140\n",
      "2971/2971 [==============================] - 458s 154ms/step - loss: 0.4861 - auc: 0.7569 - val_loss: 0.4741 - val_auc: 0.7558\n",
      "Epoch 10/140\n",
      "2971/2971 [==============================] - 459s 154ms/step - loss: 0.4805 - auc: 0.7657 - val_loss: 0.4788 - val_auc: 0.7621\n",
      "Epoch 11/140\n",
      "2971/2971 [==============================] - 458s 154ms/step - loss: 0.4752 - auc: 0.7737 - val_loss: 0.4630 - val_auc: 0.7720\n",
      "Epoch 12/140\n",
      "2971/2971 [==============================] - 458s 154ms/step - loss: 0.4706 - auc: 0.7800 - val_loss: 0.4806 - val_auc: 0.7751\n",
      "Epoch 13/140\n",
      "2971/2971 [==============================] - 458s 154ms/step - loss: 0.4667 - auc: 0.7850 - val_loss: 0.4941 - val_auc: 0.7836\n",
      "Epoch 14/140\n",
      "2971/2971 [==============================] - 458s 154ms/step - loss: 0.4635 - auc: 0.7887 - val_loss: 0.4525 - val_auc: 0.7870\n",
      "Epoch 15/140\n",
      "2971/2971 [==============================] - 458s 154ms/step - loss: 0.4606 - auc: 0.7922 - val_loss: 0.4505 - val_auc: 0.7903\n",
      "Epoch 16/140\n",
      "2971/2971 [==============================] - 458s 154ms/step - loss: 0.4587 - auc: 0.7943 - val_loss: 0.4563 - val_auc: 0.7852\n",
      "Epoch 17/140\n",
      "2971/2971 [==============================] - 458s 154ms/step - loss: 0.4568 - auc: 0.7966 - val_loss: 0.4581 - val_auc: 0.7948\n",
      "Epoch 18/140\n",
      "2971/2971 [==============================] - 459s 154ms/step - loss: 0.4549 - auc: 0.7987 - val_loss: 0.4467 - val_auc: 0.7948\n",
      "Epoch 19/140\n",
      "2971/2971 [==============================] - 459s 154ms/step - loss: 0.4534 - auc: 0.8004 - val_loss: 0.4460 - val_auc: 0.7956\n",
      "Epoch 20/140\n",
      "2971/2971 [==============================] - 458s 154ms/step - loss: 0.4517 - auc: 0.8024 - val_loss: 0.4416 - val_auc: 0.8006\n",
      "Epoch 21/140\n",
      "2971/2971 [==============================] - 459s 154ms/step - loss: 0.4506 - auc: 0.8035 - val_loss: 0.4472 - val_auc: 0.7957\n",
      "Epoch 22/140\n",
      "2971/2971 [==============================] - 460s 155ms/step - loss: 0.4491 - auc: 0.8052 - val_loss: 0.4455 - val_auc: 0.8020\n",
      "Epoch 23/140\n",
      "2971/2971 [==============================] - 459s 155ms/step - loss: 0.4481 - auc: 0.8063 - val_loss: 0.4400 - val_auc: 0.8035\n",
      "Epoch 24/140\n",
      "2971/2971 [==============================] - 458s 154ms/step - loss: 0.4467 - auc: 0.8079 - val_loss: 0.4459 - val_auc: 0.8038\n",
      "Epoch 25/140\n",
      "2971/2971 [==============================] - 458s 154ms/step - loss: 0.4456 - auc: 0.8092 - val_loss: 0.4392 - val_auc: 0.8053\n",
      "Epoch 26/140\n",
      "2971/2971 [==============================] - 458s 154ms/step - loss: 0.4447 - auc: 0.8100 - val_loss: 0.4388 - val_auc: 0.8054\n",
      "Epoch 27/140\n",
      "2971/2971 [==============================] - 459s 154ms/step - loss: 0.4437 - auc: 0.8112 - val_loss: 0.4401 - val_auc: 0.8062\n",
      "Epoch 28/140\n",
      "2971/2971 [==============================] - 459s 154ms/step - loss: 0.4427 - auc: 0.8121 - val_loss: 0.4443 - val_auc: 0.7999\n",
      "Epoch 29/140\n",
      "2971/2971 [==============================] - 458s 154ms/step - loss: 0.4418 - auc: 0.8132 - val_loss: 0.4429 - val_auc: 0.8069\n",
      "Epoch 30/140\n",
      "2971/2971 [==============================] - 459s 154ms/step - loss: 0.4412 - auc: 0.8137 - val_loss: 0.4378 - val_auc: 0.8093\n",
      "Epoch 31/140\n",
      "2971/2971 [==============================] - 458s 154ms/step - loss: 0.4401 - auc: 0.8149 - val_loss: 0.4345 - val_auc: 0.8091\n",
      "Epoch 32/140\n",
      "2971/2971 [==============================] - 459s 154ms/step - loss: 0.4391 - auc: 0.8159 - val_loss: 0.4351 - val_auc: 0.8095\n",
      "Epoch 33/140\n",
      "2971/2971 [==============================] - 458s 154ms/step - loss: 0.4386 - auc: 0.8164 - val_loss: 0.4333 - val_auc: 0.8100\n",
      "Epoch 34/140\n",
      "2971/2971 [==============================] - 459s 154ms/step - loss: 0.4376 - auc: 0.8175 - val_loss: 0.4319 - val_auc: 0.8119\n",
      "Epoch 35/140\n",
      "2971/2971 [==============================] - 458s 154ms/step - loss: 0.4373 - auc: 0.8178 - val_loss: 0.4327 - val_auc: 0.8118\n",
      "Epoch 36/140\n",
      "2971/2971 [==============================] - 459s 154ms/step - loss: 0.4364 - auc: 0.8186 - val_loss: 0.4465 - val_auc: 0.8129\n",
      "Epoch 37/140\n",
      "2971/2971 [==============================] - 459s 154ms/step - loss: 0.4357 - auc: 0.8193 - val_loss: 0.4534 - val_auc: 0.8120\n",
      "Epoch 38/140\n",
      "2971/2971 [==============================] - 459s 154ms/step - loss: 0.4352 - auc: 0.8199 - val_loss: 0.4298 - val_auc: 0.8141\n",
      "Epoch 39/140\n",
      "2971/2971 [==============================] - 459s 154ms/step - loss: 0.4345 - auc: 0.8207 - val_loss: 0.4412 - val_auc: 0.8123\n",
      "Epoch 40/140\n",
      "2971/2971 [==============================] - 459s 155ms/step - loss: 0.4340 - auc: 0.8212 - val_loss: 0.4326 - val_auc: 0.8125\n",
      "Epoch 41/140\n",
      "2971/2971 [==============================] - 459s 154ms/step - loss: 0.4336 - auc: 0.8214 - val_loss: 0.4325 - val_auc: 0.8143\n",
      "Epoch 42/140\n",
      "2971/2971 [==============================] - 459s 154ms/step - loss: 0.4328 - auc: 0.8224 - val_loss: 0.4314 - val_auc: 0.8134\n",
      "Epoch 43/140\n",
      "2971/2971 [==============================] - 459s 154ms/step - loss: 0.4327 - auc: 0.8224 - val_loss: 0.4307 - val_auc: 0.8156\n",
      "Epoch 44/140\n",
      "2971/2971 [==============================] - 459s 155ms/step - loss: 0.4321 - auc: 0.8229 - val_loss: 0.4422 - val_auc: 0.8116\n",
      "Epoch 45/140\n",
      "2971/2971 [==============================] - 459s 155ms/step - loss: 0.4315 - auc: 0.8235 - val_loss: 0.4306 - val_auc: 0.8140\n",
      "Epoch 46/140\n",
      "2971/2971 [==============================] - 459s 154ms/step - loss: 0.4313 - auc: 0.8239 - val_loss: 0.4288 - val_auc: 0.8173\n",
      "Epoch 47/140\n",
      "2971/2971 [==============================] - 459s 154ms/step - loss: 0.4307 - auc: 0.8244 - val_loss: 0.4306 - val_auc: 0.8154\n",
      "Epoch 48/140\n",
      "2971/2971 [==============================] - 459s 155ms/step - loss: 0.4305 - auc: 0.8245 - val_loss: 0.4320 - val_auc: 0.8160\n",
      "Epoch 49/140\n",
      "2971/2971 [==============================] - 459s 155ms/step - loss: 0.4301 - auc: 0.8249 - val_loss: 0.4281 - val_auc: 0.8169\n",
      "Epoch 50/140\n",
      "2971/2971 [==============================] - 459s 155ms/step - loss: 0.4301 - auc: 0.8249 - val_loss: 0.4317 - val_auc: 0.8153\n",
      "Epoch 51/140\n",
      "2971/2971 [==============================] - 459s 154ms/step - loss: 0.4294 - auc: 0.8256 - val_loss: 0.4332 - val_auc: 0.8162\n",
      "Epoch 52/140\n",
      "2971/2971 [==============================] - 459s 155ms/step - loss: 0.4293 - auc: 0.8257 - val_loss: 0.4283 - val_auc: 0.8160\n",
      "Epoch 53/140\n",
      "2971/2971 [==============================] - 459s 155ms/step - loss: 0.4289 - auc: 0.8261 - val_loss: 0.4342 - val_auc: 0.8169\n",
      "Epoch 54/140\n",
      "2971/2971 [==============================] - 459s 154ms/step - loss: 0.4286 - auc: 0.8264 - val_loss: 0.4279 - val_auc: 0.8167\n",
      "Epoch 55/140\n",
      "2971/2971 [==============================] - 458s 154ms/step - loss: 0.4284 - auc: 0.8265 - val_loss: 0.4388 - val_auc: 0.8114\n",
      "Epoch 56/140\n",
      "2971/2971 [==============================] - 459s 154ms/step - loss: 0.4280 - auc: 0.8269 - val_loss: 0.4286 - val_auc: 0.8171\n",
      "Epoch 57/140\n",
      "2971/2971 [==============================] - 459s 155ms/step - loss: 0.4278 - auc: 0.8271 - val_loss: 0.4301 - val_auc: 0.8148\n",
      "Epoch 58/140\n",
      "2971/2971 [==============================] - 459s 155ms/step - loss: 0.4276 - auc: 0.8274 - val_loss: 0.4274 - val_auc: 0.8173\n",
      "Epoch 59/140\n"
     ]
    },
    {
     "name": "stdout",
     "output_type": "stream",
     "text": [
      "2971/2971 [==============================] - 458s 154ms/step - loss: 0.4274 - auc: 0.8275 - val_loss: 0.4260 - val_auc: 0.8175\n",
      "Epoch 60/140\n",
      "2971/2971 [==============================] - 458s 154ms/step - loss: 0.4270 - auc: 0.8279 - val_loss: 0.4381 - val_auc: 0.8164\n",
      "Epoch 61/140\n",
      "2971/2971 [==============================] - 459s 154ms/step - loss: 0.4268 - auc: 0.8281 - val_loss: 0.4313 - val_auc: 0.8171\n",
      "Epoch 62/140\n",
      "2971/2971 [==============================] - 458s 154ms/step - loss: 0.4267 - auc: 0.8282 - val_loss: 0.4247 - val_auc: 0.8193\n",
      "Epoch 63/140\n",
      "2971/2971 [==============================] - 457s 154ms/step - loss: 0.4265 - auc: 0.8284 - val_loss: 0.4340 - val_auc: 0.8132\n",
      "Epoch 64/140\n",
      "2971/2971 [==============================] - 456s 154ms/step - loss: 0.4262 - auc: 0.8286 - val_loss: 0.4261 - val_auc: 0.8183\n",
      "Epoch 65/140\n",
      "2971/2971 [==============================] - 457s 154ms/step - loss: 0.4260 - auc: 0.8288 - val_loss: 0.4344 - val_auc: 0.8171\n",
      "Epoch 66/140\n",
      "2971/2971 [==============================] - 457s 154ms/step - loss: 0.4258 - auc: 0.8290 - val_loss: 0.4298 - val_auc: 0.8147\n",
      "Epoch 67/140\n",
      "2971/2971 [==============================] - 457s 154ms/step - loss: 0.4256 - auc: 0.8293 - val_loss: 0.4262 - val_auc: 0.8181\n",
      "Epoch 68/140\n",
      "2971/2971 [==============================] - 457s 154ms/step - loss: 0.4255 - auc: 0.8294 - val_loss: 0.4291 - val_auc: 0.8155\n",
      "Epoch 69/140\n",
      "2971/2971 [==============================] - 457s 154ms/step - loss: 0.4251 - auc: 0.8298 - val_loss: 0.4327 - val_auc: 0.8189\n",
      "Epoch 70/140\n",
      "2971/2971 [==============================] - 457s 154ms/step - loss: 0.4248 - auc: 0.8300 - val_loss: 0.4248 - val_auc: 0.8194\n",
      "Epoch 71/140\n",
      "2971/2971 [==============================] - 457s 154ms/step - loss: 0.4246 - auc: 0.8302 - val_loss: 0.4307 - val_auc: 0.8157\n",
      "Epoch 72/140\n",
      "2971/2971 [==============================] - 457s 154ms/step - loss: 0.4244 - auc: 0.8305 - val_loss: 0.4248 - val_auc: 0.8192\n",
      "Epoch 73/140\n",
      "2971/2971 [==============================] - 458s 154ms/step - loss: 0.4243 - auc: 0.8305 - val_loss: 0.4277 - val_auc: 0.8175\n",
      "Epoch 74/140\n",
      "2971/2971 [==============================] - 457s 154ms/step - loss: 0.4242 - auc: 0.8306 - val_loss: 0.4278 - val_auc: 0.8178\n",
      "Epoch 75/140\n",
      "2971/2971 [==============================] - 458s 154ms/step - loss: 0.4238 - auc: 0.8310 - val_loss: 0.4303 - val_auc: 0.8149\n",
      "Epoch 76/140\n",
      "2971/2971 [==============================] - 461s 155ms/step - loss: 0.4236 - auc: 0.8312 - val_loss: 0.4336 - val_auc: 0.8161\n",
      "Epoch 77/140\n",
      "2971/2971 [==============================] - 462s 155ms/step - loss: 0.4235 - auc: 0.8314 - val_loss: 0.4274 - val_auc: 0.8178\n",
      "Epoch 78/140\n",
      "2971/2971 [==============================] - 462s 155ms/step - loss: 0.4233 - auc: 0.8315 - val_loss: 0.4266 - val_auc: 0.8183\n",
      "Epoch 79/140\n",
      "2971/2971 [==============================] - 461s 155ms/step - loss: 0.4233 - auc: 0.8315 - val_loss: 0.4294 - val_auc: 0.8152\n",
      "Epoch 80/140\n",
      "2971/2971 [==============================] - 461s 155ms/step - loss: 0.4227 - auc: 0.8321 - val_loss: 0.4300 - val_auc: 0.8182\n",
      "Epoch 81/140\n",
      "2971/2971 [==============================] - 461s 155ms/step - loss: 0.4229 - auc: 0.8320 - val_loss: 0.4271 - val_auc: 0.8181\n",
      "Epoch 82/140\n",
      "2971/2971 [==============================] - 461s 155ms/step - loss: 0.4225 - auc: 0.8322 - val_loss: 0.4270 - val_auc: 0.8187\n",
      "Epoch 83/140\n",
      "2971/2971 [==============================] - 461s 155ms/step - loss: 0.4224 - auc: 0.8324 - val_loss: 0.4325 - val_auc: 0.8152\n",
      "Epoch 84/140\n",
      "2971/2971 [==============================] - 461s 155ms/step - loss: 0.4221 - auc: 0.8327 - val_loss: 0.4286 - val_auc: 0.8185\n",
      "Epoch 85/140\n",
      "2971/2971 [==============================] - 461s 155ms/step - loss: 0.4219 - auc: 0.8328 - val_loss: 0.4264 - val_auc: 0.8198\n",
      "Epoch 86/140\n",
      "2971/2971 [==============================] - 461s 155ms/step - loss: 0.4219 - auc: 0.8329 - val_loss: 0.4294 - val_auc: 0.8174\n",
      "Epoch 87/140\n",
      "2971/2971 [==============================] - 461s 155ms/step - loss: 0.4217 - auc: 0.8330 - val_loss: 0.4319 - val_auc: 0.8191\n",
      "Epoch 88/140\n",
      "2971/2971 [==============================] - 461s 155ms/step - loss: 0.4216 - auc: 0.8331 - val_loss: 0.4244 - val_auc: 0.8205\n",
      "Epoch 89/140\n",
      "2971/2971 [==============================] - 461s 155ms/step - loss: 0.4214 - auc: 0.8334 - val_loss: 0.4272 - val_auc: 0.8189\n",
      "Epoch 90/140\n",
      "2971/2971 [==============================] - 461s 155ms/step - loss: 0.4211 - auc: 0.8337 - val_loss: 0.4250 - val_auc: 0.8192\n",
      "Epoch 91/140\n",
      "2971/2971 [==============================] - 461s 155ms/step - loss: 0.4212 - auc: 0.8336 - val_loss: 0.4256 - val_auc: 0.8194\n",
      "Epoch 92/140\n",
      "2971/2971 [==============================] - 461s 155ms/step - loss: 0.4208 - auc: 0.8340 - val_loss: 0.4304 - val_auc: 0.8156\n",
      "Epoch 93/140\n",
      "2971/2971 [==============================] - 461s 155ms/step - loss: 0.4207 - auc: 0.8340 - val_loss: 0.4305 - val_auc: 0.8174\n",
      "Epoch 94/140\n",
      "2971/2971 [==============================] - 461s 155ms/step - loss: 0.4205 - auc: 0.8342 - val_loss: 0.4232 - val_auc: 0.8219\n",
      "Epoch 95/140\n",
      "2971/2971 [==============================] - 461s 155ms/step - loss: 0.4204 - auc: 0.8342 - val_loss: 0.4263 - val_auc: 0.8189\n",
      "Epoch 96/140\n",
      "2971/2971 [==============================] - 461s 155ms/step - loss: 0.4203 - auc: 0.8345 - val_loss: 0.4277 - val_auc: 0.8175\n",
      "Epoch 97/140\n",
      "2971/2971 [==============================] - 461s 155ms/step - loss: 0.4202 - auc: 0.8346 - val_loss: 0.4293 - val_auc: 0.8167\n",
      "Epoch 98/140\n",
      "2971/2971 [==============================] - 461s 155ms/step - loss: 0.4201 - auc: 0.8346 - val_loss: 0.4268 - val_auc: 0.8199\n",
      "Epoch 99/140\n",
      "2971/2971 [==============================] - 461s 155ms/step - loss: 0.4196 - auc: 0.8350 - val_loss: 0.4251 - val_auc: 0.8207\n",
      "Epoch 100/140\n",
      "2971/2971 [==============================] - 461s 155ms/step - loss: 0.4197 - auc: 0.8349 - val_loss: 0.4269 - val_auc: 0.8202\n",
      "Epoch 101/140\n",
      "2971/2971 [==============================] - 461s 155ms/step - loss: 0.4195 - auc: 0.8352 - val_loss: 0.4297 - val_auc: 0.8179\n",
      "Epoch 102/140\n",
      "2971/2971 [==============================] - 461s 155ms/step - loss: 0.4193 - auc: 0.8354 - val_loss: 0.4263 - val_auc: 0.8192\n",
      "Epoch 103/140\n",
      "2971/2971 [==============================] - 460s 155ms/step - loss: 0.4190 - auc: 0.8356 - val_loss: 0.4306 - val_auc: 0.8190\n",
      "Epoch 104/140\n",
      "2971/2971 [==============================] - 462s 156ms/step - loss: 0.4191 - auc: 0.8356 - val_loss: 0.4325 - val_auc: 0.8163\n",
      "Epoch 105/140\n",
      "2971/2971 [==============================] - 461s 155ms/step - loss: 0.4187 - auc: 0.8360 - val_loss: 0.4247 - val_auc: 0.8196\n",
      "Epoch 106/140\n",
      "2971/2971 [==============================] - 461s 155ms/step - loss: 0.4186 - auc: 0.8360 - val_loss: 0.4319 - val_auc: 0.8155\n",
      "Epoch 107/140\n",
      "2971/2971 [==============================] - 461s 155ms/step - loss: 0.4185 - auc: 0.8362 - val_loss: 0.4286 - val_auc: 0.8176\n",
      "Epoch 108/140\n",
      "2971/2971 [==============================] - 462s 155ms/step - loss: 0.4185 - auc: 0.8362 - val_loss: 0.4300 - val_auc: 0.8177\n",
      "Epoch 109/140\n",
      "2971/2971 [==============================] - 461s 155ms/step - loss: 0.4184 - auc: 0.8362 - val_loss: 0.4303 - val_auc: 0.8207\n",
      "Epoch 110/140\n",
      "2971/2971 [==============================] - 461s 155ms/step - loss: 0.4183 - auc: 0.8363 - val_loss: 0.4377 - val_auc: 0.8169\n",
      "Epoch 111/140\n",
      "2971/2971 [==============================] - 461s 155ms/step - loss: 0.4181 - auc: 0.8365 - val_loss: 0.4281 - val_auc: 0.8192\n",
      "Epoch 112/140\n",
      "2971/2971 [==============================] - 461s 155ms/step - loss: 0.4178 - auc: 0.8367 - val_loss: 0.4262 - val_auc: 0.8186\n",
      "Epoch 113/140\n",
      "2971/2971 [==============================] - 461s 155ms/step - loss: 0.4176 - auc: 0.8370 - val_loss: 0.4273 - val_auc: 0.8182\n",
      "Epoch 114/140\n",
      "2971/2971 [==============================] - 461s 155ms/step - loss: 0.4176 - auc: 0.8370 - val_loss: 0.4575 - val_auc: 0.8053\n",
      "Epoch 115/140\n",
      "2971/2971 [==============================] - 461s 155ms/step - loss: 0.4175 - auc: 0.8371 - val_loss: 0.4379 - val_auc: 0.8137\n",
      "Epoch 116/140\n",
      "2971/2971 [==============================] - 461s 155ms/step - loss: 0.4173 - auc: 0.8373 - val_loss: 0.4282 - val_auc: 0.8188\n",
      "Epoch 117/140\n"
     ]
    },
    {
     "name": "stdout",
     "output_type": "stream",
     "text": [
      "2971/2971 [==============================] - 455s 153ms/step - loss: 0.4172 - auc: 0.8374 - val_loss: 0.4293 - val_auc: 0.8204\n",
      "Epoch 118/140\n",
      "2971/2971 [==============================] - 455s 153ms/step - loss: 0.4169 - auc: 0.8377 - val_loss: 0.4262 - val_auc: 0.8202\n",
      "Epoch 119/140\n",
      "2971/2971 [==============================] - 455s 153ms/step - loss: 0.4169 - auc: 0.8376 - val_loss: 0.4302 - val_auc: 0.8169\n",
      "Epoch 120/140\n",
      "2971/2971 [==============================] - 455s 153ms/step - loss: 0.4167 - auc: 0.8378 - val_loss: 0.4383 - val_auc: 0.8191\n",
      "Epoch 121/140\n",
      "2971/2971 [==============================] - 455s 153ms/step - loss: 0.4167 - auc: 0.8379 - val_loss: 0.4259 - val_auc: 0.8204\n",
      "Epoch 122/140\n",
      "2971/2971 [==============================] - 455s 153ms/step - loss: 0.4165 - auc: 0.8380 - val_loss: 0.4308 - val_auc: 0.8169\n",
      "Epoch 123/140\n",
      "2971/2971 [==============================] - 455s 153ms/step - loss: 0.4163 - auc: 0.8382 - val_loss: 0.4310 - val_auc: 0.8207\n",
      "Epoch 124/140\n",
      "2971/2971 [==============================] - 455s 153ms/step - loss: 0.4165 - auc: 0.8381 - val_loss: 0.4262 - val_auc: 0.8200\n",
      "Epoch 125/140\n",
      "2971/2971 [==============================] - 455s 153ms/step - loss: 0.4161 - auc: 0.8384 - val_loss: 0.4292 - val_auc: 0.8176\n",
      "Epoch 126/140\n",
      "2971/2971 [==============================] - 455s 153ms/step - loss: 0.4160 - auc: 0.8385 - val_loss: 0.4305 - val_auc: 0.8194\n",
      "Epoch 127/140\n",
      "2971/2971 [==============================] - 455s 153ms/step - loss: 0.4157 - auc: 0.8388 - val_loss: 0.4258 - val_auc: 0.8194\n",
      "Epoch 128/140\n",
      "2971/2971 [==============================] - 463s 156ms/step - loss: 0.4156 - auc: 0.8389 - val_loss: 0.4273 - val_auc: 0.8191\n",
      "Epoch 129/140\n",
      "2971/2971 [==============================] - 462s 155ms/step - loss: 0.4155 - auc: 0.8389 - val_loss: 0.4343 - val_auc: 0.8181\n",
      "Epoch 130/140\n",
      "2971/2971 [==============================] - 461s 155ms/step - loss: 0.4155 - auc: 0.8389 - val_loss: 0.4281 - val_auc: 0.8163\n",
      "Epoch 131/140\n",
      "2971/2971 [==============================] - 461s 155ms/step - loss: 0.4155 - auc: 0.8390 - val_loss: 0.4274 - val_auc: 0.8172\n",
      "Epoch 132/140\n",
      "2971/2971 [==============================] - 462s 155ms/step - loss: 0.4152 - auc: 0.8393 - val_loss: 0.4263 - val_auc: 0.8193\n",
      "Epoch 133/140\n",
      "2971/2971 [==============================] - 462s 155ms/step - loss: 0.4151 - auc: 0.8393 - val_loss: 0.4261 - val_auc: 0.8196\n",
      "Epoch 134/140\n",
      "2971/2971 [==============================] - 462s 155ms/step - loss: 0.4152 - auc: 0.8392 - val_loss: 0.4285 - val_auc: 0.8189\n",
      "Epoch 135/140\n",
      "2971/2971 [==============================] - 462s 156ms/step - loss: 0.4149 - auc: 0.8395 - val_loss: 0.4275 - val_auc: 0.8181\n",
      "Epoch 136/140\n",
      "2971/2971 [==============================] - 462s 156ms/step - loss: 0.4148 - auc: 0.8396 - val_loss: 0.4247 - val_auc: 0.8194\n",
      "Epoch 137/140\n",
      "2971/2971 [==============================] - 462s 156ms/step - loss: 0.4148 - auc: 0.8397 - val_loss: 0.4246 - val_auc: 0.8208\n",
      "Epoch 138/140\n",
      "2971/2971 [==============================] - 462s 155ms/step - loss: 0.4144 - auc: 0.8400 - val_loss: 0.4269 - val_auc: 0.8184\n",
      "Epoch 139/140\n",
      "2971/2971 [==============================] - 462s 156ms/step - loss: 0.4144 - auc: 0.8400 - val_loss: 0.4258 - val_auc: 0.8198\n",
      "Epoch 140/140\n",
      "2971/2971 [==============================] - 462s 155ms/step - loss: 0.4144 - auc: 0.8400 - val_loss: 0.4308 - val_auc: 0.8196\n"
     ]
    }
   ],
   "source": [
    "# fit network\n",
    "gru_history = model_gru.fit(train_X, train_y, epochs=140,validation_data=(test_X, test_y), batch_size=128)#, shuffle=False)"
   ]
  },
  {
   "cell_type": "code",
   "execution_count": 25,
   "metadata": {},
   "outputs": [
    {
     "name": "stderr",
     "output_type": "stream",
     "text": [
      "2023-01-09 22:07:57.036156: W tensorflow/tsl/framework/cpu_allocator_impl.cc:82] Allocation of 136890720 exceeds 10% of free system memory.\n"
     ]
    },
    {
     "name": "stdout",
     "output_type": "stream",
     "text": [
      "2971/2971 [==============================] - 66s 22ms/step\n"
     ]
    }
   ],
   "source": [
    "pred_y =  model_gru.predict(test_X)"
   ]
  },
  {
   "cell_type": "code",
   "execution_count": 26,
   "metadata": {},
   "outputs": [
    {
     "name": "stdout",
     "output_type": "stream",
     "text": [
      "64373.19808316231\n"
     ]
    }
   ],
   "source": [
    "stop=t.time()-start\n",
    "print(stop)"
   ]
  },
  {
   "cell_type": "code",
   "execution_count": 27,
   "metadata": {},
   "outputs": [
    {
     "data": {
      "image/png": "[encoded data removed]",
      "text/plain": [
       "<Figure size 640x480 with 1 Axes>"
      ]
     },
     "metadata": {},
     "output_type": "display_data"
    }
   ],
   "source": [
    "#dont run this cell if you are running this cell than add \"validation_data=(test_X, test_y)\" in model_gru.fit()\n",
    "plt.plot(gru_history.history['loss'], label='GRU train', color='brown')\n",
    "plt.plot(gru_history.history['val_loss'], label='GRU test', color='blue')\n",
    "plt.legend()\n",
    "plt.show()"
   ]
  },
  {
   "cell_type": "code",
   "execution_count": 28,
   "metadata": {},
   "outputs": [
    {
     "name": "stdout",
     "output_type": "stream",
     "text": [
      "[[0.]\n",
      " [0.]\n",
      " [0.]\n",
      " ...\n",
      " [0.]\n",
      " [0.]\n",
      " [0.]]\n"
     ]
    }
   ],
   "source": [
    "#test_y.reshape(8086,1)\n",
    "#test_y.reshape(2627,1)\n",
    "#test_y=test_y[:, :1]\n",
    "\n",
    "#train_y=test_y[:, :1]\n",
    "print(test_y)"
   ]
  },
  {
   "cell_type": "code",
   "execution_count": 29,
   "metadata": {},
   "outputs": [
    {
     "data": {
      "text/plain": [
       "(95063, 1)"
      ]
     },
     "execution_count": 29,
     "metadata": {},
     "output_type": "execute_result"
    }
   ],
   "source": [
    "np.shape(pred_y)"
   ]
  },
  {
   "cell_type": "code",
   "execution_count": 30,
   "metadata": {},
   "outputs": [
    {
     "data": {
      "text/plain": [
       "array([[0.00079153],\n",
       "       [0.00047001],\n",
       "       [0.00111149],\n",
       "       ...,\n",
       "       [0.12345611],\n",
       "       [0.12722407],\n",
       "       [0.1280903 ]], dtype=float32)"
      ]
     },
     "execution_count": 30,
     "metadata": {},
     "output_type": "execute_result"
    }
   ],
   "source": [
    "pred_y"
   ]
  },
  {
   "cell_type": "code",
   "execution_count": 32,
   "metadata": {},
   "outputs": [],
   "source": [
    "#pred_y=np.reshape(pred_y,8068)\n",
    "pred_y=np.reshape(pred_y,95063)"
   ]
  },
  {
   "cell_type": "code",
   "execution_count": 33,
   "metadata": {},
   "outputs": [
    {
     "name": "stdout",
     "output_type": "stream",
     "text": [
      "0.14482639683537543\n",
      "0.2212241175824905\n",
      "0.38056063489984804\n",
      "0.2969715803674721\n"
     ]
    }
   ],
   "source": [
    "\n",
    "#plt.rcParams['figure.figsize'] = (15,5)\n",
    "\n",
    "MSE = mean_squared_error(test_y, pred_y)\n",
    "R2 = r2_score(test_y, pred_y)\n",
    "RMSE = sqrt(mean_squared_error(test_y, pred_y))\n",
    "MAE = mean_absolute_error(test_y, pred_y)\n",
    "\n",
    "\n",
    "print(MSE)\n",
    "print(R2)\n",
    "print(RMSE)\n",
    "print(MAE)\n",
    "\n",
    "#plotting predicted test value vs actual test value\n",
    "#plt.plot(test_y, label = 'Actual')\n",
    "#plt.plot(pred_y, label = 'Predicted')\n",
    "#plt.legend()\n",
    "#plt.show()"
   ]
  },
  {
   "cell_type": "code",
   "execution_count": 34,
   "metadata": {},
   "outputs": [
    {
     "data": {
      "text/plain": [
       "(380250, 24, 15)"
      ]
     },
     "execution_count": 34,
     "metadata": {},
     "output_type": "execute_result"
    }
   ],
   "source": [
    "np.shape(train_X)"
   ]
  },
  {
   "cell_type": "code",
   "execution_count": 35,
   "metadata": {},
   "outputs": [
    {
     "data": {
      "text/plain": [
       "(380250, 1)"
      ]
     },
     "execution_count": 35,
     "metadata": {},
     "output_type": "execute_result"
    }
   ],
   "source": [
    "np.shape(train_y)"
   ]
  },
  {
   "cell_type": "code",
   "execution_count": 36,
   "metadata": {},
   "outputs": [
    {
     "data": {
      "text/plain": [
       "(95063, 24, 15)"
      ]
     },
     "execution_count": 36,
     "metadata": {},
     "output_type": "execute_result"
    }
   ],
   "source": [
    "np.shape(test_X)"
   ]
  },
  {
   "cell_type": "code",
   "execution_count": 37,
   "metadata": {},
   "outputs": [
    {
     "data": {
      "text/plain": [
       "(95063, 1)"
      ]
     },
     "execution_count": 37,
     "metadata": {},
     "output_type": "execute_result"
    }
   ],
   "source": [
    "np.shape(test_y)"
   ]
  },
  {
   "cell_type": "code",
   "execution_count": null,
   "metadata": {},
   "outputs": [
    {
     "name": "stderr",
     "output_type": "stream",
     "text": [
      "2023-01-09 22:15:46.437509: W tensorflow/tsl/framework/cpu_allocator_impl.cc:82] Allocation of 684450720 exceeds 10% of free system memory.\n"
     ]
    },
    {
     "name": "stdout",
     "output_type": "stream",
     "text": [
      "11940/14854 [=======================>......] - ETA: 1:18"
     ]
    }
   ],
   "source": [
    "#visualization over full data\n",
    "tra = np.concatenate([train_X,test_X])\n",
    "tes = np.concatenate([train_y,test_y])\n",
    "fp = model_gru.predict(tra)\n",
    "#plt.plot(tes, label = 'Actual')\n",
    "#plt.plot(fp, label = 'Predicted')\n",
    "#plt.legend()\n",
    "#plt.show()"
   ]
  },
  {
   "cell_type": "code",
   "execution_count": null,
   "metadata": {},
   "outputs": [],
   "source": [
    "#over small part of data\n",
    "#plt.plot(tes, label = 'Actual')\n",
    "#plt.plot(fp[:2000], label = 'Predicted')\n",
    "#plt.legend()\n",
    "#plt.show()"
   ]
  },
  {
   "cell_type": "code",
   "execution_count": null,
   "metadata": {},
   "outputs": [],
   "source": [
    "print(sum(tes)/len(tes))"
   ]
  },
  {
   "cell_type": "code",
   "execution_count": null,
   "metadata": {},
   "outputs": [],
   "source": [
    "#print(fp[1000:1010])\n",
    "_fp = np.where(fp>0.5,1,0)\n",
    "_all = sum(_fp)\n",
    "_w = (_fp*tes)\n",
    "print(sum(_w)/_all)\n",
    "      \n",
    "_all_z = sum(1-_fp)      \n",
    "_w_z = (1-_fp)*(1-tes)\n",
    "print(sum(_w_z)/_all_z)\n",
    "print('total acc', (sum(_w)+sum(_w_z))/len(_w))"
   ]
  },
  {
   "cell_type": "code",
   "execution_count": null,
   "metadata": {},
   "outputs": [],
   "source": [
    "#plt.plot(tes[:8000], label = 'Actual')\n",
    "#plt.plot(fp[:8000], label = 'Predicted')\n",
    "#plt.legend()\n",
    "#plt.show()"
   ]
  },
  {
   "cell_type": "code",
   "execution_count": null,
   "metadata": {},
   "outputs": [],
   "source": [
    "#over very small part of data\n",
    "plt.plot(tes[2000:2020], label = 'Actual')\n",
    "plt.plot(fp[2000:2020], label = 'Predicted')\n",
    "plt.legend()\n",
    "plt.show()"
   ]
  },
  {
   "cell_type": "code",
   "execution_count": null,
   "metadata": {},
   "outputs": [],
   "source": [
    "plt.plot(tes[:50], label = 'Actual')\n",
    "plt.plot(fp[:50], label = 'Predicted')\n",
    "plt.legend()\n",
    "plt.show()"
   ]
  },
  {
   "cell_type": "code",
   "execution_count": null,
   "metadata": {},
   "outputs": [],
   "source": [
    "plt.plot(tes[:5], label = 'Actual')\n",
    "plt.plot(fp[:5], label = 'Predicted')\n",
    "plt.legend()\n",
    "plt.show()"
   ]
  },
  {
   "cell_type": "code",
   "execution_count": null,
   "metadata": {},
   "outputs": [],
   "source": []
  },
  {
   "cell_type": "code",
   "execution_count": null,
   "metadata": {},
   "outputs": [],
   "source": []
  }
 ],
 "metadata": {
  "kernelspec": {
   "display_name": "Python 3 (ipykernel)",
   "language": "python",
   "name": "python3"
  },
  "language_info": {
   "codemirror_mode": {
    "name": "ipython",
    "version": 3
   },
   "file_extension": ".py",
   "mimetype": "text/x-python",
   "name": "python",
   "nbconvert_exporter": "python",
   "pygments_lexer": "ipython3",
   "version": "3.8.10"
  }
 },
 "nbformat": 4,
 "nbformat_minor": 2
}
